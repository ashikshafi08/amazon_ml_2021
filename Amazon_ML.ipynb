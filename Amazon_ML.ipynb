{
  "nbformat": 4,
  "nbformat_minor": 0,
  "metadata": {
    "colab": {
      "name": "Amazon_ML.ipynb",
      "provenance": [],
      "collapsed_sections": [],
      "machine_shape": "hm"
    },
    "kernelspec": {
      "display_name": "Python 3",
      "name": "python3"
    },
    "language_info": {
      "name": "python"
    },
    "accelerator": "GPU"
  },
  "cells": [
    {
      "cell_type": "code",
      "metadata": {
        "id": "vpu8EvGUL4SW",
        "colab": {
          "base_uri": "https://localhost:8080/"
        },
        "outputId": "d570485f-ecd8-4761-e03f-437cec95327d"
      },
      "source": [
        "!nvidia-smi"
      ],
      "execution_count": 1,
      "outputs": [
        {
          "output_type": "stream",
          "text": [
            "Fri Jul 30 17:36:51 2021       \n",
            "+-----------------------------------------------------------------------------+\n",
            "| NVIDIA-SMI 470.42.01    Driver Version: 460.32.03    CUDA Version: 11.2     |\n",
            "|-------------------------------+----------------------+----------------------+\n",
            "| GPU  Name        Persistence-M| Bus-Id        Disp.A | Volatile Uncorr. ECC |\n",
            "| Fan  Temp  Perf  Pwr:Usage/Cap|         Memory-Usage | GPU-Util  Compute M. |\n",
            "|                               |                      |               MIG M. |\n",
            "|===============================+======================+======================|\n",
            "|   0  Tesla V100-SXM2...  Off  | 00000000:00:04.0 Off |                    0 |\n",
            "| N/A   36C    P0    24W / 300W |      0MiB / 16160MiB |      0%      Default |\n",
            "|                               |                      |                  N/A |\n",
            "+-------------------------------+----------------------+----------------------+\n",
            "                                                                               \n",
            "+-----------------------------------------------------------------------------+\n",
            "| Processes:                                                                  |\n",
            "|  GPU   GI   CI        PID   Type   Process name                  GPU Memory |\n",
            "|        ID   ID                                                   Usage      |\n",
            "|=============================================================================|\n",
            "|  No running processes found                                                 |\n",
            "+-----------------------------------------------------------------------------+\n"
          ],
          "name": "stdout"
        }
      ]
    },
    {
      "cell_type": "code",
      "metadata": {
        "colab": {
          "base_uri": "https://localhost:8080/"
        },
        "id": "pK1UQZ6SvsXA",
        "outputId": "e203022b-8c09-42d5-e4bf-99c5679e38fa"
      },
      "source": [
        " from google.colab import drive\n",
        "drive.mount('/content/drive/')"
      ],
      "execution_count": 2,
      "outputs": [
        {
          "output_type": "stream",
          "text": [
            "Mounted at /content/drive/\n"
          ],
          "name": "stdout"
        }
      ]
    },
    {
      "cell_type": "code",
      "metadata": {
        "id": "7BUJynKzvyZt"
      },
      "source": [
        "train_path = '/content/drive/MyDrive/dataset/train.csv'\n",
        "test_path = '/content/drive/MyDrive/dataset/test.csv'\n",
        "sample_sub_path = '/content/drive/MyDrive/dataset/sample_submission.csv'"
      ],
      "execution_count": 3,
      "outputs": []
    },
    {
      "cell_type": "code",
      "metadata": {
        "id": "mpZQM5IEwS4t"
      },
      "source": [
        "import pandas as pd \n",
        "import numpy as np \n",
        "import matplotlib.pyplot as plt\n",
        "import csv\n"
      ],
      "execution_count": 4,
      "outputs": []
    },
    {
      "cell_type": "code",
      "metadata": {
        "id": "9KO3umLixP5I"
      },
      "source": [
        "# Loading in the data \n",
        "train_data = pd.read_csv(train_path , escapechar = \"\\\\\" , quoting = csv.QUOTE_NONE)\n",
        "\n",
        "# Loading the test dataset \n",
        "test_data = pd.read_csv(test_path , escapechar = \"\\\\\" , quoting = csv.QUOTE_NONE)\n",
        "# # Sample submission \n",
        "# sample_sub = pd.read_csv(sample_sub_path , escapechar = \"\\\\\" , quoting = csv.QUOTE_NONE)\n",
        "\n"
      ],
      "execution_count": 5,
      "outputs": []
    },
    {
      "cell_type": "markdown",
      "metadata": {
        "id": "NGCmZ4SS0eAL"
      },
      "source": [
        "## Working with a subset "
      ]
    },
    {
      "cell_type": "markdown",
      "metadata": {
        "id": "akVU_BMo_5Fk"
      },
      "source": [
        "#### Multi-Input Model "
      ]
    },
    {
      "cell_type": "code",
      "metadata": {
        "id": "AUK3EvjLxVIk"
      },
      "source": [
        "# Getting the subset of the sample \n",
        "train_sample = train_data.sample(frac= 1 , random_state= 42)\n",
        "#val_sample = train_data.sample(frac = 0.1 , random_state= 3)"
      ],
      "execution_count": 6,
      "outputs": []
    },
    {
      "cell_type": "code",
      "metadata": {
        "colab": {
          "base_uri": "https://localhost:8080/",
          "height": 306
        },
        "id": "1PRM0F9xPz8L",
        "outputId": "5b28713b-334d-492c-e31f-c1974036b98c"
      },
      "source": [
        "train_sample.head().T"
      ],
      "execution_count": 7,
      "outputs": [
        {
          "output_type": "execute_result",
          "data": {
            "text/html": [
              "<div>\n",
              "<style scoped>\n",
              "    .dataframe tbody tr th:only-of-type {\n",
              "        vertical-align: middle;\n",
              "    }\n",
              "\n",
              "    .dataframe tbody tr th {\n",
              "        vertical-align: top;\n",
              "    }\n",
              "\n",
              "    .dataframe thead th {\n",
              "        text-align: right;\n",
              "    }\n",
              "</style>\n",
              "<table border=\"1\" class=\"dataframe\">\n",
              "  <thead>\n",
              "    <tr style=\"text-align: right;\">\n",
              "      <th></th>\n",
              "      <th>2297143</th>\n",
              "      <th>2078681</th>\n",
              "      <th>1125035</th>\n",
              "      <th>1928801</th>\n",
              "      <th>864509</th>\n",
              "    </tr>\n",
              "  </thead>\n",
              "  <tbody>\n",
              "    <tr>\n",
              "      <th>TITLE</th>\n",
              "      <td>Amsik®Blind Spot Round Mirror Black, (Real Gla...</td>\n",
              "      <td>Nivea Face Sun Block Whitening Cream SPF 50 Pa...</td>\n",
              "      <td>ROZVEH Women's Shift Brown Dress</td>\n",
              "      <td>Narayan Creation Pashmina Palazzo Suit Dupatta...</td>\n",
              "      <td>Q-rious Women's Silicon Strap Spagettis/Camiso...</td>\n",
              "    </tr>\n",
              "    <tr>\n",
              "      <th>DESCRIPTION</th>\n",
              "      <td>The mirrors easily mount to the vehicle's left...</td>\n",
              "      <td>Nivea Sun Fac Sun Block Whitening Cream Spf 50...</td>\n",
              "      <td>&lt;p&gt;Super Fine Rayon,&amp;nbsp;Brown Floral Print d...</td>\n",
              "      <td>Narayan creatins pashmina unstitched palazzo s...</td>\n",
              "      <td>Trendy Q-rious Spagetti with sequin detachable...</td>\n",
              "    </tr>\n",
              "    <tr>\n",
              "      <th>BULLET_POINTS</th>\n",
              "      <td>[It is small, but it is smart mirror, and work...</td>\n",
              "      <td>NIVEA face SUN Block Whitening Cream SPF 50 PA ++</td>\n",
              "      <td>[Material: Super Fine Rayon, Brown Floral Prin...</td>\n",
              "      <td>NaN</td>\n",
              "      <td>[Silicon and Elastic strap option,Detachable S...</td>\n",
              "    </tr>\n",
              "    <tr>\n",
              "      <th>BRAND</th>\n",
              "      <td>AMSIK</td>\n",
              "      <td>Nivea</td>\n",
              "      <td>ROZVEH</td>\n",
              "      <td>Generic</td>\n",
              "      <td>Q-rious</td>\n",
              "    </tr>\n",
              "    <tr>\n",
              "      <th>BROWSE_NODE_ID</th>\n",
              "      <td>32296</td>\n",
              "      <td>35</td>\n",
              "      <td>1724</td>\n",
              "      <td>465</td>\n",
              "      <td>2003</td>\n",
              "    </tr>\n",
              "  </tbody>\n",
              "</table>\n",
              "</div>"
            ],
            "text/plain": [
              "                                                          2297143  ...                                            864509 \n",
              "TITLE           Amsik®Blind Spot Round Mirror Black, (Real Gla...  ...  Q-rious Women's Silicon Strap Spagettis/Camiso...\n",
              "DESCRIPTION     The mirrors easily mount to the vehicle's left...  ...  Trendy Q-rious Spagetti with sequin detachable...\n",
              "BULLET_POINTS   [It is small, but it is smart mirror, and work...  ...  [Silicon and Elastic strap option,Detachable S...\n",
              "BRAND                                                       AMSIK  ...                                            Q-rious\n",
              "BROWSE_NODE_ID                                              32296  ...                                               2003\n",
              "\n",
              "[5 rows x 5 columns]"
            ]
          },
          "metadata": {
            "tags": []
          },
          "execution_count": 7
        }
      ]
    },
    {
      "cell_type": "code",
      "metadata": {
        "id": "LO3DS0Cp3FxL"
      },
      "source": [
        "train_sample['Info'] = train_sample.DESCRIPTION.astype(str) + '  '+  train_sample.BULLET_POINTS.astype(str)\n",
        "train_sample['title'] = train_sample.TITLE.astype(str)"
      ],
      "execution_count": 8,
      "outputs": []
    },
    {
      "cell_type": "code",
      "metadata": {
        "colab": {
          "base_uri": "https://localhost:8080/",
          "height": 665
        },
        "id": "uhh9e2r_68t-",
        "outputId": "05f17167-1229-486f-abd5-a77ef08f7209"
      },
      "source": [
        "train_sample.head(10)"
      ],
      "execution_count": 9,
      "outputs": [
        {
          "output_type": "execute_result",
          "data": {
            "text/html": [
              "<div>\n",
              "<style scoped>\n",
              "    .dataframe tbody tr th:only-of-type {\n",
              "        vertical-align: middle;\n",
              "    }\n",
              "\n",
              "    .dataframe tbody tr th {\n",
              "        vertical-align: top;\n",
              "    }\n",
              "\n",
              "    .dataframe thead th {\n",
              "        text-align: right;\n",
              "    }\n",
              "</style>\n",
              "<table border=\"1\" class=\"dataframe\">\n",
              "  <thead>\n",
              "    <tr style=\"text-align: right;\">\n",
              "      <th></th>\n",
              "      <th>TITLE</th>\n",
              "      <th>DESCRIPTION</th>\n",
              "      <th>BULLET_POINTS</th>\n",
              "      <th>BRAND</th>\n",
              "      <th>BROWSE_NODE_ID</th>\n",
              "      <th>Info</th>\n",
              "      <th>title</th>\n",
              "    </tr>\n",
              "  </thead>\n",
              "  <tbody>\n",
              "    <tr>\n",
              "      <th>2297143</th>\n",
              "      <td>Amsik®Blind Spot Round Mirror Black, (Real Gla...</td>\n",
              "      <td>The mirrors easily mount to the vehicle's left...</td>\n",
              "      <td>[It is small, but it is smart mirror, and work...</td>\n",
              "      <td>AMSIK</td>\n",
              "      <td>32296</td>\n",
              "      <td>The mirrors easily mount to the vehicle's left...</td>\n",
              "      <td>Amsik®Blind Spot Round Mirror Black, (Real Gla...</td>\n",
              "    </tr>\n",
              "    <tr>\n",
              "      <th>2078681</th>\n",
              "      <td>Nivea Face Sun Block Whitening Cream SPF 50 Pa...</td>\n",
              "      <td>Nivea Sun Fac Sun Block Whitening Cream Spf 50...</td>\n",
              "      <td>NIVEA face SUN Block Whitening Cream SPF 50 PA ++</td>\n",
              "      <td>Nivea</td>\n",
              "      <td>35</td>\n",
              "      <td>Nivea Sun Fac Sun Block Whitening Cream Spf 50...</td>\n",
              "      <td>Nivea Face Sun Block Whitening Cream SPF 50 Pa...</td>\n",
              "    </tr>\n",
              "    <tr>\n",
              "      <th>1125035</th>\n",
              "      <td>ROZVEH Women's Shift Brown Dress</td>\n",
              "      <td>&lt;p&gt;Super Fine Rayon,&amp;nbsp;Brown Floral Print d...</td>\n",
              "      <td>[Material: Super Fine Rayon, Brown Floral Prin...</td>\n",
              "      <td>ROZVEH</td>\n",
              "      <td>1724</td>\n",
              "      <td>&lt;p&gt;Super Fine Rayon,&amp;nbsp;Brown Floral Print d...</td>\n",
              "      <td>ROZVEH Women's Shift Brown Dress</td>\n",
              "    </tr>\n",
              "    <tr>\n",
              "      <th>1928801</th>\n",
              "      <td>Narayan Creation Pashmina Palazzo Suit Dupatta...</td>\n",
              "      <td>Narayan creatins pashmina unstitched palazzo s...</td>\n",
              "      <td>NaN</td>\n",
              "      <td>Generic</td>\n",
              "      <td>465</td>\n",
              "      <td>Narayan creatins pashmina unstitched palazzo s...</td>\n",
              "      <td>Narayan Creation Pashmina Palazzo Suit Dupatta...</td>\n",
              "    </tr>\n",
              "    <tr>\n",
              "      <th>864509</th>\n",
              "      <td>Q-rious Women's Silicon Strap Spagettis/Camiso...</td>\n",
              "      <td>Trendy Q-rious Spagetti with sequin detachable...</td>\n",
              "      <td>[Silicon and Elastic strap option,Detachable S...</td>\n",
              "      <td>Q-rious</td>\n",
              "      <td>2003</td>\n",
              "      <td>Trendy Q-rious Spagetti with sequin detachable...</td>\n",
              "      <td>Q-rious Women's Silicon Strap Spagettis/Camiso...</td>\n",
              "    </tr>\n",
              "    <tr>\n",
              "      <th>1613202</th>\n",
              "      <td>Hanes Men's Pullover EcoSmart Fleece Hooded Sw...</td>\n",
              "      <td>NaN</td>\n",
              "      <td>[Made with a portion of recycled polyester,Pat...</td>\n",
              "      <td>Hanes</td>\n",
              "      <td>3355</td>\n",
              "      <td>nan  [Made with a portion of recycled polyeste...</td>\n",
              "      <td>Hanes Men's Pullover EcoSmart Fleece Hooded Sw...</td>\n",
              "    </tr>\n",
              "    <tr>\n",
              "      <th>1794644</th>\n",
              "      <td>Lixada Aluminum Alloy Stem Bike Bicycle Cyclin...</td>\n",
              "      <td>Aluminum alloy construction makes it a lightwe...</td>\n",
              "      <td>[For 31.8mm handlebar.,For 28.6mm front fork s...</td>\n",
              "      <td>Lixada</td>\n",
              "      <td>61384</td>\n",
              "      <td>Aluminum alloy construction makes it a lightwe...</td>\n",
              "      <td>Lixada Aluminum Alloy Stem Bike Bicycle Cyclin...</td>\n",
              "    </tr>\n",
              "    <tr>\n",
              "      <th>1306751</th>\n",
              "      <td>Verca Cotton;Fabric Krishna Bal Gopal Poshak (...</td>\n",
              "      <td>Explore wide range of home décor products from...</td>\n",
              "      <td>[Quality Guaranteed,Easy Return and Exchange,L...</td>\n",
              "      <td>Verca</td>\n",
              "      <td>1287</td>\n",
              "      <td>Explore wide range of home décor products from...</td>\n",
              "      <td>Verca Cotton;Fabric Krishna Bal Gopal Poshak (...</td>\n",
              "    </tr>\n",
              "    <tr>\n",
              "      <th>2031708</th>\n",
              "      <td>EVERWILLOW Girl's Satin Silk Lehenga Choli (Pu...</td>\n",
              "      <td>Pure Satin Silk Lehenga Blouse Set. Featuring ...</td>\n",
              "      <td>[Wash Care : Dry Clean and Hend Wash.,In the P...</td>\n",
              "      <td>EVERWILLOW</td>\n",
              "      <td>5173</td>\n",
              "      <td>Pure Satin Silk Lehenga Blouse Set. Featuring ...</td>\n",
              "      <td>EVERWILLOW Girl's Satin Silk Lehenga Choli (Pu...</td>\n",
              "    </tr>\n",
              "    <tr>\n",
              "      <th>1093990</th>\n",
              "      <td>Vimes All Side Protection Sleek Rubberised Mat...</td>\n",
              "      <td>&lt;p&gt;\"&lt;/p&gt; &lt;p&gt;&lt;strong&gt;Vimes back cover case for ...</td>\n",
              "      <td>[Camera Protection Technology - Introducing Ou...</td>\n",
              "      <td>VIMES</td>\n",
              "      <td>2040</td>\n",
              "      <td>&lt;p&gt;\"&lt;/p&gt; &lt;p&gt;&lt;strong&gt;Vimes back cover case for ...</td>\n",
              "      <td>Vimes All Side Protection Sleek Rubberised Mat...</td>\n",
              "    </tr>\n",
              "  </tbody>\n",
              "</table>\n",
              "</div>"
            ],
            "text/plain": [
              "                                                     TITLE  ...                                              title\n",
              "2297143  Amsik®Blind Spot Round Mirror Black, (Real Gla...  ...  Amsik®Blind Spot Round Mirror Black, (Real Gla...\n",
              "2078681  Nivea Face Sun Block Whitening Cream SPF 50 Pa...  ...  Nivea Face Sun Block Whitening Cream SPF 50 Pa...\n",
              "1125035                   ROZVEH Women's Shift Brown Dress  ...                   ROZVEH Women's Shift Brown Dress\n",
              "1928801  Narayan Creation Pashmina Palazzo Suit Dupatta...  ...  Narayan Creation Pashmina Palazzo Suit Dupatta...\n",
              "864509   Q-rious Women's Silicon Strap Spagettis/Camiso...  ...  Q-rious Women's Silicon Strap Spagettis/Camiso...\n",
              "1613202  Hanes Men's Pullover EcoSmart Fleece Hooded Sw...  ...  Hanes Men's Pullover EcoSmart Fleece Hooded Sw...\n",
              "1794644  Lixada Aluminum Alloy Stem Bike Bicycle Cyclin...  ...  Lixada Aluminum Alloy Stem Bike Bicycle Cyclin...\n",
              "1306751  Verca Cotton;Fabric Krishna Bal Gopal Poshak (...  ...  Verca Cotton;Fabric Krishna Bal Gopal Poshak (...\n",
              "2031708  EVERWILLOW Girl's Satin Silk Lehenga Choli (Pu...  ...  EVERWILLOW Girl's Satin Silk Lehenga Choli (Pu...\n",
              "1093990  Vimes All Side Protection Sleek Rubberised Mat...  ...  Vimes All Side Protection Sleek Rubberised Mat...\n",
              "\n",
              "[10 rows x 7 columns]"
            ]
          },
          "metadata": {
            "tags": []
          },
          "execution_count": 9
        }
      ]
    },
    {
      "cell_type": "code",
      "metadata": {
        "colab": {
          "base_uri": "https://localhost:8080/"
        },
        "id": "NFk9iUQI7HuD",
        "outputId": "15af2b8b-a2ab-4fee-875a-edd420c0b6f5"
      },
      "source": [
        "train_sample.isna().sum()"
      ],
      "execution_count": 10,
      "outputs": [
        {
          "output_type": "execute_result",
          "data": {
            "text/plain": [
              "TITLE                 71\n",
              "DESCRIPTION       723664\n",
              "BULLET_POINTS     166263\n",
              "BRAND              56737\n",
              "BROWSE_NODE_ID         0\n",
              "Info                   0\n",
              "title                  0\n",
              "dtype: int64"
            ]
          },
          "metadata": {
            "tags": []
          },
          "execution_count": 10
        }
      ]
    },
    {
      "cell_type": "code",
      "metadata": {
        "colab": {
          "base_uri": "https://localhost:8080/"
        },
        "id": "IZjrCrsp9FiO",
        "outputId": "893a00bb-b304-4094-cf0b-f9d0b9684c4f"
      },
      "source": [
        "train_sample['BROWSE_NODE_ID']"
      ],
      "execution_count": null,
      "outputs": [
        {
          "output_type": "execute_result",
          "data": {
            "text/plain": [
              "2297143    32296\n",
              "2078681       35\n",
              "1125035     1724\n",
              "1928801      465\n",
              "864509      2003\n",
              "           ...  \n",
              "1692743     1217\n",
              "2356330    21895\n",
              "2229084     1251\n",
              "2768307     1084\n",
              "2219110    45027\n",
              "Name: BROWSE_NODE_ID, Length: 2903024, dtype: int64"
            ]
          },
          "metadata": {
            "tags": []
          },
          "execution_count": 20
        }
      ]
    },
    {
      "cell_type": "code",
      "metadata": {
        "colab": {
          "base_uri": "https://localhost:8080/"
        },
        "id": "FhgAb2Y99LPc",
        "outputId": "cc78c858-69e0-4e1e-ca6e-877e42d6e0b0"
      },
      "source": [
        "train_sample[['TITLE' , 'Info']].values"
      ],
      "execution_count": null,
      "outputs": [
        {
          "output_type": "execute_result",
          "data": {
            "text/plain": [
              "array([['Amsik®Blind Spot Round Mirror Black, (Real Glass Made, 2 Pcs/Set) for Toyota Fortuner',\n",
              "        'The mirrors easily mount to the vehicle\\'s left and right side mirrors with pre in sided foam tape and successfully achieved the goal of adding vehicle by enhancing the visibility for the driver Which helping the driver to make safe lane change other drivers in the \"blind spot\" and helping reduce accidents. Includes one pair of mirrors. 2\" size with universal size. Does not spoil the mirror look even if removed later. it is best round blind spot mirror from crest.  [It is small, but it is smart mirror, and works together with the side mirror so great,The blind spots mirrors can be 360° rotatable + 30° sway adjustable with the angle regulator type .,Upgraded real glass mirror body, equips with strong 3M adhesive tape for fast installation.,2 Pcs/set with double tape packaged in all English instruction.]'],\n",
              "       ['Nivea Face Sun Block Whitening Cream SPF 50 Pa ++ Made in Thailand',\n",
              "        \"Nivea Sun Fac Sun Block Whitening Cream Spf 50 Very High Protection For Sun Sensitive And Fair Skin Active Uv Cell Protection Effective Protection Of The Deeper Layers Of The Skin Cells Against Skin Darkenting And Uv Damage With An Innovative Uva+Uvb Filter System And Vitamin E Active Whitening Care - Give The Skin A Fair And Radiant Look With The Lightening Ingredient Licorice Extract The Non-Sticky Formula Leaves The Skin Smooth And Supple This Item Is Popular For Whitening It Is In The Top-Pick From Shelf At World Class Department Stores In Bangkok Thailand You May Not Find Some Of This Item At Your Local Store A Friend Of Mine From Other Countries Have Bought Huge Lots Back To Their Home It'S Rare Do Not Miss It! Manufactured: Beiersdorf ( Thailand ) Co,Ltd  NIVEA face SUN Block Whitening Cream SPF 50 PA ++\"],\n",
              "       [\"ROZVEH Women's Shift Brown Dress\",\n",
              "        '<p>Super Fine Rayon,&nbsp;Brown Floral Print dress with Deep V-neck, and wide, kimono sleeves. Figure-skimming sheath skirt (with elastic back) falls below a cutout back with top button, hook clasp closure</p> <p><strong>Material &amp; Care<br /></strong>Fabric: Rayon, Gentle machine wash, Cold hand wash</p> <p><strong>Complete The Look&nbsp;<br /></strong>This dress from ROZVEH is both durable and stylish, making it a must-have item. Dress to the nines for your party this weekend by styling this floral print brown piece with cute clutch.</p>  [Material: Super Fine Rayon, Brown Floral Print Dress, Has a V-Neck And Wide, Kimoono Sleeves,Fitting Type: Slim,Occasion: Casual, Party and Office wear,Color: Brown,Wash Care: Cold Hand wash, Gentle machine wash]'],\n",
              "       ...,\n",
              "       [\"SOCH Women's Cotton Straight Kurta NC KT 4402-BLACK-CREAM_Black_Small\",\n",
              "        'nan  [Color Name: Black,100% Cotton,Knee length,Dry clean only]'],\n",
              "       ['Kuber Industries 100 Percent Cotton 144 TC Single Bed Sheet with 1 Pillow Covers (Light Green), CTKTC13535',\n",
              "        'nan  [Color: Light Green, Size Name: Standard,Material: Cotton, Thread Count: 144,Package Contents: 1 Piece Single Bed sheet with 1 Pillow Covers,Size: 152X228X1 CM,This bed sheet will add elegance to your bedroom and will make a timeless addition to both modern and traditional homes,This is soft and attractive bed sheet and smooth and soft to touch,This bed sheet gives the graceful look to your bed room, enjoy a cool and comfortable night’s sleep with the kuber industries cotton bad sheet]'],\n",
              "       ['MEDHA D.J. PLUS Professional SSA-250 Karoke PA Amplifier 6 Mic Input, 2 Aux, FM/USB Player with Bluetooth (250W RMS)',\n",
              "        'SSA-250 is a PA mixer amplifier of rated output 300 watts, fitted with a MP3 Digital Player. The Digital Player features outstanding wide spectrum sound quality, combined with highly useful features like LCD display, remote control, and facilities for REPEAT, PAUSE, VOLUME UP / DOWN etc. It can read USB drives, SD & MMC cards.SSA-250DP has all the other features of the popular SSA-250M model, like 6 Mic inputs, 2 Aux inputs, cut / boost type bass & treble controls, resettable circuit protector, and provision for connecting 24V battery. Facility is given for mixing MP3 playback signal with both Aux and most mic inputs.  [MEDHA D.J. PLUS -250 is PA Amplifier with inbuilt MP3 Digital Player and Bluetooth Receiver. Built with a aesthetically designed metal front panel, it is an elegant, state-of-the-art product.Bluetooth Connectivity enables the user to connect their smart phone with this amplifier. The Digital Player plays back clear, high-class Mp3 music from a USB drive. Remote control is provided for easily operating the Digital Player from a distance,Line Input for connecting the output from any external mixer or permitting SSA-250DP to be used as a Booster Power Amplifier .Resettable circuit breaker for protection against overload and short circuit.Instant transfer to DC power (2Ã— 12C Car Battery) if AC power fails.Box Speaker/Driver Unit selector switch. Bass boost defeated at Driver Unit position for safer operation of driver units.,Suitable for Office, Factory, Schools, Satsang Bhawan, Mosque, Temple, Gurudwara, Church, Coaching Centre,his is a rugged and highly reliable product, ideally suited for a wide variety of music and public address applications.6 Mic & 2 Aux Inputs.,Built-in MP3 player with LCD display, remote control, for USB, SD/MMC cards.Preamplifier and Line Output for connecting to a Booster Amplifier and for recording the programme.]']],\n",
              "      dtype=object)"
            ]
          },
          "metadata": {
            "tags": []
          },
          "execution_count": 21
        }
      ]
    },
    {
      "cell_type": "code",
      "metadata": {
        "colab": {
          "base_uri": "https://localhost:8080/",
          "height": 340
        },
        "id": "ZptXdOTg9PBQ",
        "outputId": "d14cab70-d829-4574-85d8-ecd5aba4c410"
      },
      "source": [
        "new_train_sample = train_sample.copy()\n",
        "new_train_sample.head()"
      ],
      "execution_count": 11,
      "outputs": [
        {
          "output_type": "execute_result",
          "data": {
            "text/html": [
              "<div>\n",
              "<style scoped>\n",
              "    .dataframe tbody tr th:only-of-type {\n",
              "        vertical-align: middle;\n",
              "    }\n",
              "\n",
              "    .dataframe tbody tr th {\n",
              "        vertical-align: top;\n",
              "    }\n",
              "\n",
              "    .dataframe thead th {\n",
              "        text-align: right;\n",
              "    }\n",
              "</style>\n",
              "<table border=\"1\" class=\"dataframe\">\n",
              "  <thead>\n",
              "    <tr style=\"text-align: right;\">\n",
              "      <th></th>\n",
              "      <th>TITLE</th>\n",
              "      <th>DESCRIPTION</th>\n",
              "      <th>BULLET_POINTS</th>\n",
              "      <th>BRAND</th>\n",
              "      <th>BROWSE_NODE_ID</th>\n",
              "      <th>Info</th>\n",
              "      <th>title</th>\n",
              "    </tr>\n",
              "  </thead>\n",
              "  <tbody>\n",
              "    <tr>\n",
              "      <th>2297143</th>\n",
              "      <td>Amsik®Blind Spot Round Mirror Black, (Real Gla...</td>\n",
              "      <td>The mirrors easily mount to the vehicle's left...</td>\n",
              "      <td>[It is small, but it is smart mirror, and work...</td>\n",
              "      <td>AMSIK</td>\n",
              "      <td>32296</td>\n",
              "      <td>The mirrors easily mount to the vehicle's left...</td>\n",
              "      <td>Amsik®Blind Spot Round Mirror Black, (Real Gla...</td>\n",
              "    </tr>\n",
              "    <tr>\n",
              "      <th>2078681</th>\n",
              "      <td>Nivea Face Sun Block Whitening Cream SPF 50 Pa...</td>\n",
              "      <td>Nivea Sun Fac Sun Block Whitening Cream Spf 50...</td>\n",
              "      <td>NIVEA face SUN Block Whitening Cream SPF 50 PA ++</td>\n",
              "      <td>Nivea</td>\n",
              "      <td>35</td>\n",
              "      <td>Nivea Sun Fac Sun Block Whitening Cream Spf 50...</td>\n",
              "      <td>Nivea Face Sun Block Whitening Cream SPF 50 Pa...</td>\n",
              "    </tr>\n",
              "    <tr>\n",
              "      <th>1125035</th>\n",
              "      <td>ROZVEH Women's Shift Brown Dress</td>\n",
              "      <td>&lt;p&gt;Super Fine Rayon,&amp;nbsp;Brown Floral Print d...</td>\n",
              "      <td>[Material: Super Fine Rayon, Brown Floral Prin...</td>\n",
              "      <td>ROZVEH</td>\n",
              "      <td>1724</td>\n",
              "      <td>&lt;p&gt;Super Fine Rayon,&amp;nbsp;Brown Floral Print d...</td>\n",
              "      <td>ROZVEH Women's Shift Brown Dress</td>\n",
              "    </tr>\n",
              "    <tr>\n",
              "      <th>1928801</th>\n",
              "      <td>Narayan Creation Pashmina Palazzo Suit Dupatta...</td>\n",
              "      <td>Narayan creatins pashmina unstitched palazzo s...</td>\n",
              "      <td>NaN</td>\n",
              "      <td>Generic</td>\n",
              "      <td>465</td>\n",
              "      <td>Narayan creatins pashmina unstitched palazzo s...</td>\n",
              "      <td>Narayan Creation Pashmina Palazzo Suit Dupatta...</td>\n",
              "    </tr>\n",
              "    <tr>\n",
              "      <th>864509</th>\n",
              "      <td>Q-rious Women's Silicon Strap Spagettis/Camiso...</td>\n",
              "      <td>Trendy Q-rious Spagetti with sequin detachable...</td>\n",
              "      <td>[Silicon and Elastic strap option,Detachable S...</td>\n",
              "      <td>Q-rious</td>\n",
              "      <td>2003</td>\n",
              "      <td>Trendy Q-rious Spagetti with sequin detachable...</td>\n",
              "      <td>Q-rious Women's Silicon Strap Spagettis/Camiso...</td>\n",
              "    </tr>\n",
              "  </tbody>\n",
              "</table>\n",
              "</div>"
            ],
            "text/plain": [
              "                                                     TITLE  ...                                              title\n",
              "2297143  Amsik®Blind Spot Round Mirror Black, (Real Gla...  ...  Amsik®Blind Spot Round Mirror Black, (Real Gla...\n",
              "2078681  Nivea Face Sun Block Whitening Cream SPF 50 Pa...  ...  Nivea Face Sun Block Whitening Cream SPF 50 Pa...\n",
              "1125035                   ROZVEH Women's Shift Brown Dress  ...                   ROZVEH Women's Shift Brown Dress\n",
              "1928801  Narayan Creation Pashmina Palazzo Suit Dupatta...  ...  Narayan Creation Pashmina Palazzo Suit Dupatta...\n",
              "864509   Q-rious Women's Silicon Strap Spagettis/Camiso...  ...  Q-rious Women's Silicon Strap Spagettis/Camiso...\n",
              "\n",
              "[5 rows x 7 columns]"
            ]
          },
          "metadata": {
            "tags": []
          },
          "execution_count": 11
        }
      ]
    },
    {
      "cell_type": "code",
      "metadata": {
        "colab": {
          "base_uri": "https://localhost:8080/"
        },
        "id": "ejyDKjPVTHMc",
        "outputId": "aa7367af-6564-4b15-8b6d-ba81b908959a"
      },
      "source": [
        "# Are there 9919 classes \n",
        "train_sample.BROWSE_NODE_ID.value_counts()"
      ],
      "execution_count": 12,
      "outputs": [
        {
          "output_type": "execute_result",
          "data": {
            "text/plain": [
              "1045       215698\n",
              "5           70318\n",
              "1251        51929\n",
              "1052        45553\n",
              "4           34177\n",
              "            ...  \n",
              "279112          1\n",
              "822060          1\n",
              "1337233         1\n",
              "2136811         1\n",
              "248936          1\n",
              "Name: BROWSE_NODE_ID, Length: 9919, dtype: int64"
            ]
          },
          "metadata": {
            "tags": []
          },
          "execution_count": 12
        }
      ]
    },
    {
      "cell_type": "markdown",
      "metadata": {
        "id": "5yjmkId4_gZe"
      },
      "source": [
        "Creating a token level embedding "
      ]
    },
    {
      "cell_type": "code",
      "metadata": {
        "id": "Lp84lqn5EzKz"
      },
      "source": [
        "# # Picking up the train text data \n",
        "# info_train_sentences = new_train_sample['Info'].to_list()\n",
        "# title_train_sentences = new_train_sample['TITLE'].astype(str).to_list()\n",
        "\n",
        "# # Now our val dataset \n",
        "\n",
        "\n",
        "# len(info_train_sentences) , len(title_train_sentences)"
      ],
      "execution_count": 13,
      "outputs": []
    },
    {
      "cell_type": "code",
      "metadata": {
        "id": "J7XI4keHFh10"
      },
      "source": [
        ""
      ],
      "execution_count": null,
      "outputs": []
    },
    {
      "cell_type": "code",
      "metadata": {
        "colab": {
          "base_uri": "https://localhost:8080/"
        },
        "id": "nt7naeStJ0-1",
        "outputId": "68941bbe-9f43-42ef-b392-0c8d4c9cd900"
      },
      "source": [
        "title_train_sentences[:10]"
      ],
      "execution_count": null,
      "outputs": [
        {
          "output_type": "execute_result",
          "data": {
            "text/plain": [
              "['Amsik®Blind Spot Round Mirror Black, (Real Glass Made, 2 Pcs/Set) for Toyota Fortuner',\n",
              " 'Nivea Face Sun Block Whitening Cream SPF 50 Pa ++ Made in Thailand',\n",
              " \"ROZVEH Women's Shift Brown Dress\",\n",
              " 'Narayan Creation Pashmina Palazzo Suit Dupatta Material (Un-Stitched) Pink',\n",
              " \"Q-rious Women's Silicon Strap Spagettis/Camisole Magenta\",\n",
              " \"Hanes Men's Pullover EcoSmart Fleece Hooded Sweatshirt, Charcoal Heather, L\",\n",
              " 'Lixada Aluminum Alloy Stem Bike Bicycle Cycling Clamp Stem 31.8Mm ±17° MTB Road Bike Stem 70Mm 80Mm 90Mm 110Mm',\n",
              " 'Verca Cotton;Fabric Krishna Bal Gopal Poshak (Blue)',\n",
              " \"EVERWILLOW Girl's Satin Silk Lehenga Choli (Purple)\",\n",
              " 'Vimes All Side Protection Sleek Rubberised Matte Soft Silicon Back Case For Redmi Note 5 (Black Mi Note 5 - 2018) (It is not compatibe with Redmi 5 And Note 5 Pro)']"
            ]
          },
          "metadata": {
            "tags": []
          },
          "execution_count": 27
        }
      ]
    },
    {
      "cell_type": "code",
      "metadata": {
        "colab": {
          "base_uri": "https://localhost:8080/"
        },
        "id": "cbKc1ySxE3aN",
        "outputId": "b7ba31d2-7e7d-4706-c030-011df07304b9"
      },
      "source": [
        "# # Average sequence length \n",
        "# info_sent_lens = [len(sentence.split()) for sentence in info_train_sentences]\n",
        "# title_sent_lens = [len(title.split()) for title in title_train_sentences]\n",
        "\n",
        "# avg_sent_len_info = np.mean(info_sent_lens)\n",
        "# avg_sent_len_title = np.mean(title_sent_lens)\n",
        "\n",
        "# avg_sent_len_info , avg_sent_len_title"
      ],
      "execution_count": null,
      "outputs": [
        {
          "output_type": "execute_result",
          "data": {
            "text/plain": [
              "(124.08260627538732, 13.541006550410883)"
            ]
          },
          "metadata": {
            "tags": []
          },
          "execution_count": 28
        }
      ]
    },
    {
      "cell_type": "code",
      "metadata": {
        "colab": {
          "base_uri": "https://localhost:8080/"
        },
        "id": "CVF4CUF6F1yA",
        "outputId": "a37563b8-8ad0-4c6d-f05a-3bed6a02a2ef"
      },
      "source": [
        "# round(avg_sent_len_info) , round(avg_sent_len_title)"
      ],
      "execution_count": null,
      "outputs": [
        {
          "output_type": "execute_result",
          "data": {
            "text/plain": [
              "(124, 14)"
            ]
          },
          "metadata": {
            "tags": []
          },
          "execution_count": 29
        }
      ]
    },
    {
      "cell_type": "code",
      "metadata": {
        "colab": {
          "base_uri": "https://localhost:8080/",
          "height": 276
        },
        "id": "S30sq2svI9pQ",
        "outputId": "bf3f982e-e43e-47cc-93f9-f355cdc87d44"
      },
      "source": [
        "# # Distribution of the tokens \n",
        "# plt.hist(info_sent_lens , bins = 7);"
      ],
      "execution_count": null,
      "outputs": [
        {
          "output_type": "display_data",
          "data": {
            "image/png": "[encoded data removed]",
            "text/plain": [
              "<Figure size 432x288 with 1 Axes>"
            ]
          },
          "metadata": {
            "tags": [],
            "needs_background": "light"
          }
        }
      ]
    },
    {
      "cell_type": "code",
      "metadata": {
        "colab": {
          "base_uri": "https://localhost:8080/",
          "height": 276
        },
        "id": "WIKdzrftKRl4",
        "outputId": "973d5c9a-11cc-4ab0-c634-83340fa6010a"
      },
      "source": [
        "# plt.hist(title_sent_lens , bins = 7);"
      ],
      "execution_count": null,
      "outputs": [
        {
          "output_type": "display_data",
          "data": {
            "image/png": "[encoded data removed]",
            "text/plain": [
              "<Figure size 432x288 with 1 Axes>"
            ]
          },
          "metadata": {
            "tags": [],
            "needs_background": "light"
          }
        }
      ]
    },
    {
      "cell_type": "code",
      "metadata": {
        "colab": {
          "base_uri": "https://localhost:8080/"
        },
        "id": "RRtizKLjLSWc",
        "outputId": "ef1cc739-1e7e-4c82-d90d-06ec7657f6ff"
      },
      "source": [
        "# # How long of a sentence covers 95% of a length \n",
        "# info_output_seq_len = int(np.percentile(info_sent_lens , 95))\n",
        "# title_output_seq_len = int(np.percentile(title_sent_lens , 95))\n",
        "\n",
        "# info_output_seq_len , title_output_seq_len"
      ],
      "execution_count": null,
      "outputs": [
        {
          "output_type": "execute_result",
          "data": {
            "text/plain": [
              "(358, 27)"
            ]
          },
          "metadata": {
            "tags": []
          },
          "execution_count": 32
        }
      ]
    },
    {
      "cell_type": "code",
      "metadata": {
        "colab": {
          "base_uri": "https://localhost:8080/"
        },
        "id": "-4fz7wcFLrXn",
        "outputId": "e8867a4f-312e-4165-a6b2-0b98f5bc4aae"
      },
      "source": [
        "# # Maximum sentence in the training sentence of both info and title \n",
        "# max(info_sent_lens) , max(title_sent_lens)"
      ],
      "execution_count": null,
      "outputs": [
        {
          "output_type": "execute_result",
          "data": {
            "text/plain": [
              "(1270, 113)"
            ]
          },
          "metadata": {
            "tags": []
          },
          "execution_count": 33
        }
      ]
    },
    {
      "cell_type": "code",
      "metadata": {
        "colab": {
          "base_uri": "https://localhost:8080/"
        },
        "id": "oqVLhwr9G2-E",
        "outputId": "722d34cc-3fd1-4a6b-b53c-cd6f6775e535"
      },
      "source": [
        "# round(len(info_train_sentences) / 6)"
      ],
      "execution_count": null,
      "outputs": [
        {
          "output_type": "execute_result",
          "data": {
            "text/plain": [
              "483837"
            ]
          },
          "metadata": {
            "tags": []
          },
          "execution_count": 34
        }
      ]
    },
    {
      "cell_type": "code",
      "metadata": {
        "colab": {
          "base_uri": "https://localhost:8080/"
        },
        "id": "vAY3cjjfHMUU",
        "outputId": "1aa72f1c-8a70-4a1b-c4af-53bbdbd5d5e4"
      },
      "source": [
        "# from random import sample \n",
        "# little_info_train_sentences = sample(info_train_sentences ,683837)\n",
        "# len(little_info_train_sentences)"
      ],
      "execution_count": null,
      "outputs": [
        {
          "output_type": "execute_result",
          "data": {
            "text/plain": [
              "683837"
            ]
          },
          "metadata": {
            "tags": []
          },
          "execution_count": 35
        }
      ]
    },
    {
      "cell_type": "code",
      "metadata": {
        "id": "AijToPEtL83r"
      },
      "source": [
        "# # Creating a text vectorizer layer for info (token level embedding)\n",
        "# from tensorflow.keras.layers.experimental.preprocessing import TextVectorization\n",
        "\n",
        "# info_text_vect_token_layer = TextVectorization(max_tokens= 5000 , \n",
        "#                                                output_sequence_length = info_output_seq_len)\n",
        "\n",
        "# # Adapting the layer on the train data \n",
        "# info_text_vect_token_layer.adapt(little_info_train_sentences)"
      ],
      "execution_count": null,
      "outputs": []
    },
    {
      "cell_type": "code",
      "metadata": {
        "colab": {
          "base_uri": "https://localhost:8080/"
        },
        "id": "4l0TdqVSM_Ia",
        "outputId": "1f0e11cd-b42c-4614-fc17-6ef408704b3a"
      },
      "source": [
        "# # Test out text vectorizer\n",
        "# import random\n",
        "# target_sentence = random.choice(info_train_sentences)\n",
        "# print(f\"Text:\\n{target_sentence}\")\n",
        "# print(f\"\\nLength of text: {len(target_sentence.split())}\")\n",
        "# print(f\"\\nVectorized text:\\n{info_text_vect_token_layer([target_sentence])}\")"
      ],
      "execution_count": null,
      "outputs": [
        {
          "output_type": "stream",
          "text": [
            "Text:\n",
            "May Your Birthday Be Warm. Teddy Bear Newborn Baby Birthday Train Figurine. Made from bisque porcelain. Approximately 3 inches tall (8cm). Includes original manufacturers box and packaging. Made by Precious Moments. Welcome a new baby to the world with the Precious Moments Birthday Train caboose. A sweet little teddy bear offers his favorite blankie to make sure baby is warm and cozy on their wild ride called childhood.  [This cozy engine of the Precious Moments Birthday Train welcomes a new baby into the world. Attaches by pull rope to any of the Birthday Train figurines from the baby through age 16,As part of a series, it is a gift that begins a tradition, one that will be looked forward to and then cherished for years to come,A thoughtful birthday gift for any baby!,Bisque porcelain, meticulously hand painted,Approximately 3 inches high]\n",
            "\n",
            "Length of text: 140\n",
            "\n",
            "Vectorized text:\n",
            "[[ 109    9  339   21  400 2684 2136 3182  215  339 3457    1   26   15\n",
            "     1    1 2223  101  160 2308    1  279  282 2375  228    2  759   26\n",
            "    42 1369 3244 2426    8  100  215    4    3  623    7    3 1369 3244\n",
            "   339 3457    1    8 1621  302 2684 2136  315 1311  751    1    4   73\n",
            "   323  215   10  400    2 1751   18  230 3912 2327 1900    1   13 1751\n",
            "  2160    6    3 1369 3244  339 3457    1    8  100  215  189    3  623\n",
            "  4213   42 1317 1849    4   38    6    3  339 3457    1   15    3  215\n",
            "   347  893    1  519    6    8  721   14   10    8   77   24    1    8\n",
            "  3477   82   24   28   21    1 2428    4    2  387    1    5  305    4\n",
            "     1 4035  339   77    5   38    1    1 4753  120    1  101  160   36\n",
            "     0    0    0    0    0    0    0    0    0    0    0    0    0    0\n",
            "     0    0    0    0    0    0    0    0    0    0    0    0    0    0\n",
            "     0    0    0    0    0    0    0    0    0    0    0    0    0    0\n",
            "     0    0    0    0    0    0    0    0    0    0    0    0    0    0\n",
            "     0    0    0    0    0    0    0    0    0    0    0    0    0    0\n",
            "     0    0    0    0    0    0    0    0    0    0    0    0    0    0\n",
            "     0    0    0    0    0    0    0    0    0    0    0    0    0    0\n",
            "     0    0    0    0    0    0    0    0    0    0    0    0    0    0\n",
            "     0    0    0    0    0    0    0    0    0    0    0    0    0    0\n",
            "     0    0    0    0    0    0    0    0    0    0    0    0    0    0\n",
            "     0    0    0    0    0    0    0    0    0    0    0    0    0    0\n",
            "     0    0    0    0    0    0    0    0    0    0    0    0    0    0\n",
            "     0    0    0    0    0    0    0    0    0    0    0    0    0    0\n",
            "     0    0    0    0    0    0    0    0    0    0    0    0    0    0\n",
            "     0    0    0    0    0    0    0    0    0    0    0    0    0    0\n",
            "     0    0    0    0    0    0    0    0]]\n"
          ],
          "name": "stdout"
        }
      ]
    },
    {
      "cell_type": "code",
      "metadata": {
        "id": "pBCXx-R1REc8"
      },
      "source": [
        "# # Creating a text vectorizer layer for title (token level embedding)\n",
        "# from tensorflow.keras.layers.experimental.preprocessing import TextVectorization\n",
        "\n",
        "# title_text_vect_token_layer = TextVectorization(max_tokens= 3000 , \n",
        "#                                                output_sequence_length = title_output_seq_len)\n",
        "\n",
        "# # Adapting the layer on the train data \n",
        "# title_text_vect_token_layer.adapt(title_train_sentences)"
      ],
      "execution_count": null,
      "outputs": []
    },
    {
      "cell_type": "code",
      "metadata": {
        "colab": {
          "base_uri": "https://localhost:8080/"
        },
        "id": "mBJ2Vra4SR7f",
        "outputId": "3fe0eec2-00dc-4f95-aa6e-4f1e67257bbb"
      },
      "source": [
        "# # Test out text vectorizer (title)\n",
        "# import random\n",
        "# target_sentence = random.choice(title_train_sentences)\n",
        "# print(f\"Text:\\n{target_sentence}\")\n",
        "# print(f\"\\nLength of text: {len(target_sentence.split())}\")\n",
        "# print(f\"\\nVectorized text:\\n{title_text_vect_token_layer([target_sentence])}\")"
      ],
      "execution_count": null,
      "outputs": [
        {
          "output_type": "stream",
          "text": [
            "Text:\n",
            "Nena Fashion Cotton Saree With Blouse Piece(Rama Small Chex Lining_Rama_Free Size)\n",
            "\n",
            "Length of text: 11\n",
            "\n",
            "Vectorized text:\n",
            "[[  1  82  11  90   3 122   1 132   1   1  23   0   0   0   0   0   0   0\n",
            "    0   0   0   0   0   0   0   0   0]]\n"
          ],
          "name": "stdout"
        }
      ]
    },
    {
      "cell_type": "code",
      "metadata": {
        "id": "9phUuzsP6Bdf"
      },
      "source": [
        "# gpu_options = tf.GPUOptions(allow_growth=True)\n",
        "# session = tf.InteractiveSession(config=tf.ConfigProto(gpu_options=gpu_options))"
      ],
      "execution_count": null,
      "outputs": []
    },
    {
      "cell_type": "markdown",
      "metadata": {
        "id": "cxHNBd9rRKhY"
      },
      "source": [
        "# trying to make model with universal scentence encoder \n"
      ]
    },
    {
      "cell_type": "code",
      "metadata": {
        "id": "CkxACaimRRG6"
      },
      "source": [
        "import tensorflow_hub as hub\n",
        "import tensorflow as tf"
      ],
      "execution_count": 14,
      "outputs": []
    },
    {
      "cell_type": "code",
      "metadata": {
        "id": "BMSZgYIDfV3x",
        "colab": {
          "base_uri": "https://localhost:8080/"
        },
        "outputId": "05a478d2-23d9-40cb-a2a0-4c1c40a45c36"
      },
      "source": [
        "new_df = train_sample[train_sample['BROWSE_NODE_ID'] <= 9919]\n",
        "new_df.shape"
      ],
      "execution_count": 15,
      "outputs": [
        {
          "output_type": "execute_result",
          "data": {
            "text/plain": [
              "(2579890, 7)"
            ]
          },
          "metadata": {
            "tags": []
          },
          "execution_count": 15
        }
      ]
    },
    {
      "cell_type": "code",
      "metadata": {
        "id": "AKKg1ckkiqmt",
        "colab": {
          "base_uri": "https://localhost:8080/"
        },
        "outputId": "bd5fb151-273f-4cc3-aee3-79fbbd8af8d5"
      },
      "source": [
        "new_df.isna().sum()"
      ],
      "execution_count": 16,
      "outputs": [
        {
          "output_type": "execute_result",
          "data": {
            "text/plain": [
              "TITLE                 67\n",
              "DESCRIPTION       652859\n",
              "BULLET_POINTS     141141\n",
              "BRAND              48588\n",
              "BROWSE_NODE_ID         0\n",
              "Info                   0\n",
              "title                  0\n",
              "dtype: int64"
            ]
          },
          "metadata": {
            "tags": []
          },
          "execution_count": 16
        }
      ]
    },
    {
      "cell_type": "code",
      "metadata": {
        "id": "RseWvrAQEW-h",
        "colab": {
          "base_uri": "https://localhost:8080/"
        },
        "outputId": "17014b68-3da2-4836-93e6-cb301897805b"
      },
      "source": [
        "# Getting the info and title data \n",
        "train_info = new_df['Info'].to_numpy()\n",
        "train_title = new_df['title'].to_numpy()\n",
        "labels = new_df['BROWSE_NODE_ID'].to_numpy()\n",
        "\n",
        "len(train_info) , len(train_title) , len(labels)"
      ],
      "execution_count": 17,
      "outputs": [
        {
          "output_type": "execute_result",
          "data": {
            "text/plain": [
              "(2579890, 2579890, 2579890)"
            ]
          },
          "metadata": {
            "tags": []
          },
          "execution_count": 17
        }
      ]
    },
    {
      "cell_type": "code",
      "metadata": {
        "id": "rF7tG-CCE3sq"
      },
      "source": [
        "# Building a dataset combining both info and title \n",
        "train_ds = tf.data.Dataset.from_tensor_slices((train_title , train_info))\n",
        "label_ds = tf.data.Dataset.from_tensor_slices(labels)\n",
        "\n",
        "# Combining the above two ds \n",
        "train_mult_ds = tf.data.Dataset.zip((train_ds , label_ds))\n",
        "\n",
        "# Applying prefetch and batching the dataset \n",
        "train_mult_ds = train_mult_ds.batch(32).prefetch(tf.data.AUTOTUNE)"
      ],
      "execution_count": 18,
      "outputs": []
    },
    {
      "cell_type": "code",
      "metadata": {
        "id": "7relCXWsE3xl",
        "colab": {
          "base_uri": "https://localhost:8080/"
        },
        "outputId": "f6d63404-77ee-48af-d994-168b4ef70f03"
      },
      "source": [
        "# Looking at the dataset \n",
        "train_mult_ds"
      ],
      "execution_count": 19,
      "outputs": [
        {
          "output_type": "execute_result",
          "data": {
            "text/plain": [
              "<PrefetchDataset shapes: (((None,), (None,)), (None,)), types: ((tf.string, tf.string), tf.int64)>"
            ]
          },
          "metadata": {
            "tags": []
          },
          "execution_count": 19
        }
      ]
    },
    {
      "cell_type": "code",
      "metadata": {
        "id": "4piavshseLiV",
        "colab": {
          "base_uri": "https://localhost:8080/"
        },
        "outputId": "67bd079f-3c8d-4790-8540-11f4a1aef8f9"
      },
      "source": [
        "# Turn on mixed precision training\n",
        "from tensorflow.keras import mixed_precision\n",
        "mixed_precision.set_global_policy(policy=\"mixed_float16\") "
      ],
      "execution_count": 20,
      "outputs": [
        {
          "output_type": "stream",
          "text": [
            "INFO:tensorflow:Mixed precision compatibility check (mixed_float16): OK\n",
            "Your GPU will likely run quickly with dtype policy mixed_float16 as it has compute capability of at least 7.0. Your GPU: Tesla V100-SXM2-16GB, compute capability 7.0\n"
          ],
          "name": "stdout"
        }
      ]
    },
    {
      "cell_type": "markdown",
      "metadata": {
        "id": "znS14k_GHYVe"
      },
      "source": [
        "Now building the multi input models for our `Info` and the `title` columns\n"
      ]
    },
    {
      "cell_type": "code",
      "metadata": {
        "id": "3IiUKV1CIeRt"
      },
      "source": [
        "from tensorflow.keras import layers"
      ],
      "execution_count": 21,
      "outputs": []
    },
    {
      "cell_type": "code",
      "metadata": {
        "id": "o_AeN7Ywg6WJ"
      },
      "source": [
        "# Loading in the hub layers\n",
        "token_layer = hub.KerasLayer('https://tfhub.dev/google/nnlm-en-dim128-with-normalization/2' , trainable = False)\n",
        "base_layer = hub.KerasLayer('https://tfhub.dev/google/universal-sentence-encoder/4',trainable = False)\n",
        "nm_layer = hub.KerasLayer('https://tfhub.dev/google/nnlm-en-dim128/2', trainable= True)"
      ],
      "execution_count": 23,
      "outputs": []
    },
    {
      "cell_type": "code",
      "metadata": {
        "id": "1WRGj0lcHYbG",
        "colab": {
          "base_uri": "https://localhost:8080/"
        },
        "outputId": "13d6289f-64a1-4d4d-c687-0255a7fc940b"
      },
      "source": [
        "# Setting up input/output for title \n",
        "title_inputs = layers.Input(shape = [] , dtype = tf.string , name = 'title_input')\n",
        "title_embed = base_layer(title_inputs)\n",
        "title_outputs = layers.Dense(128 , activation = 'relu')(title_embed)\n",
        "title_model = tf.keras.Model(inputs = title_inputs , outputs = title_outputs)\n",
        "\n",
        "\n",
        "\n",
        "# Setting up input/outputs for info \n",
        "info_inputs = layers.Input(shape = [] , dtype= tf.string , name = 'Info_input')\n",
        "info_embed = base_layer(info_inputs)\n",
        "#info_lstm = layers.LSTM(50 , activation= 'tanh')(info_embed)\n",
        "info_outputs = layers.Dense(128 , activation = 'relu')(info_embed)\n",
        "info_model = tf.keras.Model(inputs = info_inputs , outputs = info_outputs)\n",
        "\n",
        "\n",
        "# Concatenating title and info inputs (hybrid)\n",
        "title_info_concat = layers.Concatenate(name = 'title_info_hybrid')([title_model.output , info_model.output])\n",
        "\n",
        "\n",
        "# Creating output layer \n",
        "com_dropout = layers.Dropout(0.5)(title_info_concat)\n",
        "com_dense = layers.Dense(264 , activation= 'relu')(com_dropout)\n",
        "x = layers.Dense(128 , activation= 'relu')(com_dense)\n",
        "output_layer = layers.Dense(len(train_sample.BROWSE_NODE_ID.value_counts()))(x)\n",
        "output_activation = layers.Activation('softmax' , dtype = tf.float32 , name='softmax_float32')(output_layer)\n",
        "\n",
        "\n",
        "\n",
        "# Constructing model with title and info inputs \n",
        "mult_model = tf.keras.Model(inputs = [title_model.input , info_model.input], \n",
        "                            outputs = output_activation , name = 'multi_input_model_1')\n",
        "\n",
        "# Summary of the model \n",
        "mult_model.summary()"
      ],
      "execution_count": 25,
      "outputs": [
        {
          "output_type": "stream",
          "text": [
            "Model: \"multi_input_model_1\"\n",
            "__________________________________________________________________________________________________\n",
            "Layer (type)                    Output Shape         Param #     Connected to                     \n",
            "==================================================================================================\n",
            "title_input (InputLayer)        [(None,)]            0                                            \n",
            "__________________________________________________________________________________________________\n",
            "Info_input (InputLayer)         [(None,)]            0                                            \n",
            "__________________________________________________________________________________________________\n",
            "keras_layer_1 (KerasLayer)      (None, 512)          256797824   title_input[0][0]                \n",
            "                                                                 Info_input[0][0]                 \n",
            "__________________________________________________________________________________________________\n",
            "dense_4 (Dense)                 (None, 128)          65664       keras_layer_1[2][0]              \n",
            "__________________________________________________________________________________________________\n",
            "dense_5 (Dense)                 (None, 128)          65664       keras_layer_1[3][0]              \n",
            "__________________________________________________________________________________________________\n",
            "title_info_hybrid (Concatenate) (None, 256)          0           dense_4[0][0]                    \n",
            "                                                                 dense_5[0][0]                    \n",
            "__________________________________________________________________________________________________\n",
            "dropout_1 (Dropout)             (None, 256)          0           title_info_hybrid[0][0]          \n",
            "__________________________________________________________________________________________________\n",
            "dense_6 (Dense)                 (None, 264)          67848       dropout_1[0][0]                  \n",
            "__________________________________________________________________________________________________\n",
            "dense_7 (Dense)                 (None, 128)          33920       dense_6[0][0]                    \n",
            "__________________________________________________________________________________________________\n",
            "dense_8 (Dense)                 (None, 9919)         1279551     dense_7[0][0]                    \n",
            "__________________________________________________________________________________________________\n",
            "softmax_float32 (Activation)    (None, 9919)         0           dense_8[0][0]                    \n",
            "==================================================================================================\n",
            "Total params: 258,310,471\n",
            "Trainable params: 1,512,647\n",
            "Non-trainable params: 256,797,824\n",
            "__________________________________________________________________________________________________\n"
          ],
          "name": "stdout"
        }
      ]
    },
    {
      "cell_type": "code",
      "metadata": {
        "id": "GgE54VaHOYlf"
      },
      "source": [
        "import tensorflow as tf "
      ],
      "execution_count": null,
      "outputs": []
    },
    {
      "cell_type": "code",
      "metadata": {
        "id": "fCHvndq9M0v5",
        "colab": {
          "base_uri": "https://localhost:8080/",
          "height": 856
        },
        "outputId": "6f49f725-651e-4c97-8d5b-e6ef7b4bc766"
      },
      "source": [
        "# Plot hybrid title and info model\n",
        "from keras.utils.vis_utils import plot_model\n",
        "plot_model(mult_model)"
      ],
      "execution_count": 26,
      "outputs": [
        {
          "output_type": "execute_result",
          "data": {
            "image/png": "[encoded data removed]",
            "text/plain": [
              "<IPython.core.display.Image object>"
            ]
          },
          "metadata": {
            "tags": []
          },
          "execution_count": 26
        }
      ]
    },
    {
      "cell_type": "code",
      "metadata": {
        "id": "A7e5pAbCMFjU"
      },
      "source": [
        "# Compile the model \n",
        "mult_model.compile(loss = tf.keras.losses.SparseCategoricalCrossentropy(),  \n",
        "              optimizer = tf.keras.optimizers.Adam(), \n",
        "              metrics = ['accuracy'])"
      ],
      "execution_count": 27,
      "outputs": []
    },
    {
      "cell_type": "code",
      "metadata": {
        "id": "wdP-DJvRHYgA",
        "colab": {
          "base_uri": "https://localhost:8080/"
        },
        "outputId": "1b4f7508-275c-4a9c-a60f-de9d17823bbf"
      },
      "source": [
        "# Fit the model \n",
        "mult_history = mult_model.fit(train_mult_ds , \n",
        "                              epochs = 15)"
      ],
      "execution_count": null,
      "outputs": [
        {
          "output_type": "stream",
          "text": [
            "Epoch 1/15\n",
            "29182/80622 [=========>....................] - ETA: 24:21 - loss: 2.4175 - accuracy: 0.4904"
          ],
          "name": "stdout"
        }
      ]
    },
    {
      "cell_type": "code",
      "metadata": {
        "id": "NPgMdhi2JUJF"
      },
      "source": [
        ""
      ],
      "execution_count": null,
      "outputs": []
    },
    {
      "cell_type": "code",
      "metadata": {
        "id": "LTDiaOOxTBwd"
      },
      "source": [
        ""
      ],
      "execution_count": null,
      "outputs": []
    },
    {
      "cell_type": "code",
      "metadata": {
        "id": "KbvrlSr_RfRf"
      },
      "source": [
        "inputs = tf.keras.layers.Input(shape = (), dtype = tf.string)\n",
        "x = base_layer(inputs)\n",
        "#x = tf.keras.layers.Dense(264, activation = 'relu')(x)\n",
        "x = tf.keras.layers.Dense(64, activation= 'relu')(x)\n",
        "x  = tf.keras.layers.Dropout(0.3)(x)\n",
        "outputs = tf.keras.layers.Dense(len(train_sample.BROWSE_NODE_ID.value_counts()), activation ='softmax')(x)\n",
        "model = tf.keras.Model(inputs, outputs)"
      ],
      "execution_count": null,
      "outputs": []
    },
    {
      "cell_type": "code",
      "metadata": {
        "colab": {
          "base_uri": "https://localhost:8080/"
        },
        "id": "wvAuC5nOWjKe",
        "outputId": "72483ac7-b3f5-4e23-d532-28037ae6ceec"
      },
      "source": [
        "model.summary()"
      ],
      "execution_count": null,
      "outputs": [
        {
          "output_type": "stream",
          "text": [
            "Model: \"model\"\n",
            "_________________________________________________________________\n",
            "Layer (type)                 Output Shape              Param #   \n",
            "=================================================================\n",
            "input_1 (InputLayer)         [(None,)]                 0         \n",
            "_________________________________________________________________\n",
            "keras_layer (KerasLayer)     (None, 512)               256797824 \n",
            "_________________________________________________________________\n",
            "dense (Dense)                (None, 64)                32832     \n",
            "_________________________________________________________________\n",
            "dropout (Dropout)            (None, 64)                0         \n",
            "_________________________________________________________________\n",
            "dense_1 (Dense)              (None, 9919)              644735    \n",
            "=================================================================\n",
            "Total params: 257,475,391\n",
            "Trainable params: 677,567\n",
            "Non-trainable params: 256,797,824\n",
            "_________________________________________________________________\n"
          ],
          "name": "stdout"
        }
      ]
    },
    {
      "cell_type": "code",
      "metadata": {
        "id": "0iMi94ZLRRhg",
        "colab": {
          "base_uri": "https://localhost:8080/",
          "height": 589
        },
        "outputId": "060b3753-c629-49bb-a3a4-c5412628e251"
      },
      "source": [
        "train_data"
      ],
      "execution_count": null,
      "outputs": [
        {
          "output_type": "execute_result",
          "data": {
            "text/html": [
              "<div>\n",
              "<style scoped>\n",
              "    .dataframe tbody tr th:only-of-type {\n",
              "        vertical-align: middle;\n",
              "    }\n",
              "\n",
              "    .dataframe tbody tr th {\n",
              "        vertical-align: top;\n",
              "    }\n",
              "\n",
              "    .dataframe thead th {\n",
              "        text-align: right;\n",
              "    }\n",
              "</style>\n",
              "<table border=\"1\" class=\"dataframe\">\n",
              "  <thead>\n",
              "    <tr style=\"text-align: right;\">\n",
              "      <th></th>\n",
              "      <th>TITLE</th>\n",
              "      <th>DESCRIPTION</th>\n",
              "      <th>BULLET_POINTS</th>\n",
              "      <th>BRAND</th>\n",
              "      <th>BROWSE_NODE_ID</th>\n",
              "    </tr>\n",
              "  </thead>\n",
              "  <tbody>\n",
              "    <tr>\n",
              "      <th>0</th>\n",
              "      <td>Pete The Cat Bedtime Blues Doll, 14.5 Inch</td>\n",
              "      <td>Pete the Cat is the coolest, most popular cat ...</td>\n",
              "      <td>[Pete the Cat Bedtime Blues plush doll,Based o...</td>\n",
              "      <td>MerryMakers</td>\n",
              "      <td>0</td>\n",
              "    </tr>\n",
              "    <tr>\n",
              "      <th>1</th>\n",
              "      <td>The New Yorker NYHM014 Refrigerator Magnet, 2 ...</td>\n",
              "      <td>The New Yorker Handsome Cello Wrapped Hard Mag...</td>\n",
              "      <td>[Cat In A Tea Cup by New Yorker cover artist G...</td>\n",
              "      <td>The New Yorker</td>\n",
              "      <td>1</td>\n",
              "    </tr>\n",
              "    <tr>\n",
              "      <th>2</th>\n",
              "      <td>The Ultimate Self-Sufficiency Handbook: A Comp...</td>\n",
              "      <td>NaN</td>\n",
              "      <td>Skyhorse Publishing</td>\n",
              "      <td>imusti</td>\n",
              "      <td>2</td>\n",
              "    </tr>\n",
              "    <tr>\n",
              "      <th>3</th>\n",
              "      <td>Amway Nutrilite Kids Chewable Iron Tablets (100)</td>\n",
              "      <td>NaN</td>\n",
              "      <td>[Nutrilite Kids,Chewable Iron Tablets,Quantity...</td>\n",
              "      <td>Amway</td>\n",
              "      <td>3</td>\n",
              "    </tr>\n",
              "    <tr>\n",
              "      <th>4</th>\n",
              "      <td>Teacher Planner Company A4 6 Lesson Academic T...</td>\n",
              "      <td>NaN</td>\n",
              "      <td>NaN</td>\n",
              "      <td>NaN</td>\n",
              "      <td>4</td>\n",
              "    </tr>\n",
              "    <tr>\n",
              "      <th>...</th>\n",
              "      <td>...</td>\n",
              "      <td>...</td>\n",
              "      <td>...</td>\n",
              "      <td>...</td>\n",
              "      <td>...</td>\n",
              "    </tr>\n",
              "    <tr>\n",
              "      <th>2903019</th>\n",
              "      <td>Premium Aviator Sunglasses - HD Polarized (Bri...</td>\n",
              "      <td>These premium Aviator Sunglasses with 5 color ...</td>\n",
              "      <td>[Frame size: Lens height - 56mm, Lens width - ...</td>\n",
              "      <td>Generic</td>\n",
              "      <td>1040</td>\n",
              "    </tr>\n",
              "    <tr>\n",
              "      <th>2903020</th>\n",
              "      <td>Social Distance Stickers - Set of 5 Sticker Sl...</td>\n",
              "      <td>set of 5 prints social distancing sticker self...</td>\n",
              "      <td>[covid19 safety sticker - set of 5 to maintain...</td>\n",
              "      <td>Generic</td>\n",
              "      <td>15199</td>\n",
              "    </tr>\n",
              "    <tr>\n",
              "      <th>2903021</th>\n",
              "      <td>Torr-to Face Shield PACK OF 5 with Adjustable ...</td>\n",
              "      <td>* COMPLETE FACE PROTECTION: Torr-to Face Shiel...</td>\n",
              "      <td>[350 MICRONS PACK OF 5 PCS,COMPLETE FACE PROTE...</td>\n",
              "      <td>TORR-TO</td>\n",
              "      <td>1044933</td>\n",
              "    </tr>\n",
              "    <tr>\n",
              "      <th>2903022</th>\n",
              "      <td>Type-C to 3.5 MM for Oppo R17 Pro Type-C to 3....</td>\n",
              "      <td>Still want to use your favorite earphones/head...</td>\n",
              "      <td>[Indian Connectors: Made for Indian sockets, t...</td>\n",
              "      <td>SHOPBELL</td>\n",
              "      <td>14790</td>\n",
              "    </tr>\n",
              "    <tr>\n",
              "      <th>2903023</th>\n",
              "      <td>KNG Orange Polo Tshirt (38)</td>\n",
              "      <td>Performance inspired by comfort. The polo shir...</td>\n",
              "      <td>NaN</td>\n",
              "      <td>KNG</td>\n",
              "      <td>1213</td>\n",
              "    </tr>\n",
              "  </tbody>\n",
              "</table>\n",
              "<p>2903024 rows × 5 columns</p>\n",
              "</div>"
            ],
            "text/plain": [
              "                                                     TITLE  ... BROWSE_NODE_ID\n",
              "0               Pete The Cat Bedtime Blues Doll, 14.5 Inch  ...              0\n",
              "1        The New Yorker NYHM014 Refrigerator Magnet, 2 ...  ...              1\n",
              "2        The Ultimate Self-Sufficiency Handbook: A Comp...  ...              2\n",
              "3         Amway Nutrilite Kids Chewable Iron Tablets (100)  ...              3\n",
              "4        Teacher Planner Company A4 6 Lesson Academic T...  ...              4\n",
              "...                                                    ...  ...            ...\n",
              "2903019  Premium Aviator Sunglasses - HD Polarized (Bri...  ...           1040\n",
              "2903020  Social Distance Stickers - Set of 5 Sticker Sl...  ...          15199\n",
              "2903021  Torr-to Face Shield PACK OF 5 with Adjustable ...  ...        1044933\n",
              "2903022  Type-C to 3.5 MM for Oppo R17 Pro Type-C to 3....  ...          14790\n",
              "2903023                        KNG Orange Polo Tshirt (38)  ...           1213\n",
              "\n",
              "[2903024 rows x 5 columns]"
            ]
          },
          "metadata": {
            "tags": []
          },
          "execution_count": 14
        }
      ]
    },
    {
      "cell_type": "code",
      "metadata": {
        "id": "7H_v5jUVWog_"
      },
      "source": [
        "model.compile(loss = tf.keras.losses.SparseCategoricalCrossentropy(),  \n",
        "              optimizer = tf.keras.optimizers.Adam(), \n",
        "              metrics = ['accuracy'])"
      ],
      "execution_count": null,
      "outputs": []
    },
    {
      "cell_type": "code",
      "metadata": {
        "id": "xeHWGSM0Rcg0",
        "colab": {
          "base_uri": "https://localhost:8080/"
        },
        "outputId": "eb554d23-7379-4672-858e-a2844a0657c7"
      },
      "source": [
        "y_ds = tf.data.Dataset.from_tensors(train_sample['BROWSE_NODE_ID'].to_numpy())\n",
        "y_ds"
      ],
      "execution_count": null,
      "outputs": [
        {
          "output_type": "execute_result",
          "data": {
            "text/plain": [
              "<TensorDataset shapes: (2903024,), types: tf.int64>"
            ]
          },
          "metadata": {
            "tags": []
          },
          "execution_count": 44
        }
      ]
    },
    {
      "cell_type": "code",
      "metadata": {
        "id": "F5XmU8brR9Br",
        "colab": {
          "base_uri": "https://localhost:8080/"
        },
        "outputId": "2116794b-1b01-4540-aa73-0a94d9f4c3e9"
      },
      "source": [
        "x_ds = tf.data.Dataset.from_tensors(train_sample['title'].to_numpy())\n",
        "x_ds"
      ],
      "execution_count": null,
      "outputs": [
        {
          "output_type": "execute_result",
          "data": {
            "text/plain": [
              "<TensorDataset shapes: (2903024,), types: tf.string>"
            ]
          },
          "metadata": {
            "tags": []
          },
          "execution_count": 45
        }
      ]
    },
    {
      "cell_type": "code",
      "metadata": {
        "id": "9hs4UonJSFdQ"
      },
      "source": [
        "new_ds = tf.data.Dataset.zip((x_ds , y_ds))"
      ],
      "execution_count": null,
      "outputs": []
    },
    {
      "cell_type": "code",
      "metadata": {
        "id": "7q0Xn_sASPgT",
        "colab": {
          "base_uri": "https://localhost:8080/"
        },
        "outputId": "d60e2c04-4f65-4d47-8ba1-26109f352091"
      },
      "source": [
        "new_ds"
      ],
      "execution_count": null,
      "outputs": [
        {
          "output_type": "execute_result",
          "data": {
            "text/plain": [
              "<ZipDataset shapes: ((2903024,), (2903024,)), types: (tf.string, tf.int64)>"
            ]
          },
          "metadata": {
            "tags": []
          },
          "execution_count": 48
        }
      ]
    },
    {
      "cell_type": "code",
      "metadata": {
        "id": "1NLn6wmOfvfF"
      },
      "source": [
        "train_dataset= tf.data.Dataset.from_tensor_slices((new_df['title'].values, new_df['BROWSE_NODE_ID'].to_numpy()))\n"
      ],
      "execution_count": null,
      "outputs": []
    },
    {
      "cell_type": "code",
      "metadata": {
        "colab": {
          "base_uri": "https://localhost:8080/"
        },
        "id": "KlRagHIy05t-",
        "outputId": "e7b9e180-019f-40fd-c64f-9c2ada458ce1"
      },
      "source": [
        "train_dataset = train_dataset.shuffle(buffer_size= 1000).batch(batch_size = 32).prefetch(tf.data.AUTOTUNE)\n",
        "train_dataset"
      ],
      "execution_count": null,
      "outputs": [
        {
          "output_type": "execute_result",
          "data": {
            "text/plain": [
              "<PrefetchDataset shapes: ((None,), (None,)), types: (tf.string, tf.int64)>"
            ]
          },
          "metadata": {
            "tags": []
          },
          "execution_count": 15
        }
      ]
    },
    {
      "cell_type": "code",
      "metadata": {
        "id": "O6qQ09Kig9Tf",
        "colab": {
          "base_uri": "https://localhost:8080/"
        },
        "outputId": "2e9f7487-ced4-4993-eddf-ba9d6d7acdfc"
      },
      "source": [
        "for text , lab in train_dataset.take(1):\n",
        "  print(text)\n",
        "  print(lab)"
      ],
      "execution_count": null,
      "outputs": [
        {
          "output_type": "stream",
          "text": [
            "tf.Tensor(\n",
            "[[b'Amsik\\xc2\\xaeBlind Spot Round Mirror Black, (Real Glass Made, 2 Pcs/Set) for Toyota Fortuner'\n",
            "  b'Nivea Face Sun Block Whitening Cream SPF 50 Pa ++ Made in Thailand'\n",
            "  b\"ROZVEH Women's Shift Brown Dress\" ...\n",
            "  b\"SOCH Women's Cotton Straight Kurta NC KT 4402-BLACK-CREAM_Black_Small\"\n",
            "  b'Kuber Industries 100 Percent Cotton 144 TC Single Bed Sheet with 1 Pillow Covers (Light Green), CTKTC13535'\n",
            "  b'MEDHA D.J. PLUS Professional SSA-250 Karoke PA Amplifier 6 Mic Input, 2 Aux, FM/USB Player with Bluetooth (250W RMS)']], shape=(1, 2903024), dtype=string)\n",
            "tf.Tensor([[32296    35  1724 ...  1251  1084 45027]], shape=(1, 2903024), dtype=int64)\n"
          ],
          "name": "stdout"
        }
      ]
    },
    {
      "cell_type": "code",
      "metadata": {
        "id": "c5PivVj6W6wF",
        "colab": {
          "base_uri": "https://localhost:8080/"
        },
        "outputId": "5eb9e54c-b48b-4aac-b60c-2c8e119b7299"
      },
      "source": [
        "first_model = model.fit(train_dataset,\n",
        "                        epochs = 2)"
      ],
      "execution_count": null,
      "outputs": [
        {
          "output_type": "stream",
          "text": [
            "Epoch 1/2\n",
            "80622/80622 [==============================] - 794s 10ms/step - loss: 2.0750 - accuracy: 0.5622\n",
            "Epoch 2/2\n",
            "80622/80622 [==============================] - 786s 10ms/step - loss: 1.8526 - accuracy: 0.5984\n"
          ],
          "name": "stdout"
        }
      ]
    },
    {
      "cell_type": "code",
      "metadata": {
        "id": "CIG_JOZzy2KY"
      },
      "source": [
        ""
      ],
      "execution_count": null,
      "outputs": []
    },
    {
      "cell_type": "code",
      "metadata": {
        "id": "pUtfoH3Wy2bH"
      },
      "source": [
        "# test_data = pd.read_csv(test_path , escapechar = \"\\\\\" , quoting = csv.QUOTE_NONE)\n"
      ],
      "execution_count": null,
      "outputs": []
    },
    {
      "cell_type": "code",
      "metadata": {
        "id": "9jBIGwJbxLCW"
      },
      "source": [
        "test_data['title'] = test_data.TITLE.astype(str)"
      ],
      "execution_count": null,
      "outputs": []
    },
    {
      "cell_type": "code",
      "metadata": {
        "id": "yERF9wqPy7Es",
        "colab": {
          "base_uri": "https://localhost:8080/",
          "height": 589
        },
        "outputId": "5e7f190c-d98d-4906-be70-a1a6bbff63f2"
      },
      "source": [
        "test_data"
      ],
      "execution_count": null,
      "outputs": [
        {
          "output_type": "execute_result",
          "data": {
            "text/html": [
              "<div>\n",
              "<style scoped>\n",
              "    .dataframe tbody tr th:only-of-type {\n",
              "        vertical-align: middle;\n",
              "    }\n",
              "\n",
              "    .dataframe tbody tr th {\n",
              "        vertical-align: top;\n",
              "    }\n",
              "\n",
              "    .dataframe thead th {\n",
              "        text-align: right;\n",
              "    }\n",
              "</style>\n",
              "<table border=\"1\" class=\"dataframe\">\n",
              "  <thead>\n",
              "    <tr style=\"text-align: right;\">\n",
              "      <th></th>\n",
              "      <th>PRODUCT_ID</th>\n",
              "      <th>TITLE</th>\n",
              "      <th>DESCRIPTION</th>\n",
              "      <th>BULLET_POINTS</th>\n",
              "      <th>BRAND</th>\n",
              "      <th>title</th>\n",
              "    </tr>\n",
              "  </thead>\n",
              "  <tbody>\n",
              "    <tr>\n",
              "      <th>0</th>\n",
              "      <td>1</td>\n",
              "      <td>Command 3M Small Kitchen Hooks, White, Decorat...</td>\n",
              "      <td>Sale Unit: PACK</td>\n",
              "      <td>[INCLUDES - 9 hooks and 12 small indoor strips...</td>\n",
              "      <td>Command</td>\n",
              "      <td>Command 3M Small Kitchen Hooks, White, Decorat...</td>\n",
              "    </tr>\n",
              "    <tr>\n",
              "      <th>1</th>\n",
              "      <td>2</td>\n",
              "      <td>O'Neal Jump Hardware JAG Unisex-Adult Glove (B...</td>\n",
              "      <td>Synthetic leather palm with double-layer thumb...</td>\n",
              "      <td>[Silicone printing for a better grip. Long las...</td>\n",
              "      <td>O'Neal</td>\n",
              "      <td>O'Neal Jump Hardware JAG Unisex-Adult Glove (B...</td>\n",
              "    </tr>\n",
              "    <tr>\n",
              "      <th>2</th>\n",
              "      <td>3</td>\n",
              "      <td>NFL Detroit Lions Portable Party Fridge, 15.8 ...</td>\n",
              "      <td>Boelter Brands lets you celebrate your favorit...</td>\n",
              "      <td>[Runs on 12 Volt DC Power or 110 Volt AC Power...</td>\n",
              "      <td>Boelter Brands</td>\n",
              "      <td>NFL Detroit Lions Portable Party Fridge, 15.8 ...</td>\n",
              "    </tr>\n",
              "    <tr>\n",
              "      <th>3</th>\n",
              "      <td>4</td>\n",
              "      <td>Panasonic Single Line KX-TS880MX Corded Phone ...</td>\n",
              "      <td>Features: 50 Station Phonebook Corded Phone Al...</td>\n",
              "      <td>Panasonic Landline Phones doesn't come with a ...</td>\n",
              "      <td>Panasonic</td>\n",
              "      <td>Panasonic Single Line KX-TS880MX Corded Phone ...</td>\n",
              "    </tr>\n",
              "    <tr>\n",
              "      <th>4</th>\n",
              "      <td>5</td>\n",
              "      <td>Zero Baby Girl's 100% Cotton Innerwear Bloomer...</td>\n",
              "      <td>Zero Baby Girl Panties Set. 100% Cotton, Breat...</td>\n",
              "      <td>[Zero Baby Girl Panties, Pack of 6, 100% Cotto...</td>\n",
              "      <td>Zero</td>\n",
              "      <td>Zero Baby Girl's 100% Cotton Innerwear Bloomer...</td>\n",
              "    </tr>\n",
              "    <tr>\n",
              "      <th>...</th>\n",
              "      <td>...</td>\n",
              "      <td>...</td>\n",
              "      <td>...</td>\n",
              "      <td>...</td>\n",
              "      <td>...</td>\n",
              "      <td>...</td>\n",
              "    </tr>\n",
              "    <tr>\n",
              "      <th>110770</th>\n",
              "      <td>110771</td>\n",
              "      <td>AAHNA E MALL OneBlade Hybrid Trimmer Shaver An...</td>\n",
              "      <td>&lt;p&gt;1-All In One Hyper Advanced Smart Rechargea...</td>\n",
              "      <td>[Unique One Blade can style, trim and shave, w...</td>\n",
              "      <td>Generic</td>\n",
              "      <td>AAHNA E MALL OneBlade Hybrid Trimmer Shaver An...</td>\n",
              "    </tr>\n",
              "    <tr>\n",
              "      <th>110771</th>\n",
              "      <td>110772</td>\n",
              "      <td>Grin Health N99 Anti Pollution Reusable Washab...</td>\n",
              "      <td>&lt;p&gt;SIZE GUIDE : M - (35- 65 Kg), L - (49- 72 K...</td>\n",
              "      <td>[PROTECTION: Filtration rate up to ≥99 percent...</td>\n",
              "      <td>Grin Health</td>\n",
              "      <td>Grin Health N99 Anti Pollution Reusable Washab...</td>\n",
              "    </tr>\n",
              "    <tr>\n",
              "      <th>110772</th>\n",
              "      <td>110773</td>\n",
              "      <td>Asian Army Pink Ultra reusable respirator clot...</td>\n",
              "      <td>Asian HyperProtect A95 masks have been enginee...</td>\n",
              "      <td>[Reusable and environment friendly: These mask...</td>\n",
              "      <td>ASIAN</td>\n",
              "      <td>Asian Army Pink Ultra reusable respirator clot...</td>\n",
              "    </tr>\n",
              "    <tr>\n",
              "      <th>110773</th>\n",
              "      <td>110774</td>\n",
              "      <td>IM Safe 3 Ply Non-Woven Disposable Surgical Fa...</td>\n",
              "      <td>This 3 Ply Disposable face mask is manufacture...</td>\n",
              "      <td>[3 Ply Mask: Genuine 3 Ply Mask. 25 GSM Spun B...</td>\n",
              "      <td>Intermarket</td>\n",
              "      <td>IM Safe 3 Ply Non-Woven Disposable Surgical Fa...</td>\n",
              "    </tr>\n",
              "    <tr>\n",
              "      <th>110774</th>\n",
              "      <td>110775</td>\n",
              "      <td>Artifie 100% Cotton Unisex Reusable Breathable...</td>\n",
              "      <td>Material : Cotton Printed, cotton thread, Soft...</td>\n",
              "      <td>[Eco Friendly, Reusable Cotton Masks for Face ...</td>\n",
              "      <td>Artifie</td>\n",
              "      <td>Artifie 100% Cotton Unisex Reusable Breathable...</td>\n",
              "    </tr>\n",
              "  </tbody>\n",
              "</table>\n",
              "<p>110775 rows × 6 columns</p>\n",
              "</div>"
            ],
            "text/plain": [
              "        PRODUCT_ID  ...                                              title\n",
              "0                1  ...  Command 3M Small Kitchen Hooks, White, Decorat...\n",
              "1                2  ...  O'Neal Jump Hardware JAG Unisex-Adult Glove (B...\n",
              "2                3  ...  NFL Detroit Lions Portable Party Fridge, 15.8 ...\n",
              "3                4  ...  Panasonic Single Line KX-TS880MX Corded Phone ...\n",
              "4                5  ...  Zero Baby Girl's 100% Cotton Innerwear Bloomer...\n",
              "...            ...  ...                                                ...\n",
              "110770      110771  ...  AAHNA E MALL OneBlade Hybrid Trimmer Shaver An...\n",
              "110771      110772  ...  Grin Health N99 Anti Pollution Reusable Washab...\n",
              "110772      110773  ...  Asian Army Pink Ultra reusable respirator clot...\n",
              "110773      110774  ...  IM Safe 3 Ply Non-Woven Disposable Surgical Fa...\n",
              "110774      110775  ...  Artifie 100% Cotton Unisex Reusable Breathable...\n",
              "\n",
              "[110775 rows x 6 columns]"
            ]
          },
          "metadata": {
            "tags": []
          },
          "execution_count": 20
        }
      ]
    },
    {
      "cell_type": "code",
      "metadata": {
        "id": "yJi8wn3PXM-L"
      },
      "source": [
        "# # Now one hot encoding the labels \n",
        "# from sklearn.preprocessing import OneHotEncoder\n",
        "# one_hot_encoder = OneHotEncoder(sparse = False)\n",
        "# train_labels = one_hot_encoder.fit_transform(new_train_sample['BROWSE_NODE_ID'].to_numpy().reshape(-1 , 1))"
      ],
      "execution_count": null,
      "outputs": []
    },
    {
      "cell_type": "code",
      "metadata": {
        "colab": {
          "base_uri": "https://localhost:8080/"
        },
        "id": "_n8o0vHV4Nq9",
        "outputId": "5dd29818-248e-40cb-bf97-b37457617ea4"
      },
      "source": [
        "# Making prediction \n",
        "pred_probs = model.predict(test_data['title'].to_numpy())\n",
        "pred_probs[:10]"
      ],
      "execution_count": null,
      "outputs": [
        {
          "output_type": "execute_result",
          "data": {
            "text/plain": [
              "array([[4.3722892e-05, 9.5700845e-04, 1.9532175e-08, ..., 1.3783237e-08,\n",
              "        1.3929760e-08, 3.6670094e-11],\n",
              "       [3.9491462e-04, 2.6682412e-05, 4.0441698e-08, ..., 2.8308991e-08,\n",
              "        2.8561731e-08, 8.0708018e-09],\n",
              "       [1.4366977e-03, 2.7038293e-02, 4.3956423e-08, ..., 1.8468604e-08,\n",
              "        1.8635019e-08, 2.2802507e-08],\n",
              "       ...,\n",
              "       [1.6548316e-06, 2.7211250e-03, 4.4974424e-09, ..., 3.4511580e-09,\n",
              "        3.4804821e-09, 8.8815734e-12],\n",
              "       [9.3250792e-04, 1.2996859e-02, 5.1744021e-08, ..., 3.2361811e-08,\n",
              "        3.2214071e-08, 2.2693243e-12],\n",
              "       [2.2039047e-05, 4.0616010e-06, 8.6601677e-09, ..., 5.5565952e-09,\n",
              "        5.5339928e-09, 1.2813278e-09]], dtype=float32)"
            ]
          },
          "metadata": {
            "tags": []
          },
          "execution_count": 22
        }
      ]
    },
    {
      "cell_type": "code",
      "metadata": {
        "id": "6HYj63ws4dvq",
        "colab": {
          "base_uri": "https://localhost:8080/"
        },
        "outputId": "bb5c449b-f2fa-4356-c463-d7284b9e574f"
      },
      "source": [
        "pred_classes = pred_probs.argmax(axis = 1)\n",
        "pred_classes[:10]"
      ],
      "execution_count": null,
      "outputs": [
        {
          "output_type": "execute_result",
          "data": {
            "text/plain": [
              "array([1140, 2321,   69,  125, 7644,   33, 3329, 1092, 2637, 3503])"
            ]
          },
          "metadata": {
            "tags": []
          },
          "execution_count": 26
        }
      ]
    },
    {
      "cell_type": "code",
      "metadata": {
        "id": "5pPNfKeK7mAw",
        "colab": {
          "base_uri": "https://localhost:8080/",
          "height": 359
        },
        "outputId": "33edd342-49aa-4d61-8c89-09f94214c913"
      },
      "source": [
        "submission = pd.DataFrame({'PRODUCT_ID': test_data['PRODUCT_ID'].values , \n",
        "                           'BROWSE_NODE_ID': pred_classes})\n",
        "submission.head(10)"
      ],
      "execution_count": null,
      "outputs": [
        {
          "output_type": "execute_result",
          "data": {
            "text/html": [
              "<div>\n",
              "<style scoped>\n",
              "    .dataframe tbody tr th:only-of-type {\n",
              "        vertical-align: middle;\n",
              "    }\n",
              "\n",
              "    .dataframe tbody tr th {\n",
              "        vertical-align: top;\n",
              "    }\n",
              "\n",
              "    .dataframe thead th {\n",
              "        text-align: right;\n",
              "    }\n",
              "</style>\n",
              "<table border=\"1\" class=\"dataframe\">\n",
              "  <thead>\n",
              "    <tr style=\"text-align: right;\">\n",
              "      <th></th>\n",
              "      <th>PRODUCT_ID</th>\n",
              "      <th>BROWSE_NODE_ID</th>\n",
              "    </tr>\n",
              "  </thead>\n",
              "  <tbody>\n",
              "    <tr>\n",
              "      <th>0</th>\n",
              "      <td>1</td>\n",
              "      <td>1140</td>\n",
              "    </tr>\n",
              "    <tr>\n",
              "      <th>1</th>\n",
              "      <td>2</td>\n",
              "      <td>2321</td>\n",
              "    </tr>\n",
              "    <tr>\n",
              "      <th>2</th>\n",
              "      <td>3</td>\n",
              "      <td>69</td>\n",
              "    </tr>\n",
              "    <tr>\n",
              "      <th>3</th>\n",
              "      <td>4</td>\n",
              "      <td>125</td>\n",
              "    </tr>\n",
              "    <tr>\n",
              "      <th>4</th>\n",
              "      <td>5</td>\n",
              "      <td>7644</td>\n",
              "    </tr>\n",
              "    <tr>\n",
              "      <th>5</th>\n",
              "      <td>6</td>\n",
              "      <td>33</td>\n",
              "    </tr>\n",
              "    <tr>\n",
              "      <th>6</th>\n",
              "      <td>7</td>\n",
              "      <td>3329</td>\n",
              "    </tr>\n",
              "    <tr>\n",
              "      <th>7</th>\n",
              "      <td>8</td>\n",
              "      <td>1092</td>\n",
              "    </tr>\n",
              "    <tr>\n",
              "      <th>8</th>\n",
              "      <td>9</td>\n",
              "      <td>2637</td>\n",
              "    </tr>\n",
              "    <tr>\n",
              "      <th>9</th>\n",
              "      <td>10</td>\n",
              "      <td>3503</td>\n",
              "    </tr>\n",
              "  </tbody>\n",
              "</table>\n",
              "</div>"
            ],
            "text/plain": [
              "   PRODUCT_ID  BROWSE_NODE_ID\n",
              "0           1            1140\n",
              "1           2            2321\n",
              "2           3              69\n",
              "3           4             125\n",
              "4           5            7644\n",
              "5           6              33\n",
              "6           7            3329\n",
              "7           8            1092\n",
              "8           9            2637\n",
              "9          10            3503"
            ]
          },
          "metadata": {
            "tags": []
          },
          "execution_count": 29
        }
      ]
    },
    {
      "cell_type": "code",
      "metadata": {
        "id": "JVIslzda72F_",
        "colab": {
          "base_uri": "https://localhost:8080/"
        },
        "outputId": "1d59d72b-5a6e-4ff8-f85e-b25e80f2fc14"
      },
      "source": [
        "submission.shape"
      ],
      "execution_count": null,
      "outputs": [
        {
          "output_type": "execute_result",
          "data": {
            "text/plain": [
              "(110775, 2)"
            ]
          },
          "metadata": {
            "tags": []
          },
          "execution_count": 31
        }
      ]
    },
    {
      "cell_type": "code",
      "metadata": {
        "id": "E2s19PdZ8JrY"
      },
      "source": [
        "submission.to_csv('submission.csv' , index = False)"
      ],
      "execution_count": null,
      "outputs": []
    },
    {
      "cell_type": "code",
      "metadata": {
        "id": "sMMKNde49M9E"
      },
      "source": [
        ""
      ],
      "execution_count": null,
      "outputs": []
    }
  ]
}