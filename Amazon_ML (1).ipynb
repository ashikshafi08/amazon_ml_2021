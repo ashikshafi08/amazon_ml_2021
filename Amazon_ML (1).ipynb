{
  "nbformat": 4,
  "nbformat_minor": 0,
  "metadata": {
    "colab": {
      "name": "Amazon_ML.ipynb",
      "provenance": [],
      "collapsed_sections": []
    },
    "kernelspec": {
      "display_name": "Python 3",
      "name": "python3"
    },
    "language_info": {
      "name": "python"
    }
  },
  "cells": [
    {
      "cell_type": "code",
      "metadata": {
        "id": "vpu8EvGUL4SW",
        "colab": {
          "base_uri": "https://localhost:8080/"
        },
        "outputId": "d570485f-ecd8-4761-e03f-437cec95327d"
      },
      "source": [
        "!nvidia-smi"
      ],
      "execution_count": 1,
      "outputs": [
        {
          "output_type": "stream",
          "text": [
            "Fri Jul 30 17:36:51 2021       \n",
            "+-----------------------------------------------------------------------------+\n",
            "| NVIDIA-SMI 470.42.01    Driver Version: 460.32.03    CUDA Version: 11.2     |\n",
            "|-------------------------------+----------------------+----------------------+\n",
            "| GPU  Name        Persistence-M| Bus-Id        Disp.A | Volatile Uncorr. ECC |\n",
            "| Fan  Temp  Perf  Pwr:Usage/Cap|         Memory-Usage | GPU-Util  Compute M. |\n",
            "|                               |                      |               MIG M. |\n",
            "|===============================+======================+======================|\n",
            "|   0  Tesla V100-SXM2...  Off  | 00000000:00:04.0 Off |                    0 |\n",
            "| N/A   36C    P0    24W / 300W |      0MiB / 16160MiB |      0%      Default |\n",
            "|                               |                      |                  N/A |\n",
            "+-------------------------------+----------------------+----------------------+\n",
            "                                                                               \n",
            "+-----------------------------------------------------------------------------+\n",
            "| Processes:                                                                  |\n",
            "|  GPU   GI   CI        PID   Type   Process name                  GPU Memory |\n",
            "|        ID   ID                                                   Usage      |\n",
            "|=============================================================================|\n",
            "|  No running processes found                                                 |\n",
            "+-----------------------------------------------------------------------------+\n"
          ],
          "name": "stdout"
        }
      ]
    },
    {
      "cell_type": "code",
      "metadata": {
        "colab": {
          "base_uri": "https://localhost:8080/"
        },
        "id": "pK1UQZ6SvsXA",
        "outputId": "e203022b-8c09-42d5-e4bf-99c5679e38fa"
      },
      "source": [
        " from google.colab import drive\n",
        "drive.mount('/content/drive/')"
      ],
      "execution_count": 2,
      "outputs": [
        {
          "output_type": "stream",
          "text": [
            "Mounted at /content/drive/\n"
          ],
          "name": "stdout"
        }
      ]
    },
    {
      "cell_type": "code",
      "metadata": {
        "id": "7BUJynKzvyZt"
      },
      "source": [
        "train_path = '/content/drive/MyDrive/dataset/train.csv'\n",
        "test_path = '/content/drive/MyDrive/dataset/test.csv'\n",
        "sample_sub_path = '/content/drive/MyDrive/dataset/sample_submission.csv'"
      ],
      "execution_count": 3,
      "outputs": []
    },
    {
      "cell_type": "code",
      "metadata": {
        "id": "mpZQM5IEwS4t"
      },
      "source": [
        "import pandas as pd \n",
        "import numpy as np \n",
        "import matplotlib.pyplot as plt\n",
        "import csv\n"
      ],
      "execution_count": 4,
      "outputs": []
    },
    {
      "cell_type": "code",
      "metadata": {
        "id": "9KO3umLixP5I"
      },
      "source": [
        "# Loading in the data \n",
        "train_data = pd.read_csv(train_path , escapechar = \"\\\\\" , quoting = csv.QUOTE_NONE)\n",
        "\n",
        "# Loading the test dataset \n",
        "test_data = pd.read_csv(test_path , escapechar = \"\\\\\" , quoting = csv.QUOTE_NONE)\n",
        "# # Sample submission \n",
        "# sample_sub = pd.read_csv(sample_sub_path , escapechar = \"\\\\\" , quoting = csv.QUOTE_NONE)\n",
        "\n"
      ],
      "execution_count": 5,
      "outputs": []
    },
    {
      "cell_type": "markdown",
      "metadata": {
        "id": "NGCmZ4SS0eAL"
      },
      "source": [
        "## Working with a subset "
      ]
    },
    {
      "cell_type": "markdown",
      "metadata": {
        "id": "akVU_BMo_5Fk"
      },
      "source": [
        "#### Multi-Input Model "
      ]
    },
    {
      "cell_type": "code",
      "metadata": {
        "id": "AUK3EvjLxVIk"
      },
      "source": [
        "# Getting the subset of the sample \n",
        "train_sample = train_data.sample(frac= 1 , random_state= 42)\n",
        "#val_sample = train_data.sample(frac = 0.1 , random_state= 3)"
      ],
      "execution_count": 6,
      "outputs": []
    },
    {
      "cell_type": "code",
      "metadata": {
        "colab": {
          "base_uri": "https://localhost:8080/",
          "height": 306
        },
        "id": "1PRM0F9xPz8L",
        "outputId": "5b28713b-334d-492c-e31f-c1974036b98c"
      },
      "source": [
        "train_sample.head().T"
      ],
      "execution_count": 7,
      "outputs": [
        {
          "output_type": "execute_result",
          "data": {
            "text/html": [
              "<div>\n",
              "<style scoped>\n",
              "    .dataframe tbody tr th:only-of-type {\n",
              "        vertical-align: middle;\n",
              "    }\n",
              "\n",
              "    .dataframe tbody tr th {\n",
              "        vertical-align: top;\n",
              "    }\n",
              "\n",
              "    .dataframe thead th {\n",
              "        text-align: right;\n",
              "    }\n",
              "</style>\n",
              "<table border=\"1\" class=\"dataframe\">\n",
              "  <thead>\n",
              "    <tr style=\"text-align: right;\">\n",
              "      <th></th>\n",
              "      <th>2297143</th>\n",
              "      <th>2078681</th>\n",
              "      <th>1125035</th>\n",
              "      <th>1928801</th>\n",
              "      <th>864509</th>\n",
              "    </tr>\n",
              "  </thead>\n",
              "  <tbody>\n",
              "    <tr>\n",
              "      <th>TITLE</th>\n",
              "      <td>Amsik®Blind Spot Round Mirror Black, (Real Gla...</td>\n",
              "      <td>Nivea Face Sun Block Whitening Cream SPF 50 Pa...</td>\n",
              "      <td>ROZVEH Women's Shift Brown Dress</td>\n",
              "      <td>Narayan Creation Pashmina Palazzo Suit Dupatta...</td>\n",
              "      <td>Q-rious Women's Silicon Strap Spagettis/Camiso...</td>\n",
              "    </tr>\n",
              "    <tr>\n",
              "      <th>DESCRIPTION</th>\n",
              "      <td>The mirrors easily mount to the vehicle's left...</td>\n",
              "      <td>Nivea Sun Fac Sun Block Whitening Cream Spf 50...</td>\n",
              "      <td>&lt;p&gt;Super Fine Rayon,&amp;nbsp;Brown Floral Print d...</td>\n",
              "      <td>Narayan creatins pashmina unstitched palazzo s...</td>\n",
              "      <td>Trendy Q-rious Spagetti with sequin detachable...</td>\n",
              "    </tr>\n",
              "    <tr>\n",
              "      <th>BULLET_POINTS</th>\n",
              "      <td>[It is small, but it is smart mirror, and work...</td>\n",
              "      <td>NIVEA face SUN Block Whitening Cream SPF 50 PA ++</td>\n",
              "      <td>[Material: Super Fine Rayon, Brown Floral Prin...</td>\n",
              "      <td>NaN</td>\n",
              "      <td>[Silicon and Elastic strap option,Detachable S...</td>\n",
              "    </tr>\n",
              "    <tr>\n",
              "      <th>BRAND</th>\n",
              "      <td>AMSIK</td>\n",
              "      <td>Nivea</td>\n",
              "      <td>ROZVEH</td>\n",
              "      <td>Generic</td>\n",
              "      <td>Q-rious</td>\n",
              "    </tr>\n",
              "    <tr>\n",
              "      <th>BROWSE_NODE_ID</th>\n",
              "      <td>32296</td>\n",
              "      <td>35</td>\n",
              "      <td>1724</td>\n",
              "      <td>465</td>\n",
              "      <td>2003</td>\n",
              "    </tr>\n",
              "  </tbody>\n",
              "</table>\n",
              "</div>"
            ],
            "text/plain": [
              "                                                          2297143  ...                                            864509 \n",
              "TITLE           Amsik®Blind Spot Round Mirror Black, (Real Gla...  ...  Q-rious Women's Silicon Strap Spagettis/Camiso...\n",
              "DESCRIPTION     The mirrors easily mount to the vehicle's left...  ...  Trendy Q-rious Spagetti with sequin detachable...\n",
              "BULLET_POINTS   [It is small, but it is smart mirror, and work...  ...  [Silicon and Elastic strap option,Detachable S...\n",
              "BRAND                                                       AMSIK  ...                                            Q-rious\n",
              "BROWSE_NODE_ID                                              32296  ...                                               2003\n",
              "\n",
              "[5 rows x 5 columns]"
            ]
          },
          "metadata": {
            "tags": []
          },
          "execution_count": 7
        }
      ]
    },
    {
      "cell_type": "code",
      "metadata": {
        "id": "LO3DS0Cp3FxL"
      },
      "source": [
        "train_sample['Info'] = train_sample.DESCRIPTION.astype(str) + '  '+  train_sample.BULLET_POINTS.astype(str)\n",
        "train_sample['title'] = train_sample.TITLE.astype(str)"
      ],
      "execution_count": 8,
      "outputs": []
    },
    {
      "cell_type": "code",
      "metadata": {
        "colab": {
          "base_uri": "https://localhost:8080/",
          "height": 665
        },
        "id": "uhh9e2r_68t-",
        "outputId": "05f17167-1229-486f-abd5-a77ef08f7209"
      },
      "source": [
        "train_sample.head(10)"
      ],
      "execution_count": 9,
      "outputs": [
        {
          "output_type": "execute_result",
          "data": {
            "text/html": [
              "<div>\n",
              "<style scoped>\n",
              "    .dataframe tbody tr th:only-of-type {\n",
              "        vertical-align: middle;\n",
              "    }\n",
              "\n",
              "    .dataframe tbody tr th {\n",
              "        vertical-align: top;\n",
              "    }\n",
              "\n",
              "    .dataframe thead th {\n",
              "        text-align: right;\n",
              "    }\n",
              "</style>\n",
              "<table border=\"1\" class=\"dataframe\">\n",
              "  <thead>\n",
              "    <tr style=\"text-align: right;\">\n",
              "      <th></th>\n",
              "      <th>TITLE</th>\n",
              "      <th>DESCRIPTION</th>\n",
              "      <th>BULLET_POINTS</th>\n",
              "      <th>BRAND</th>\n",
              "      <th>BROWSE_NODE_ID</th>\n",
              "      <th>Info</th>\n",
              "      <th>title</th>\n",
              "    </tr>\n",
              "  </thead>\n",
              "  <tbody>\n",
              "    <tr>\n",
              "      <th>2297143</th>\n",
              "      <td>Amsik®Blind Spot Round Mirror Black, (Real Gla...</td>\n",
              "      <td>The mirrors easily mount to the vehicle's left...</td>\n",
              "      <td>[It is small, but it is smart mirror, and work...</td>\n",
              "      <td>AMSIK</td>\n",
              "      <td>32296</td>\n",
              "      <td>The mirrors easily mount to the vehicle's left...</td>\n",
              "      <td>Amsik®Blind Spot Round Mirror Black, (Real Gla...</td>\n",
              "    </tr>\n",
              "    <tr>\n",
              "      <th>2078681</th>\n",
              "      <td>Nivea Face Sun Block Whitening Cream SPF 50 Pa...</td>\n",
              "      <td>Nivea Sun Fac Sun Block Whitening Cream Spf 50...</td>\n",
              "      <td>NIVEA face SUN Block Whitening Cream SPF 50 PA ++</td>\n",
              "      <td>Nivea</td>\n",
              "      <td>35</td>\n",
              "      <td>Nivea Sun Fac Sun Block Whitening Cream Spf 50...</td>\n",
              "      <td>Nivea Face Sun Block Whitening Cream SPF 50 Pa...</td>\n",
              "    </tr>\n",
              "    <tr>\n",
              "      <th>1125035</th>\n",
              "      <td>ROZVEH Women's Shift Brown Dress</td>\n",
              "      <td>&lt;p&gt;Super Fine Rayon,&amp;nbsp;Brown Floral Print d...</td>\n",
              "      <td>[Material: Super Fine Rayon, Brown Floral Prin...</td>\n",
              "      <td>ROZVEH</td>\n",
              "      <td>1724</td>\n",
              "      <td>&lt;p&gt;Super Fine Rayon,&amp;nbsp;Brown Floral Print d...</td>\n",
              "      <td>ROZVEH Women's Shift Brown Dress</td>\n",
              "    </tr>\n",
              "    <tr>\n",
              "      <th>1928801</th>\n",
              "      <td>Narayan Creation Pashmina Palazzo Suit Dupatta...</td>\n",
              "      <td>Narayan creatins pashmina unstitched palazzo s...</td>\n",
              "      <td>NaN</td>\n",
              "      <td>Generic</td>\n",
              "      <td>465</td>\n",
              "      <td>Narayan creatins pashmina unstitched palazzo s...</td>\n",
              "      <td>Narayan Creation Pashmina Palazzo Suit Dupatta...</td>\n",
              "    </tr>\n",
              "    <tr>\n",
              "      <th>864509</th>\n",
              "      <td>Q-rious Women's Silicon Strap Spagettis/Camiso...</td>\n",
              "      <td>Trendy Q-rious Spagetti with sequin detachable...</td>\n",
              "      <td>[Silicon and Elastic strap option,Detachable S...</td>\n",
              "      <td>Q-rious</td>\n",
              "      <td>2003</td>\n",
              "      <td>Trendy Q-rious Spagetti with sequin detachable...</td>\n",
              "      <td>Q-rious Women's Silicon Strap Spagettis/Camiso...</td>\n",
              "    </tr>\n",
              "    <tr>\n",
              "      <th>1613202</th>\n",
              "      <td>Hanes Men's Pullover EcoSmart Fleece Hooded Sw...</td>\n",
              "      <td>NaN</td>\n",
              "      <td>[Made with a portion of recycled polyester,Pat...</td>\n",
              "      <td>Hanes</td>\n",
              "      <td>3355</td>\n",
              "      <td>nan  [Made with a portion of recycled polyeste...</td>\n",
              "      <td>Hanes Men's Pullover EcoSmart Fleece Hooded Sw...</td>\n",
              "    </tr>\n",
              "    <tr>\n",
              "      <th>1794644</th>\n",
              "      <td>Lixada Aluminum Alloy Stem Bike Bicycle Cyclin...</td>\n",
              "      <td>Aluminum alloy construction makes it a lightwe...</td>\n",
              "      <td>[For 31.8mm handlebar.,For 28.6mm front fork s...</td>\n",
              "      <td>Lixada</td>\n",
              "      <td>61384</td>\n",
              "      <td>Aluminum alloy construction makes it a lightwe...</td>\n",
              "      <td>Lixada Aluminum Alloy Stem Bike Bicycle Cyclin...</td>\n",
              "    </tr>\n",
              "    <tr>\n",
              "      <th>1306751</th>\n",
              "      <td>Verca Cotton;Fabric Krishna Bal Gopal Poshak (...</td>\n",
              "      <td>Explore wide range of home décor products from...</td>\n",
              "      <td>[Quality Guaranteed,Easy Return and Exchange,L...</td>\n",
              "      <td>Verca</td>\n",
              "      <td>1287</td>\n",
              "      <td>Explore wide range of home décor products from...</td>\n",
              "      <td>Verca Cotton;Fabric Krishna Bal Gopal Poshak (...</td>\n",
              "    </tr>\n",
              "    <tr>\n",
              "      <th>2031708</th>\n",
              "      <td>EVERWILLOW Girl's Satin Silk Lehenga Choli (Pu...</td>\n",
              "      <td>Pure Satin Silk Lehenga Blouse Set. Featuring ...</td>\n",
              "      <td>[Wash Care : Dry Clean and Hend Wash.,In the P...</td>\n",
              "      <td>EVERWILLOW</td>\n",
              "      <td>5173</td>\n",
              "      <td>Pure Satin Silk Lehenga Blouse Set. Featuring ...</td>\n",
              "      <td>EVERWILLOW Girl's Satin Silk Lehenga Choli (Pu...</td>\n",
              "    </tr>\n",
              "    <tr>\n",
              "      <th>1093990</th>\n",
              "      <td>Vimes All Side Protection Sleek Rubberised Mat...</td>\n",
              "      <td>&lt;p&gt;\"&lt;/p&gt; &lt;p&gt;&lt;strong&gt;Vimes back cover case for ...</td>\n",
              "      <td>[Camera Protection Technology - Introducing Ou...</td>\n",
              "      <td>VIMES</td>\n",
              "      <td>2040</td>\n",
              "      <td>&lt;p&gt;\"&lt;/p&gt; &lt;p&gt;&lt;strong&gt;Vimes back cover case for ...</td>\n",
              "      <td>Vimes All Side Protection Sleek Rubberised Mat...</td>\n",
              "    </tr>\n",
              "  </tbody>\n",
              "</table>\n",
              "</div>"
            ],
            "text/plain": [
              "                                                     TITLE  ...                                              title\n",
              "2297143  Amsik®Blind Spot Round Mirror Black, (Real Gla...  ...  Amsik®Blind Spot Round Mirror Black, (Real Gla...\n",
              "2078681  Nivea Face Sun Block Whitening Cream SPF 50 Pa...  ...  Nivea Face Sun Block Whitening Cream SPF 50 Pa...\n",
              "1125035                   ROZVEH Women's Shift Brown Dress  ...                   ROZVEH Women's Shift Brown Dress\n",
              "1928801  Narayan Creation Pashmina Palazzo Suit Dupatta...  ...  Narayan Creation Pashmina Palazzo Suit Dupatta...\n",
              "864509   Q-rious Women's Silicon Strap Spagettis/Camiso...  ...  Q-rious Women's Silicon Strap Spagettis/Camiso...\n",
              "1613202  Hanes Men's Pullover EcoSmart Fleece Hooded Sw...  ...  Hanes Men's Pullover EcoSmart Fleece Hooded Sw...\n",
              "1794644  Lixada Aluminum Alloy Stem Bike Bicycle Cyclin...  ...  Lixada Aluminum Alloy Stem Bike Bicycle Cyclin...\n",
              "1306751  Verca Cotton;Fabric Krishna Bal Gopal Poshak (...  ...  Verca Cotton;Fabric Krishna Bal Gopal Poshak (...\n",
              "2031708  EVERWILLOW Girl's Satin Silk Lehenga Choli (Pu...  ...  EVERWILLOW Girl's Satin Silk Lehenga Choli (Pu...\n",
              "1093990  Vimes All Side Protection Sleek Rubberised Mat...  ...  Vimes All Side Protection Sleek Rubberised Mat...\n",
              "\n",
              "[10 rows x 7 columns]"
            ]
          },
          "metadata": {
            "tags": []
          },
          "execution_count": 9
        }
      ]
    },
    {
      "cell_type": "code",
      "metadata": {
        "colab": {
          "base_uri": "https://localhost:8080/"
        },
        "id": "NFk9iUQI7HuD",
        "outputId": "15af2b8b-a2ab-4fee-875a-edd420c0b6f5"
      },
      "source": [
        "train_sample.isna().sum()"
      ],
      "execution_count": 10,
      "outputs": [
        {
          "output_type": "execute_result",
          "data": {
            "text/plain": [
              "TITLE                 71\n",
              "DESCRIPTION       723664\n",
              "BULLET_POINTS     166263\n",
              "BRAND              56737\n",
              "BROWSE_NODE_ID         0\n",
              "Info                   0\n",
              "title                  0\n",
              "dtype: int64"
            ]
          },
          "metadata": {
            "tags": []
          },
          "execution_count": 10
        }
      ]
    },
    {
      "cell_type": "code",
      "metadata": {
        "colab": {
          "base_uri": "https://localhost:8080/"
        },
        "id": "IZjrCrsp9FiO",
        "outputId": "893a00bb-b304-4094-cf0b-f9d0b9684c4f"
      },
      "source": [
        "train_sample['BROWSE_NODE_ID']"
      ],
      "execution_count": null,
      "outputs": [
        {
          "output_type": "execute_result",
          "data": {
            "text/plain": [
              "2297143    32296\n",
              "2078681       35\n",
              "1125035     1724\n",
              "1928801      465\n",
              "864509      2003\n",
              "           ...  \n",
              "1692743     1217\n",
              "2356330    21895\n",
              "2229084     1251\n",
              "2768307     1084\n",
              "2219110    45027\n",
              "Name: BROWSE_NODE_ID, Length: 2903024, dtype: int64"
            ]
          },
          "metadata": {
            "tags": []
          },
          "execution_count": 20
        }
      ]
    },
    {
      "cell_type": "code",
      "metadata": {
        "colab": {
          "base_uri": "https://localhost:8080/"
        },
        "id": "FhgAb2Y99LPc",
        "outputId": "cc78c858-69e0-4e1e-ca6e-877e42d6e0b0"
      },
      "source": [
        "train_sample[['TITLE' , 'Info']].values"
      ],
      "execution_count": null,
      "outputs": [
        {
          "output_type": "execute_result",
          "data": {
            "text/plain": [
              "array([['Amsik®Blind Spot Round Mirror Black, (Real Glass Made, 2 Pcs/Set) for Toyota Fortuner',\n",
              "        'The mirrors easily mount to the vehicle\\'s left and right side mirrors with pre in sided foam tape and successfully achieved the goal of adding vehicle by enhancing the visibility for the driver Which helping the driver to make safe lane change other drivers in the \"blind spot\" and helping reduce accidents. Includes one pair of mirrors. 2\" size with universal size. Does not spoil the mirror look even if removed later. it is best round blind spot mirror from crest.  [It is small, but it is smart mirror, and works together with the side mirror so great,The blind spots mirrors can be 360° rotatable + 30° sway adjustable with the angle regulator type .,Upgraded real glass mirror body, equips with strong 3M adhesive tape for fast installation.,2 Pcs/set with double tape packaged in all English instruction.]'],\n",
              "       ['Nivea Face Sun Block Whitening Cream SPF 50 Pa ++ Made in Thailand',\n",
              "        \"Nivea Sun Fac Sun Block Whitening Cream Spf 50 Very High Protection For Sun Sensitive And Fair Skin Active Uv Cell Protection Effective Protection Of The Deeper Layers Of The Skin Cells Against Skin Darkenting And Uv Damage With An Innovative Uva+Uvb Filter System And Vitamin E Active Whitening Care - Give The Skin A Fair And Radiant Look With The Lightening Ingredient Licorice Extract The Non-Sticky Formula Leaves The Skin Smooth And Supple This Item Is Popular For Whitening It Is In The Top-Pick From Shelf At World Class Department Stores In Bangkok Thailand You May Not Find Some Of This Item At Your Local Store A Friend Of Mine From Other Countries Have Bought Huge Lots Back To Their Home It'S Rare Do Not Miss It! Manufactured: Beiersdorf ( Thailand ) Co,Ltd  NIVEA face SUN Block Whitening Cream SPF 50 PA ++\"],\n",
              "       [\"ROZVEH Women's Shift Brown Dress\",\n",
              "        '<p>Super Fine Rayon,&nbsp;Brown Floral Print dress with Deep V-neck, and wide, kimono sleeves. Figure-skimming sheath skirt (with elastic back) falls below a cutout back with top button, hook clasp closure</p> <p><strong>Material &amp; Care<br /></strong>Fabric: Rayon, Gentle machine wash, Cold hand wash</p> <p><strong>Complete The Look&nbsp;<br /></strong>This dress from ROZVEH is both durable and stylish, making it a must-have item. Dress to the nines for your party this weekend by styling this floral print brown piece with cute clutch.</p>  [Material: Super Fine Rayon, Brown Floral Print Dress, Has a V-Neck And Wide, Kimoono Sleeves,Fitting Type: Slim,Occasion: Casual, Party and Office wear,Color: Brown,Wash Care: Cold Hand wash, Gentle machine wash]'],\n",
              "       ...,\n",
              "       [\"SOCH Women's Cotton Straight Kurta NC KT 4402-BLACK-CREAM_Black_Small\",\n",
              "        'nan  [Color Name: Black,100% Cotton,Knee length,Dry clean only]'],\n",
              "       ['Kuber Industries 100 Percent Cotton 144 TC Single Bed Sheet with 1 Pillow Covers (Light Green), CTKTC13535',\n",
              "        'nan  [Color: Light Green, Size Name: Standard,Material: Cotton, Thread Count: 144,Package Contents: 1 Piece Single Bed sheet with 1 Pillow Covers,Size: 152X228X1 CM,This bed sheet will add elegance to your bedroom and will make a timeless addition to both modern and traditional homes,This is soft and attractive bed sheet and smooth and soft to touch,This bed sheet gives the graceful look to your bed room, enjoy a cool and comfortable night’s sleep with the kuber industries cotton bad sheet]'],\n",
              "       ['MEDHA D.J. PLUS Professional SSA-250 Karoke PA Amplifier 6 Mic Input, 2 Aux, FM/USB Player with Bluetooth (250W RMS)',\n",
              "        'SSA-250 is a PA mixer amplifier of rated output 300 watts, fitted with a MP3 Digital Player. The Digital Player features outstanding wide spectrum sound quality, combined with highly useful features like LCD display, remote control, and facilities for REPEAT, PAUSE, VOLUME UP / DOWN etc. It can read USB drives, SD & MMC cards.SSA-250DP has all the other features of the popular SSA-250M model, like 6 Mic inputs, 2 Aux inputs, cut / boost type bass & treble controls, resettable circuit protector, and provision for connecting 24V battery. Facility is given for mixing MP3 playback signal with both Aux and most mic inputs.  [MEDHA D.J. PLUS -250 is PA Amplifier with inbuilt MP3 Digital Player and Bluetooth Receiver. Built with a aesthetically designed metal front panel, it is an elegant, state-of-the-art product.Bluetooth Connectivity enables the user to connect their smart phone with this amplifier. The Digital Player plays back clear, high-class Mp3 music from a USB drive. Remote control is provided for easily operating the Digital Player from a distance,Line Input for connecting the output from any external mixer or permitting SSA-250DP to be used as a Booster Power Amplifier .Resettable circuit breaker for protection against overload and short circuit.Instant transfer to DC power (2Ã— 12C Car Battery) if AC power fails.Box Speaker/Driver Unit selector switch. Bass boost defeated at Driver Unit position for safer operation of driver units.,Suitable for Office, Factory, Schools, Satsang Bhawan, Mosque, Temple, Gurudwara, Church, Coaching Centre,his is a rugged and highly reliable product, ideally suited for a wide variety of music and public address applications.6 Mic & 2 Aux Inputs.,Built-in MP3 player with LCD display, remote control, for USB, SD/MMC cards.Preamplifier and Line Output for connecting to a Booster Amplifier and for recording the programme.]']],\n",
              "      dtype=object)"
            ]
          },
          "metadata": {
            "tags": []
          },
          "execution_count": 21
        }
      ]
    },
    {
      "cell_type": "code",
      "metadata": {
        "colab": {
          "base_uri": "https://localhost:8080/",
          "height": 340
        },
        "id": "ZptXdOTg9PBQ",
        "outputId": "d14cab70-d829-4574-85d8-ecd5aba4c410"
      },
      "source": [
        "new_train_sample = train_sample.copy()\n",
        "new_train_sample.head()"
      ],
      "execution_count": 11,
      "outputs": [
        {
          "output_type": "execute_result",
          "data": {
            "text/html": [
              "<div>\n",
              "<style scoped>\n",
              "    .dataframe tbody tr th:only-of-type {\n",
              "        vertical-align: middle;\n",
              "    }\n",
              "\n",
              "    .dataframe tbody tr th {\n",
              "        vertical-align: top;\n",
              "    }\n",
              "\n",
              "    .dataframe thead th {\n",
              "        text-align: right;\n",
              "    }\n",
              "</style>\n",
              "<table border=\"1\" class=\"dataframe\">\n",
              "  <thead>\n",
              "    <tr style=\"text-align: right;\">\n",
              "      <th></th>\n",
              "      <th>TITLE</th>\n",
              "      <th>DESCRIPTION</th>\n",
              "      <th>BULLET_POINTS</th>\n",
              "      <th>BRAND</th>\n",
              "      <th>BROWSE_NODE_ID</th>\n",
              "      <th>Info</th>\n",
              "      <th>title</th>\n",
              "    </tr>\n",
              "  </thead>\n",
              "  <tbody>\n",
              "    <tr>\n",
              "      <th>2297143</th>\n",
              "      <td>Amsik®Blind Spot Round Mirror Black, (Real Gla...</td>\n",
              "      <td>The mirrors easily mount to the vehicle's left...</td>\n",
              "      <td>[It is small, but it is smart mirror, and work...</td>\n",
              "      <td>AMSIK</td>\n",
              "      <td>32296</td>\n",
              "      <td>The mirrors easily mount to the vehicle's left...</td>\n",
              "      <td>Amsik®Blind Spot Round Mirror Black, (Real Gla...</td>\n",
              "    </tr>\n",
              "    <tr>\n",
              "      <th>2078681</th>\n",
              "      <td>Nivea Face Sun Block Whitening Cream SPF 50 Pa...</td>\n",
              "      <td>Nivea Sun Fac Sun Block Whitening Cream Spf 50...</td>\n",
              "      <td>NIVEA face SUN Block Whitening Cream SPF 50 PA ++</td>\n",
              "      <td>Nivea</td>\n",
              "      <td>35</td>\n",
              "      <td>Nivea Sun Fac Sun Block Whitening Cream Spf 50...</td>\n",
              "      <td>Nivea Face Sun Block Whitening Cream SPF 50 Pa...</td>\n",
              "    </tr>\n",
              "    <tr>\n",
              "      <th>1125035</th>\n",
              "      <td>ROZVEH Women's Shift Brown Dress</td>\n",
              "      <td>&lt;p&gt;Super Fine Rayon,&amp;nbsp;Brown Floral Print d...</td>\n",
              "      <td>[Material: Super Fine Rayon, Brown Floral Prin...</td>\n",
              "      <td>ROZVEH</td>\n",
              "      <td>1724</td>\n",
              "      <td>&lt;p&gt;Super Fine Rayon,&amp;nbsp;Brown Floral Print d...</td>\n",
              "      <td>ROZVEH Women's Shift Brown Dress</td>\n",
              "    </tr>\n",
              "    <tr>\n",
              "      <th>1928801</th>\n",
              "      <td>Narayan Creation Pashmina Palazzo Suit Dupatta...</td>\n",
              "      <td>Narayan creatins pashmina unstitched palazzo s...</td>\n",
              "      <td>NaN</td>\n",
              "      <td>Generic</td>\n",
              "      <td>465</td>\n",
              "      <td>Narayan creatins pashmina unstitched palazzo s...</td>\n",
              "      <td>Narayan Creation Pashmina Palazzo Suit Dupatta...</td>\n",
              "    </tr>\n",
              "    <tr>\n",
              "      <th>864509</th>\n",
              "      <td>Q-rious Women's Silicon Strap Spagettis/Camiso...</td>\n",
              "      <td>Trendy Q-rious Spagetti with sequin detachable...</td>\n",
              "      <td>[Silicon and Elastic strap option,Detachable S...</td>\n",
              "      <td>Q-rious</td>\n",
              "      <td>2003</td>\n",
              "      <td>Trendy Q-rious Spagetti with sequin detachable...</td>\n",
              "      <td>Q-rious Women's Silicon Strap Spagettis/Camiso...</td>\n",
              "    </tr>\n",
              "  </tbody>\n",
              "</table>\n",
              "</div>"
            ],
            "text/plain": [
              "                                                     TITLE  ...                                              title\n",
              "2297143  Amsik®Blind Spot Round Mirror Black, (Real Gla...  ...  Amsik®Blind Spot Round Mirror Black, (Real Gla...\n",
              "2078681  Nivea Face Sun Block Whitening Cream SPF 50 Pa...  ...  Nivea Face Sun Block Whitening Cream SPF 50 Pa...\n",
              "1125035                   ROZVEH Women's Shift Brown Dress  ...                   ROZVEH Women's Shift Brown Dress\n",
              "1928801  Narayan Creation Pashmina Palazzo Suit Dupatta...  ...  Narayan Creation Pashmina Palazzo Suit Dupatta...\n",
              "864509   Q-rious Women's Silicon Strap Spagettis/Camiso...  ...  Q-rious Women's Silicon Strap Spagettis/Camiso...\n",
              "\n",
              "[5 rows x 7 columns]"
            ]
          },
          "metadata": {
            "tags": []
          },
          "execution_count": 11
        }
      ]
    },
    {
      "cell_type": "code",
      "metadata": {
        "colab": {
          "base_uri": "https://localhost:8080/"
        },
        "id": "ejyDKjPVTHMc",
        "outputId": "aa7367af-6564-4b15-8b6d-ba81b908959a"
      },
      "source": [
        "# Are there 9919 classes \n",
        "train_sample.BROWSE_NODE_ID.value_counts()"
      ],
      "execution_count": 12,
      "outputs": [
        {
          "output_type": "execute_result",
          "data": {
            "text/plain": [
              "1045       215698\n",
              "5           70318\n",
              "1251        51929\n",
              "1052        45553\n",
              "4           34177\n",
              "            ...  \n",
              "279112          1\n",
              "822060          1\n",
              "1337233         1\n",
              "2136811         1\n",
              "248936          1\n",
              "Name: BROWSE_NODE_ID, Length: 9919, dtype: int64"
            ]
          },
          "metadata": {
            "tags": []
          },
          "execution_count": 12
        }
      ]
    },
    {
      "cell_type": "markdown",
      "metadata": {
        "id": "5yjmkId4_gZe"
      },
      "source": [
        "Creating a token level embedding "
      ]
    },
    {
      "cell_type": "code",
      "metadata": {
        "id": "Lp84lqn5EzKz"
      },
      "source": [
        "# # Picking up the train text data \n",
        "# info_train_sentences = new_train_sample['Info'].to_list()\n",
        "# title_train_sentences = new_train_sample['TITLE'].astype(str).to_list()\n",
        "\n",
        "# # Now our val dataset \n",
        "\n",
        "\n",
        "# len(info_train_sentences) , len(title_train_sentences)"
      ],
      "execution_count": 13,
      "outputs": []
    },
    {
      "cell_type": "code",
      "metadata": {
        "id": "J7XI4keHFh10"
      },
      "source": [
        ""
      ],
      "execution_count": null,
      "outputs": []
    },
    {
      "cell_type": "code",
      "metadata": {
        "colab": {
          "base_uri": "https://localhost:8080/"
        },
        "id": "nt7naeStJ0-1",
        "outputId": "68941bbe-9f43-42ef-b392-0c8d4c9cd900"
      },
      "source": [
        "title_train_sentences[:10]"
      ],
      "execution_count": null,
      "outputs": [
        {
          "output_type": "execute_result",
          "data": {
            "text/plain": [
              "['Amsik®Blind Spot Round Mirror Black, (Real Glass Made, 2 Pcs/Set) for Toyota Fortuner',\n",
              " 'Nivea Face Sun Block Whitening Cream SPF 50 Pa ++ Made in Thailand',\n",
              " \"ROZVEH Women's Shift Brown Dress\",\n",
              " 'Narayan Creation Pashmina Palazzo Suit Dupatta Material (Un-Stitched) Pink',\n",
              " \"Q-rious Women's Silicon Strap Spagettis/Camisole Magenta\",\n",
              " \"Hanes Men's Pullover EcoSmart Fleece Hooded Sweatshirt, Charcoal Heather, L\",\n",
              " 'Lixada Aluminum Alloy Stem Bike Bicycle Cycling Clamp Stem 31.8Mm ±17° MTB Road Bike Stem 70Mm 80Mm 90Mm 110Mm',\n",
              " 'Verca Cotton;Fabric Krishna Bal Gopal Poshak (Blue)',\n",
              " \"EVERWILLOW Girl's Satin Silk Lehenga Choli (Purple)\",\n",
              " 'Vimes All Side Protection Sleek Rubberised Matte Soft Silicon Back Case For Redmi Note 5 (Black Mi Note 5 - 2018) (It is not compatibe with Redmi 5 And Note 5 Pro)']"
            ]
          },
          "metadata": {
            "tags": []
          },
          "execution_count": 27
        }
      ]
    },
    {
      "cell_type": "code",
      "metadata": {
        "colab": {
          "base_uri": "https://localhost:8080/"
        },
        "id": "cbKc1ySxE3aN",
        "outputId": "b7ba31d2-7e7d-4706-c030-011df07304b9"
      },
      "source": [
        "# # Average sequence length \n",
        "# info_sent_lens = [len(sentence.split()) for sentence in info_train_sentences]\n",
        "# title_sent_lens = [len(title.split()) for title in title_train_sentences]\n",
        "\n",
        "# avg_sent_len_info = np.mean(info_sent_lens)\n",
        "# avg_sent_len_title = np.mean(title_sent_lens)\n",
        "\n",
        "# avg_sent_len_info , avg_sent_len_title"
      ],
      "execution_count": null,
      "outputs": [
        {
          "output_type": "execute_result",
          "data": {
            "text/plain": [
              "(124.08260627538732, 13.541006550410883)"
            ]
          },
          "metadata": {
            "tags": []
          },
          "execution_count": 28
        }
      ]
    },
    {
      "cell_type": "code",
      "metadata": {
        "colab": {
          "base_uri": "https://localhost:8080/"
        },
        "id": "CVF4CUF6F1yA",
        "outputId": "a37563b8-8ad0-4c6d-f05a-3bed6a02a2ef"
      },
      "source": [
        "# round(avg_sent_len_info) , round(avg_sent_len_title)"
      ],
      "execution_count": null,
      "outputs": [
        {
          "output_type": "execute_result",
          "data": {
            "text/plain": [
              "(124, 14)"
            ]
          },
          "metadata": {
            "tags": []
          },
          "execution_count": 29
        }
      ]
    },
    {
      "cell_type": "code",
      "metadata": {
        "colab": {
          "base_uri": "https://localhost:8080/",
          "height": 276
        },
        "id": "S30sq2svI9pQ",
        "outputId": "bf3f982e-e43e-47cc-93f9-f355cdc87d44"
      },
      "source": [
        "# # Distribution of the tokens \n",
        "# plt.hist(info_sent_lens , bins = 7);"
      ],
      "execution_count": null,
      "outputs": [
        {
          "output_type": "display_data",
          "data": {
            "image/png": "[encoded data removed]",
            "text/plain": [
              "<Figure size 432x288 with 1 Axes>"
            ]
          },
          "metadata": {
            "tags": [],
            "needs_background": "light"
          }
        }
      ]
    },
    {
      "cell_type": "code",
      "metadata": {
        "colab": {
          "base_uri": "https://localhost:8080/",
          "height": 276
        },
        "id": "WIKdzrftKRl4",
        "outputId": "973d5c9a-11cc-4ab0-c634-83340fa6010a"
      },
      "source": [
        "# plt.hist(title_sent_lens , bins = 7);"
      ],
      "execution_count": null,
      "outputs": [
        {
          "output_type": "display_data",
          "data": {
            "image/png": "[encoded data removed]",
            "text/plain": [
              "<Figure size 432x288 with 1 Axes>"
            ]
          },
          "metadata": {
            "tags": [],
            "needs_background": "light"
          }
        }
      ]
    },
    {
      "cell_type": "code",
      "metadata": {
        "colab": {
          "base_uri": "https://localhost:8080/"
        },
        "id": "RRtizKLjLSWc",
        "outputId": "ef1cc739-1e7e-4c82-d90d-06ec7657f6ff"
      },
      "source": [
        "# # How long of a sentence covers 95% of a length \n",
        "# info_output_seq_len = int(np.percentile(info_sent_lens , 95))\n",
        "# title_output_seq_len = int(np.percentile(title_sent_lens , 95))\n",
        "\n",
        "# info_output_seq_len , title_output_seq_len"
      ],
      "execution_count": null,
      "outputs": [
        {
          "output_type": "execute_result",
          "data": {
            "text/plain": [
              "(358, 27)"
            ]
          },
          "metadata": {
            "tags": []
          },
          "execution_count": 32
        }
      ]
    },
    {
      "cell_type": "code",
      "metadata": {
        "colab": {
          "base_uri": "https://localhost:8080/"
        },
        "id": "-4fz7wcFLrXn",
        "outputId": "e8867a4f-312e-4165-a6b2-0b98f5bc4aae"
      },
      "source": [
        "# # Maximum sentence in the training sentence of both info and title \n",
        "# max(info_sent_lens) , max(title_sent_lens)"
      ],
      "execution_count": null,
      "outputs": [
        {
          "output_type": "execute_result",
          "data": {
            "text/plain": [
              "(1270, 113)"
            ]
          },
          "metadata": {
            "tags": []
          },
          "execution_count": 33
        }
      ]
    },
    {
      "cell_type": "code",
      "metadata": {
        "colab": {
          "base_uri": "https://localhost:8080/"
        },
        "id": "oqVLhwr9G2-E",
        "outputId": "722d34cc-3fd1-4a6b-b53c-cd6f6775e535"
      },
      "source": [
        "# round(len(info_train_sentences) / 6)"
      ],
      "execution_count": null,
      "outputs": [
        {
          "output_type": "execute_result",
          "data": {
            "text/plain": [
              "483837"
            ]
          },
          "metadata": {
            "tags": []
          },
          "execution_count": 34
        }
      ]
    },
    {
      "cell_type": "code",
      "metadata": {
        "colab": {
          "base_uri": "https://localhost:8080/"
        },
        "id": "vAY3cjjfHMUU",
        "outputId": "1aa72f1c-8a70-4a1b-c4af-53bbdbd5d5e4"
      },
      "source": [
        "# from random import sample \n",
        "# little_info_train_sentences = sample(info_train_sentences ,683837)\n",
        "# len(little_info_train_sentences)"
      ],
      "execution_count": null,
      "outputs": [
        {
          "output_type": "execute_result",
          "data": {
            "text/plain": [
              "683837"
            ]
          },
          "metadata": {
            "tags": []
          },
          "execution_count": 35
        }
      ]
    },
    {
      "cell_type": "code",
      "metadata": {
        "id": "AijToPEtL83r"
      },
      "source": [
        "# # Creating a text vectorizer layer for info (token level embedding)\n",
        "# from tensorflow.keras.layers.experimental.preprocessing import TextVectorization\n",
        "\n",
        "# info_text_vect_token_layer = TextVectorization(max_tokens= 5000 , \n",
        "#                                                output_sequence_length = info_output_seq_len)\n",
        "\n",
        "# # Adapting the layer on the train data \n",
        "# info_text_vect_token_layer.adapt(little_info_train_sentences)"
      ],
      "execution_count": null,
      "outputs": []
    },
    {
      "cell_type": "code",
      "metadata": {
        "colab": {
          "base_uri": "https://localhost:8080/"
        },
        "id": "4l0TdqVSM_Ia",
        "outputId": "1f0e11cd-b42c-4614-fc17-6ef408704b3a"
      },
      "source": [
        "# # Test out text vectorizer\n",
        "# import random\n",
        "# target_sentence = random.choice(info_train_sentences)\n",
        "# print(f\"Text:\\n{target_sentence}\")\n",
        "# print(f\"\\nLength of text: {len(target_sentence.split())}\")\n",
        "# print(f\"\\nVectorized text:\\n{info_text_vect_token_layer([target_sentence])}\")"
      ],
      "execution_count": null,
      "outputs": [
        {
          "output_type": "stream",
          "text": [
            "Text:\n",
            "May Your Birthday Be Warm. Teddy Bear Newborn Baby Birthday Train Figurine. Made from bisque porcelain. Approximately 3 inches tall (8cm). Includes original manufacturers box and packaging. Made by Precious Moments. Welcome a new baby to the world with the Precious Moments Birthday Train caboose. A sweet little teddy bear offers his favorite blankie to make sure baby is warm and cozy on their wild ride called childhood.  [This cozy engine of the Precious Moments Birthday Train welcomes a new baby into the world. Attaches by pull rope to any of the Birthday Train figurines from the baby through age 16,As part of a series, it is a gift that begins a tradition, one that will be looked forward to and then cherished for years to come,A thoughtful birthday gift for any baby!,Bisque porcelain, meticulously hand painted,Approximately 3 inches high]\n",
            "\n",
            "Length of text: 140\n",
            "\n",
            "Vectorized text:\n",
            "[[ 109    9  339   21  400 2684 2136 3182  215  339 3457    1   26   15\n",
            "     1    1 2223  101  160 2308    1  279  282 2375  228    2  759   26\n",
            "    42 1369 3244 2426    8  100  215    4    3  623    7    3 1369 3244\n",
            "   339 3457    1    8 1621  302 2684 2136  315 1311  751    1    4   73\n",
            "   323  215   10  400    2 1751   18  230 3912 2327 1900    1   13 1751\n",
            "  2160    6    3 1369 3244  339 3457    1    8  100  215  189    3  623\n",
            "  4213   42 1317 1849    4   38    6    3  339 3457    1   15    3  215\n",
            "   347  893    1  519    6    8  721   14   10    8   77   24    1    8\n",
            "  3477   82   24   28   21    1 2428    4    2  387    1    5  305    4\n",
            "     1 4035  339   77    5   38    1    1 4753  120    1  101  160   36\n",
            "     0    0    0    0    0    0    0    0    0    0    0    0    0    0\n",
            "     0    0    0    0    0    0    0    0    0    0    0    0    0    0\n",
            "     0    0    0    0    0    0    0    0    0    0    0    0    0    0\n",
            "     0    0    0    0    0    0    0    0    0    0    0    0    0    0\n",
            "     0    0    0    0    0    0    0    0    0    0    0    0    0    0\n",
            "     0    0    0    0    0    0    0    0    0    0    0    0    0    0\n",
            "     0    0    0    0    0    0    0    0    0    0    0    0    0    0\n",
            "     0    0    0    0    0    0    0    0    0    0    0    0    0    0\n",
            "     0    0    0    0    0    0    0    0    0    0    0    0    0    0\n",
            "     0    0    0    0    0    0    0    0    0    0    0    0    0    0\n",
            "     0    0    0    0    0    0    0    0    0    0    0    0    0    0\n",
            "     0    0    0    0    0    0    0    0    0    0    0    0    0    0\n",
            "     0    0    0    0    0    0    0    0    0    0    0    0    0    0\n",
            "     0    0    0    0    0    0    0    0    0    0    0    0    0    0\n",
            "     0    0    0    0    0    0    0    0    0    0    0    0    0    0\n",
            "     0    0    0    0    0    0    0    0]]\n"
          ],
          "name": "stdout"
        }
      ]
    },
    {
      "cell_type": "code",
      "metadata": {
        "id": "pBCXx-R1REc8"
      },
      "source": [
        "# # Creating a text vectorizer layer for title (token level embedding)\n",
        "# from tensorflow.keras.layers.experimental.preprocessing import TextVectorization\n",
        "\n",
        "# title_text_vect_token_layer = TextVectorization(max_tokens= 3000 , \n",
        "#                                                output_sequence_length = title_output_seq_len)\n",
        "\n",
        "# # Adapting the layer on the train data \n",
        "# title_text_vect_token_layer.adapt(title_train_sentences)"
      ],
      "execution_count": null,
      "outputs": []
    },
    {
      "cell_type": "code",
      "metadata": {
        "colab": {
          "base_uri": "https://localhost:8080/"
        },
        "id": "mBJ2Vra4SR7f",
        "outputId": "3fe0eec2-00dc-4f95-aa6e-4f1e67257bbb"
      },
      "source": [
        "# # Test out text vectorizer (title)\n",
        "# import random\n",
        "# target_sentence = random.choice(title_train_sentences)\n",
        "# print(f\"Text:\\n{target_sentence}\")\n",
        "# print(f\"\\nLength of text: {len(target_sentence.split())}\")\n",
        "# print(f\"\\nVectorized text:\\n{title_text_vect_token_layer([target_sentence])}\")"
      ],
      "execution_count": null,
      "outputs": [
        {
          "output_type": "stream",
          "text": [
            "Text:\n",
            "Nena Fashion Cotton Saree With Blouse Piece(Rama Small Chex Lining_Rama_Free Size)\n",
            "\n",
            "Length of text: 11\n",
            "\n",
            "Vectorized text:\n",
            "[[  1  82  11  90   3 122   1 132   1   1  23   0   0   0   0   0   0   0\n",
            "    0   0   0   0   0   0   0   0   0]]\n"
          ],
          "name": "stdout"
        }
      ]
    },
    {
      "cell_type": "code",
      "metadata": {
        "id": "9phUuzsP6Bdf"
      },
      "source": [
        "# gpu_options = tf.GPUOptions(allow_growth=True)\n",
        "# session = tf.InteractiveSession(config=tf.ConfigProto(gpu_options=gpu_options))"
      ],
      "execution_count": null,
      "outputs": []
    },
    {
      "cell_type": "markdown",
      "metadata": {
        "id": "cxHNBd9rRKhY"
      },
      "source": [
        "# trying to make model with universal scentence encoder \n"
      ]
    },
    {
      "cell_type": "code",
      "metadata": {
        "id": "CkxACaimRRG6"
      },
      "source": [
        "import tensorflow_hub as hub\n",
        "import tensorflow as tf"
      ],
      "execution_count": 14,
      "outputs": []
    },
    {
      "cell_type": "code",
      "metadata": {
        "id": "BMSZgYIDfV3x",
        "colab": {
          "base_uri": "https://localhost:8080/"
        },
        "outputId": "05a478d2-23d9-40cb-a2a0-4c1c40a45c36"
      },
      "source": [
        "new_df = train_sample[train_sample['BROWSE_NODE_ID'] <= 9919]\n",
        "new_df.shape"
      ],
      "execution_count": 15,
      "outputs": [
        {
          "output_type": "execute_result",
          "data": {
            "text/plain": [
              "(2579890, 7)"
            ]
          },
          "metadata": {
            "tags": []
          },
          "execution_count": 15
        }
      ]
    },
    {
      "cell_type": "code",
      "metadata": {
        "id": "AKKg1ckkiqmt",
        "colab": {
          "base_uri": "https://localhost:8080/"
        },
        "outputId": "bd5fb151-273f-4cc3-aee3-79fbbd8af8d5"
      },
      "source": [
        "new_df.isna().sum()"
      ],
      "execution_count": 16,
      "outputs": [
        {
          "output_type": "execute_result",
          "data": {
            "text/plain": [
              "TITLE                 67\n",
              "DESCRIPTION       652859\n",
              "BULLET_POINTS     141141\n",
              "BRAND              48588\n",
              "BROWSE_NODE_ID         0\n",
              "Info                   0\n",
              "title                  0\n",
              "dtype: int64"
            ]
          },
          "metadata": {
            "tags": []
          },
          "execution_count": 16
        }
      ]
    },
    {
      "cell_type": "code",
      "metadata": {
        "colab": {
          "base_uri": "https://localhost:8080/",
          "height": 682
        },
        "id": "pUTqHazx5lBU",
        "outputId": "3d19a5cc-d86e-4ea0-d7fd-4ef26c3157af"
      },
      "source": [
        "new_df.head(10)"
      ],
      "execution_count": 30,
      "outputs": [
        {
          "output_type": "execute_result",
          "data": {
            "text/html": [
              "<div>\n",
              "<style scoped>\n",
              "    .dataframe tbody tr th:only-of-type {\n",
              "        vertical-align: middle;\n",
              "    }\n",
              "\n",
              "    .dataframe tbody tr th {\n",
              "        vertical-align: top;\n",
              "    }\n",
              "\n",
              "    .dataframe thead th {\n",
              "        text-align: right;\n",
              "    }\n",
              "</style>\n",
              "<table border=\"1\" class=\"dataframe\">\n",
              "  <thead>\n",
              "    <tr style=\"text-align: right;\">\n",
              "      <th></th>\n",
              "      <th>TITLE</th>\n",
              "      <th>DESCRIPTION</th>\n",
              "      <th>BULLET_POINTS</th>\n",
              "      <th>BRAND</th>\n",
              "      <th>BROWSE_NODE_ID</th>\n",
              "      <th>Info</th>\n",
              "      <th>title</th>\n",
              "    </tr>\n",
              "  </thead>\n",
              "  <tbody>\n",
              "    <tr>\n",
              "      <th>2078681</th>\n",
              "      <td>Nivea Face Sun Block Whitening Cream SPF 50 Pa...</td>\n",
              "      <td>Nivea Sun Fac Sun Block Whitening Cream Spf 50...</td>\n",
              "      <td>NIVEA face SUN Block Whitening Cream SPF 50 PA ++</td>\n",
              "      <td>Nivea</td>\n",
              "      <td>35</td>\n",
              "      <td>Nivea Sun Fac Sun Block Whitening Cream Spf 50...</td>\n",
              "      <td>Nivea Face Sun Block Whitening Cream SPF 50 Pa...</td>\n",
              "    </tr>\n",
              "    <tr>\n",
              "      <th>1125035</th>\n",
              "      <td>ROZVEH Women's Shift Brown Dress</td>\n",
              "      <td>&lt;p&gt;Super Fine Rayon,&amp;nbsp;Brown Floral Print d...</td>\n",
              "      <td>[Material: Super Fine Rayon, Brown Floral Prin...</td>\n",
              "      <td>ROZVEH</td>\n",
              "      <td>1724</td>\n",
              "      <td>&lt;p&gt;Super Fine Rayon,&amp;nbsp;Brown Floral Print d...</td>\n",
              "      <td>ROZVEH Women's Shift Brown Dress</td>\n",
              "    </tr>\n",
              "    <tr>\n",
              "      <th>1928801</th>\n",
              "      <td>Narayan Creation Pashmina Palazzo Suit Dupatta...</td>\n",
              "      <td>Narayan creatins pashmina unstitched palazzo s...</td>\n",
              "      <td>NaN</td>\n",
              "      <td>Generic</td>\n",
              "      <td>465</td>\n",
              "      <td>Narayan creatins pashmina unstitched palazzo s...</td>\n",
              "      <td>Narayan Creation Pashmina Palazzo Suit Dupatta...</td>\n",
              "    </tr>\n",
              "    <tr>\n",
              "      <th>864509</th>\n",
              "      <td>Q-rious Women's Silicon Strap Spagettis/Camiso...</td>\n",
              "      <td>Trendy Q-rious Spagetti with sequin detachable...</td>\n",
              "      <td>[Silicon and Elastic strap option,Detachable S...</td>\n",
              "      <td>Q-rious</td>\n",
              "      <td>2003</td>\n",
              "      <td>Trendy Q-rious Spagetti with sequin detachable...</td>\n",
              "      <td>Q-rious Women's Silicon Strap Spagettis/Camiso...</td>\n",
              "    </tr>\n",
              "    <tr>\n",
              "      <th>1613202</th>\n",
              "      <td>Hanes Men's Pullover EcoSmart Fleece Hooded Sw...</td>\n",
              "      <td>NaN</td>\n",
              "      <td>[Made with a portion of recycled polyester,Pat...</td>\n",
              "      <td>Hanes</td>\n",
              "      <td>3355</td>\n",
              "      <td>nan  [Made with a portion of recycled polyeste...</td>\n",
              "      <td>Hanes Men's Pullover EcoSmart Fleece Hooded Sw...</td>\n",
              "    </tr>\n",
              "    <tr>\n",
              "      <th>1306751</th>\n",
              "      <td>Verca Cotton;Fabric Krishna Bal Gopal Poshak (...</td>\n",
              "      <td>Explore wide range of home décor products from...</td>\n",
              "      <td>[Quality Guaranteed,Easy Return and Exchange,L...</td>\n",
              "      <td>Verca</td>\n",
              "      <td>1287</td>\n",
              "      <td>Explore wide range of home décor products from...</td>\n",
              "      <td>Verca Cotton;Fabric Krishna Bal Gopal Poshak (...</td>\n",
              "    </tr>\n",
              "    <tr>\n",
              "      <th>2031708</th>\n",
              "      <td>EVERWILLOW Girl's Satin Silk Lehenga Choli (Pu...</td>\n",
              "      <td>Pure Satin Silk Lehenga Blouse Set. Featuring ...</td>\n",
              "      <td>[Wash Care : Dry Clean and Hend Wash.,In the P...</td>\n",
              "      <td>EVERWILLOW</td>\n",
              "      <td>5173</td>\n",
              "      <td>Pure Satin Silk Lehenga Blouse Set. Featuring ...</td>\n",
              "      <td>EVERWILLOW Girl's Satin Silk Lehenga Choli (Pu...</td>\n",
              "    </tr>\n",
              "    <tr>\n",
              "      <th>1093990</th>\n",
              "      <td>Vimes All Side Protection Sleek Rubberised Mat...</td>\n",
              "      <td>&lt;p&gt;\"&lt;/p&gt; &lt;p&gt;&lt;strong&gt;Vimes back cover case for ...</td>\n",
              "      <td>[Camera Protection Technology - Introducing Ou...</td>\n",
              "      <td>VIMES</td>\n",
              "      <td>2040</td>\n",
              "      <td>&lt;p&gt;\"&lt;/p&gt; &lt;p&gt;&lt;strong&gt;Vimes back cover case for ...</td>\n",
              "      <td>Vimes All Side Protection Sleek Rubberised Mat...</td>\n",
              "    </tr>\n",
              "    <tr>\n",
              "      <th>2112975</th>\n",
              "      <td>Generic Back Cover Soft Silicon Back Cover for...</td>\n",
              "      <td>This Back Cover Is A Soft Silicon Case.It Is T...</td>\n",
              "      <td>[Perfect Fit,Light Weight,Easy To Apply,Ultrat...</td>\n",
              "      <td>Generic</td>\n",
              "      <td>1045</td>\n",
              "      <td>This Back Cover Is A Soft Silicon Case.It Is T...</td>\n",
              "      <td>Generic Back Cover Soft Silicon Back Cover for...</td>\n",
              "    </tr>\n",
              "    <tr>\n",
              "      <th>1003808</th>\n",
              "      <td>Amante Cotton Padded Underwire Push-Up Plunge ...</td>\n",
              "      <td>NaN</td>\n",
              "      <td>[Padded &amp; wired,Demi cup,Fully adjustable &amp; de...</td>\n",
              "      <td>Amante</td>\n",
              "      <td>773</td>\n",
              "      <td>nan  [Padded &amp; wired,Demi cup,Fully adjustable...</td>\n",
              "      <td>Amante Cotton Padded Underwire Push-Up Plunge ...</td>\n",
              "    </tr>\n",
              "  </tbody>\n",
              "</table>\n",
              "</div>"
            ],
            "text/plain": [
              "                                                     TITLE  ...                                              title\n",
              "2078681  Nivea Face Sun Block Whitening Cream SPF 50 Pa...  ...  Nivea Face Sun Block Whitening Cream SPF 50 Pa...\n",
              "1125035                   ROZVEH Women's Shift Brown Dress  ...                   ROZVEH Women's Shift Brown Dress\n",
              "1928801  Narayan Creation Pashmina Palazzo Suit Dupatta...  ...  Narayan Creation Pashmina Palazzo Suit Dupatta...\n",
              "864509   Q-rious Women's Silicon Strap Spagettis/Camiso...  ...  Q-rious Women's Silicon Strap Spagettis/Camiso...\n",
              "1613202  Hanes Men's Pullover EcoSmart Fleece Hooded Sw...  ...  Hanes Men's Pullover EcoSmart Fleece Hooded Sw...\n",
              "1306751  Verca Cotton;Fabric Krishna Bal Gopal Poshak (...  ...  Verca Cotton;Fabric Krishna Bal Gopal Poshak (...\n",
              "2031708  EVERWILLOW Girl's Satin Silk Lehenga Choli (Pu...  ...  EVERWILLOW Girl's Satin Silk Lehenga Choli (Pu...\n",
              "1093990  Vimes All Side Protection Sleek Rubberised Mat...  ...  Vimes All Side Protection Sleek Rubberised Mat...\n",
              "2112975  Generic Back Cover Soft Silicon Back Cover for...  ...  Generic Back Cover Soft Silicon Back Cover for...\n",
              "1003808  Amante Cotton Padded Underwire Push-Up Plunge ...  ...  Amante Cotton Padded Underwire Push-Up Plunge ...\n",
              "\n",
              "[10 rows x 7 columns]"
            ]
          },
          "metadata": {
            "tags": []
          },
          "execution_count": 30
        }
      ]
    },
    {
      "cell_type": "code",
      "metadata": {
        "colab": {
          "base_uri": "https://localhost:8080/"
        },
        "id": "HIUXXMD47MWE",
        "outputId": "495e23d8-65ad-464f-f6c6-eacae0d6637d"
      },
      "source": [
        "new_df.isna().sum()"
      ],
      "execution_count": 36,
      "outputs": [
        {
          "output_type": "execute_result",
          "data": {
            "text/plain": [
              "TITLE                 67\n",
              "DESCRIPTION            0\n",
              "BULLET_POINTS     141141\n",
              "BRAND              48588\n",
              "BROWSE_NODE_ID         0\n",
              "Info                   0\n",
              "title                  0\n",
              "dtype: int64"
            ]
          },
          "metadata": {
            "tags": []
          },
          "execution_count": 36
        }
      ]
    },
    {
      "cell_type": "code",
      "metadata": {
        "id": "jT-0l8H2536M"
      },
      "source": [
        "import re\n",
        "\n",
        "def cleanhtml(raw_html):\n",
        "  cleanr = re.compile('<.*?>')\n",
        "  cleantext = re.sub(cleanr, '', raw_html)\n",
        "  return cleantext"
      ],
      "execution_count": 31,
      "outputs": []
    },
    {
      "cell_type": "code",
      "metadata": {
        "colab": {
          "base_uri": "https://localhost:8080/"
        },
        "id": "CE9msoyK57Aa",
        "outputId": "7d7124b2-c372-4817-d3f5-ca5303e04f7f"
      },
      "source": [
        "new_df['DESCRIPTION'] = new_df['DESCRIPTION'].astype(str).apply(lambda x: cleanhtml(x))"
      ],
      "execution_count": 34,
      "outputs": [
        {
          "output_type": "stream",
          "text": [
            "/usr/local/lib/python3.7/dist-packages/ipykernel_launcher.py:1: SettingWithCopyWarning: \n",
            "A value is trying to be set on a copy of a slice from a DataFrame.\n",
            "Try using .loc[row_indexer,col_indexer] = value instead\n",
            "\n",
            "See the caveats in the documentation: https://pandas.pydata.org/pandas-docs/stable/user_guide/indexing.html#returning-a-view-versus-a-copy\n",
            "  \"\"\"Entry point for launching an IPython kernel.\n"
          ],
          "name": "stderr"
        }
      ]
    },
    {
      "cell_type": "code",
      "metadata": {
        "colab": {
          "base_uri": "https://localhost:8080/"
        },
        "id": "keJUvhK96Klr",
        "outputId": "11d5578f-6b4c-4d85-ec4f-f0495863d026"
      },
      "source": [
        "new_df['DESCRIPTION']"
      ],
      "execution_count": 35,
      "outputs": [
        {
          "output_type": "execute_result",
          "data": {
            "text/plain": [
              "2078681    Nivea Sun Fac Sun Block Whitening Cream Spf 50...\n",
              "1125035    Super Fine Rayon,&nbsp;Brown Floral Print dres...\n",
              "1928801    Narayan creatins pashmina unstitched palazzo s...\n",
              "864509     Trendy Q-rious Spagetti with sequin detachable...\n",
              "1613202                                                  nan\n",
              "                                 ...                        \n",
              "732180     SPORTO FITNESSTM Flat Bench Workout Utility Be...\n",
              "110268                                                   nan\n",
              "1692743    SOFT FOAM PLAYMAT: Extra-cushioned, soft PE fo...\n",
              "2229084                                                  nan\n",
              "2768307                                                  nan\n",
              "Name: DESCRIPTION, Length: 2579890, dtype: object"
            ]
          },
          "metadata": {
            "tags": []
          },
          "execution_count": 35
        }
      ]
    },
    {
      "cell_type": "code",
      "metadata": {
        "id": "RseWvrAQEW-h",
        "colab": {
          "base_uri": "https://localhost:8080/"
        },
        "outputId": "fc66ed3f-3cd4-4e51-e386-a7e6024eb493"
      },
      "source": [
        "# Getting the info and title data \n",
        "train_desc = new_df['DESCRIPTION'].to_numpy()\n",
        "train_info = new_df['Info'].to_numpy()\n",
        "train_title = new_df['title'].to_numpy()\n",
        "labels = new_df['BROWSE_NODE_ID'].to_numpy()\n",
        "\n",
        "len(train_info) , len(train_title) , len(labels)"
      ],
      "execution_count": 37,
      "outputs": [
        {
          "output_type": "execute_result",
          "data": {
            "text/plain": [
              "(2579890, 2579890, 2579890)"
            ]
          },
          "metadata": {
            "tags": []
          },
          "execution_count": 37
        }
      ]
    },
    {
      "cell_type": "code",
      "metadata": {
        "colab": {
          "base_uri": "https://localhost:8080/"
        },
        "id": "V1bI3GY28GXm",
        "outputId": "cd2357ac-00b4-4323-a03f-cfb92f70484f"
      },
      "source": [
        "len(train_desc) / 4"
      ],
      "execution_count": 41,
      "outputs": [
        {
          "output_type": "execute_result",
          "data": {
            "text/plain": [
              "644972.5"
            ]
          },
          "metadata": {
            "tags": []
          },
          "execution_count": 41
        }
      ]
    },
    {
      "cell_type": "code",
      "metadata": {
        "colab": {
          "base_uri": "https://localhost:8080/"
        },
        "id": "WPRRlN2d7sNn",
        "outputId": "debb2b47-dbff-438a-b80c-ac2079a5ba5f"
      },
      "source": [
        "output_seq_len = int(np.percentile(sent_lens , 95))\n",
        "output_seq_len"
      ],
      "execution_count": 39,
      "outputs": [
        {
          "output_type": "execute_result",
          "data": {
            "text/plain": [
              "226"
            ]
          },
          "metadata": {
            "tags": []
          },
          "execution_count": 39
        }
      ]
    },
    {
      "cell_type": "code",
      "metadata": {
        "id": "WiyIVAz77sSG"
      },
      "source": [
        "sent_lens = [len(sentence.split()) for sentence in train_desc]\n",
        "avg_sent_lens = np.mean(sent_lens)\n"
      ],
      "execution_count": 38,
      "outputs": []
    },
    {
      "cell_type": "code",
      "metadata": {
        "id": "bAfIrWhB7atF"
      },
      "source": [
        "# Create text vectorizer\n",
        "from tensorflow.keras.layers.experimental.preprocessing import TextVectorization\n",
        "\n",
        "text_vectorizer = TextVectorization(max_tokens= 3000, # number of words in vocabulary\n",
        "                                    output_sequence_length= 225) # desired output length of vectorized sequences\n"
      ],
      "execution_count": 40,
      "outputs": []
    },
    {
      "cell_type": "code",
      "metadata": {
        "id": "6pspVF1a7_9e"
      },
      "source": [
        "text_vectorizer.adapt(train_desc[:644972])"
      ],
      "execution_count": 42,
      "outputs": []
    },
    {
      "cell_type": "code",
      "metadata": {
        "id": "4iVRNYj69mZr"
      },
      "source": [
        "import string\n",
        "alphabet = string.ascii_lowercase + string.digits + string.punctuation\n",
        "\n",
        "NUM_CHAR_TOKENS = len(alphabet) + 2"
      ],
      "execution_count": 44,
      "outputs": []
    },
    {
      "cell_type": "code",
      "metadata": {
        "id": "-E92sBI19Lhs"
      },
      "source": [
        "# Embedding layer \n",
        "embed = layers.Embedding(input_dim = NUM_CHAR_TOKENS , \n",
        "                         output_dim = 25, \n",
        "                         mask_zero = True , \n",
        "                         name = 'desc_embed')\n"
      ],
      "execution_count": 63,
      "outputs": []
    },
    {
      "cell_type": "code",
      "metadata": {
        "id": "rF7tG-CCE3sq"
      },
      "source": [
        "# Building a dataset combining both info and title \n",
        "train_ds = tf.data.Dataset.from_tensor_slices((train_title , train_desc))\n",
        "label_ds = tf.data.Dataset.from_tensor_slices(labels)\n",
        "\n",
        "# Combining the above two ds \n",
        "train_mult_ds = tf.data.Dataset.zip((train_ds , label_ds))\n",
        "\n",
        "# Applying prefetch and batching the dataset \n",
        "train_mult_ds = train_mult_ds.batch(32).prefetch(tf.data.AUTOTUNE)"
      ],
      "execution_count": 57,
      "outputs": []
    },
    {
      "cell_type": "code",
      "metadata": {
        "id": "7relCXWsE3xl",
        "colab": {
          "base_uri": "https://localhost:8080/"
        },
        "outputId": "6e801d8a-f86d-457a-93d5-1062348d46ca"
      },
      "source": [
        "# Looking at the dataset \n",
        "train_mult_ds"
      ],
      "execution_count": 58,
      "outputs": [
        {
          "output_type": "execute_result",
          "data": {
            "text/plain": [
              "<PrefetchDataset shapes: (((None,), (None,)), (None,)), types: ((tf.string, tf.string), tf.int64)>"
            ]
          },
          "metadata": {
            "tags": []
          },
          "execution_count": 58
        }
      ]
    },
    {
      "cell_type": "code",
      "metadata": {
        "id": "4piavshseLiV",
        "colab": {
          "base_uri": "https://localhost:8080/"
        },
        "outputId": "67bd079f-3c8d-4790-8540-11f4a1aef8f9"
      },
      "source": [
        "# Turn on mixed precision training\n",
        "from tensorflow.keras import mixed_precision\n",
        "mixed_precision.set_global_policy(policy=\"mixed_float16\") "
      ],
      "execution_count": 20,
      "outputs": [
        {
          "output_type": "stream",
          "text": [
            "INFO:tensorflow:Mixed precision compatibility check (mixed_float16): OK\n",
            "Your GPU will likely run quickly with dtype policy mixed_float16 as it has compute capability of at least 7.0. Your GPU: Tesla V100-SXM2-16GB, compute capability 7.0\n"
          ],
          "name": "stdout"
        }
      ]
    },
    {
      "cell_type": "markdown",
      "metadata": {
        "id": "znS14k_GHYVe"
      },
      "source": [
        "Now building the multi input models for our `Info` and the `title` columns\n"
      ]
    },
    {
      "cell_type": "code",
      "metadata": {
        "id": "3IiUKV1CIeRt"
      },
      "source": [
        "from tensorflow.keras import layers"
      ],
      "execution_count": 21,
      "outputs": []
    },
    {
      "cell_type": "code",
      "metadata": {
        "id": "o_AeN7Ywg6WJ"
      },
      "source": [
        "# Loading in the hub layers\n",
        "token_layer = hub.KerasLayer('https://tfhub.dev/google/nnlm-en-dim128-with-normalization/2' , trainable = False)\n",
        "base_layer = hub.KerasLayer('https://tfhub.dev/google/universal-sentence-encoder/4',trainable = False)\n",
        "nm_layer = hub.KerasLayer('https://tfhub.dev/google/nnlm-en-dim128/2', trainable= True)"
      ],
      "execution_count": 23,
      "outputs": []
    },
    {
      "cell_type": "code",
      "metadata": {
        "id": "1WRGj0lcHYbG",
        "colab": {
          "base_uri": "https://localhost:8080/"
        },
        "outputId": "569d9d3b-3ed5-458f-a871-ae4f26d5e3d8"
      },
      "source": [
        "# Setting up input/output for title \n",
        "title_inputs = layers.Input(shape = [] , dtype = tf.string , name = 'title_input')\n",
        "title_embed = nm_layer(title_inputs)\n",
        "title_outputs = layers.Dense(128 , activation = 'relu')(title_embed)\n",
        "title_model = tf.keras.Model(inputs = title_inputs , outputs = title_outputs)\n",
        "\n",
        "\n",
        "\n",
        "# Setting up input/outputs for info \n",
        "info_inputs = layers.Input(shape = [] , dtype= tf.string , name = 'Info_input')\n",
        "# vect = text_vectorizer(info_inputs)\n",
        "# embed_layer = embed(vect)\n",
        "#bi_lstm = layers.Bidirectional(layers.LSTM(25))(embed_layer) \n",
        "info_embed = base_layer(info_inputs)\n",
        "#info_lstm = layers.LSTM(50 , activation= 'tanh')(embed_layer)\n",
        "info_outputs = layers.Dense(128 , activation = 'relu')(info_embed)\n",
        "info_model = tf.keras.Model(inputs = info_inputs , outputs = info_outputs)\n",
        "\n",
        "\n",
        "# Concatenating title and info inputs (hybrid)\n",
        "title_info_concat = layers.Concatenate(name = 'title_info_hybrid')([title_model.output , info_model.output])\n",
        "\n",
        "\n",
        "# Creating output layer \n",
        "#com_dropout = layers.Dropout(0.5)(title_info_concat)\n",
        "com_dense = layers.Dense(264 , activation= 'relu')(title_info_concat)\n",
        "x = layers.Dense(128 , activation= 'relu')(com_dense)\n",
        "output_layer = layers.Dense(len(train_sample.BROWSE_NODE_ID.value_counts()))(x)\n",
        "output_activation = layers.Activation('softmax' , dtype = tf.float32 , name='softmax_float32')(output_layer)\n",
        "\n",
        "\n",
        "\n",
        "# Constructing model with title and info inputs \n",
        "mult_model = tf.keras.Model(inputs = [title_model.input , info_model.input], \n",
        "                            outputs = output_activation , name = 'multi_input_model_1')\n",
        "\n",
        "# Summary of the model \n",
        "mult_model.summary()"
      ],
      "execution_count": 84,
      "outputs": [
        {
          "output_type": "stream",
          "text": [
            "Model: \"multi_input_model_1\"\n",
            "__________________________________________________________________________________________________\n",
            "Layer (type)                    Output Shape         Param #     Connected to                     \n",
            "==================================================================================================\n",
            "title_input (InputLayer)        [(None,)]            0                                            \n",
            "__________________________________________________________________________________________________\n",
            "Info_input (InputLayer)         [(None,)]            0                                            \n",
            "__________________________________________________________________________________________________\n",
            "keras_layer_2 (KerasLayer)      (None, 128)          124642688   title_input[0][0]                \n",
            "__________________________________________________________________________________________________\n",
            "keras_layer_1 (KerasLayer)      (None, 512)          256797824   Info_input[0][0]                 \n",
            "__________________________________________________________________________________________________\n",
            "dense_51 (Dense)                (None, 128)          16512       keras_layer_2[3][0]              \n",
            "__________________________________________________________________________________________________\n",
            "dense_52 (Dense)                (None, 128)          65664       keras_layer_1[19][0]             \n",
            "__________________________________________________________________________________________________\n",
            "title_info_hybrid (Concatenate) (None, 256)          0           dense_51[0][0]                   \n",
            "                                                                 dense_52[0][0]                   \n",
            "__________________________________________________________________________________________________\n",
            "dense_53 (Dense)                (None, 264)          67848       title_info_hybrid[0][0]          \n",
            "__________________________________________________________________________________________________\n",
            "dense_54 (Dense)                (None, 128)          33920       dense_53[0][0]                   \n",
            "__________________________________________________________________________________________________\n",
            "dense_55 (Dense)                (None, 9919)         1279551     dense_54[0][0]                   \n",
            "__________________________________________________________________________________________________\n",
            "softmax_float32 (Activation)    (None, 9919)         0           dense_55[0][0]                   \n",
            "==================================================================================================\n",
            "Total params: 382,904,007\n",
            "Trainable params: 126,106,183\n",
            "Non-trainable params: 256,797,824\n",
            "__________________________________________________________________________________________________\n"
          ],
          "name": "stdout"
        }
      ]
    },
    {
      "cell_type": "code",
      "metadata": {
        "id": "GgE54VaHOYlf"
      },
      "source": [
        "import tensorflow as tf "
      ],
      "execution_count": 85,
      "outputs": []
    },
    {
      "cell_type": "code",
      "metadata": {
        "id": "fCHvndq9M0v5",
        "colab": {
          "base_uri": "https://localhost:8080/",
          "height": 758
        },
        "outputId": "54e969e3-99c2-4a0f-a377-177907a3a67e"
      },
      "source": [
        "# Plot hybrid title and info model\n",
        "from keras.utils.vis_utils import plot_model\n",
        "plot_model(mult_model)"
      ],
      "execution_count": 86,
      "outputs": [
        {
          "output_type": "execute_result",
          "data": {
            "image/png": "[encoded data removed]",
            "text/plain": [
              "<IPython.core.display.Image object>"
            ]
          },
          "metadata": {
            "tags": []
          },
          "execution_count": 86
        }
      ]
    },
    {
      "cell_type": "code",
      "metadata": {
        "id": "jt2vXpaQ_ayF"
      },
      "source": [
        "# Creating learning rate reduction callback\n",
        "reduce_lr = tf.keras.callbacks.ReduceLROnPlateau(monitor=\"accuracy\",  \n",
        "                                                 factor= 0.5,\n",
        "                                                 patience=1,\n",
        "                                                 verbose=1, \n",
        "                                                 min_lr=1e-7, \n",
        "                                                 )\n",
        "\n"
      ],
      "execution_count": 112,
      "outputs": []
    },
    {
      "cell_type": "code",
      "metadata": {
        "id": "A7e5pAbCMFjU"
      },
      "source": [
        "# Compile the model \n",
        "mult_model.compile(loss = tf.keras.losses.SparseCategoricalCrossentropy(),  \n",
        "              optimizer = tf.keras.optimizers.Adam(), \n",
        "              metrics = ['accuracy'])"
      ],
      "execution_count": 88,
      "outputs": []
    },
    {
      "cell_type": "code",
      "metadata": {
        "id": "wdP-DJvRHYgA",
        "colab": {
          "base_uri": "https://localhost:8080/"
        },
        "outputId": "cdc808e5-b627-4562-fc92-ccee6e4983c0"
      },
      "source": [
        "# Fit the model \n",
        "mult_history = mult_model.fit(train_mult_ds , \n",
        "                              steps_per_epoch = int(0.3 * len(train_mult_ds)),\n",
        "                              epochs = 5 , \n",
        "                              callbacks = [reduce_lr])"
      ],
      "execution_count": 89,
      "outputs": [
        {
          "output_type": "stream",
          "text": [
            "Epoch 1/5\n"
          ],
          "name": "stdout"
        },
        {
          "output_type": "stream",
          "text": [
            "/usr/local/lib/python3.7/dist-packages/tensorflow/python/framework/indexed_slices.py:449: UserWarning: Converting sparse IndexedSlices(IndexedSlices(indices=Tensor(\"Adam/gradients/PartitionedCall:1\", shape=(None,), dtype=int64), values=Tensor(\"mul_2:0\", shape=(None, 128), dtype=float32), dense_shape=Tensor(\"Adam/gradients/PartitionedCall:2\", shape=(2,), dtype=int32))) to a dense Tensor of unknown shape. This may consume a large amount of memory.\n",
            "  \"shape. This may consume a large amount of memory.\" % value)\n"
          ],
          "name": "stderr"
        },
        {
          "output_type": "stream",
          "text": [
            "24186/24186 [==============================] - 963s 40ms/step - loss: 1.9963 - accuracy: 0.6110\n",
            "Epoch 2/5\n",
            "24186/24186 [==============================] - 957s 40ms/step - loss: 1.2741 - accuracy: 0.7216\n",
            "Epoch 3/5\n",
            "24186/24186 [==============================] - 953s 39ms/step - loss: 1.1865 - accuracy: 0.7389\n",
            "Epoch 4/5\n",
            " 8063/24186 [=========>....................] - ETA: 10:36 - loss: 1.1585 - accuracy: 0.7451WARNING:tensorflow:Your input ran out of data; interrupting training. Make sure that your dataset or generator can generate at least `steps_per_epoch * epochs` batches (in this case, 120930 batches). You may need to use the repeat() function when building your dataset.\n"
          ],
          "name": "stdout"
        },
        {
          "output_type": "stream",
          "text": [
            "WARNING:tensorflow:Your input ran out of data; interrupting training. Make sure that your dataset or generator can generate at least `steps_per_epoch * epochs` batches (in this case, 120930 batches). You may need to use the repeat() function when building your dataset.\n"
          ],
          "name": "stderr"
        },
        {
          "output_type": "stream",
          "text": [
            "\b\b\b\b\b\b\b\b\b\b\b\b\b\b\b\b\b\b\b\b\b\b\b\b\b\b\b\b\b\b\b\b\b\b\b\b\b\b\b\b\b\b\b\b\b\b\b\b\b\b\b\b\b\b\b\b\b\b\b\b\b\b\b\b\b\b\b\b\b\b\b\b\b\b\b\b\b\b\b\b\b\b\b\b\b\b\b\b\b\b\b\r24186/24186 [==============================] - 318s 13ms/step - loss: 1.1585 - accuracy: 0.7451\n"
          ],
          "name": "stdout"
        }
      ]
    },
    {
      "cell_type": "code",
      "metadata": {
        "id": "NPgMdhi2JUJF",
        "colab": {
          "base_uri": "https://localhost:8080/"
        },
        "outputId": "ab255f7e-1853-4d37-ccf6-27f7111a4fff"
      },
      "source": [
        "test_data.isna().sum()"
      ],
      "execution_count": 90,
      "outputs": [
        {
          "output_type": "execute_result",
          "data": {
            "text/plain": [
              "PRODUCT_ID           0\n",
              "TITLE                7\n",
              "DESCRIPTION      10469\n",
              "BULLET_POINTS     6786\n",
              "BRAND             2430\n",
              "dtype: int64"
            ]
          },
          "metadata": {
            "tags": []
          },
          "execution_count": 90
        }
      ]
    },
    {
      "cell_type": "code",
      "metadata": {
        "id": "LTDiaOOxTBwd",
        "colab": {
          "base_uri": "https://localhost:8080/"
        },
        "outputId": "dbc262d6-0d80-47e4-b78f-c678a3b790dd"
      },
      "source": [
        "test_data['DESCRIPTION'] = test_data['DESCRIPTION'].astype(str).apply(lambda x: cleanhtml(x))\n",
        "test_data['TITLE'] = test_data['TITLE'].astype(str) \n",
        "\n",
        "test_desc = test_data['DESCRIPTION'].to_numpy()\n",
        "test_title = test_data['TITLE'].to_numpy()\n",
        "\n",
        "test_dataset = tf.data.Dataset.from_tensor_slices((test_title , test_desc))\n",
        "test_dataset"
      ],
      "execution_count": 92,
      "outputs": [
        {
          "output_type": "execute_result",
          "data": {
            "text/plain": [
              "<TensorSliceDataset shapes: ((), ()), types: (tf.string, tf.string)>"
            ]
          },
          "metadata": {
            "tags": []
          },
          "execution_count": 92
        }
      ]
    },
    {
      "cell_type": "code",
      "metadata": {
        "id": "KbvrlSr_RfRf"
      },
      "source": [
        "inputs = tf.keras.layers.Input(shape = (), dtype = tf.string)\n",
        "x = base_layer(inputs)\n",
        "#x = tf.keras.layers.Dense(264, activation = 'relu')(x)\n",
        "x = tf.keras.layers.Dense(64, activation= 'relu')(x)\n",
        "x  = tf.keras.layers.Dropout(0.3)(x)\n",
        "outputs = tf.keras.layers.Dense(len(train_sample.BROWSE_NODE_ID.value_counts()), activation ='softmax')(x)\n",
        "model = tf.keras.Model(inputs, outputs)"
      ],
      "execution_count": null,
      "outputs": []
    },
    {
      "cell_type": "code",
      "metadata": {
        "colab": {
          "base_uri": "https://localhost:8080/"
        },
        "id": "wvAuC5nOWjKe",
        "outputId": "72483ac7-b3f5-4e23-d532-28037ae6ceec"
      },
      "source": [
        "model.summary()"
      ],
      "execution_count": null,
      "outputs": [
        {
          "output_type": "stream",
          "text": [
            "Model: \"model\"\n",
            "_________________________________________________________________\n",
            "Layer (type)                 Output Shape              Param #   \n",
            "=================================================================\n",
            "input_1 (InputLayer)         [(None,)]                 0         \n",
            "_________________________________________________________________\n",
            "keras_layer (KerasLayer)     (None, 512)               256797824 \n",
            "_________________________________________________________________\n",
            "dense (Dense)                (None, 64)                32832     \n",
            "_________________________________________________________________\n",
            "dropout (Dropout)            (None, 64)                0         \n",
            "_________________________________________________________________\n",
            "dense_1 (Dense)              (None, 9919)              644735    \n",
            "=================================================================\n",
            "Total params: 257,475,391\n",
            "Trainable params: 677,567\n",
            "Non-trainable params: 256,797,824\n",
            "_________________________________________________________________\n"
          ],
          "name": "stdout"
        }
      ]
    },
    {
      "cell_type": "code",
      "metadata": {
        "id": "0iMi94ZLRRhg",
        "colab": {
          "base_uri": "https://localhost:8080/",
          "height": 589
        },
        "outputId": "060b3753-c629-49bb-a3a4-c5412628e251"
      },
      "source": [
        "train_data"
      ],
      "execution_count": null,
      "outputs": [
        {
          "output_type": "execute_result",
          "data": {
            "text/html": [
              "<div>\n",
              "<style scoped>\n",
              "    .dataframe tbody tr th:only-of-type {\n",
              "        vertical-align: middle;\n",
              "    }\n",
              "\n",
              "    .dataframe tbody tr th {\n",
              "        vertical-align: top;\n",
              "    }\n",
              "\n",
              "    .dataframe thead th {\n",
              "        text-align: right;\n",
              "    }\n",
              "</style>\n",
              "<table border=\"1\" class=\"dataframe\">\n",
              "  <thead>\n",
              "    <tr style=\"text-align: right;\">\n",
              "      <th></th>\n",
              "      <th>TITLE</th>\n",
              "      <th>DESCRIPTION</th>\n",
              "      <th>BULLET_POINTS</th>\n",
              "      <th>BRAND</th>\n",
              "      <th>BROWSE_NODE_ID</th>\n",
              "    </tr>\n",
              "  </thead>\n",
              "  <tbody>\n",
              "    <tr>\n",
              "      <th>0</th>\n",
              "      <td>Pete The Cat Bedtime Blues Doll, 14.5 Inch</td>\n",
              "      <td>Pete the Cat is the coolest, most popular cat ...</td>\n",
              "      <td>[Pete the Cat Bedtime Blues plush doll,Based o...</td>\n",
              "      <td>MerryMakers</td>\n",
              "      <td>0</td>\n",
              "    </tr>\n",
              "    <tr>\n",
              "      <th>1</th>\n",
              "      <td>The New Yorker NYHM014 Refrigerator Magnet, 2 ...</td>\n",
              "      <td>The New Yorker Handsome Cello Wrapped Hard Mag...</td>\n",
              "      <td>[Cat In A Tea Cup by New Yorker cover artist G...</td>\n",
              "      <td>The New Yorker</td>\n",
              "      <td>1</td>\n",
              "    </tr>\n",
              "    <tr>\n",
              "      <th>2</th>\n",
              "      <td>The Ultimate Self-Sufficiency Handbook: A Comp...</td>\n",
              "      <td>NaN</td>\n",
              "      <td>Skyhorse Publishing</td>\n",
              "      <td>imusti</td>\n",
              "      <td>2</td>\n",
              "    </tr>\n",
              "    <tr>\n",
              "      <th>3</th>\n",
              "      <td>Amway Nutrilite Kids Chewable Iron Tablets (100)</td>\n",
              "      <td>NaN</td>\n",
              "      <td>[Nutrilite Kids,Chewable Iron Tablets,Quantity...</td>\n",
              "      <td>Amway</td>\n",
              "      <td>3</td>\n",
              "    </tr>\n",
              "    <tr>\n",
              "      <th>4</th>\n",
              "      <td>Teacher Planner Company A4 6 Lesson Academic T...</td>\n",
              "      <td>NaN</td>\n",
              "      <td>NaN</td>\n",
              "      <td>NaN</td>\n",
              "      <td>4</td>\n",
              "    </tr>\n",
              "    <tr>\n",
              "      <th>...</th>\n",
              "      <td>...</td>\n",
              "      <td>...</td>\n",
              "      <td>...</td>\n",
              "      <td>...</td>\n",
              "      <td>...</td>\n",
              "    </tr>\n",
              "    <tr>\n",
              "      <th>2903019</th>\n",
              "      <td>Premium Aviator Sunglasses - HD Polarized (Bri...</td>\n",
              "      <td>These premium Aviator Sunglasses with 5 color ...</td>\n",
              "      <td>[Frame size: Lens height - 56mm, Lens width - ...</td>\n",
              "      <td>Generic</td>\n",
              "      <td>1040</td>\n",
              "    </tr>\n",
              "    <tr>\n",
              "      <th>2903020</th>\n",
              "      <td>Social Distance Stickers - Set of 5 Sticker Sl...</td>\n",
              "      <td>set of 5 prints social distancing sticker self...</td>\n",
              "      <td>[covid19 safety sticker - set of 5 to maintain...</td>\n",
              "      <td>Generic</td>\n",
              "      <td>15199</td>\n",
              "    </tr>\n",
              "    <tr>\n",
              "      <th>2903021</th>\n",
              "      <td>Torr-to Face Shield PACK OF 5 with Adjustable ...</td>\n",
              "      <td>* COMPLETE FACE PROTECTION: Torr-to Face Shiel...</td>\n",
              "      <td>[350 MICRONS PACK OF 5 PCS,COMPLETE FACE PROTE...</td>\n",
              "      <td>TORR-TO</td>\n",
              "      <td>1044933</td>\n",
              "    </tr>\n",
              "    <tr>\n",
              "      <th>2903022</th>\n",
              "      <td>Type-C to 3.5 MM for Oppo R17 Pro Type-C to 3....</td>\n",
              "      <td>Still want to use your favorite earphones/head...</td>\n",
              "      <td>[Indian Connectors: Made for Indian sockets, t...</td>\n",
              "      <td>SHOPBELL</td>\n",
              "      <td>14790</td>\n",
              "    </tr>\n",
              "    <tr>\n",
              "      <th>2903023</th>\n",
              "      <td>KNG Orange Polo Tshirt (38)</td>\n",
              "      <td>Performance inspired by comfort. The polo shir...</td>\n",
              "      <td>NaN</td>\n",
              "      <td>KNG</td>\n",
              "      <td>1213</td>\n",
              "    </tr>\n",
              "  </tbody>\n",
              "</table>\n",
              "<p>2903024 rows × 5 columns</p>\n",
              "</div>"
            ],
            "text/plain": [
              "                                                     TITLE  ... BROWSE_NODE_ID\n",
              "0               Pete The Cat Bedtime Blues Doll, 14.5 Inch  ...              0\n",
              "1        The New Yorker NYHM014 Refrigerator Magnet, 2 ...  ...              1\n",
              "2        The Ultimate Self-Sufficiency Handbook: A Comp...  ...              2\n",
              "3         Amway Nutrilite Kids Chewable Iron Tablets (100)  ...              3\n",
              "4        Teacher Planner Company A4 6 Lesson Academic T...  ...              4\n",
              "...                                                    ...  ...            ...\n",
              "2903019  Premium Aviator Sunglasses - HD Polarized (Bri...  ...           1040\n",
              "2903020  Social Distance Stickers - Set of 5 Sticker Sl...  ...          15199\n",
              "2903021  Torr-to Face Shield PACK OF 5 with Adjustable ...  ...        1044933\n",
              "2903022  Type-C to 3.5 MM for Oppo R17 Pro Type-C to 3....  ...          14790\n",
              "2903023                        KNG Orange Polo Tshirt (38)  ...           1213\n",
              "\n",
              "[2903024 rows x 5 columns]"
            ]
          },
          "metadata": {
            "tags": []
          },
          "execution_count": 14
        }
      ]
    },
    {
      "cell_type": "code",
      "metadata": {
        "id": "7H_v5jUVWog_"
      },
      "source": [
        "model.compile(loss = tf.keras.losses.SparseCategoricalCrossentropy(),  \n",
        "              optimizer = tf.keras.optimizers.Adam(), \n",
        "              metrics = ['accuracy'])"
      ],
      "execution_count": null,
      "outputs": []
    },
    {
      "cell_type": "code",
      "metadata": {
        "id": "xeHWGSM0Rcg0",
        "colab": {
          "base_uri": "https://localhost:8080/"
        },
        "outputId": "eb554d23-7379-4672-858e-a2844a0657c7"
      },
      "source": [
        "y_ds = tf.data.Dataset.from_tensors(train_sample['BROWSE_NODE_ID'].to_numpy())\n",
        "y_ds"
      ],
      "execution_count": null,
      "outputs": [
        {
          "output_type": "execute_result",
          "data": {
            "text/plain": [
              "<TensorDataset shapes: (2903024,), types: tf.int64>"
            ]
          },
          "metadata": {
            "tags": []
          },
          "execution_count": 44
        }
      ]
    },
    {
      "cell_type": "code",
      "metadata": {
        "id": "F5XmU8brR9Br",
        "colab": {
          "base_uri": "https://localhost:8080/"
        },
        "outputId": "2116794b-1b01-4540-aa73-0a94d9f4c3e9"
      },
      "source": [
        "x_ds = tf.data.Dataset.from_tensors(train_sample['title'].to_numpy())\n",
        "x_ds"
      ],
      "execution_count": null,
      "outputs": [
        {
          "output_type": "execute_result",
          "data": {
            "text/plain": [
              "<TensorDataset shapes: (2903024,), types: tf.string>"
            ]
          },
          "metadata": {
            "tags": []
          },
          "execution_count": 45
        }
      ]
    },
    {
      "cell_type": "code",
      "metadata": {
        "id": "9hs4UonJSFdQ"
      },
      "source": [
        "new_ds = tf.data.Dataset.zip((x_ds , y_ds))"
      ],
      "execution_count": null,
      "outputs": []
    },
    {
      "cell_type": "code",
      "metadata": {
        "id": "7q0Xn_sASPgT",
        "colab": {
          "base_uri": "https://localhost:8080/"
        },
        "outputId": "d60e2c04-4f65-4d47-8ba1-26109f352091"
      },
      "source": [
        "new_ds"
      ],
      "execution_count": null,
      "outputs": [
        {
          "output_type": "execute_result",
          "data": {
            "text/plain": [
              "<ZipDataset shapes: ((2903024,), (2903024,)), types: (tf.string, tf.int64)>"
            ]
          },
          "metadata": {
            "tags": []
          },
          "execution_count": 48
        }
      ]
    },
    {
      "cell_type": "code",
      "metadata": {
        "id": "1NLn6wmOfvfF"
      },
      "source": [
        "train_dataset= tf.data.Dataset.from_tensor_slices((new_df['title'].values, new_df['BROWSE_NODE_ID'].to_numpy()))\n"
      ],
      "execution_count": null,
      "outputs": []
    },
    {
      "cell_type": "code",
      "metadata": {
        "colab": {
          "base_uri": "https://localhost:8080/"
        },
        "id": "KlRagHIy05t-",
        "outputId": "e7b9e180-019f-40fd-c64f-9c2ada458ce1"
      },
      "source": [
        "train_dataset = train_dataset.shuffle(buffer_size= 1000).batch(batch_size = 32).prefetch(tf.data.AUTOTUNE)\n",
        "train_dataset"
      ],
      "execution_count": null,
      "outputs": [
        {
          "output_type": "execute_result",
          "data": {
            "text/plain": [
              "<PrefetchDataset shapes: ((None,), (None,)), types: (tf.string, tf.int64)>"
            ]
          },
          "metadata": {
            "tags": []
          },
          "execution_count": 15
        }
      ]
    },
    {
      "cell_type": "code",
      "metadata": {
        "id": "O6qQ09Kig9Tf",
        "colab": {
          "base_uri": "https://localhost:8080/"
        },
        "outputId": "2e9f7487-ced4-4993-eddf-ba9d6d7acdfc"
      },
      "source": [
        "for text , lab in train_dataset.take(1):\n",
        "  print(text)\n",
        "  print(lab)"
      ],
      "execution_count": null,
      "outputs": [
        {
          "output_type": "stream",
          "text": [
            "tf.Tensor(\n",
            "[[b'Amsik\\xc2\\xaeBlind Spot Round Mirror Black, (Real Glass Made, 2 Pcs/Set) for Toyota Fortuner'\n",
            "  b'Nivea Face Sun Block Whitening Cream SPF 50 Pa ++ Made in Thailand'\n",
            "  b\"ROZVEH Women's Shift Brown Dress\" ...\n",
            "  b\"SOCH Women's Cotton Straight Kurta NC KT 4402-BLACK-CREAM_Black_Small\"\n",
            "  b'Kuber Industries 100 Percent Cotton 144 TC Single Bed Sheet with 1 Pillow Covers (Light Green), CTKTC13535'\n",
            "  b'MEDHA D.J. PLUS Professional SSA-250 Karoke PA Amplifier 6 Mic Input, 2 Aux, FM/USB Player with Bluetooth (250W RMS)']], shape=(1, 2903024), dtype=string)\n",
            "tf.Tensor([[32296    35  1724 ...  1251  1084 45027]], shape=(1, 2903024), dtype=int64)\n"
          ],
          "name": "stdout"
        }
      ]
    },
    {
      "cell_type": "code",
      "metadata": {
        "id": "c5PivVj6W6wF",
        "colab": {
          "base_uri": "https://localhost:8080/"
        },
        "outputId": "5eb9e54c-b48b-4aac-b60c-2c8e119b7299"
      },
      "source": [
        "first_model = model.fit(train_dataset,\n",
        "                        epochs = 2)"
      ],
      "execution_count": null,
      "outputs": [
        {
          "output_type": "stream",
          "text": [
            "Epoch 1/2\n",
            "80622/80622 [==============================] - 794s 10ms/step - loss: 2.0750 - accuracy: 0.5622\n",
            "Epoch 2/2\n",
            "80622/80622 [==============================] - 786s 10ms/step - loss: 1.8526 - accuracy: 0.5984\n"
          ],
          "name": "stdout"
        }
      ]
    },
    {
      "cell_type": "code",
      "metadata": {
        "id": "CIG_JOZzy2KY"
      },
      "source": [
        "test_dataset = test_dataset.batch(32).prefetch(tf.data.AUTOTUNE)"
      ],
      "execution_count": 97,
      "outputs": []
    },
    {
      "cell_type": "code",
      "metadata": {
        "id": "pUtfoH3Wy2bH"
      },
      "source": [
        "# test_data = pd.read_csv(test_path , escapechar = \"\\\\\" , quoting = csv.QUOTE_NONE)\n"
      ],
      "execution_count": null,
      "outputs": []
    },
    {
      "cell_type": "code",
      "metadata": {
        "id": "9jBIGwJbxLCW"
      },
      "source": [
        "test_data['title'] = test_data.TITLE.astype(str)"
      ],
      "execution_count": null,
      "outputs": []
    },
    {
      "cell_type": "code",
      "metadata": {
        "id": "yERF9wqPy7Es",
        "colab": {
          "base_uri": "https://localhost:8080/",
          "height": 589
        },
        "outputId": "5e7f190c-d98d-4906-be70-a1a6bbff63f2"
      },
      "source": [
        "test_data"
      ],
      "execution_count": null,
      "outputs": [
        {
          "output_type": "execute_result",
          "data": {
            "text/html": [
              "<div>\n",
              "<style scoped>\n",
              "    .dataframe tbody tr th:only-of-type {\n",
              "        vertical-align: middle;\n",
              "    }\n",
              "\n",
              "    .dataframe tbody tr th {\n",
              "        vertical-align: top;\n",
              "    }\n",
              "\n",
              "    .dataframe thead th {\n",
              "        text-align: right;\n",
              "    }\n",
              "</style>\n",
              "<table border=\"1\" class=\"dataframe\">\n",
              "  <thead>\n",
              "    <tr style=\"text-align: right;\">\n",
              "      <th></th>\n",
              "      <th>PRODUCT_ID</th>\n",
              "      <th>TITLE</th>\n",
              "      <th>DESCRIPTION</th>\n",
              "      <th>BULLET_POINTS</th>\n",
              "      <th>BRAND</th>\n",
              "      <th>title</th>\n",
              "    </tr>\n",
              "  </thead>\n",
              "  <tbody>\n",
              "    <tr>\n",
              "      <th>0</th>\n",
              "      <td>1</td>\n",
              "      <td>Command 3M Small Kitchen Hooks, White, Decorat...</td>\n",
              "      <td>Sale Unit: PACK</td>\n",
              "      <td>[INCLUDES - 9 hooks and 12 small indoor strips...</td>\n",
              "      <td>Command</td>\n",
              "      <td>Command 3M Small Kitchen Hooks, White, Decorat...</td>\n",
              "    </tr>\n",
              "    <tr>\n",
              "      <th>1</th>\n",
              "      <td>2</td>\n",
              "      <td>O'Neal Jump Hardware JAG Unisex-Adult Glove (B...</td>\n",
              "      <td>Synthetic leather palm with double-layer thumb...</td>\n",
              "      <td>[Silicone printing for a better grip. Long las...</td>\n",
              "      <td>O'Neal</td>\n",
              "      <td>O'Neal Jump Hardware JAG Unisex-Adult Glove (B...</td>\n",
              "    </tr>\n",
              "    <tr>\n",
              "      <th>2</th>\n",
              "      <td>3</td>\n",
              "      <td>NFL Detroit Lions Portable Party Fridge, 15.8 ...</td>\n",
              "      <td>Boelter Brands lets you celebrate your favorit...</td>\n",
              "      <td>[Runs on 12 Volt DC Power or 110 Volt AC Power...</td>\n",
              "      <td>Boelter Brands</td>\n",
              "      <td>NFL Detroit Lions Portable Party Fridge, 15.8 ...</td>\n",
              "    </tr>\n",
              "    <tr>\n",
              "      <th>3</th>\n",
              "      <td>4</td>\n",
              "      <td>Panasonic Single Line KX-TS880MX Corded Phone ...</td>\n",
              "      <td>Features: 50 Station Phonebook Corded Phone Al...</td>\n",
              "      <td>Panasonic Landline Phones doesn't come with a ...</td>\n",
              "      <td>Panasonic</td>\n",
              "      <td>Panasonic Single Line KX-TS880MX Corded Phone ...</td>\n",
              "    </tr>\n",
              "    <tr>\n",
              "      <th>4</th>\n",
              "      <td>5</td>\n",
              "      <td>Zero Baby Girl's 100% Cotton Innerwear Bloomer...</td>\n",
              "      <td>Zero Baby Girl Panties Set. 100% Cotton, Breat...</td>\n",
              "      <td>[Zero Baby Girl Panties, Pack of 6, 100% Cotto...</td>\n",
              "      <td>Zero</td>\n",
              "      <td>Zero Baby Girl's 100% Cotton Innerwear Bloomer...</td>\n",
              "    </tr>\n",
              "    <tr>\n",
              "      <th>...</th>\n",
              "      <td>...</td>\n",
              "      <td>...</td>\n",
              "      <td>...</td>\n",
              "      <td>...</td>\n",
              "      <td>...</td>\n",
              "      <td>...</td>\n",
              "    </tr>\n",
              "    <tr>\n",
              "      <th>110770</th>\n",
              "      <td>110771</td>\n",
              "      <td>AAHNA E MALL OneBlade Hybrid Trimmer Shaver An...</td>\n",
              "      <td>&lt;p&gt;1-All In One Hyper Advanced Smart Rechargea...</td>\n",
              "      <td>[Unique One Blade can style, trim and shave, w...</td>\n",
              "      <td>Generic</td>\n",
              "      <td>AAHNA E MALL OneBlade Hybrid Trimmer Shaver An...</td>\n",
              "    </tr>\n",
              "    <tr>\n",
              "      <th>110771</th>\n",
              "      <td>110772</td>\n",
              "      <td>Grin Health N99 Anti Pollution Reusable Washab...</td>\n",
              "      <td>&lt;p&gt;SIZE GUIDE : M - (35- 65 Kg), L - (49- 72 K...</td>\n",
              "      <td>[PROTECTION: Filtration rate up to ≥99 percent...</td>\n",
              "      <td>Grin Health</td>\n",
              "      <td>Grin Health N99 Anti Pollution Reusable Washab...</td>\n",
              "    </tr>\n",
              "    <tr>\n",
              "      <th>110772</th>\n",
              "      <td>110773</td>\n",
              "      <td>Asian Army Pink Ultra reusable respirator clot...</td>\n",
              "      <td>Asian HyperProtect A95 masks have been enginee...</td>\n",
              "      <td>[Reusable and environment friendly: These mask...</td>\n",
              "      <td>ASIAN</td>\n",
              "      <td>Asian Army Pink Ultra reusable respirator clot...</td>\n",
              "    </tr>\n",
              "    <tr>\n",
              "      <th>110773</th>\n",
              "      <td>110774</td>\n",
              "      <td>IM Safe 3 Ply Non-Woven Disposable Surgical Fa...</td>\n",
              "      <td>This 3 Ply Disposable face mask is manufacture...</td>\n",
              "      <td>[3 Ply Mask: Genuine 3 Ply Mask. 25 GSM Spun B...</td>\n",
              "      <td>Intermarket</td>\n",
              "      <td>IM Safe 3 Ply Non-Woven Disposable Surgical Fa...</td>\n",
              "    </tr>\n",
              "    <tr>\n",
              "      <th>110774</th>\n",
              "      <td>110775</td>\n",
              "      <td>Artifie 100% Cotton Unisex Reusable Breathable...</td>\n",
              "      <td>Material : Cotton Printed, cotton thread, Soft...</td>\n",
              "      <td>[Eco Friendly, Reusable Cotton Masks for Face ...</td>\n",
              "      <td>Artifie</td>\n",
              "      <td>Artifie 100% Cotton Unisex Reusable Breathable...</td>\n",
              "    </tr>\n",
              "  </tbody>\n",
              "</table>\n",
              "<p>110775 rows × 6 columns</p>\n",
              "</div>"
            ],
            "text/plain": [
              "        PRODUCT_ID  ...                                              title\n",
              "0                1  ...  Command 3M Small Kitchen Hooks, White, Decorat...\n",
              "1                2  ...  O'Neal Jump Hardware JAG Unisex-Adult Glove (B...\n",
              "2                3  ...  NFL Detroit Lions Portable Party Fridge, 15.8 ...\n",
              "3                4  ...  Panasonic Single Line KX-TS880MX Corded Phone ...\n",
              "4                5  ...  Zero Baby Girl's 100% Cotton Innerwear Bloomer...\n",
              "...            ...  ...                                                ...\n",
              "110770      110771  ...  AAHNA E MALL OneBlade Hybrid Trimmer Shaver An...\n",
              "110771      110772  ...  Grin Health N99 Anti Pollution Reusable Washab...\n",
              "110772      110773  ...  Asian Army Pink Ultra reusable respirator clot...\n",
              "110773      110774  ...  IM Safe 3 Ply Non-Woven Disposable Surgical Fa...\n",
              "110774      110775  ...  Artifie 100% Cotton Unisex Reusable Breathable...\n",
              "\n",
              "[110775 rows x 6 columns]"
            ]
          },
          "metadata": {
            "tags": []
          },
          "execution_count": 20
        }
      ]
    },
    {
      "cell_type": "code",
      "metadata": {
        "id": "yJi8wn3PXM-L"
      },
      "source": [
        "# # Now one hot encoding the labels \n",
        "# from sklearn.preprocessing import OneHotEncoder\n",
        "# one_hot_encoder = OneHotEncoder(sparse = False)\n",
        "# train_labels = one_hot_encoder.fit_transform(new_train_sample['BROWSE_NODE_ID'].to_numpy().reshape(-1 , 1))"
      ],
      "execution_count": null,
      "outputs": []
    },
    {
      "cell_type": "code",
      "metadata": {
        "colab": {
          "base_uri": "https://localhost:8080/",
          "height": 633
        },
        "id": "awvkPtkcQH9E",
        "outputId": "d9ff9e22-8bcc-4c9b-a21a-c3c660feba1d"
      },
      "source": [
        "#mult_model.save(')\n",
        "tf.keras.models.save_model(mult_model , 'drive/MyDrive/amazon_ml/')"
      ],
      "execution_count": 100,
      "outputs": [
        {
          "output_type": "stream",
          "text": [
            "WARNING:absl:Function `_wrapped_model` contains input name(s) Info_input with unsupported characters which will be renamed to info_input in the SavedModel.\n"
          ],
          "name": "stderr"
        },
        {
          "output_type": "error",
          "ename": "NotImplementedError",
          "evalue": "ignored",
          "traceback": [
            "\u001b[0;31m---------------------------------------------------------------------------\u001b[0m",
            "\u001b[0;31mNotImplementedError\u001b[0m                       Traceback (most recent call last)",
            "\u001b[0;32m<ipython-input-100-567d57767f63>\u001b[0m in \u001b[0;36m<module>\u001b[0;34m()\u001b[0m\n\u001b[1;32m      1\u001b[0m \u001b[0;31m#mult_model.save(')\u001b[0m\u001b[0;34m\u001b[0m\u001b[0;34m\u001b[0m\u001b[0;34m\u001b[0m\u001b[0m\n\u001b[0;32m----> 2\u001b[0;31m \u001b[0mtf\u001b[0m\u001b[0;34m.\u001b[0m\u001b[0mkeras\u001b[0m\u001b[0;34m.\u001b[0m\u001b[0mmodels\u001b[0m\u001b[0;34m.\u001b[0m\u001b[0msave_model\u001b[0m\u001b[0;34m(\u001b[0m\u001b[0mmult_model\u001b[0m \u001b[0;34m,\u001b[0m \u001b[0;34m'drive/MyDrive/amazon_ml/'\u001b[0m\u001b[0;34m)\u001b[0m\u001b[0;34m\u001b[0m\u001b[0;34m\u001b[0m\u001b[0m\n\u001b[0m",
            "\u001b[0;32m/usr/local/lib/python3.7/dist-packages/tensorflow/python/keras/saving/save.py\u001b[0m in \u001b[0;36msave_model\u001b[0;34m(model, filepath, overwrite, include_optimizer, save_format, signatures, options, save_traces)\u001b[0m\n\u001b[1;32m    149\u001b[0m     \u001b[0;32mwith\u001b[0m \u001b[0mgeneric_utils\u001b[0m\u001b[0;34m.\u001b[0m\u001b[0mSharedObjectSavingScope\u001b[0m\u001b[0;34m(\u001b[0m\u001b[0;34m)\u001b[0m\u001b[0;34m:\u001b[0m\u001b[0;34m\u001b[0m\u001b[0;34m\u001b[0m\u001b[0m\n\u001b[1;32m    150\u001b[0m       saved_model_save.save(model, filepath, overwrite, include_optimizer,\n\u001b[0;32m--> 151\u001b[0;31m                             signatures, options, save_traces)\n\u001b[0m\u001b[1;32m    152\u001b[0m \u001b[0;34m\u001b[0m\u001b[0m\n\u001b[1;32m    153\u001b[0m \u001b[0;34m\u001b[0m\u001b[0m\n",
            "\u001b[0;32m/usr/local/lib/python3.7/dist-packages/tensorflow/python/keras/saving/saved_model/save.py\u001b[0m in \u001b[0;36msave\u001b[0;34m(model, filepath, overwrite, include_optimizer, signatures, options, save_traces)\u001b[0m\n\u001b[1;32m     88\u001b[0m     \u001b[0;32mwith\u001b[0m \u001b[0mutils\u001b[0m\u001b[0;34m.\u001b[0m\u001b[0mkeras_option_scope\u001b[0m\u001b[0;34m(\u001b[0m\u001b[0msave_traces\u001b[0m\u001b[0;34m)\u001b[0m\u001b[0;34m:\u001b[0m\u001b[0;34m\u001b[0m\u001b[0;34m\u001b[0m\u001b[0m\n\u001b[1;32m     89\u001b[0m       saved_nodes, node_paths = save_lib.save_and_return_nodes(\n\u001b[0;32m---> 90\u001b[0;31m           model, filepath, signatures, options)\n\u001b[0m\u001b[1;32m     91\u001b[0m \u001b[0;34m\u001b[0m\u001b[0m\n\u001b[1;32m     92\u001b[0m     \u001b[0;31m# Save all metadata to a separate file in the SavedModel directory.\u001b[0m\u001b[0;34m\u001b[0m\u001b[0;34m\u001b[0m\u001b[0;34m\u001b[0m\u001b[0m\n",
            "\u001b[0;32m/usr/local/lib/python3.7/dist-packages/tensorflow/python/saved_model/save.py\u001b[0m in \u001b[0;36msave_and_return_nodes\u001b[0;34m(obj, export_dir, signatures, options, raise_metadata_warning, experimental_skip_checkpoint)\u001b[0m\n\u001b[1;32m   1102\u001b[0m   _, exported_graph, object_saver, asset_info, saved_nodes, node_paths = (\n\u001b[1;32m   1103\u001b[0m       _build_meta_graph(obj, signatures, options, meta_graph_def,\n\u001b[0;32m-> 1104\u001b[0;31m                         raise_metadata_warning))\n\u001b[0m\u001b[1;32m   1105\u001b[0m   \u001b[0msaved_model\u001b[0m\u001b[0;34m.\u001b[0m\u001b[0msaved_model_schema_version\u001b[0m \u001b[0;34m=\u001b[0m \u001b[0mconstants\u001b[0m\u001b[0;34m.\u001b[0m\u001b[0mSAVED_MODEL_SCHEMA_VERSION\u001b[0m\u001b[0;34m\u001b[0m\u001b[0;34m\u001b[0m\u001b[0m\n\u001b[1;32m   1106\u001b[0m \u001b[0;34m\u001b[0m\u001b[0m\n",
            "\u001b[0;32m/usr/local/lib/python3.7/dist-packages/tensorflow/python/saved_model/save.py\u001b[0m in \u001b[0;36m_build_meta_graph\u001b[0;34m(obj, signatures, options, meta_graph_def, raise_metadata_warning)\u001b[0m\n\u001b[1;32m   1289\u001b[0m   \u001b[0;32mwith\u001b[0m \u001b[0msave_context\u001b[0m\u001b[0;34m.\u001b[0m\u001b[0msave_context\u001b[0m\u001b[0;34m(\u001b[0m\u001b[0moptions\u001b[0m\u001b[0;34m)\u001b[0m\u001b[0;34m:\u001b[0m\u001b[0;34m\u001b[0m\u001b[0;34m\u001b[0m\u001b[0m\n\u001b[1;32m   1290\u001b[0m     return _build_meta_graph_impl(obj, signatures, options, meta_graph_def,\n\u001b[0;32m-> 1291\u001b[0;31m                                   raise_metadata_warning)\n\u001b[0m",
            "\u001b[0;32m/usr/local/lib/python3.7/dist-packages/tensorflow/python/saved_model/save.py\u001b[0m in \u001b[0;36m_build_meta_graph_impl\u001b[0;34m(obj, signatures, options, meta_graph_def, raise_metadata_warning)\u001b[0m\n\u001b[1;32m   1219\u001b[0m   \u001b[0;31m# Use _SaveableView to provide a frozen listing of properties and functions.\u001b[0m\u001b[0;34m\u001b[0m\u001b[0;34m\u001b[0m\u001b[0;34m\u001b[0m\u001b[0m\n\u001b[1;32m   1220\u001b[0m   saveable_view = _SaveableView(checkpoint_graph_view, options,\n\u001b[0;32m-> 1221\u001b[0;31m                                 wrapped_functions)\n\u001b[0m\u001b[1;32m   1222\u001b[0m   \u001b[0mobject_saver\u001b[0m \u001b[0;34m=\u001b[0m \u001b[0mutil\u001b[0m\u001b[0;34m.\u001b[0m\u001b[0mTrackableSaver\u001b[0m\u001b[0;34m(\u001b[0m\u001b[0mcheckpoint_graph_view\u001b[0m\u001b[0;34m)\u001b[0m\u001b[0;34m\u001b[0m\u001b[0;34m\u001b[0m\u001b[0m\n\u001b[1;32m   1223\u001b[0m   asset_info, exported_graph = _fill_meta_graph_def(meta_graph_def,\n",
            "\u001b[0;32m/usr/local/lib/python3.7/dist-packages/tensorflow/python/saved_model/save.py\u001b[0m in \u001b[0;36m__init__\u001b[0;34m(self, checkpoint_view, options, wrapped_functions)\u001b[0m\n\u001b[1;32m    189\u001b[0m     \u001b[0;31m# Run through the nodes in the object graph first for side effects of\u001b[0m\u001b[0;34m\u001b[0m\u001b[0;34m\u001b[0m\u001b[0;34m\u001b[0m\u001b[0m\n\u001b[1;32m    190\u001b[0m     \u001b[0;31m# creating variables.\u001b[0m\u001b[0;34m\u001b[0m\u001b[0;34m\u001b[0m\u001b[0;34m\u001b[0m\u001b[0m\n\u001b[0;32m--> 191\u001b[0;31m     \u001b[0mself\u001b[0m\u001b[0;34m.\u001b[0m\u001b[0m_trace_all_concrete_functions\u001b[0m\u001b[0;34m(\u001b[0m\u001b[0;34m)\u001b[0m\u001b[0;34m\u001b[0m\u001b[0;34m\u001b[0m\u001b[0m\n\u001b[0m\u001b[1;32m    192\u001b[0m \u001b[0;34m\u001b[0m\u001b[0m\n\u001b[1;32m    193\u001b[0m     (self._trackable_objects, self.node_paths, self._node_ids,\n",
            "\u001b[0;32m/usr/local/lib/python3.7/dist-packages/tensorflow/python/saved_model/save.py\u001b[0m in \u001b[0;36m_trace_all_concrete_functions\u001b[0;34m(self)\u001b[0m\n\u001b[1;32m    272\u001b[0m         \u001b[0mvariables\u001b[0m \u001b[0mon\u001b[0m \u001b[0mfirst\u001b[0m \u001b[0mrun\u001b[0m\u001b[0;34m.\u001b[0m\u001b[0;34m\u001b[0m\u001b[0;34m\u001b[0m\u001b[0m\n\u001b[1;32m    273\u001b[0m     \"\"\"\n\u001b[0;32m--> 274\u001b[0;31m     \u001b[0;32mfor\u001b[0m \u001b[0mobj\u001b[0m \u001b[0;32min\u001b[0m \u001b[0mself\u001b[0m\u001b[0;34m.\u001b[0m\u001b[0mcheckpoint_view\u001b[0m\u001b[0;34m.\u001b[0m\u001b[0mlist_objects\u001b[0m\u001b[0;34m(\u001b[0m\u001b[0;34m)\u001b[0m\u001b[0;34m:\u001b[0m\u001b[0;34m\u001b[0m\u001b[0;34m\u001b[0m\u001b[0m\n\u001b[0m\u001b[1;32m    275\u001b[0m       \u001b[0;32mfor\u001b[0m \u001b[0mfunction\u001b[0m \u001b[0;32min\u001b[0m \u001b[0mself\u001b[0m\u001b[0;34m.\u001b[0m\u001b[0mcheckpoint_view\u001b[0m\u001b[0;34m.\u001b[0m\u001b[0mlist_functions\u001b[0m\u001b[0;34m(\u001b[0m\u001b[0mobj\u001b[0m\u001b[0;34m)\u001b[0m\u001b[0;34m.\u001b[0m\u001b[0mvalues\u001b[0m\u001b[0;34m(\u001b[0m\u001b[0;34m)\u001b[0m\u001b[0;34m:\u001b[0m\u001b[0;34m\u001b[0m\u001b[0;34m\u001b[0m\u001b[0m\n\u001b[1;32m    276\u001b[0m         \u001b[0;32mif\u001b[0m \u001b[0misinstance\u001b[0m\u001b[0;34m(\u001b[0m\u001b[0mfunction\u001b[0m\u001b[0;34m,\u001b[0m \u001b[0mdef_function\u001b[0m\u001b[0;34m.\u001b[0m\u001b[0mFunction\u001b[0m\u001b[0;34m)\u001b[0m\u001b[0;34m:\u001b[0m\u001b[0;34m\u001b[0m\u001b[0;34m\u001b[0m\u001b[0m\n",
            "\u001b[0;32m/usr/local/lib/python3.7/dist-packages/tensorflow/python/training/tracking/graph_view.py\u001b[0m in \u001b[0;36mlist_objects\u001b[0;34m(self)\u001b[0m\n\u001b[1;32m    464\u001b[0m   \u001b[0;32mdef\u001b[0m \u001b[0mlist_objects\u001b[0m\u001b[0;34m(\u001b[0m\u001b[0mself\u001b[0m\u001b[0;34m)\u001b[0m\u001b[0;34m:\u001b[0m\u001b[0;34m\u001b[0m\u001b[0;34m\u001b[0m\u001b[0m\n\u001b[1;32m    465\u001b[0m     \u001b[0;34m\"\"\"Traverse the object graph and list all accessible objects.\"\"\"\u001b[0m\u001b[0;34m\u001b[0m\u001b[0;34m\u001b[0m\u001b[0m\n\u001b[0;32m--> 466\u001b[0;31m     \u001b[0mtrackable_objects\u001b[0m\u001b[0;34m,\u001b[0m \u001b[0m_\u001b[0m\u001b[0;34m,\u001b[0m \u001b[0m_\u001b[0m \u001b[0;34m=\u001b[0m \u001b[0mself\u001b[0m\u001b[0;34m.\u001b[0m\u001b[0mobjects_ids_and_slot_variables\u001b[0m\u001b[0;34m(\u001b[0m\u001b[0;34m)\u001b[0m\u001b[0;34m\u001b[0m\u001b[0;34m\u001b[0m\u001b[0m\n\u001b[0m\u001b[1;32m    467\u001b[0m     \u001b[0;32mreturn\u001b[0m \u001b[0mtrackable_objects\u001b[0m\u001b[0;34m\u001b[0m\u001b[0;34m\u001b[0m\u001b[0m\n",
            "\u001b[0;32m/usr/local/lib/python3.7/dist-packages/tensorflow/python/training/tracking/graph_view.py\u001b[0m in \u001b[0;36mobjects_ids_and_slot_variables\u001b[0;34m(self)\u001b[0m\n\u001b[1;32m    459\u001b[0m   \u001b[0;32mdef\u001b[0m \u001b[0mobjects_ids_and_slot_variables\u001b[0m\u001b[0;34m(\u001b[0m\u001b[0mself\u001b[0m\u001b[0;34m)\u001b[0m\u001b[0;34m:\u001b[0m\u001b[0;34m\u001b[0m\u001b[0;34m\u001b[0m\u001b[0m\n\u001b[1;32m    460\u001b[0m     trackable_objects, _, node_ids, slot_variables = (\n\u001b[0;32m--> 461\u001b[0;31m         self.objects_ids_and_slot_variables_and_paths())\n\u001b[0m\u001b[1;32m    462\u001b[0m     \u001b[0;32mreturn\u001b[0m \u001b[0mtrackable_objects\u001b[0m\u001b[0;34m,\u001b[0m \u001b[0mnode_ids\u001b[0m\u001b[0;34m,\u001b[0m \u001b[0mslot_variables\u001b[0m\u001b[0;34m\u001b[0m\u001b[0;34m\u001b[0m\u001b[0m\n\u001b[1;32m    463\u001b[0m \u001b[0;34m\u001b[0m\u001b[0m\n",
            "\u001b[0;32m/usr/local/lib/python3.7/dist-packages/tensorflow/python/training/tracking/graph_view.py\u001b[0m in \u001b[0;36mobjects_ids_and_slot_variables_and_paths\u001b[0;34m(self)\u001b[0m\n\u001b[1;32m    454\u001b[0m         \u001b[0mtrackable_objects\u001b[0m\u001b[0;34m=\u001b[0m\u001b[0mtrackable_objects\u001b[0m\u001b[0;34m,\u001b[0m\u001b[0;34m\u001b[0m\u001b[0;34m\u001b[0m\u001b[0m\n\u001b[1;32m    455\u001b[0m         \u001b[0mnode_ids\u001b[0m\u001b[0;34m=\u001b[0m\u001b[0mnode_ids\u001b[0m\u001b[0;34m,\u001b[0m\u001b[0;34m\u001b[0m\u001b[0;34m\u001b[0m\u001b[0m\n\u001b[0;32m--> 456\u001b[0;31m         object_names=object_names)\n\u001b[0m\u001b[1;32m    457\u001b[0m     \u001b[0;32mreturn\u001b[0m \u001b[0mtrackable_objects\u001b[0m\u001b[0;34m,\u001b[0m \u001b[0mpath_to_root\u001b[0m\u001b[0;34m,\u001b[0m \u001b[0mnode_ids\u001b[0m\u001b[0;34m,\u001b[0m \u001b[0mslot_variables\u001b[0m\u001b[0;34m\u001b[0m\u001b[0;34m\u001b[0m\u001b[0m\n\u001b[1;32m    458\u001b[0m \u001b[0;34m\u001b[0m\u001b[0m\n",
            "\u001b[0;32m/usr/local/lib/python3.7/dist-packages/tensorflow/python/training/tracking/graph_view.py\u001b[0m in \u001b[0;36m_serialize_slot_variables\u001b[0;34m(trackable_objects, node_ids, object_names)\u001b[0m\n\u001b[1;32m    122\u001b[0m                  \u001b[0;34m\"Trackable object: %s. This is not currently \"\u001b[0m\u001b[0;34m\u001b[0m\u001b[0;34m\u001b[0m\u001b[0m\n\u001b[1;32m    123\u001b[0m                  \u001b[0;34m\"allowed. File a feature request if this limitation bothers \"\u001b[0m\u001b[0;34m\u001b[0m\u001b[0;34m\u001b[0m\u001b[0m\n\u001b[0;32m--> 124\u001b[0;31m                  \"you.\") % slot_variable)\n\u001b[0m\u001b[1;32m    125\u001b[0m           checkpoint_name = naming_scheme(\n\u001b[1;32m    126\u001b[0m               \u001b[0mvariable_path\u001b[0m\u001b[0;34m=\u001b[0m\u001b[0mobject_names\u001b[0m\u001b[0;34m[\u001b[0m\u001b[0moriginal_variable\u001b[0m\u001b[0;34m]\u001b[0m\u001b[0;34m,\u001b[0m\u001b[0;34m\u001b[0m\u001b[0;34m\u001b[0m\u001b[0m\n",
            "\u001b[0;31mNotImplementedError\u001b[0m: A slot variable was re-used as a dependency of a Trackable object: <tf.Variable 'cond_1/Adam/Variable/m:0' shape=(973771, 128) dtype=float32, numpy=\narray([[ 0.0000000e+00,  0.0000000e+00,  0.0000000e+00, ...,\n         0.0000000e+00,  0.0000000e+00,  0.0000000e+00],\n       [ 0.0000000e+00,  0.0000000e+00,  0.0000000e+00, ...,\n         0.0000000e+00,  0.0000000e+00,  0.0000000e+00],\n       [ 0.0000000e+00,  0.0000000e+00,  0.0000000e+00, ...,\n         0.0000000e+00,  0.0000000e+00,  0.0000000e+00],\n       ...,\n       [-7.5041896e-08, -4.3619583e-08, -2.2071145e-08, ...,\n         4.9660063e-08, -1.6564975e-07,  7.5869586e-09],\n       [-2.5159985e-09, -1.2792878e-09, -2.3230022e-09, ...,\n        -2.2362290e-09,  5.3439941e-10, -1.8530728e-09],\n       [ 9.0333233e-06, -2.9028210e-05, -6.9404407e-05, ...,\n        -2.7205395e-05, -5.1315888e-06,  1.3710623e-05]], dtype=float32)>. This is not currently allowed. File a feature request if this limitation bothers you."
          ]
        }
      ]
    },
    {
      "cell_type": "code",
      "metadata": {
        "id": "7iJSWYYSRiDw"
      },
      "source": [
        "inputs = tf.keras.layers.Input(shape = (), dtype = tf.string)\n",
        "x = base_layer(inputs)\n",
        "x = tf.keras.layers.Dense(264, activation = 'relu')(x)\n",
        "x = tf.keras.layers.Dense(64, activation= 'relu')(x)\n",
        "x  = tf.keras.layers.Dropout(0.5)(x)\n",
        "x = tf.keras.layers.Dense(len(train_sample.BROWSE_NODE_ID.value_counts()))(x)\n",
        "outputs = layers.Activation('softmax' , dtype = tf.float32)(x)\n",
        "model = tf.keras.Model(inputs, outputs)"
      ],
      "execution_count": 115,
      "outputs": []
    },
    {
      "cell_type": "code",
      "metadata": {
        "colab": {
          "base_uri": "https://localhost:8080/"
        },
        "id": "pzpHYRdnRiNC",
        "outputId": "0dd54196-b217-450d-e9dd-23ec0e1a3a38"
      },
      "source": [
        "model.summary()"
      ],
      "execution_count": 116,
      "outputs": [
        {
          "output_type": "stream",
          "text": [
            "Model: \"model_31\"\n",
            "_________________________________________________________________\n",
            "Layer (type)                 Output Shape              Param #   \n",
            "=================================================================\n",
            "input_2 (InputLayer)         [(None,)]                 0         \n",
            "_________________________________________________________________\n",
            "keras_layer_1 (KerasLayer)   (None, 512)               256797824 \n",
            "_________________________________________________________________\n",
            "dense_59 (Dense)             (None, 264)               135432    \n",
            "_________________________________________________________________\n",
            "dense_60 (Dense)             (None, 64)                16960     \n",
            "_________________________________________________________________\n",
            "dropout_8 (Dropout)          (None, 64)                0         \n",
            "_________________________________________________________________\n",
            "dense_61 (Dense)             (None, 9919)              644735    \n",
            "_________________________________________________________________\n",
            "activation_1 (Activation)    (None, 9919)              0         \n",
            "=================================================================\n",
            "Total params: 257,594,951\n",
            "Trainable params: 797,127\n",
            "Non-trainable params: 256,797,824\n",
            "_________________________________________________________________\n"
          ],
          "name": "stdout"
        }
      ]
    },
    {
      "cell_type": "code",
      "metadata": {
        "id": "1QHhHDPrRiRx"
      },
      "source": [
        "new_train_ds = tf.data.Dataset.from_tensor_slices((train_desc , labels))\n",
        "new_train_ds = new_train_ds.batch(32).prefetch(tf.data.AUTOTUNE)"
      ],
      "execution_count": 105,
      "outputs": []
    },
    {
      "cell_type": "code",
      "metadata": {
        "id": "jSHjm92oRia1"
      },
      "source": [
        "# Compile the model \n",
        "model.compile(loss = tf.keras.losses.SparseCategoricalCrossentropy(),  \n",
        "              optimizer = tf.keras.optimizers.Adam(), \n",
        "              metrics = ['accuracy'])"
      ],
      "execution_count": 117,
      "outputs": []
    },
    {
      "cell_type": "code",
      "metadata": {
        "colab": {
          "base_uri": "https://localhost:8080/"
        },
        "id": "hkOuk2t2RifI",
        "outputId": "40f3e473-b5b7-431a-91bc-8c4981ef34f7"
      },
      "source": [
        "# Fit the model \n",
        "history = model.fit(new_train_ds , \n",
        "                              steps_per_epoch = len(new_train_ds),\n",
        "                              epochs = 5 , \n",
        "                              callbacks = [reduce_lr])"
      ],
      "execution_count": null,
      "outputs": [
        {
          "output_type": "stream",
          "text": [
            "Epoch 1/5\n",
            "57364/80622 [====================>.........] - ETA: 7:04 - loss: 3.8123 - accuracy: 0.3176"
          ],
          "name": "stdout"
        }
      ]
    },
    {
      "cell_type": "code",
      "metadata": {
        "id": "rx5VqJdiRimN"
      },
      "source": [
        ""
      ],
      "execution_count": null,
      "outputs": []
    },
    {
      "cell_type": "code",
      "metadata": {
        "id": "zf-IQsLrRiq2"
      },
      "source": [
        ""
      ],
      "execution_count": null,
      "outputs": []
    },
    {
      "cell_type": "code",
      "metadata": {
        "id": "Km0--ltRRiyE"
      },
      "source": [
        ""
      ],
      "execution_count": null,
      "outputs": []
    },
    {
      "cell_type": "code",
      "metadata": {
        "id": "BS9V7oSGRi3z"
      },
      "source": [
        ""
      ],
      "execution_count": null,
      "outputs": []
    },
    {
      "cell_type": "code",
      "metadata": {
        "colab": {
          "base_uri": "https://localhost:8080/",
          "height": 715
        },
        "id": "_n8o0vHV4Nq9",
        "outputId": "49b96689-4d54-4784-bf0c-e36ec85317fa"
      },
      "source": [
        "# Making prediction \n",
        "pred_probs = mult_model.predict(test_dataset)\n",
        "pred_probs[:10]"
      ],
      "execution_count": 98,
      "outputs": [
        {
          "output_type": "error",
          "ename": "ValueError",
          "evalue": "ignored",
          "traceback": [
            "\u001b[0;31m---------------------------------------------------------------------------\u001b[0m",
            "\u001b[0;31mValueError\u001b[0m                                Traceback (most recent call last)",
            "\u001b[0;32m<ipython-input-98-8522545adb61>\u001b[0m in \u001b[0;36m<module>\u001b[0;34m()\u001b[0m\n\u001b[1;32m      1\u001b[0m \u001b[0;31m# Making prediction\u001b[0m\u001b[0;34m\u001b[0m\u001b[0;34m\u001b[0m\u001b[0;34m\u001b[0m\u001b[0m\n\u001b[0;32m----> 2\u001b[0;31m \u001b[0mpred_probs\u001b[0m \u001b[0;34m=\u001b[0m \u001b[0mmult_model\u001b[0m\u001b[0;34m.\u001b[0m\u001b[0mpredict\u001b[0m\u001b[0;34m(\u001b[0m\u001b[0mtest_dataset\u001b[0m\u001b[0;34m)\u001b[0m\u001b[0;34m\u001b[0m\u001b[0;34m\u001b[0m\u001b[0m\n\u001b[0m\u001b[1;32m      3\u001b[0m \u001b[0mpred_probs\u001b[0m\u001b[0;34m[\u001b[0m\u001b[0;34m:\u001b[0m\u001b[0;36m10\u001b[0m\u001b[0;34m]\u001b[0m\u001b[0;34m\u001b[0m\u001b[0;34m\u001b[0m\u001b[0m\n",
            "\u001b[0;32m/usr/local/lib/python3.7/dist-packages/tensorflow/python/keras/engine/training.py\u001b[0m in \u001b[0;36mpredict\u001b[0;34m(self, x, batch_size, verbose, steps, callbacks, max_queue_size, workers, use_multiprocessing)\u001b[0m\n\u001b[1;32m   1725\u001b[0m           \u001b[0;32mfor\u001b[0m \u001b[0mstep\u001b[0m \u001b[0;32min\u001b[0m \u001b[0mdata_handler\u001b[0m\u001b[0;34m.\u001b[0m\u001b[0msteps\u001b[0m\u001b[0;34m(\u001b[0m\u001b[0;34m)\u001b[0m\u001b[0;34m:\u001b[0m\u001b[0;34m\u001b[0m\u001b[0;34m\u001b[0m\u001b[0m\n\u001b[1;32m   1726\u001b[0m             \u001b[0mcallbacks\u001b[0m\u001b[0;34m.\u001b[0m\u001b[0mon_predict_batch_begin\u001b[0m\u001b[0;34m(\u001b[0m\u001b[0mstep\u001b[0m\u001b[0;34m)\u001b[0m\u001b[0;34m\u001b[0m\u001b[0;34m\u001b[0m\u001b[0m\n\u001b[0;32m-> 1727\u001b[0;31m             \u001b[0mtmp_batch_outputs\u001b[0m \u001b[0;34m=\u001b[0m \u001b[0mself\u001b[0m\u001b[0;34m.\u001b[0m\u001b[0mpredict_function\u001b[0m\u001b[0;34m(\u001b[0m\u001b[0miterator\u001b[0m\u001b[0;34m)\u001b[0m\u001b[0;34m\u001b[0m\u001b[0;34m\u001b[0m\u001b[0m\n\u001b[0m\u001b[1;32m   1728\u001b[0m             \u001b[0;32mif\u001b[0m \u001b[0mdata_handler\u001b[0m\u001b[0;34m.\u001b[0m\u001b[0mshould_sync\u001b[0m\u001b[0;34m:\u001b[0m\u001b[0;34m\u001b[0m\u001b[0;34m\u001b[0m\u001b[0m\n\u001b[1;32m   1729\u001b[0m               \u001b[0mcontext\u001b[0m\u001b[0;34m.\u001b[0m\u001b[0masync_wait\u001b[0m\u001b[0;34m(\u001b[0m\u001b[0;34m)\u001b[0m\u001b[0;34m\u001b[0m\u001b[0;34m\u001b[0m\u001b[0m\n",
            "\u001b[0;32m/usr/local/lib/python3.7/dist-packages/tensorflow/python/eager/def_function.py\u001b[0m in \u001b[0;36m__call__\u001b[0;34m(self, *args, **kwds)\u001b[0m\n\u001b[1;32m    887\u001b[0m \u001b[0;34m\u001b[0m\u001b[0m\n\u001b[1;32m    888\u001b[0m       \u001b[0;32mwith\u001b[0m \u001b[0mOptionalXlaContext\u001b[0m\u001b[0;34m(\u001b[0m\u001b[0mself\u001b[0m\u001b[0;34m.\u001b[0m\u001b[0m_jit_compile\u001b[0m\u001b[0;34m)\u001b[0m\u001b[0;34m:\u001b[0m\u001b[0;34m\u001b[0m\u001b[0;34m\u001b[0m\u001b[0m\n\u001b[0;32m--> 889\u001b[0;31m         \u001b[0mresult\u001b[0m \u001b[0;34m=\u001b[0m \u001b[0mself\u001b[0m\u001b[0;34m.\u001b[0m\u001b[0m_call\u001b[0m\u001b[0;34m(\u001b[0m\u001b[0;34m*\u001b[0m\u001b[0margs\u001b[0m\u001b[0;34m,\u001b[0m \u001b[0;34m**\u001b[0m\u001b[0mkwds\u001b[0m\u001b[0;34m)\u001b[0m\u001b[0;34m\u001b[0m\u001b[0;34m\u001b[0m\u001b[0m\n\u001b[0m\u001b[1;32m    890\u001b[0m \u001b[0;34m\u001b[0m\u001b[0m\n\u001b[1;32m    891\u001b[0m       \u001b[0mnew_tracing_count\u001b[0m \u001b[0;34m=\u001b[0m \u001b[0mself\u001b[0m\u001b[0;34m.\u001b[0m\u001b[0mexperimental_get_tracing_count\u001b[0m\u001b[0;34m(\u001b[0m\u001b[0;34m)\u001b[0m\u001b[0;34m\u001b[0m\u001b[0;34m\u001b[0m\u001b[0m\n",
            "\u001b[0;32m/usr/local/lib/python3.7/dist-packages/tensorflow/python/eager/def_function.py\u001b[0m in \u001b[0;36m_call\u001b[0;34m(self, *args, **kwds)\u001b[0m\n\u001b[1;32m    922\u001b[0m       \u001b[0;31m# In this case we have not created variables on the first call. So we can\u001b[0m\u001b[0;34m\u001b[0m\u001b[0;34m\u001b[0m\u001b[0;34m\u001b[0m\u001b[0m\n\u001b[1;32m    923\u001b[0m       \u001b[0;31m# run the first trace but we should fail if variables are created.\u001b[0m\u001b[0;34m\u001b[0m\u001b[0;34m\u001b[0m\u001b[0;34m\u001b[0m\u001b[0m\n\u001b[0;32m--> 924\u001b[0;31m       \u001b[0mresults\u001b[0m \u001b[0;34m=\u001b[0m \u001b[0mself\u001b[0m\u001b[0;34m.\u001b[0m\u001b[0m_stateful_fn\u001b[0m\u001b[0;34m(\u001b[0m\u001b[0;34m*\u001b[0m\u001b[0margs\u001b[0m\u001b[0;34m,\u001b[0m \u001b[0;34m**\u001b[0m\u001b[0mkwds\u001b[0m\u001b[0;34m)\u001b[0m\u001b[0;34m\u001b[0m\u001b[0;34m\u001b[0m\u001b[0m\n\u001b[0m\u001b[1;32m    925\u001b[0m       \u001b[0;32mif\u001b[0m \u001b[0mself\u001b[0m\u001b[0;34m.\u001b[0m\u001b[0m_created_variables\u001b[0m\u001b[0;34m:\u001b[0m\u001b[0;34m\u001b[0m\u001b[0;34m\u001b[0m\u001b[0m\n\u001b[1;32m    926\u001b[0m         raise ValueError(\"Creating variables on a non-first call to a function\"\n",
            "\u001b[0;32m/usr/local/lib/python3.7/dist-packages/tensorflow/python/eager/function.py\u001b[0m in \u001b[0;36m__call__\u001b[0;34m(self, *args, **kwargs)\u001b[0m\n\u001b[1;32m   3020\u001b[0m     \u001b[0;32mwith\u001b[0m \u001b[0mself\u001b[0m\u001b[0;34m.\u001b[0m\u001b[0m_lock\u001b[0m\u001b[0;34m:\u001b[0m\u001b[0;34m\u001b[0m\u001b[0;34m\u001b[0m\u001b[0m\n\u001b[1;32m   3021\u001b[0m       (graph_function,\n\u001b[0;32m-> 3022\u001b[0;31m        filtered_flat_args) = self._maybe_define_function(args, kwargs)\n\u001b[0m\u001b[1;32m   3023\u001b[0m     return graph_function._call_flat(\n\u001b[1;32m   3024\u001b[0m         filtered_flat_args, captured_inputs=graph_function.captured_inputs)  # pylint: disable=protected-access\n",
            "\u001b[0;32m/usr/local/lib/python3.7/dist-packages/tensorflow/python/eager/function.py\u001b[0m in \u001b[0;36m_maybe_define_function\u001b[0;34m(self, args, kwargs)\u001b[0m\n\u001b[1;32m   3439\u001b[0m               call_context_key in self._function_cache.missed):\n\u001b[1;32m   3440\u001b[0m             return self._define_function_with_shape_relaxation(\n\u001b[0;32m-> 3441\u001b[0;31m                 args, kwargs, flat_args, filtered_flat_args, cache_key_context)\n\u001b[0m\u001b[1;32m   3442\u001b[0m \u001b[0;34m\u001b[0m\u001b[0m\n\u001b[1;32m   3443\u001b[0m           \u001b[0mself\u001b[0m\u001b[0;34m.\u001b[0m\u001b[0m_function_cache\u001b[0m\u001b[0;34m.\u001b[0m\u001b[0mmissed\u001b[0m\u001b[0;34m.\u001b[0m\u001b[0madd\u001b[0m\u001b[0;34m(\u001b[0m\u001b[0mcall_context_key\u001b[0m\u001b[0;34m)\u001b[0m\u001b[0;34m\u001b[0m\u001b[0;34m\u001b[0m\u001b[0m\n",
            "\u001b[0;32m/usr/local/lib/python3.7/dist-packages/tensorflow/python/eager/function.py\u001b[0m in \u001b[0;36m_define_function_with_shape_relaxation\u001b[0;34m(self, args, kwargs, flat_args, filtered_flat_args, cache_key_context)\u001b[0m\n\u001b[1;32m   3361\u001b[0m \u001b[0;34m\u001b[0m\u001b[0m\n\u001b[1;32m   3362\u001b[0m     graph_function = self._create_graph_function(\n\u001b[0;32m-> 3363\u001b[0;31m         args, kwargs, override_flat_arg_shapes=relaxed_arg_shapes)\n\u001b[0m\u001b[1;32m   3364\u001b[0m     \u001b[0mself\u001b[0m\u001b[0;34m.\u001b[0m\u001b[0m_function_cache\u001b[0m\u001b[0;34m.\u001b[0m\u001b[0marg_relaxed\u001b[0m\u001b[0;34m[\u001b[0m\u001b[0mrank_only_cache_key\u001b[0m\u001b[0;34m]\u001b[0m \u001b[0;34m=\u001b[0m \u001b[0mgraph_function\u001b[0m\u001b[0;34m\u001b[0m\u001b[0;34m\u001b[0m\u001b[0m\n\u001b[1;32m   3365\u001b[0m \u001b[0;34m\u001b[0m\u001b[0m\n",
            "\u001b[0;32m/usr/local/lib/python3.7/dist-packages/tensorflow/python/eager/function.py\u001b[0m in \u001b[0;36m_create_graph_function\u001b[0;34m(self, args, kwargs, override_flat_arg_shapes)\u001b[0m\n\u001b[1;32m   3287\u001b[0m             \u001b[0marg_names\u001b[0m\u001b[0;34m=\u001b[0m\u001b[0marg_names\u001b[0m\u001b[0;34m,\u001b[0m\u001b[0;34m\u001b[0m\u001b[0;34m\u001b[0m\u001b[0m\n\u001b[1;32m   3288\u001b[0m             \u001b[0moverride_flat_arg_shapes\u001b[0m\u001b[0;34m=\u001b[0m\u001b[0moverride_flat_arg_shapes\u001b[0m\u001b[0;34m,\u001b[0m\u001b[0;34m\u001b[0m\u001b[0;34m\u001b[0m\u001b[0m\n\u001b[0;32m-> 3289\u001b[0;31m             capture_by_value=self._capture_by_value),\n\u001b[0m\u001b[1;32m   3290\u001b[0m         \u001b[0mself\u001b[0m\u001b[0;34m.\u001b[0m\u001b[0m_function_attributes\u001b[0m\u001b[0;34m,\u001b[0m\u001b[0;34m\u001b[0m\u001b[0;34m\u001b[0m\u001b[0m\n\u001b[1;32m   3291\u001b[0m         \u001b[0mfunction_spec\u001b[0m\u001b[0;34m=\u001b[0m\u001b[0mself\u001b[0m\u001b[0;34m.\u001b[0m\u001b[0mfunction_spec\u001b[0m\u001b[0;34m,\u001b[0m\u001b[0;34m\u001b[0m\u001b[0;34m\u001b[0m\u001b[0m\n",
            "\u001b[0;32m/usr/local/lib/python3.7/dist-packages/tensorflow/python/framework/func_graph.py\u001b[0m in \u001b[0;36mfunc_graph_from_py_func\u001b[0;34m(name, python_func, args, kwargs, signature, func_graph, autograph, autograph_options, add_control_dependencies, arg_names, op_return_value, collections, capture_by_value, override_flat_arg_shapes)\u001b[0m\n\u001b[1;32m    997\u001b[0m         \u001b[0m_\u001b[0m\u001b[0;34m,\u001b[0m \u001b[0moriginal_func\u001b[0m \u001b[0;34m=\u001b[0m \u001b[0mtf_decorator\u001b[0m\u001b[0;34m.\u001b[0m\u001b[0munwrap\u001b[0m\u001b[0;34m(\u001b[0m\u001b[0mpython_func\u001b[0m\u001b[0;34m)\u001b[0m\u001b[0;34m\u001b[0m\u001b[0;34m\u001b[0m\u001b[0m\n\u001b[1;32m    998\u001b[0m \u001b[0;34m\u001b[0m\u001b[0m\n\u001b[0;32m--> 999\u001b[0;31m       \u001b[0mfunc_outputs\u001b[0m \u001b[0;34m=\u001b[0m \u001b[0mpython_func\u001b[0m\u001b[0;34m(\u001b[0m\u001b[0;34m*\u001b[0m\u001b[0mfunc_args\u001b[0m\u001b[0;34m,\u001b[0m \u001b[0;34m**\u001b[0m\u001b[0mfunc_kwargs\u001b[0m\u001b[0;34m)\u001b[0m\u001b[0;34m\u001b[0m\u001b[0;34m\u001b[0m\u001b[0m\n\u001b[0m\u001b[1;32m   1000\u001b[0m \u001b[0;34m\u001b[0m\u001b[0m\n\u001b[1;32m   1001\u001b[0m       \u001b[0;31m# invariant: `func_outputs` contains only Tensors, CompositeTensors,\u001b[0m\u001b[0;34m\u001b[0m\u001b[0;34m\u001b[0m\u001b[0;34m\u001b[0m\u001b[0m\n",
            "\u001b[0;32m/usr/local/lib/python3.7/dist-packages/tensorflow/python/eager/def_function.py\u001b[0m in \u001b[0;36mwrapped_fn\u001b[0;34m(*args, **kwds)\u001b[0m\n\u001b[1;32m    670\u001b[0m         \u001b[0;31m# the function a weak reference to itself to avoid a reference cycle.\u001b[0m\u001b[0;34m\u001b[0m\u001b[0;34m\u001b[0m\u001b[0;34m\u001b[0m\u001b[0m\n\u001b[1;32m    671\u001b[0m         \u001b[0;32mwith\u001b[0m \u001b[0mOptionalXlaContext\u001b[0m\u001b[0;34m(\u001b[0m\u001b[0mcompile_with_xla\u001b[0m\u001b[0;34m)\u001b[0m\u001b[0;34m:\u001b[0m\u001b[0;34m\u001b[0m\u001b[0;34m\u001b[0m\u001b[0m\n\u001b[0;32m--> 672\u001b[0;31m           \u001b[0mout\u001b[0m \u001b[0;34m=\u001b[0m \u001b[0mweak_wrapped_fn\u001b[0m\u001b[0;34m(\u001b[0m\u001b[0;34m)\u001b[0m\u001b[0;34m.\u001b[0m\u001b[0m__wrapped__\u001b[0m\u001b[0;34m(\u001b[0m\u001b[0;34m*\u001b[0m\u001b[0margs\u001b[0m\u001b[0;34m,\u001b[0m \u001b[0;34m**\u001b[0m\u001b[0mkwds\u001b[0m\u001b[0;34m)\u001b[0m\u001b[0;34m\u001b[0m\u001b[0;34m\u001b[0m\u001b[0m\n\u001b[0m\u001b[1;32m    673\u001b[0m         \u001b[0;32mreturn\u001b[0m \u001b[0mout\u001b[0m\u001b[0;34m\u001b[0m\u001b[0;34m\u001b[0m\u001b[0m\n\u001b[1;32m    674\u001b[0m \u001b[0;34m\u001b[0m\u001b[0m\n",
            "\u001b[0;32m/usr/local/lib/python3.7/dist-packages/tensorflow/python/framework/func_graph.py\u001b[0m in \u001b[0;36mwrapper\u001b[0;34m(*args, **kwargs)\u001b[0m\n\u001b[1;32m    984\u001b[0m           \u001b[0;32mexcept\u001b[0m \u001b[0mException\u001b[0m \u001b[0;32mas\u001b[0m \u001b[0me\u001b[0m\u001b[0;34m:\u001b[0m  \u001b[0;31m# pylint:disable=broad-except\u001b[0m\u001b[0;34m\u001b[0m\u001b[0;34m\u001b[0m\u001b[0m\n\u001b[1;32m    985\u001b[0m             \u001b[0;32mif\u001b[0m \u001b[0mhasattr\u001b[0m\u001b[0;34m(\u001b[0m\u001b[0me\u001b[0m\u001b[0;34m,\u001b[0m \u001b[0;34m\"ag_error_metadata\"\u001b[0m\u001b[0;34m)\u001b[0m\u001b[0;34m:\u001b[0m\u001b[0;34m\u001b[0m\u001b[0;34m\u001b[0m\u001b[0m\n\u001b[0;32m--> 986\u001b[0;31m               \u001b[0;32mraise\u001b[0m \u001b[0me\u001b[0m\u001b[0;34m.\u001b[0m\u001b[0mag_error_metadata\u001b[0m\u001b[0;34m.\u001b[0m\u001b[0mto_exception\u001b[0m\u001b[0;34m(\u001b[0m\u001b[0me\u001b[0m\u001b[0;34m)\u001b[0m\u001b[0;34m\u001b[0m\u001b[0;34m\u001b[0m\u001b[0m\n\u001b[0m\u001b[1;32m    987\u001b[0m             \u001b[0;32melse\u001b[0m\u001b[0;34m:\u001b[0m\u001b[0;34m\u001b[0m\u001b[0;34m\u001b[0m\u001b[0m\n\u001b[1;32m    988\u001b[0m               \u001b[0;32mraise\u001b[0m\u001b[0;34m\u001b[0m\u001b[0;34m\u001b[0m\u001b[0m\n",
            "\u001b[0;31mValueError\u001b[0m: in user code:\n\n    /usr/local/lib/python3.7/dist-packages/tensorflow/python/keras/engine/training.py:1569 predict_function  *\n        return step_function(self, iterator)\n    /usr/local/lib/python3.7/dist-packages/tensorflow/python/keras/engine/training.py:1559 step_function  **\n        outputs = model.distribute_strategy.run(run_step, args=(data,))\n    /usr/local/lib/python3.7/dist-packages/tensorflow/python/distribute/distribute_lib.py:1285 run\n        return self._extended.call_for_each_replica(fn, args=args, kwargs=kwargs)\n    /usr/local/lib/python3.7/dist-packages/tensorflow/python/distribute/distribute_lib.py:2833 call_for_each_replica\n        return self._call_for_each_replica(fn, args, kwargs)\n    /usr/local/lib/python3.7/dist-packages/tensorflow/python/distribute/distribute_lib.py:3608 _call_for_each_replica\n        return fn(*args, **kwargs)\n    /usr/local/lib/python3.7/dist-packages/tensorflow/python/keras/engine/training.py:1552 run_step  **\n        outputs = model.predict_step(data)\n    /usr/local/lib/python3.7/dist-packages/tensorflow/python/keras/engine/training.py:1525 predict_step\n        return self(x, training=False)\n    /usr/local/lib/python3.7/dist-packages/tensorflow/python/keras/engine/base_layer.py:1013 __call__\n        input_spec.assert_input_compatibility(self.input_spec, inputs, self.name)\n    /usr/local/lib/python3.7/dist-packages/tensorflow/python/keras/engine/input_spec.py:203 assert_input_compatibility\n        ' input tensors. Inputs received: ' + str(inputs))\n\n    ValueError: Layer multi_input_model_1 expects 2 input(s), but it received 1 input tensors. Inputs received: [<tf.Tensor 'ExpandDims:0' shape=(None, 1) dtype=string>]\n"
          ]
        }
      ]
    },
    {
      "cell_type": "code",
      "metadata": {
        "id": "6HYj63ws4dvq",
        "colab": {
          "base_uri": "https://localhost:8080/"
        },
        "outputId": "bb5c449b-f2fa-4356-c463-d7284b9e574f"
      },
      "source": [
        "pred_classes = pred_probs.argmax(axis = 1)\n",
        "pred_classes[:10]"
      ],
      "execution_count": null,
      "outputs": [
        {
          "output_type": "execute_result",
          "data": {
            "text/plain": [
              "array([1140, 2321,   69,  125, 7644,   33, 3329, 1092, 2637, 3503])"
            ]
          },
          "metadata": {
            "tags": []
          },
          "execution_count": 26
        }
      ]
    },
    {
      "cell_type": "code",
      "metadata": {
        "id": "5pPNfKeK7mAw",
        "colab": {
          "base_uri": "https://localhost:8080/",
          "height": 359
        },
        "outputId": "33edd342-49aa-4d61-8c89-09f94214c913"
      },
      "source": [
        "submission = pd.DataFrame({'PRODUCT_ID': test_data['PRODUCT_ID'].values , \n",
        "                           'BROWSE_NODE_ID': pred_classes})\n",
        "submission.head(10)"
      ],
      "execution_count": null,
      "outputs": [
        {
          "output_type": "execute_result",
          "data": {
            "text/html": [
              "<div>\n",
              "<style scoped>\n",
              "    .dataframe tbody tr th:only-of-type {\n",
              "        vertical-align: middle;\n",
              "    }\n",
              "\n",
              "    .dataframe tbody tr th {\n",
              "        vertical-align: top;\n",
              "    }\n",
              "\n",
              "    .dataframe thead th {\n",
              "        text-align: right;\n",
              "    }\n",
              "</style>\n",
              "<table border=\"1\" class=\"dataframe\">\n",
              "  <thead>\n",
              "    <tr style=\"text-align: right;\">\n",
              "      <th></th>\n",
              "      <th>PRODUCT_ID</th>\n",
              "      <th>BROWSE_NODE_ID</th>\n",
              "    </tr>\n",
              "  </thead>\n",
              "  <tbody>\n",
              "    <tr>\n",
              "      <th>0</th>\n",
              "      <td>1</td>\n",
              "      <td>1140</td>\n",
              "    </tr>\n",
              "    <tr>\n",
              "      <th>1</th>\n",
              "      <td>2</td>\n",
              "      <td>2321</td>\n",
              "    </tr>\n",
              "    <tr>\n",
              "      <th>2</th>\n",
              "      <td>3</td>\n",
              "      <td>69</td>\n",
              "    </tr>\n",
              "    <tr>\n",
              "      <th>3</th>\n",
              "      <td>4</td>\n",
              "      <td>125</td>\n",
              "    </tr>\n",
              "    <tr>\n",
              "      <th>4</th>\n",
              "      <td>5</td>\n",
              "      <td>7644</td>\n",
              "    </tr>\n",
              "    <tr>\n",
              "      <th>5</th>\n",
              "      <td>6</td>\n",
              "      <td>33</td>\n",
              "    </tr>\n",
              "    <tr>\n",
              "      <th>6</th>\n",
              "      <td>7</td>\n",
              "      <td>3329</td>\n",
              "    </tr>\n",
              "    <tr>\n",
              "      <th>7</th>\n",
              "      <td>8</td>\n",
              "      <td>1092</td>\n",
              "    </tr>\n",
              "    <tr>\n",
              "      <th>8</th>\n",
              "      <td>9</td>\n",
              "      <td>2637</td>\n",
              "    </tr>\n",
              "    <tr>\n",
              "      <th>9</th>\n",
              "      <td>10</td>\n",
              "      <td>3503</td>\n",
              "    </tr>\n",
              "  </tbody>\n",
              "</table>\n",
              "</div>"
            ],
            "text/plain": [
              "   PRODUCT_ID  BROWSE_NODE_ID\n",
              "0           1            1140\n",
              "1           2            2321\n",
              "2           3              69\n",
              "3           4             125\n",
              "4           5            7644\n",
              "5           6              33\n",
              "6           7            3329\n",
              "7           8            1092\n",
              "8           9            2637\n",
              "9          10            3503"
            ]
          },
          "metadata": {
            "tags": []
          },
          "execution_count": 29
        }
      ]
    },
    {
      "cell_type": "code",
      "metadata": {
        "id": "JVIslzda72F_",
        "colab": {
          "base_uri": "https://localhost:8080/"
        },
        "outputId": "1d59d72b-5a6e-4ff8-f85e-b25e80f2fc14"
      },
      "source": [
        "submission.shape"
      ],
      "execution_count": null,
      "outputs": [
        {
          "output_type": "execute_result",
          "data": {
            "text/plain": [
              "(110775, 2)"
            ]
          },
          "metadata": {
            "tags": []
          },
          "execution_count": 31
        }
      ]
    },
    {
      "cell_type": "code",
      "metadata": {
        "id": "E2s19PdZ8JrY"
      },
      "source": [
        "submission.to_csv('submission.csv' , index = False)"
      ],
      "execution_count": null,
      "outputs": []
    },
    {
      "cell_type": "code",
      "metadata": {
        "id": "sMMKNde49M9E"
      },
      "source": [
        ""
      ],
      "execution_count": null,
      "outputs": []
    }
  ]
}