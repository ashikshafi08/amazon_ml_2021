{
  "nbformat": 4,
  "nbformat_minor": 0,
  "metadata": {
    "accelerator": "GPU",
    "colab": {
      "name": "Copy of Amazon_ML.ipynb",
      "provenance": [],
      "collapsed_sections": [],
      "machine_shape": "hm",
      "include_colab_link": true
    },
    "kernelspec": {
      "display_name": "Python 3",
      "name": "python3"
    },
    "language_info": {
      "name": "python"
    }
  },
  "cells": [
    {
      "cell_type": "markdown",
      "metadata": {
        "id": "view-in-github",
        "colab_type": "text"
      },
      "source": [
        "<a href=\"https://colab.research.google.com/github/ashikshafi08/amazon_ml_2021/blob/main/Copy_of_Amazon_ML.ipynb\" target=\"_parent\"><img src=\"https://colab.research.google.com/assets/colab-badge.svg\" alt=\"Open In Colab\"/></a>"
      ]
    },
    {
      "cell_type": "code",
      "metadata": {
        "colab": {
          "base_uri": "https://localhost:8080/"
        },
        "id": "F5DcYq6OKl5s",
        "outputId": "6f13fbed-f5f7-48ed-b383-221bcb09ae90"
      },
      "source": [
        "!wget https://s3-ap-southeast-1.amazonaws.com/he-public-data/dataset52a7b21.zip"
      ],
      "execution_count": null,
      "outputs": [
        {
          "output_type": "stream",
          "text": [
            "--2021-07-31 09:40:52--  https://s3-ap-southeast-1.amazonaws.com/he-public-data/dataset52a7b21.zip\n",
            "Resolving s3-ap-southeast-1.amazonaws.com (s3-ap-southeast-1.amazonaws.com)... 52.219.36.37\n",
            "Connecting to s3-ap-southeast-1.amazonaws.com (s3-ap-southeast-1.amazonaws.com)|52.219.36.37|:443... connected.\n",
            "HTTP request sent, awaiting response... 200 OK\n",
            "Length: 1061576029 (1012M) [binary/octet-stream]\n",
            "Saving to: ‘dataset52a7b21.zip’\n",
            "\n",
            "dataset52a7b21.zip    2%[                    ]  23.49M  7.07MB/s    eta 2m 28s ^C\n"
          ],
          "name": "stdout"
        }
      ]
    },
    {
      "cell_type": "code",
      "metadata": {
        "colab": {
          "base_uri": "https://localhost:8080/"
        },
        "id": "uK23eox6Ldvv",
        "outputId": "e8c8ec90-baba-46d1-98aa-668c30be428c"
      },
      "source": [
        "!unzip /content/dataset52a7b21.zip"
      ],
      "execution_count": null,
      "outputs": [
        {
          "output_type": "stream",
          "text": [
            "Archive:  /content/dataset52a7b21.zip\n",
            "  End-of-central-directory signature not found.  Either this file is not\n",
            "  a zipfile, or it constitutes one disk of a multi-part archive.  In the\n",
            "  latter case the central directory and zipfile comment will be found on\n",
            "  the last disk(s) of this archive.\n",
            "unzip:  cannot find zipfile directory in one of /content/dataset52a7b21.zip or\n",
            "        /content/dataset52a7b21.zip.zip, and cannot find /content/dataset52a7b21.zip.ZIP, period.\n"
          ],
          "name": "stdout"
        }
      ]
    },
    {
      "cell_type": "code",
      "metadata": {
        "colab": {
          "base_uri": "https://localhost:8080/"
        },
        "id": "vpu8EvGUL4SW",
        "outputId": "1b23cf6d-d603-42be-bed0-20debbbd14eb"
      },
      "source": [
        "!mv /content/dataset/ /content/drive/MyDrive/"
      ],
      "execution_count": null,
      "outputs": [
        {
          "output_type": "stream",
          "text": [
            "mv: cannot stat '/content/dataset/': No such file or directory\n"
          ],
          "name": "stdout"
        }
      ]
    },
    {
      "cell_type": "code",
      "metadata": {
        "colab": {
          "base_uri": "https://localhost:8080/"
        },
        "id": "pK1UQZ6SvsXA",
        "outputId": "1d80bc53-cef0-4e02-caf4-7d2143186385"
      },
      "source": [
        "from google.colab import drive\n",
        "drive.mount('/content/drive/')"
      ],
      "execution_count": null,
      "outputs": [
        {
          "output_type": "stream",
          "text": [
            "Drive already mounted at /content/drive/; to attempt to forcibly remount, call drive.mount(\"/content/drive/\", force_remount=True).\n"
          ],
          "name": "stdout"
        }
      ]
    },
    {
      "cell_type": "code",
      "metadata": {
        "id": "7BUJynKzvyZt"
      },
      "source": [
        "train_path = '/content/drive/MyDrive/dataset/train.csv'\n",
        "test_path = '/content/drive/MyDrive/dataset/test.csv'\n",
        "sample_sub_path = '/content/drive/MyDrive/dataset/sample_submission.csv'"
      ],
      "execution_count": null,
      "outputs": []
    },
    {
      "cell_type": "code",
      "metadata": {
        "colab": {
          "base_uri": "https://localhost:8080/"
        },
        "id": "wHmqrbzfLvsd",
        "outputId": "2d1d3e37-03e8-436f-b00d-e6eb25d64059"
      },
      "source": [
        "from google.colab import drive\n",
        "drive.mount('/content/drive')"
      ],
      "execution_count": null,
      "outputs": [
        {
          "output_type": "stream",
          "text": [
            "Mounted at /content/drive\n"
          ],
          "name": "stdout"
        }
      ]
    },
    {
      "cell_type": "code",
      "metadata": {
        "id": "mpZQM5IEwS4t"
      },
      "source": [
        "import pandas as pd \n",
        "import numpy as np \n",
        "import matplotlib.pyplot as plt\n",
        "import csv"
      ],
      "execution_count": null,
      "outputs": []
    },
    {
      "cell_type": "code",
      "metadata": {
        "id": "9KO3umLixP5I"
      },
      "source": [
        "# Loading in the data \n",
        "train_data = pd.read_csv(train_path , escapechar = \"\\\\\" , quoting = csv.QUOTE_NONE)\n",
        "\n",
        "# Loading the test dataset \n",
        "test_data = pd.read_csv(test_path , escapechar = \"\\\\\" , quoting = csv.QUOTE_NONE)\n",
        "# # Sample submission \n",
        "sample_sub = pd.read_csv(sample_sub_path , escapechar = \"\\\\\" , quoting = csv.QUOTE_NONE)\n",
        "\n"
      ],
      "execution_count": null,
      "outputs": []
    },
    {
      "cell_type": "markdown",
      "metadata": {
        "id": "NGCmZ4SS0eAL"
      },
      "source": [
        "## Working with a subset "
      ]
    },
    {
      "cell_type": "code",
      "metadata": {
        "colab": {
          "base_uri": "https://localhost:8080/",
          "height": 202
        },
        "id": "5LP89cw93TZV",
        "outputId": "0c52c22a-c9d3-43ff-af18-a364ea0c8b97"
      },
      "source": [
        "test_data.head()"
      ],
      "execution_count": null,
      "outputs": [
        {
          "output_type": "execute_result",
          "data": {
            "text/html": [
              "<div>\n",
              "<style scoped>\n",
              "    .dataframe tbody tr th:only-of-type {\n",
              "        vertical-align: middle;\n",
              "    }\n",
              "\n",
              "    .dataframe tbody tr th {\n",
              "        vertical-align: top;\n",
              "    }\n",
              "\n",
              "    .dataframe thead th {\n",
              "        text-align: right;\n",
              "    }\n",
              "</style>\n",
              "<table border=\"1\" class=\"dataframe\">\n",
              "  <thead>\n",
              "    <tr style=\"text-align: right;\">\n",
              "      <th></th>\n",
              "      <th>PRODUCT_ID</th>\n",
              "      <th>TITLE</th>\n",
              "      <th>DESCRIPTION</th>\n",
              "      <th>BULLET_POINTS</th>\n",
              "      <th>BRAND</th>\n",
              "    </tr>\n",
              "  </thead>\n",
              "  <tbody>\n",
              "    <tr>\n",
              "      <th>0</th>\n",
              "      <td>1</td>\n",
              "      <td>Command 3M Small Kitchen Hooks, White, Decorat...</td>\n",
              "      <td>Sale Unit: PACK</td>\n",
              "      <td>[INCLUDES - 9 hooks and 12 small indoor strips...</td>\n",
              "      <td>Command</td>\n",
              "    </tr>\n",
              "    <tr>\n",
              "      <th>1</th>\n",
              "      <td>2</td>\n",
              "      <td>O'Neal Jump Hardware JAG Unisex-Adult Glove (B...</td>\n",
              "      <td>Synthetic leather palm with double-layer thumb...</td>\n",
              "      <td>[Silicone printing for a better grip. Long las...</td>\n",
              "      <td>O'Neal</td>\n",
              "    </tr>\n",
              "    <tr>\n",
              "      <th>2</th>\n",
              "      <td>3</td>\n",
              "      <td>NFL Detroit Lions Portable Party Fridge, 15.8 ...</td>\n",
              "      <td>Boelter Brands lets you celebrate your favorit...</td>\n",
              "      <td>[Runs on 12 Volt DC Power or 110 Volt AC Power...</td>\n",
              "      <td>Boelter Brands</td>\n",
              "    </tr>\n",
              "    <tr>\n",
              "      <th>3</th>\n",
              "      <td>4</td>\n",
              "      <td>Panasonic Single Line KX-TS880MX Corded Phone ...</td>\n",
              "      <td>Features: 50 Station Phonebook Corded Phone Al...</td>\n",
              "      <td>Panasonic Landline Phones doesn't come with a ...</td>\n",
              "      <td>Panasonic</td>\n",
              "    </tr>\n",
              "    <tr>\n",
              "      <th>4</th>\n",
              "      <td>5</td>\n",
              "      <td>Zero Baby Girl's 100% Cotton Innerwear Bloomer...</td>\n",
              "      <td>Zero Baby Girl Panties Set. 100% Cotton, Breat...</td>\n",
              "      <td>[Zero Baby Girl Panties, Pack of 6, 100% Cotto...</td>\n",
              "      <td>Zero</td>\n",
              "    </tr>\n",
              "  </tbody>\n",
              "</table>\n",
              "</div>"
            ],
            "text/plain": [
              "   PRODUCT_ID  ...           BRAND\n",
              "0           1  ...         Command\n",
              "1           2  ...          O'Neal\n",
              "2           3  ...  Boelter Brands\n",
              "3           4  ...       Panasonic\n",
              "4           5  ...            Zero\n",
              "\n",
              "[5 rows x 5 columns]"
            ]
          },
          "metadata": {
            "tags": []
          },
          "execution_count": 5
        }
      ]
    },
    {
      "cell_type": "code",
      "metadata": {
        "id": "qa9pxpHn3W6j"
      },
      "source": [
        ""
      ],
      "execution_count": null,
      "outputs": []
    },
    {
      "cell_type": "markdown",
      "metadata": {
        "id": "akVU_BMo_5Fk"
      },
      "source": [
        "#### Multi-Input Model "
      ]
    },
    {
      "cell_type": "code",
      "metadata": {
        "id": "AUK3EvjLxVIk"
      },
      "source": [
        "# Getting the subset of the sample \n",
        "train_sample = train_data.sample(frac= 1 , random_state= 42)\n",
        "#val_sample = train_data.sample(frac = 0.1 , random_state= 3)"
      ],
      "execution_count": null,
      "outputs": []
    },
    {
      "cell_type": "code",
      "metadata": {
        "id": "s6UOfWp_ZiX9"
      },
      "source": [
        "# X = train_sample.drop('BROWSE_NODE_ID' , axis = 1)\n",
        "# y = train_sample['BROWSE_NODE_ID']\n",
        "\n",
        "# X.shape , y.shape\n",
        "# # from sklearn.model_selection import StratifiedShuffleSplit\n",
        "# # strat_split = StratifiedShuffleSplit(n_splits = 1 , test_size = 0.3 , train_size= 0.7  , random_state = 42)\n",
        "# train_sample.head().T\n",
        "# y\n",
        "\n",
        "# for train_index , test_index in strat_split.split(X, y):\n",
        "#   X_train , X_test = X[train_index] , X[test_index]\n",
        "#   y_train , y_test = y[train_index] , y[test_index]\n",
        "# train_sample.BROWSE_NODE_ID.value_counts()\n",
        "# train_sample.shape , val_sample.shape\n",
        "# train_sample.head()\n",
        "# test_data.head(10)\n",
        "# train_data.isna().sum()\n",
        "# train_sample['Info'] = train_sample.DESCRIPTION.astype(str) + '  '+  train_sample.BULLET_POINTS.astype(str)\n",
        "# train_sample.head(10)\n",
        "# train_sample['BULLET_POINTS']\n",
        "# train_sample['BROWSE_NODE_ID']\n",
        "# train_sample[['TITLE' , 'Info']].values"
      ],
      "execution_count": null,
      "outputs": []
    },
    {
      "cell_type": "code",
      "metadata": {
        "colab": {
          "base_uri": "https://localhost:8080/",
          "height": 202
        },
        "id": "ZptXdOTg9PBQ",
        "outputId": "8b534c0f-4378-47cb-f4f7-135b7df7bf09"
      },
      "source": [
        "new_train_sample = train_sample.copy()\n",
        "new_train_sample.head()"
      ],
      "execution_count": null,
      "outputs": [
        {
          "output_type": "execute_result",
          "data": {
            "text/html": [
              "<div>\n",
              "<style scoped>\n",
              "    .dataframe tbody tr th:only-of-type {\n",
              "        vertical-align: middle;\n",
              "    }\n",
              "\n",
              "    .dataframe tbody tr th {\n",
              "        vertical-align: top;\n",
              "    }\n",
              "\n",
              "    .dataframe thead th {\n",
              "        text-align: right;\n",
              "    }\n",
              "</style>\n",
              "<table border=\"1\" class=\"dataframe\">\n",
              "  <thead>\n",
              "    <tr style=\"text-align: right;\">\n",
              "      <th></th>\n",
              "      <th>TITLE</th>\n",
              "      <th>DESCRIPTION</th>\n",
              "      <th>BULLET_POINTS</th>\n",
              "      <th>BRAND</th>\n",
              "      <th>BROWSE_NODE_ID</th>\n",
              "    </tr>\n",
              "  </thead>\n",
              "  <tbody>\n",
              "    <tr>\n",
              "      <th>2297143</th>\n",
              "      <td>Amsik®Blind Spot Round Mirror Black, (Real Gla...</td>\n",
              "      <td>The mirrors easily mount to the vehicle's left...</td>\n",
              "      <td>[It is small, but it is smart mirror, and work...</td>\n",
              "      <td>AMSIK</td>\n",
              "      <td>32296</td>\n",
              "    </tr>\n",
              "    <tr>\n",
              "      <th>2078681</th>\n",
              "      <td>Nivea Face Sun Block Whitening Cream SPF 50 Pa...</td>\n",
              "      <td>Nivea Sun Fac Sun Block Whitening Cream Spf 50...</td>\n",
              "      <td>NIVEA face SUN Block Whitening Cream SPF 50 PA ++</td>\n",
              "      <td>Nivea</td>\n",
              "      <td>35</td>\n",
              "    </tr>\n",
              "    <tr>\n",
              "      <th>1125035</th>\n",
              "      <td>ROZVEH Women's Shift Brown Dress</td>\n",
              "      <td>&lt;p&gt;Super Fine Rayon,&amp;nbsp;Brown Floral Print d...</td>\n",
              "      <td>[Material: Super Fine Rayon, Brown Floral Prin...</td>\n",
              "      <td>ROZVEH</td>\n",
              "      <td>1724</td>\n",
              "    </tr>\n",
              "    <tr>\n",
              "      <th>1928801</th>\n",
              "      <td>Narayan Creation Pashmina Palazzo Suit Dupatta...</td>\n",
              "      <td>Narayan creatins pashmina unstitched palazzo s...</td>\n",
              "      <td>NaN</td>\n",
              "      <td>Generic</td>\n",
              "      <td>465</td>\n",
              "    </tr>\n",
              "    <tr>\n",
              "      <th>864509</th>\n",
              "      <td>Q-rious Women's Silicon Strap Spagettis/Camiso...</td>\n",
              "      <td>Trendy Q-rious Spagetti with sequin detachable...</td>\n",
              "      <td>[Silicon and Elastic strap option,Detachable S...</td>\n",
              "      <td>Q-rious</td>\n",
              "      <td>2003</td>\n",
              "    </tr>\n",
              "  </tbody>\n",
              "</table>\n",
              "</div>"
            ],
            "text/plain": [
              "                                                     TITLE  ... BROWSE_NODE_ID\n",
              "2297143  Amsik®Blind Spot Round Mirror Black, (Real Gla...  ...          32296\n",
              "2078681  Nivea Face Sun Block Whitening Cream SPF 50 Pa...  ...             35\n",
              "1125035                   ROZVEH Women's Shift Brown Dress  ...           1724\n",
              "1928801  Narayan Creation Pashmina Palazzo Suit Dupatta...  ...            465\n",
              "864509   Q-rious Women's Silicon Strap Spagettis/Camiso...  ...           2003\n",
              "\n",
              "[5 rows x 5 columns]"
            ]
          },
          "metadata": {
            "tags": []
          },
          "execution_count": 9
        }
      ]
    },
    {
      "cell_type": "code",
      "metadata": {
        "id": "hGlXBdsz_FE9"
      },
      "source": [
        "new_train_sample = new_train_sample.drop(columns = [] , axis = 1)"
      ],
      "execution_count": null,
      "outputs": []
    },
    {
      "cell_type": "code",
      "metadata": {
        "colab": {
          "base_uri": "https://localhost:8080/",
          "height": 414
        },
        "id": "9lTJuxCo_cfB",
        "outputId": "c3de170f-3309-400b-b1d0-85d3d5e0834b"
      },
      "source": [
        "new_train_sample"
      ],
      "execution_count": null,
      "outputs": [
        {
          "output_type": "execute_result",
          "data": {
            "text/html": [
              "<div>\n",
              "<style scoped>\n",
              "    .dataframe tbody tr th:only-of-type {\n",
              "        vertical-align: middle;\n",
              "    }\n",
              "\n",
              "    .dataframe tbody tr th {\n",
              "        vertical-align: top;\n",
              "    }\n",
              "\n",
              "    .dataframe thead th {\n",
              "        text-align: right;\n",
              "    }\n",
              "</style>\n",
              "<table border=\"1\" class=\"dataframe\">\n",
              "  <thead>\n",
              "    <tr style=\"text-align: right;\">\n",
              "      <th></th>\n",
              "      <th>TITLE</th>\n",
              "      <th>BRAND</th>\n",
              "      <th>BROWSE_NODE_ID</th>\n",
              "    </tr>\n",
              "  </thead>\n",
              "  <tbody>\n",
              "    <tr>\n",
              "      <th>2297143</th>\n",
              "      <td>Amsik®Blind Spot Round Mirror Black, (Real Gla...</td>\n",
              "      <td>AMSIK</td>\n",
              "      <td>32296</td>\n",
              "    </tr>\n",
              "    <tr>\n",
              "      <th>2078681</th>\n",
              "      <td>Nivea Face Sun Block Whitening Cream SPF 50 Pa...</td>\n",
              "      <td>Nivea</td>\n",
              "      <td>35</td>\n",
              "    </tr>\n",
              "    <tr>\n",
              "      <th>1125035</th>\n",
              "      <td>ROZVEH Women's Shift Brown Dress</td>\n",
              "      <td>ROZVEH</td>\n",
              "      <td>1724</td>\n",
              "    </tr>\n",
              "    <tr>\n",
              "      <th>1928801</th>\n",
              "      <td>Narayan Creation Pashmina Palazzo Suit Dupatta...</td>\n",
              "      <td>Generic</td>\n",
              "      <td>465</td>\n",
              "    </tr>\n",
              "    <tr>\n",
              "      <th>864509</th>\n",
              "      <td>Q-rious Women's Silicon Strap Spagettis/Camiso...</td>\n",
              "      <td>Q-rious</td>\n",
              "      <td>2003</td>\n",
              "    </tr>\n",
              "    <tr>\n",
              "      <th>...</th>\n",
              "      <td>...</td>\n",
              "      <td>...</td>\n",
              "      <td>...</td>\n",
              "    </tr>\n",
              "    <tr>\n",
              "      <th>1692743</th>\n",
              "      <td>Zemic Baby Waterproof Double Sided Mat (6 X 5 ...</td>\n",
              "      <td>Zemic</td>\n",
              "      <td>1217</td>\n",
              "    </tr>\n",
              "    <tr>\n",
              "      <th>2356330</th>\n",
              "      <td>The Design Cart Stainless Steel Style A Needle...</td>\n",
              "      <td>The Design Cart</td>\n",
              "      <td>21895</td>\n",
              "    </tr>\n",
              "    <tr>\n",
              "      <th>2229084</th>\n",
              "      <td>SOCH Women's Cotton Straight Kurta NC KT 4402-...</td>\n",
              "      <td>Soch</td>\n",
              "      <td>1251</td>\n",
              "    </tr>\n",
              "    <tr>\n",
              "      <th>2768307</th>\n",
              "      <td>Kuber Industries 100 Percent Cotton 144 TC Sin...</td>\n",
              "      <td>Kuber Industries</td>\n",
              "      <td>1084</td>\n",
              "    </tr>\n",
              "    <tr>\n",
              "      <th>2219110</th>\n",
              "      <td>MEDHA D.J. PLUS Professional SSA-250 Karoke PA...</td>\n",
              "      <td>MEDHA D.J. PLUS</td>\n",
              "      <td>45027</td>\n",
              "    </tr>\n",
              "  </tbody>\n",
              "</table>\n",
              "<p>2903024 rows × 3 columns</p>\n",
              "</div>"
            ],
            "text/plain": [
              "                                                     TITLE  ... BROWSE_NODE_ID\n",
              "2297143  Amsik®Blind Spot Round Mirror Black, (Real Gla...  ...          32296\n",
              "2078681  Nivea Face Sun Block Whitening Cream SPF 50 Pa...  ...             35\n",
              "1125035                   ROZVEH Women's Shift Brown Dress  ...           1724\n",
              "1928801  Narayan Creation Pashmina Palazzo Suit Dupatta...  ...            465\n",
              "864509   Q-rious Women's Silicon Strap Spagettis/Camiso...  ...           2003\n",
              "...                                                    ...  ...            ...\n",
              "1692743  Zemic Baby Waterproof Double Sided Mat (6 X 5 ...  ...           1217\n",
              "2356330  The Design Cart Stainless Steel Style A Needle...  ...          21895\n",
              "2229084  SOCH Women's Cotton Straight Kurta NC KT 4402-...  ...           1251\n",
              "2768307  Kuber Industries 100 Percent Cotton 144 TC Sin...  ...           1084\n",
              "2219110  MEDHA D.J. PLUS Professional SSA-250 Karoke PA...  ...          45027\n",
              "\n",
              "[2903024 rows x 3 columns]"
            ]
          },
          "metadata": {
            "tags": []
          },
          "execution_count": 23
        }
      ]
    },
    {
      "cell_type": "code",
      "metadata": {
        "id": "ejyDKjPVTHMc"
      },
      "source": [
        "# Are there 9919 classes \n",
        "(new_train_sample.BROWSE_NODE_ID > 9919)\n",
        "new_train_sample = new_train_sample.drop(new_train_sample[new_train_sample.BROWSE_NODE_ID > 9919].index,axis = 0 )"
      ],
      "execution_count": null,
      "outputs": []
    },
    {
      "cell_type": "markdown",
      "metadata": {
        "id": "5yjmkId4_gZe"
      },
      "source": [
        "# Creating a token level embedding "
      ]
    },
    {
      "cell_type": "code",
      "metadata": {
        "id": "Lp84lqn5EzKz"
      },
      "source": [
        "# # Picking up the train text data \n",
        "# info_train_sentences = new_train_sample['Info'].to_list()\n",
        "# title_train_sentences = new_train_sample['TITLE'].astype(str).to_list()\n",
        "\n",
        "# # Now our val dataset \n",
        "\n",
        "\n",
        "# len(info_train_sentences) , len(title_train_sentences)\n",
        "\n",
        "# title_train_sentences[:10]\n",
        "# # Average sequence length \n",
        "# info_sent_lens = [len(sentence.split()) for sentence in info_train_sentences]\n",
        "# title_sent_lens = [len(title.split()) for title in title_train_sentences]\n",
        "\n",
        "# avg_sent_len_info = np.mean(info_sent_lens)\n",
        "# avg_sent_len_title = np.mean(title_sent_lens)\n",
        "\n",
        "# avg_sent_len_info , avg_sent_len_title\n",
        "# round(avg_sent_len_info) , round(avg_sent_len_title)\n",
        "# # Distribution of the tokens \n",
        "# plt.hist(info_sent_lens , bins = 7);\n",
        "# plt.hist(title_sent_lens , bins = 7);\n",
        "# # How long of a sentence covers 95% of a length \n",
        "# info_output_seq_len = int(np.percentile(info_sent_lens , 95))\n",
        "# title_output_seq_len = int(np.percentile(title_sent_lens , 95))\n",
        "\n",
        "# info_output_seq_len , title_output_seq_len\n",
        "# # Maximum sentence in the training sentence of both info and title \n",
        "# max(info_sent_lens) , max(title_sent_lens)\n",
        "# round(len(info_train_sentences) / 6)\n",
        "# from random import sample \n",
        "# little_info_train_sentences = sample(info_train_sentences ,683837)\n",
        "# len(little_info_train_sentences)\n",
        "# # Creating a text vectorizer layer for info (token level embedding)\n",
        "# from tensorflow.keras.layers.experimental.preprocessing import TextVectorization\n",
        "\n",
        "# info_text_vect_token_layer = TextVectorization(max_tokens= 5000 , \n",
        "#                                                output_sequence_length = info_output_seq_len)\n",
        "\n",
        "# # Adapting the layer on the train data \n",
        "# info_text_vect_token_layer.adapt(little_info_train_sentences)\n",
        "# # Test out text vectorizer\n",
        "# import random\n",
        "# target_sentence = random.choice(info_train_sentences)\n",
        "# print(f\"Text:\\n{target_sentence}\")\n",
        "# print(f\"\\nLength of text: {len(target_sentence.split())}\")\n",
        "# print(f\"\\nVectorized text:\\n{info_text_vect_token_layer([target_sentence])}\")\n",
        "# # Creating a text vectorizer layer for title (token level embedding)\n",
        "# from tensorflow.keras.layers.experimental.preprocessing import TextVectorization\n",
        "\n",
        "# title_text_vect_token_layer = TextVectorization(max_tokens= 3000 , \n",
        "#                                                output_sequence_length = title_output_seq_len)\n",
        "\n",
        "# # Adapting the layer on the train data \n",
        "# title_text_vect_token_layer.adapt(title_train_sentences)\n",
        "# # Test out text vectorizer (title)\n",
        "# import random\n",
        "# target_sentence = random.choice(title_train_sentences)\n",
        "# print(f\"Text:\\n{target_sentence}\")\n",
        "# print(f\"\\nLength of text: {len(target_sentence.split())}\")\n",
        "# print(f\"\\nVectorized text:\\n{title_text_vect_token_layer([target_sentence])}\")\n",
        "# # Now one hot encoding the labels \n",
        "# from sklearn.preprocessing import OneHotEncoder\n",
        "# one_hot_encoder = OneHotEncoder(sparse = False)\n",
        "# sample_train_labels_one_hot = one_hot_encoder.fit_transform()"
      ],
      "execution_count": null,
      "outputs": []
    },
    {
      "cell_type": "markdown",
      "metadata": {
        "id": "cxHNBd9rRKhY"
      },
      "source": [
        "# trying to make model with universal scentence encoder \n"
      ]
    },
    {
      "cell_type": "code",
      "metadata": {
        "id": "CkxACaimRRG6"
      },
      "source": [
        "import tensorflow_hub as hub\n",
        "import tensorflow as tf"
      ],
      "execution_count": null,
      "outputs": []
    },
    {
      "cell_type": "code",
      "metadata": {
        "id": "BMSZgYIDfV3x"
      },
      "source": [
        "new_train_sample = new_train_sample.drop(new_train_sample[new_train_sample.TITLE.isna()].index, axis = 0 )"
      ],
      "execution_count": null,
      "outputs": []
    },
    {
      "cell_type": "code",
      "metadata": {
        "colab": {
          "base_uri": "https://localhost:8080/"
        },
        "id": "D6GbIfRzZfK4",
        "outputId": "61ff4246-6a83-47d3-c1b5-4e4feafc615d"
      },
      "source": [
        "new_train_sample.isna().sum()"
      ],
      "execution_count": null,
      "outputs": [
        {
          "output_type": "execute_result",
          "data": {
            "text/plain": [
              "TITLE                  0\n",
              "DESCRIPTION       652846\n",
              "BULLET_POINTS     141130\n",
              "BRAND              48577\n",
              "BROWSE_NODE_ID         0\n",
              "dtype: int64"
            ]
          },
          "metadata": {
            "tags": []
          },
          "execution_count": 12
        }
      ]
    },
    {
      "cell_type": "code",
      "metadata": {
        "id": "QBwo53_iZyty"
      },
      "source": [
        ""
      ],
      "execution_count": null,
      "outputs": []
    },
    {
      "cell_type": "code",
      "metadata": {
        "id": "LTDiaOOxTBwd"
      },
      "source": [
        "base_layer_1 = hub.KerasLayer('https://tfhub.dev/google/universal-sentence-encoder/4',trainable = False)\n"
      ],
      "execution_count": null,
      "outputs": []
    },
    {
      "cell_type": "code",
      "metadata": {
        "colab": {
          "base_uri": "https://localhost:8080/",
          "height": 238
        },
        "id": "KbvrlSr_RfRf",
        "outputId": "d9c319ad-50bc-45d3-f6f5-c9870fd2260f"
      },
      "source": [
        "inputs = tf.keras.layers.Input(shape = [], dtype = tf.string)\n",
        "x = base_layer_1(inputs)\n",
        "x = tf.keras.layers.Dense(264, activation = 'relu')(x)\n",
        "x = tf.keras.layers.Dense(128, activation= 'relu')(x)\n",
        "outputs = tf.keras.layers.Dense(9919, activation ='softmax')(x)\n",
        "model = tf.keras.Model(inputs, outputs)"
      ],
      "execution_count": null,
      "outputs": [
        {
          "output_type": "error",
          "ename": "NameError",
          "evalue": "ignored",
          "traceback": [
            "\u001b[0;31m---------------------------------------------------------------------------\u001b[0m",
            "\u001b[0;31mNameError\u001b[0m                                 Traceback (most recent call last)",
            "\u001b[0;32m<ipython-input-17-94640ddb80d1>\u001b[0m in \u001b[0;36m<module>\u001b[0;34m()\u001b[0m\n\u001b[1;32m      1\u001b[0m \u001b[0minputs\u001b[0m \u001b[0;34m=\u001b[0m \u001b[0mtf\u001b[0m\u001b[0;34m.\u001b[0m\u001b[0mkeras\u001b[0m\u001b[0;34m.\u001b[0m\u001b[0mlayers\u001b[0m\u001b[0;34m.\u001b[0m\u001b[0mInput\u001b[0m\u001b[0;34m(\u001b[0m\u001b[0mshape\u001b[0m \u001b[0;34m=\u001b[0m \u001b[0;34m[\u001b[0m\u001b[0;34m]\u001b[0m\u001b[0;34m,\u001b[0m \u001b[0mdtype\u001b[0m \u001b[0;34m=\u001b[0m \u001b[0mtf\u001b[0m\u001b[0;34m.\u001b[0m\u001b[0mstring\u001b[0m\u001b[0;34m)\u001b[0m\u001b[0;34m\u001b[0m\u001b[0;34m\u001b[0m\u001b[0m\n\u001b[0;32m----> 2\u001b[0;31m \u001b[0mx\u001b[0m \u001b[0;34m=\u001b[0m \u001b[0mbase_layer\u001b[0m\u001b[0;34m(\u001b[0m\u001b[0minputs\u001b[0m\u001b[0;34m)\u001b[0m\u001b[0;34m\u001b[0m\u001b[0;34m\u001b[0m\u001b[0m\n\u001b[0m\u001b[1;32m      3\u001b[0m \u001b[0mx\u001b[0m \u001b[0;34m=\u001b[0m \u001b[0mtf\u001b[0m\u001b[0;34m.\u001b[0m\u001b[0mkeras\u001b[0m\u001b[0;34m.\u001b[0m\u001b[0mlayers\u001b[0m\u001b[0;34m.\u001b[0m\u001b[0mDense\u001b[0m\u001b[0;34m(\u001b[0m\u001b[0;36m264\u001b[0m\u001b[0;34m,\u001b[0m \u001b[0mactivation\u001b[0m \u001b[0;34m=\u001b[0m \u001b[0;34m'relu'\u001b[0m\u001b[0;34m)\u001b[0m\u001b[0;34m(\u001b[0m\u001b[0mx\u001b[0m\u001b[0;34m)\u001b[0m\u001b[0;34m\u001b[0m\u001b[0;34m\u001b[0m\u001b[0m\n\u001b[1;32m      4\u001b[0m \u001b[0mx\u001b[0m \u001b[0;34m=\u001b[0m \u001b[0mtf\u001b[0m\u001b[0;34m.\u001b[0m\u001b[0mkeras\u001b[0m\u001b[0;34m.\u001b[0m\u001b[0mlayers\u001b[0m\u001b[0;34m.\u001b[0m\u001b[0mDense\u001b[0m\u001b[0;34m(\u001b[0m\u001b[0;36m128\u001b[0m\u001b[0;34m,\u001b[0m \u001b[0mactivation\u001b[0m\u001b[0;34m=\u001b[0m \u001b[0;34m'relu'\u001b[0m\u001b[0;34m)\u001b[0m\u001b[0;34m(\u001b[0m\u001b[0mx\u001b[0m\u001b[0;34m)\u001b[0m\u001b[0;34m\u001b[0m\u001b[0;34m\u001b[0m\u001b[0m\n\u001b[1;32m      5\u001b[0m \u001b[0moutputs\u001b[0m \u001b[0;34m=\u001b[0m \u001b[0mtf\u001b[0m\u001b[0;34m.\u001b[0m\u001b[0mkeras\u001b[0m\u001b[0;34m.\u001b[0m\u001b[0mlayers\u001b[0m\u001b[0;34m.\u001b[0m\u001b[0mDense\u001b[0m\u001b[0;34m(\u001b[0m\u001b[0;36m9919\u001b[0m\u001b[0;34m,\u001b[0m \u001b[0mactivation\u001b[0m \u001b[0;34m=\u001b[0m\u001b[0;34m'softmax'\u001b[0m\u001b[0;34m)\u001b[0m\u001b[0;34m(\u001b[0m\u001b[0mx\u001b[0m\u001b[0;34m)\u001b[0m\u001b[0;34m\u001b[0m\u001b[0;34m\u001b[0m\u001b[0m\n",
            "\u001b[0;31mNameError\u001b[0m: name 'base_layer' is not defined"
          ]
        }
      ]
    },
    {
      "cell_type": "code",
      "metadata": {
        "id": "wvAuC5nOWjKe"
      },
      "source": [
        "model.summary()"
      ],
      "execution_count": null,
      "outputs": []
    },
    {
      "cell_type": "code",
      "metadata": {
        "id": "7H_v5jUVWog_"
      },
      "source": [
        "model.compile(loss =tf.keras.losses.sparse_categorical_crossentropy, \n",
        "              optimizer = tf.keras.optimizers.Adam(), \n",
        "              metrics = 'accuracy')"
      ],
      "execution_count": null,
      "outputs": []
    },
    {
      "cell_type": "code",
      "metadata": {
        "id": "mYQuLj407KlF"
      },
      "source": [
        "new_train_sample['BRAND_DESC']= new_train_sample['BRAND'] + new_train_sample['DESCRIPTION']"
      ],
      "execution_count": null,
      "outputs": []
    },
    {
      "cell_type": "code",
      "metadata": {
        "colab": {
          "base_uri": "https://localhost:8080/",
          "height": 202
        },
        "id": "th5XOfXt7YOk",
        "outputId": "ec8d69f8-75ff-46ba-da6a-ad886c25636e"
      },
      "source": [
        "new_train_sample.head()"
      ],
      "execution_count": null,
      "outputs": [
        {
          "output_type": "execute_result",
          "data": {
            "text/html": [
              "<div>\n",
              "<style scoped>\n",
              "    .dataframe tbody tr th:only-of-type {\n",
              "        vertical-align: middle;\n",
              "    }\n",
              "\n",
              "    .dataframe tbody tr th {\n",
              "        vertical-align: top;\n",
              "    }\n",
              "\n",
              "    .dataframe thead th {\n",
              "        text-align: right;\n",
              "    }\n",
              "</style>\n",
              "<table border=\"1\" class=\"dataframe\">\n",
              "  <thead>\n",
              "    <tr style=\"text-align: right;\">\n",
              "      <th></th>\n",
              "      <th>TITLE</th>\n",
              "      <th>DESCRIPTION</th>\n",
              "      <th>BULLET_POINTS</th>\n",
              "      <th>BRAND</th>\n",
              "      <th>BROWSE_NODE_ID</th>\n",
              "      <th>BRAND_DESC</th>\n",
              "    </tr>\n",
              "  </thead>\n",
              "  <tbody>\n",
              "    <tr>\n",
              "      <th>2078681</th>\n",
              "      <td>Nivea Face Sun Block Whitening Cream SPF 50 Pa...</td>\n",
              "      <td>Nivea Sun Fac Sun Block Whitening Cream Spf 50...</td>\n",
              "      <td>NIVEA face SUN Block Whitening Cream SPF 50 PA ++</td>\n",
              "      <td>Nivea</td>\n",
              "      <td>35</td>\n",
              "      <td>NiveaNivea Sun Fac Sun Block Whitening Cream S...</td>\n",
              "    </tr>\n",
              "    <tr>\n",
              "      <th>1125035</th>\n",
              "      <td>ROZVEH Women's Shift Brown Dress</td>\n",
              "      <td>&lt;p&gt;Super Fine Rayon,&amp;nbsp;Brown Floral Print d...</td>\n",
              "      <td>[Material: Super Fine Rayon, Brown Floral Prin...</td>\n",
              "      <td>ROZVEH</td>\n",
              "      <td>1724</td>\n",
              "      <td>ROZVEH&lt;p&gt;Super Fine Rayon,&amp;nbsp;Brown Floral P...</td>\n",
              "    </tr>\n",
              "    <tr>\n",
              "      <th>1928801</th>\n",
              "      <td>Narayan Creation Pashmina Palazzo Suit Dupatta...</td>\n",
              "      <td>Narayan creatins pashmina unstitched palazzo s...</td>\n",
              "      <td>NaN</td>\n",
              "      <td>Generic</td>\n",
              "      <td>465</td>\n",
              "      <td>GenericNarayan creatins pashmina unstitched pa...</td>\n",
              "    </tr>\n",
              "    <tr>\n",
              "      <th>864509</th>\n",
              "      <td>Q-rious Women's Silicon Strap Spagettis/Camiso...</td>\n",
              "      <td>Trendy Q-rious Spagetti with sequin detachable...</td>\n",
              "      <td>[Silicon and Elastic strap option,Detachable S...</td>\n",
              "      <td>Q-rious</td>\n",
              "      <td>2003</td>\n",
              "      <td>Q-riousTrendy Q-rious Spagetti with sequin det...</td>\n",
              "    </tr>\n",
              "    <tr>\n",
              "      <th>1613202</th>\n",
              "      <td>Hanes Men's Pullover EcoSmart Fleece Hooded Sw...</td>\n",
              "      <td>NaN</td>\n",
              "      <td>[Made with a portion of recycled polyester,Pat...</td>\n",
              "      <td>Hanes</td>\n",
              "      <td>3355</td>\n",
              "      <td>NaN</td>\n",
              "    </tr>\n",
              "  </tbody>\n",
              "</table>\n",
              "</div>"
            ],
            "text/plain": [
              "                                                     TITLE  ...                                         BRAND_DESC\n",
              "2078681  Nivea Face Sun Block Whitening Cream SPF 50 Pa...  ...  NiveaNivea Sun Fac Sun Block Whitening Cream S...\n",
              "1125035                   ROZVEH Women's Shift Brown Dress  ...  ROZVEH<p>Super Fine Rayon,&nbsp;Brown Floral P...\n",
              "1928801  Narayan Creation Pashmina Palazzo Suit Dupatta...  ...  GenericNarayan creatins pashmina unstitched pa...\n",
              "864509   Q-rious Women's Silicon Strap Spagettis/Camiso...  ...  Q-riousTrendy Q-rious Spagetti with sequin det...\n",
              "1613202  Hanes Men's Pullover EcoSmart Fleece Hooded Sw...  ...                                                NaN\n",
              "\n",
              "[5 rows x 6 columns]"
            ]
          },
          "metadata": {
            "tags": []
          },
          "execution_count": 14
        }
      ]
    },
    {
      "cell_type": "code",
      "metadata": {
        "id": "6bB_KbHl7av1"
      },
      "source": [
        "new_train_sample = new_train_sample.drop(columns = ['DESCRIPTION','BULLET_POINTS','BRAND'],axis = 1 )"
      ],
      "execution_count": null,
      "outputs": []
    },
    {
      "cell_type": "code",
      "metadata": {
        "colab": {
          "base_uri": "https://localhost:8080/",
          "height": 202
        },
        "id": "2FkV3ntX7wfC",
        "outputId": "f12b18bd-93a5-4395-9970-8d38b53fa4ab"
      },
      "source": [
        "new_train_sample.head()"
      ],
      "execution_count": null,
      "outputs": [
        {
          "output_type": "execute_result",
          "data": {
            "text/html": [
              "<div>\n",
              "<style scoped>\n",
              "    .dataframe tbody tr th:only-of-type {\n",
              "        vertical-align: middle;\n",
              "    }\n",
              "\n",
              "    .dataframe tbody tr th {\n",
              "        vertical-align: top;\n",
              "    }\n",
              "\n",
              "    .dataframe thead th {\n",
              "        text-align: right;\n",
              "    }\n",
              "</style>\n",
              "<table border=\"1\" class=\"dataframe\">\n",
              "  <thead>\n",
              "    <tr style=\"text-align: right;\">\n",
              "      <th></th>\n",
              "      <th>TITLE</th>\n",
              "      <th>BROWSE_NODE_ID</th>\n",
              "      <th>BRAND_DESC</th>\n",
              "    </tr>\n",
              "  </thead>\n",
              "  <tbody>\n",
              "    <tr>\n",
              "      <th>2078681</th>\n",
              "      <td>Nivea Face Sun Block Whitening Cream SPF 50 Pa...</td>\n",
              "      <td>35</td>\n",
              "      <td>NiveaNivea Sun Fac Sun Block Whitening Cream S...</td>\n",
              "    </tr>\n",
              "    <tr>\n",
              "      <th>1125035</th>\n",
              "      <td>ROZVEH Women's Shift Brown Dress</td>\n",
              "      <td>1724</td>\n",
              "      <td>ROZVEH&lt;p&gt;Super Fine Rayon,&amp;nbsp;Brown Floral P...</td>\n",
              "    </tr>\n",
              "    <tr>\n",
              "      <th>1928801</th>\n",
              "      <td>Narayan Creation Pashmina Palazzo Suit Dupatta...</td>\n",
              "      <td>465</td>\n",
              "      <td>GenericNarayan creatins pashmina unstitched pa...</td>\n",
              "    </tr>\n",
              "    <tr>\n",
              "      <th>864509</th>\n",
              "      <td>Q-rious Women's Silicon Strap Spagettis/Camiso...</td>\n",
              "      <td>2003</td>\n",
              "      <td>Q-riousTrendy Q-rious Spagetti with sequin det...</td>\n",
              "    </tr>\n",
              "    <tr>\n",
              "      <th>1613202</th>\n",
              "      <td>Hanes Men's Pullover EcoSmart Fleece Hooded Sw...</td>\n",
              "      <td>3355</td>\n",
              "      <td>NaN</td>\n",
              "    </tr>\n",
              "  </tbody>\n",
              "</table>\n",
              "</div>"
            ],
            "text/plain": [
              "                                                     TITLE  ...                                         BRAND_DESC\n",
              "2078681  Nivea Face Sun Block Whitening Cream SPF 50 Pa...  ...  NiveaNivea Sun Fac Sun Block Whitening Cream S...\n",
              "1125035                   ROZVEH Women's Shift Brown Dress  ...  ROZVEH<p>Super Fine Rayon,&nbsp;Brown Floral P...\n",
              "1928801  Narayan Creation Pashmina Palazzo Suit Dupatta...  ...  GenericNarayan creatins pashmina unstitched pa...\n",
              "864509   Q-rious Women's Silicon Strap Spagettis/Camiso...  ...  Q-riousTrendy Q-rious Spagetti with sequin det...\n",
              "1613202  Hanes Men's Pullover EcoSmart Fleece Hooded Sw...  ...                                                NaN\n",
              "\n",
              "[5 rows x 3 columns]"
            ]
          },
          "metadata": {
            "tags": []
          },
          "execution_count": 17
        }
      ]
    },
    {
      "cell_type": "code",
      "metadata": {
        "id": "pkjXAbrN7zrs"
      },
      "source": [
        "new_train_sample = new_train_sample.fillna(value = 'NAN')"
      ],
      "execution_count": null,
      "outputs": []
    },
    {
      "cell_type": "code",
      "metadata": {
        "id": "7rUoNf9c7z0C"
      },
      "source": [
        "import tensorflow as tf "
      ],
      "execution_count": null,
      "outputs": []
    },
    {
      "cell_type": "code",
      "metadata": {
        "id": "1NLn6wmOfvfF"
      },
      "source": [
        "train_dataset_inputs= tf.data.Dataset.from_tensor_slices(new_train_sample['BRAND_DESC'].to_numpy().astype(np.str))\n",
        "train_dataset_outputs = tf.data.Dataset.from_tensor_slices(new_train_sample['BROWSE_NODE_ID'].to_numpy())\n",
        "train_dataset = tf.data.Dataset.zip((train_dataset_inputs, train_dataset_outputs)).batch(64).prefetch(tf.data.AUTOTUNE)"
      ],
      "execution_count": null,
      "outputs": []
    },
    {
      "cell_type": "code",
      "metadata": {
        "colab": {
          "base_uri": "https://localhost:8080/"
        },
        "id": "--0R-0Oovbci",
        "outputId": "e84b4b5d-c103-4d2f-8677-42efe25a0555"
      },
      "source": [
        "max(new_train_sample['BROWSE_NODE_ID'])"
      ],
      "execution_count": null,
      "outputs": [
        {
          "output_type": "execute_result",
          "data": {
            "text/plain": [
              "9918"
            ]
          },
          "metadata": {
            "tags": []
          },
          "execution_count": 19
        }
      ]
    },
    {
      "cell_type": "code",
      "metadata": {
        "id": "4fH2cI7f0WdL"
      },
      "source": [
        ""
      ],
      "execution_count": null,
      "outputs": []
    },
    {
      "cell_type": "code",
      "metadata": {
        "id": "O6qQ09Kig9Tf"
      },
      "source": [
        "train_dataset = train_dataset.batch(32).prefetch(tf.data.AUTOTUNE)"
      ],
      "execution_count": null,
      "outputs": []
    },
    {
      "cell_type": "code",
      "metadata": {
        "colab": {
          "base_uri": "https://localhost:8080/"
        },
        "id": "c5PivVj6W6wF",
        "outputId": "1b3171fa-a1d7-4566-b404-2cc57f643151"
      },
      "source": [
        "first_model = model.fit(train_dataset,\n",
        "                        # steps_per_epoch= len(train_dataset)*0.1,\n",
        "                        epochs =2)"
      ],
      "execution_count": null,
      "outputs": [
        {
          "output_type": "stream",
          "text": [
            "Epoch 1/2\n",
            "161239/161239 [==============================] - 1591s 10ms/step - loss: 1.5212 - accuracy: 0.6704\n",
            "Epoch 2/2\n",
            "161239/161239 [==============================] - 1605s 10ms/step - loss: 1.5572 - accuracy: 0.6657\n"
          ],
          "name": "stdout"
        }
      ]
    },
    {
      "cell_type": "code",
      "metadata": {
        "colab": {
          "base_uri": "https://localhost:8080/"
        },
        "id": "yJi8wn3PXM-L",
        "outputId": "ae97aafd-5236-4a83-b2c1-d57d79f4e5cc"
      },
      "source": [
        "model.save('/content/drive/MyDrive/amazonMLMOdel')"
      ],
      "execution_count": null,
      "outputs": [
        {
          "output_type": "stream",
          "text": [
            "INFO:tensorflow:Assets written to: /content/drive/MyDrive/amazonMLMOdel/assets\n"
          ],
          "name": "stdout"
        },
        {
          "output_type": "stream",
          "text": [
            "INFO:tensorflow:Assets written to: /content/drive/MyDrive/amazonMLMOdel/assets\n"
          ],
          "name": "stderr"
        }
      ]
    },
    {
      "cell_type": "code",
      "metadata": {
        "id": "NSwlcFhOcILo"
      },
      "source": [
        "test_dataset = tf.data.Dataset.from_tensor_slices(test_data.TITLE.to_numpy().astype(np.str))"
      ],
      "execution_count": null,
      "outputs": []
    },
    {
      "cell_type": "code",
      "metadata": {
        "id": "Se8_vSCy3ntn"
      },
      "source": [
        "predictions = model.predict(test_data.TITLE.to_numpy().astype(np.str))"
      ],
      "execution_count": null,
      "outputs": []
    },
    {
      "cell_type": "code",
      "metadata": {
        "colab": {
          "base_uri": "https://localhost:8080/",
          "height": 171
        },
        "id": "pLqLcln-4FLq",
        "outputId": "46805cd6-7e8d-4cd0-c13c-940abb112357"
      },
      "source": [
        ""
      ],
      "execution_count": null,
      "outputs": [
        {
          "output_type": "error",
          "ename": "AttributeError",
          "evalue": "ignored",
          "traceback": [
            "\u001b[0;31m---------------------------------------------------------------------------\u001b[0m",
            "\u001b[0;31mAttributeError\u001b[0m                            Traceback (most recent call last)",
            "\u001b[0;32m<ipython-input-64-9a9d165ad961>\u001b[0m in \u001b[0;36m<module>\u001b[0;34m()\u001b[0m\n\u001b[0;32m----> 1\u001b[0;31m \u001b[0mmodel\u001b[0m\u001b[0;34m.\u001b[0m\u001b[0mlabels\u001b[0m\u001b[0;34m\u001b[0m\u001b[0;34m\u001b[0m\u001b[0m\n\u001b[0m",
            "\u001b[0;31mAttributeError\u001b[0m: 'Functional' object has no attribute 'labels'"
          ]
        }
      ]
    },
    {
      "cell_type": "code",
      "metadata": {
        "colab": {
          "base_uri": "https://localhost:8080/"
        },
        "id": "olCR6lHV31W6",
        "outputId": "a057676b-2fbf-448d-9f6e-325184540367"
      },
      "source": [
        "predictions"
      ],
      "execution_count": null,
      "outputs": [
        {
          "output_type": "execute_result",
          "data": {
            "text/plain": [
              "array([[6.5257482e-04, 1.4555699e-03, 2.6876099e-10, ..., 5.9115803e-11,\n",
              "        5.9682731e-11, 2.5518340e-14],\n",
              "       [3.4974320e-05, 6.4715359e-06, 1.1606459e-09, ..., 2.3866509e-10,\n",
              "        2.4213978e-10, 5.7219181e-09],\n",
              "       [2.5419535e-05, 4.4640154e-02, 4.5862314e-11, ..., 8.0822822e-12,\n",
              "        8.1775533e-12, 1.7029080e-16],\n",
              "       ...,\n",
              "       [1.3493769e-05, 1.3216479e-09, 2.0575978e-12, ..., 3.5456870e-13,\n",
              "        3.5617513e-13, 1.2033014e-19],\n",
              "       [1.0833445e-08, 1.9925132e-17, 2.5931163e-14, ..., 8.9276536e-15,\n",
              "        8.7166543e-15, 3.6360047e-27],\n",
              "       [7.9640799e-05, 1.8017005e-10, 4.1103575e-11, ..., 8.9082127e-12,\n",
              "        8.8726708e-12, 1.5820127e-13]], dtype=float32)"
            ]
          },
          "metadata": {
            "tags": []
          },
          "execution_count": 62
        }
      ]
    },
    {
      "cell_type": "code",
      "metadata": {
        "id": "qLVk0ZUO4BYl"
      },
      "source": [
        "prediction_values = np.argmax(predictions,axis =1)"
      ],
      "execution_count": null,
      "outputs": []
    },
    {
      "cell_type": "markdown",
      "metadata": {
        "id": "fY5HkXa-i1A8"
      },
      "source": [
        " loading the model "
      ]
    },
    {
      "cell_type": "code",
      "metadata": {
        "id": "KT3E7GI3i0-X"
      },
      "source": [
        "Model_1 = tf.keras.models.load_model('/content/drive/MyDrive/amazonMLMOdel')"
      ],
      "execution_count": null,
      "outputs": []
    },
    {
      "cell_type": "code",
      "metadata": {
        "colab": {
          "base_uri": "https://localhost:8080/"
        },
        "id": "sXbh6oEti07T",
        "outputId": "859d897b-d1fd-41d9-c212-80a7aeaa88a0"
      },
      "source": [
        "Model_1.evaluate(train_dataset.take(2))"
      ],
      "execution_count": null,
      "outputs": [
        {
          "output_type": "stream",
          "text": [
            "2/2 [==============================] - 0s 12ms/step - loss: 1.7172 - accuracy: 0.6875\n"
          ],
          "name": "stdout"
        },
        {
          "output_type": "execute_result",
          "data": {
            "text/plain": [
              "[1.7172269821166992, 0.6875]"
            ]
          },
          "metadata": {
            "tags": []
          },
          "execution_count": 23
        }
      ]
    },
    {
      "cell_type": "code",
      "metadata": {
        "colab": {
          "base_uri": "https://localhost:8080/"
        },
        "id": "SeZVOKxBi04r",
        "outputId": "44c98037-004b-48e3-eac2-031e15941e4c"
      },
      "source": [
        "!nvidia-smi"
      ],
      "execution_count": null,
      "outputs": [
        {
          "output_type": "stream",
          "text": [
            "Sun Aug  1 04:24:58 2021       \n",
            "+-----------------------------------------------------------------------------+\n",
            "| NVIDIA-SMI 470.42.01    Driver Version: 460.32.03    CUDA Version: 11.2     |\n",
            "|-------------------------------+----------------------+----------------------+\n",
            "| GPU  Name        Persistence-M| Bus-Id        Disp.A | Volatile Uncorr. ECC |\n",
            "| Fan  Temp  Perf  Pwr:Usage/Cap|         Memory-Usage | GPU-Util  Compute M. |\n",
            "|                               |                      |               MIG M. |\n",
            "|===============================+======================+======================|\n",
            "|   0  Tesla P100-PCIE...  Off  | 00000000:00:04.0 Off |                    0 |\n",
            "| N/A   42C    P0    29W / 250W |      0MiB / 16280MiB |      0%      Default |\n",
            "|                               |                      |                  N/A |\n",
            "+-------------------------------+----------------------+----------------------+\n",
            "                                                                               \n",
            "+-----------------------------------------------------------------------------+\n",
            "| Processes:                                                                  |\n",
            "|  GPU   GI   CI        PID   Type   Process name                  GPU Memory |\n",
            "|        ID   ID                                                   Usage      |\n",
            "|=============================================================================|\n",
            "|  No running processes found                                                 |\n",
            "+-----------------------------------------------------------------------------+\n"
          ],
          "name": "stdout"
        }
      ]
    },
    {
      "cell_type": "markdown",
      "metadata": {
        "id": "O4nX4hDKimp0"
      },
      "source": [
        "# building another model \n"
      ]
    },
    {
      "cell_type": "code",
      "metadata": {
        "id": "7AJ9BOTQjlaz"
      },
      "source": [
        "base_layer_2 = hub.KerasLayer('https://tfhub.dev/google/nnlm-en-dim128/2', trainable = False)"
      ],
      "execution_count": null,
      "outputs": []
    },
    {
      "cell_type": "code",
      "metadata": {
        "id": "_HXfohvIjyk-"
      },
      "source": [
        "base_layer_3 = hub.KerasLayer('https://tfhub.dev/google/nnlm-en-dim128-with-normalization/2',trainable = False)"
      ],
      "execution_count": null,
      "outputs": []
    },
    {
      "cell_type": "code",
      "metadata": {
        "colab": {
          "base_uri": "https://localhost:8080/"
        },
        "id": "5-NbFhGfimnr",
        "outputId": "029bfb70-7b91-4cc1-9764-6e7ddaedb875"
      },
      "source": [
        "import tensorflow.keras.layers as layers\n",
        "\n",
        "# Setting up input/output for title \n",
        "title_inputs = layers.Input(shape = [] , dtype = tf.string , name = 'title_input')\n",
        "title_embed = base_layer_1(title_inputs)\n",
        "title_outputs = layers.Dense(128 , activation = 'relu')(title_embed)\n",
        "title_model = tf.keras.Model(inputs = title_inputs , outputs = title_outputs)\n",
        "\n",
        "\n",
        "\n",
        "# Setting up input/outputs for info \n",
        "info_inputs = layers.Input(shape = [] , dtype= tf.string , name = 'Info_input')\n",
        "info_embed = base_layer_1(info_inputs)\n",
        "# info_lstm = layers.LSTM(50 , activation= 'tanh')(info_embed)\n",
        "x = layers.Dense(264,activation = 'relu')(info_embed)\n",
        "x = layers.Dense(256, activation ='relu')(x)\n",
        "info_outputs = layers.Dense(128 , activation = 'relu')(x)\n",
        "info_model = tf.keras.Model(inputs = info_inputs , outputs = info_outputs)\n",
        "\n",
        "\n",
        "# Concatenating title and info inputs (hybrid)\n",
        "title_info_concat = layers.Concatenate(name = 'title_info_hybrid')([title_model.output , info_model.output])\n",
        "\n",
        "\n",
        "# Creating output layer \n",
        "# com_dropout = layers.Dropout(0.5)(title_info_concat)\n",
        "com_dense = layers.Dense(512 , activation= 'relu')(title_info_concat)\n",
        "# fin_drop = layers.Dropout(0.4)(com_dense)\n",
        "output_layer = layers.Dense(9919, activation ='softmax')(com_dense)\n",
        "\n",
        "\n",
        "# Constructing model with title and info inputs \n",
        "mult_model = tf.keras.Model(inputs = [title_model.input , info_model.input], \n",
        "                            outputs = output_layer , name = 'multi_input_model_1')\n",
        "\n",
        "# Summary of the model \n",
        "mult_model.summary()"
      ],
      "execution_count": null,
      "outputs": [
        {
          "output_type": "stream",
          "text": [
            "Model: \"multi_input_model_1\"\n",
            "__________________________________________________________________________________________________\n",
            "Layer (type)                    Output Shape         Param #     Connected to                     \n",
            "==================================================================================================\n",
            "title_input (InputLayer)        [(None,)]            0                                            \n",
            "__________________________________________________________________________________________________\n",
            "Info_input (InputLayer)         [(None,)]            0                                            \n",
            "__________________________________________________________________________________________________\n",
            "keras_layer (KerasLayer)        (None, 512)          256797824   title_input[0][0]                \n",
            "                                                                 Info_input[0][0]                 \n",
            "__________________________________________________________________________________________________\n",
            "dense_10 (Dense)                (None, 264)          135432      keras_layer[7][0]                \n",
            "__________________________________________________________________________________________________\n",
            "dense_11 (Dense)                (None, 256)          67840       dense_10[0][0]                   \n",
            "__________________________________________________________________________________________________\n",
            "dense_9 (Dense)                 (None, 128)          65664       keras_layer[6][0]                \n",
            "__________________________________________________________________________________________________\n",
            "dense_12 (Dense)                (None, 128)          32896       dense_11[0][0]                   \n",
            "__________________________________________________________________________________________________\n",
            "title_info_hybrid (Concatenate) (None, 256)          0           dense_9[0][0]                    \n",
            "                                                                 dense_12[0][0]                   \n",
            "__________________________________________________________________________________________________\n",
            "dense_13 (Dense)                (None, 512)          131584      title_info_hybrid[0][0]          \n",
            "__________________________________________________________________________________________________\n",
            "dense_14 (Dense)                (None, 9919)         5088447     dense_13[0][0]                   \n",
            "==================================================================================================\n",
            "Total params: 262,319,687\n",
            "Trainable params: 5,521,863\n",
            "Non-trainable params: 256,797,824\n",
            "__________________________________________________________________________________________________\n"
          ],
          "name": "stdout"
        }
      ]
    },
    {
      "cell_type": "code",
      "metadata": {
        "colab": {
          "base_uri": "https://localhost:8080/"
        },
        "id": "Swr8aJ1aimjS",
        "outputId": "bdb4ee87-e7fa-478b-a665-992527b0c66e"
      },
      "source": [
        "new_train_sample.isna().sum()"
      ],
      "execution_count": null,
      "outputs": [
        {
          "output_type": "execute_result",
          "data": {
            "text/plain": [
              "TITLE                 0\n",
              "BRAND             48577\n",
              "BROWSE_NODE_ID        0\n",
              "dtype: int64"
            ]
          },
          "metadata": {
            "tags": []
          },
          "execution_count": 29
        }
      ]
    },
    {
      "cell_type": "code",
      "metadata": {
        "colab": {
          "base_uri": "https://localhost:8080/"
        },
        "id": "nHTb28f5imgX",
        "outputId": "8c6ac76d-5d23-40bd-94e0-db28fef43eb0"
      },
      "source": [
        "new_train_sample.fillna(value = 'NAN').isna().sum()"
      ],
      "execution_count": null,
      "outputs": [
        {
          "output_type": "execute_result",
          "data": {
            "text/plain": [
              "TITLE             0\n",
              "BRAND             0\n",
              "BROWSE_NODE_ID    0\n",
              "dtype: int64"
            ]
          },
          "metadata": {
            "tags": []
          },
          "execution_count": 30
        }
      ]
    },
    {
      "cell_type": "code",
      "metadata": {
        "id": "flRckh1bimdA"
      },
      "source": [
        "new_train_sample = new_train_sample.fillna(value = 'NAN')"
      ],
      "execution_count": null,
      "outputs": []
    },
    {
      "cell_type": "code",
      "metadata": {
        "id": "EEeHRwqDimaA"
      },
      "source": [
        "training_dataset_1_inputs = tf.data.Dataset.from_tensor_slices((new_train_sample['TITLE'].to_numpy().astype(np.str), new_train_sample['BRAND'].to_numpy().astype(np.str)))"
      ],
      "execution_count": null,
      "outputs": []
    },
    {
      "cell_type": "code",
      "metadata": {
        "id": "IpPhBKsSimWG"
      },
      "source": [
        "training_dataset_1_outputs = tf.data.Dataset.from_tensor_slices(new_train_sample['BROWSE_NODE_ID'].to_numpy())"
      ],
      "execution_count": null,
      "outputs": []
    },
    {
      "cell_type": "code",
      "metadata": {
        "id": "ExmmCBzSimPl"
      },
      "source": [
        "training_dataset_1 = tf.data.Dataset.zip((training_dataset_1_inputs,training_dataset_1_outputs)).batch(32).prefetch(tf.data.AUTOTUNE)"
      ],
      "execution_count": null,
      "outputs": []
    },
    {
      "cell_type": "code",
      "metadata": {
        "id": "DzzckY95imIV"
      },
      "source": [
        "# compiling the model \n",
        "mult_model.compile(loss = tf.keras.losses.sparse_categorical_crossentropy,\n",
        "                   optimizer = tf.keras.optimizers.Adam(),\n",
        "                   metrics = ['accuracy'])"
      ],
      "execution_count": null,
      "outputs": []
    },
    {
      "cell_type": "code",
      "metadata": {
        "colab": {
          "base_uri": "https://localhost:8080/"
        },
        "id": "7F9G0EXcchsM",
        "outputId": "d81725b4-d69b-4202-f0f9-de7c81fe9862"
      },
      "source": [
        "modified_df.isna().sum()"
      ],
      "execution_count": null,
      "outputs": [
        {
          "output_type": "execute_result",
          "data": {
            "text/plain": [
              "Unnamed: 0             0\n",
              "TITLE                  6\n",
              "DESCRIPTION       117178\n",
              "BULLET_POINTS      41587\n",
              "BRAND              13025\n",
              "BROWSE_NODE_ID         0\n",
              "dtype: int64"
            ]
          },
          "metadata": {
            "tags": []
          },
          "execution_count": 30
        }
      ]
    },
    {
      "cell_type": "code",
      "metadata": {
        "colab": {
          "base_uri": "https://localhost:8080/",
          "height": 423
        },
        "id": "01CpS75qil4Z",
        "outputId": "89b9617c-53b2-4a03-c2fa-b52a60b7da84"
      },
      "source": [
        "#fitting the model \n",
        "model_1 = mult_model.fit(LSTM_dataset, \n",
        "                         steps_per_epoch = len(LSTM_dataset)*0.2 ,\n",
        "                         epochs = 3)"
      ],
      "execution_count": null,
      "outputs": [
        {
          "output_type": "stream",
          "text": [
            "Epoch 1/3\n",
            "3442/3442 [==============================] - 60s 17ms/step - loss: 8.0535 - accuracy: 0.0195\n",
            "Epoch 2/3\n",
            "1985/3442 [================>.............] - ETA: 24s - loss: 9.0475 - accuracy: 0.0000e+00"
          ],
          "name": "stdout"
        },
        {
          "output_type": "error",
          "ename": "KeyboardInterrupt",
          "evalue": "ignored",
          "traceback": [
            "\u001b[0;31m---------------------------------------------------------------------------\u001b[0m",
            "\u001b[0;31mKeyboardInterrupt\u001b[0m                         Traceback (most recent call last)",
            "\u001b[0;32m<ipython-input-29-49063833685f>\u001b[0m in \u001b[0;36m<module>\u001b[0;34m()\u001b[0m\n\u001b[1;32m      2\u001b[0m model_1 = mult_model.fit(LSTM_dataset, \n\u001b[1;32m      3\u001b[0m                          \u001b[0msteps_per_epoch\u001b[0m \u001b[0;34m=\u001b[0m \u001b[0mlen\u001b[0m\u001b[0;34m(\u001b[0m\u001b[0mLSTM_dataset\u001b[0m\u001b[0;34m)\u001b[0m\u001b[0;34m*\u001b[0m\u001b[0;36m0.2\u001b[0m \u001b[0;34m,\u001b[0m\u001b[0;34m\u001b[0m\u001b[0;34m\u001b[0m\u001b[0m\n\u001b[0;32m----> 4\u001b[0;31m                          epochs = 3)\n\u001b[0m",
            "\u001b[0;32m/usr/local/lib/python3.7/dist-packages/tensorflow/python/keras/engine/training.py\u001b[0m in \u001b[0;36mfit\u001b[0;34m(self, x, y, batch_size, epochs, verbose, callbacks, validation_split, validation_data, shuffle, class_weight, sample_weight, initial_epoch, steps_per_epoch, validation_steps, validation_batch_size, validation_freq, max_queue_size, workers, use_multiprocessing)\u001b[0m\n\u001b[1;32m   1181\u001b[0m                 _r=1):\n\u001b[1;32m   1182\u001b[0m               \u001b[0mcallbacks\u001b[0m\u001b[0;34m.\u001b[0m\u001b[0mon_train_batch_begin\u001b[0m\u001b[0;34m(\u001b[0m\u001b[0mstep\u001b[0m\u001b[0;34m)\u001b[0m\u001b[0;34m\u001b[0m\u001b[0;34m\u001b[0m\u001b[0m\n\u001b[0;32m-> 1183\u001b[0;31m               \u001b[0mtmp_logs\u001b[0m \u001b[0;34m=\u001b[0m \u001b[0mself\u001b[0m\u001b[0;34m.\u001b[0m\u001b[0mtrain_function\u001b[0m\u001b[0;34m(\u001b[0m\u001b[0miterator\u001b[0m\u001b[0;34m)\u001b[0m\u001b[0;34m\u001b[0m\u001b[0;34m\u001b[0m\u001b[0m\n\u001b[0m\u001b[1;32m   1184\u001b[0m               \u001b[0;32mif\u001b[0m \u001b[0mdata_handler\u001b[0m\u001b[0;34m.\u001b[0m\u001b[0mshould_sync\u001b[0m\u001b[0;34m:\u001b[0m\u001b[0;34m\u001b[0m\u001b[0;34m\u001b[0m\u001b[0m\n\u001b[1;32m   1185\u001b[0m                 \u001b[0mcontext\u001b[0m\u001b[0;34m.\u001b[0m\u001b[0masync_wait\u001b[0m\u001b[0;34m(\u001b[0m\u001b[0;34m)\u001b[0m\u001b[0;34m\u001b[0m\u001b[0;34m\u001b[0m\u001b[0m\n",
            "\u001b[0;32m/usr/local/lib/python3.7/dist-packages/tensorflow/python/eager/def_function.py\u001b[0m in \u001b[0;36m__call__\u001b[0;34m(self, *args, **kwds)\u001b[0m\n\u001b[1;32m    887\u001b[0m \u001b[0;34m\u001b[0m\u001b[0m\n\u001b[1;32m    888\u001b[0m       \u001b[0;32mwith\u001b[0m \u001b[0mOptionalXlaContext\u001b[0m\u001b[0;34m(\u001b[0m\u001b[0mself\u001b[0m\u001b[0;34m.\u001b[0m\u001b[0m_jit_compile\u001b[0m\u001b[0;34m)\u001b[0m\u001b[0;34m:\u001b[0m\u001b[0;34m\u001b[0m\u001b[0;34m\u001b[0m\u001b[0m\n\u001b[0;32m--> 889\u001b[0;31m         \u001b[0mresult\u001b[0m \u001b[0;34m=\u001b[0m \u001b[0mself\u001b[0m\u001b[0;34m.\u001b[0m\u001b[0m_call\u001b[0m\u001b[0;34m(\u001b[0m\u001b[0;34m*\u001b[0m\u001b[0margs\u001b[0m\u001b[0;34m,\u001b[0m \u001b[0;34m**\u001b[0m\u001b[0mkwds\u001b[0m\u001b[0;34m)\u001b[0m\u001b[0;34m\u001b[0m\u001b[0;34m\u001b[0m\u001b[0m\n\u001b[0m\u001b[1;32m    890\u001b[0m \u001b[0;34m\u001b[0m\u001b[0m\n\u001b[1;32m    891\u001b[0m       \u001b[0mnew_tracing_count\u001b[0m \u001b[0;34m=\u001b[0m \u001b[0mself\u001b[0m\u001b[0;34m.\u001b[0m\u001b[0mexperimental_get_tracing_count\u001b[0m\u001b[0;34m(\u001b[0m\u001b[0;34m)\u001b[0m\u001b[0;34m\u001b[0m\u001b[0;34m\u001b[0m\u001b[0m\n",
            "\u001b[0;32m/usr/local/lib/python3.7/dist-packages/tensorflow/python/eager/def_function.py\u001b[0m in \u001b[0;36m_call\u001b[0;34m(self, *args, **kwds)\u001b[0m\n\u001b[1;32m    915\u001b[0m       \u001b[0;31m# In this case we have created variables on the first call, so we run the\u001b[0m\u001b[0;34m\u001b[0m\u001b[0;34m\u001b[0m\u001b[0;34m\u001b[0m\u001b[0m\n\u001b[1;32m    916\u001b[0m       \u001b[0;31m# defunned version which is guaranteed to never create variables.\u001b[0m\u001b[0;34m\u001b[0m\u001b[0;34m\u001b[0m\u001b[0;34m\u001b[0m\u001b[0m\n\u001b[0;32m--> 917\u001b[0;31m       \u001b[0;32mreturn\u001b[0m \u001b[0mself\u001b[0m\u001b[0;34m.\u001b[0m\u001b[0m_stateless_fn\u001b[0m\u001b[0;34m(\u001b[0m\u001b[0;34m*\u001b[0m\u001b[0margs\u001b[0m\u001b[0;34m,\u001b[0m \u001b[0;34m**\u001b[0m\u001b[0mkwds\u001b[0m\u001b[0;34m)\u001b[0m  \u001b[0;31m# pylint: disable=not-callable\u001b[0m\u001b[0;34m\u001b[0m\u001b[0;34m\u001b[0m\u001b[0m\n\u001b[0m\u001b[1;32m    918\u001b[0m     \u001b[0;32melif\u001b[0m \u001b[0mself\u001b[0m\u001b[0;34m.\u001b[0m\u001b[0m_stateful_fn\u001b[0m \u001b[0;32mis\u001b[0m \u001b[0;32mnot\u001b[0m \u001b[0;32mNone\u001b[0m\u001b[0;34m:\u001b[0m\u001b[0;34m\u001b[0m\u001b[0;34m\u001b[0m\u001b[0m\n\u001b[1;32m    919\u001b[0m       \u001b[0;31m# Release the lock early so that multiple threads can perform the call\u001b[0m\u001b[0;34m\u001b[0m\u001b[0;34m\u001b[0m\u001b[0;34m\u001b[0m\u001b[0m\n",
            "\u001b[0;32m/usr/local/lib/python3.7/dist-packages/tensorflow/python/eager/function.py\u001b[0m in \u001b[0;36m__call__\u001b[0;34m(self, *args, **kwargs)\u001b[0m\n\u001b[1;32m   3022\u001b[0m        filtered_flat_args) = self._maybe_define_function(args, kwargs)\n\u001b[1;32m   3023\u001b[0m     return graph_function._call_flat(\n\u001b[0;32m-> 3024\u001b[0;31m         filtered_flat_args, captured_inputs=graph_function.captured_inputs)  # pylint: disable=protected-access\n\u001b[0m\u001b[1;32m   3025\u001b[0m \u001b[0;34m\u001b[0m\u001b[0m\n\u001b[1;32m   3026\u001b[0m   \u001b[0;34m@\u001b[0m\u001b[0mproperty\u001b[0m\u001b[0;34m\u001b[0m\u001b[0;34m\u001b[0m\u001b[0m\n",
            "\u001b[0;32m/usr/local/lib/python3.7/dist-packages/tensorflow/python/eager/function.py\u001b[0m in \u001b[0;36m_call_flat\u001b[0;34m(self, args, captured_inputs, cancellation_manager)\u001b[0m\n\u001b[1;32m   1959\u001b[0m       \u001b[0;31m# No tape is watching; skip to running the function.\u001b[0m\u001b[0;34m\u001b[0m\u001b[0;34m\u001b[0m\u001b[0;34m\u001b[0m\u001b[0m\n\u001b[1;32m   1960\u001b[0m       return self._build_call_outputs(self._inference_function.call(\n\u001b[0;32m-> 1961\u001b[0;31m           ctx, args, cancellation_manager=cancellation_manager))\n\u001b[0m\u001b[1;32m   1962\u001b[0m     forward_backward = self._select_forward_and_backward_functions(\n\u001b[1;32m   1963\u001b[0m         \u001b[0margs\u001b[0m\u001b[0;34m,\u001b[0m\u001b[0;34m\u001b[0m\u001b[0;34m\u001b[0m\u001b[0m\n",
            "\u001b[0;32m/usr/local/lib/python3.7/dist-packages/tensorflow/python/eager/function.py\u001b[0m in \u001b[0;36mcall\u001b[0;34m(self, ctx, args, cancellation_manager)\u001b[0m\n\u001b[1;32m    594\u001b[0m               \u001b[0minputs\u001b[0m\u001b[0;34m=\u001b[0m\u001b[0margs\u001b[0m\u001b[0;34m,\u001b[0m\u001b[0;34m\u001b[0m\u001b[0;34m\u001b[0m\u001b[0m\n\u001b[1;32m    595\u001b[0m               \u001b[0mattrs\u001b[0m\u001b[0;34m=\u001b[0m\u001b[0mattrs\u001b[0m\u001b[0;34m,\u001b[0m\u001b[0;34m\u001b[0m\u001b[0;34m\u001b[0m\u001b[0m\n\u001b[0;32m--> 596\u001b[0;31m               ctx=ctx)\n\u001b[0m\u001b[1;32m    597\u001b[0m         \u001b[0;32melse\u001b[0m\u001b[0;34m:\u001b[0m\u001b[0;34m\u001b[0m\u001b[0;34m\u001b[0m\u001b[0m\n\u001b[1;32m    598\u001b[0m           outputs = execute.execute_with_cancellation(\n",
            "\u001b[0;32m/usr/local/lib/python3.7/dist-packages/tensorflow/python/eager/execute.py\u001b[0m in \u001b[0;36mquick_execute\u001b[0;34m(op_name, num_outputs, inputs, attrs, ctx, name)\u001b[0m\n\u001b[1;32m     58\u001b[0m     \u001b[0mctx\u001b[0m\u001b[0;34m.\u001b[0m\u001b[0mensure_initialized\u001b[0m\u001b[0;34m(\u001b[0m\u001b[0;34m)\u001b[0m\u001b[0;34m\u001b[0m\u001b[0;34m\u001b[0m\u001b[0m\n\u001b[1;32m     59\u001b[0m     tensors = pywrap_tfe.TFE_Py_Execute(ctx._handle, device_name, op_name,\n\u001b[0;32m---> 60\u001b[0;31m                                         inputs, attrs, num_outputs)\n\u001b[0m\u001b[1;32m     61\u001b[0m   \u001b[0;32mexcept\u001b[0m \u001b[0mcore\u001b[0m\u001b[0;34m.\u001b[0m\u001b[0m_NotOkStatusException\u001b[0m \u001b[0;32mas\u001b[0m \u001b[0me\u001b[0m\u001b[0;34m:\u001b[0m\u001b[0;34m\u001b[0m\u001b[0;34m\u001b[0m\u001b[0m\n\u001b[1;32m     62\u001b[0m     \u001b[0;32mif\u001b[0m \u001b[0mname\u001b[0m \u001b[0;32mis\u001b[0m \u001b[0;32mnot\u001b[0m \u001b[0;32mNone\u001b[0m\u001b[0;34m:\u001b[0m\u001b[0;34m\u001b[0m\u001b[0;34m\u001b[0m\u001b[0m\n",
            "\u001b[0;31mKeyboardInterrupt\u001b[0m: "
          ]
        }
      ]
    },
    {
      "cell_type": "code",
      "metadata": {
        "colab": {
          "base_uri": "https://localhost:8080/"
        },
        "id": "0hU4BIrdrseK",
        "outputId": "b6a0e92b-5e9a-4702-cbaa-c84f13fd590c"
      },
      "source": [
        "mult_model.save('/content/drive/MyDrive/mult_model_normalization_correct')"
      ],
      "execution_count": null,
      "outputs": [
        {
          "output_type": "stream",
          "text": [
            "WARNING:absl:Function `_wrapped_model` contains input name(s) Info_input with unsupported characters which will be renamed to info_input in the SavedModel.\n"
          ],
          "name": "stderr"
        },
        {
          "output_type": "stream",
          "text": [
            "INFO:tensorflow:Assets written to: /content/drive/MyDrive/mult_model_normalization_correct/assets\n"
          ],
          "name": "stdout"
        },
        {
          "output_type": "stream",
          "text": [
            "INFO:tensorflow:Assets written to: /content/drive/MyDrive/mult_model_normalization_correct/assets\n"
          ],
          "name": "stderr"
        }
      ]
    },
    {
      "cell_type": "code",
      "metadata": {
        "colab": {
          "base_uri": "https://localhost:8080/",
          "height": 865
        },
        "id": "sGv2b60snHcu",
        "outputId": "dca7f824-92d4-4e06-a1a2-92812cd8ac08"
      },
      "source": [
        "# plotting the model \n",
        "tf.keras.utils.plot_model(mult_model,show_shapes= True)"
      ],
      "execution_count": null,
      "outputs": [
        {
          "output_type": "execute_result",
          "data": {
            "image/png": "[encoded data removed]",
            "text/plain": [
              "<IPython.core.display.Image object>"
            ]
          },
          "metadata": {
            "tags": []
          },
          "execution_count": 60
        }
      ]
    },
    {
      "cell_type": "code",
      "metadata": {
        "id": "Tgf5HPWGnHX-"
      },
      "source": [
        ""
      ],
      "execution_count": null,
      "outputs": []
    },
    {
      "cell_type": "code",
      "metadata": {
        "id": "ROrtbRZ00o9g"
      },
      "source": [
        "test_dataset = tf.data.Dataset.from_tensor_slices((test_data.TITLE.to_numpy().astype(np.str),test_data['BRAND'].to_numpy().astype(np.str)))"
      ],
      "execution_count": null,
      "outputs": []
    },
    {
      "cell_type": "code",
      "metadata": {
        "id": "FyEjhw4A0o9r"
      },
      "source": [
        "predictions = mult_model.predict((test_data.TITLE.to_numpy().astype(np.str),test_data['BRAND'].to_numpy().astype(np.str)))"
      ],
      "execution_count": null,
      "outputs": []
    },
    {
      "cell_type": "code",
      "metadata": {
        "id": "N9l5KiWD5zEW"
      },
      "source": [
        "submission = pd.DataFrame()"
      ],
      "execution_count": null,
      "outputs": []
    },
    {
      "cell_type": "code",
      "metadata": {
        "colab": {
          "base_uri": "https://localhost:8080/",
          "height": 32
        },
        "id": "9ddUDKdT6Q3s",
        "outputId": "e1631603-da96-496e-840c-cb5b7540d1fd"
      },
      "source": [
        "submission.head()"
      ],
      "execution_count": null,
      "outputs": [
        {
          "output_type": "execute_result",
          "data": {
            "text/html": [
              "<div>\n",
              "<style scoped>\n",
              "    .dataframe tbody tr th:only-of-type {\n",
              "        vertical-align: middle;\n",
              "    }\n",
              "\n",
              "    .dataframe tbody tr th {\n",
              "        vertical-align: top;\n",
              "    }\n",
              "\n",
              "    .dataframe thead th {\n",
              "        text-align: right;\n",
              "    }\n",
              "</style>\n",
              "<table border=\"1\" class=\"dataframe\">\n",
              "  <thead>\n",
              "    <tr style=\"text-align: right;\">\n",
              "      <th></th>\n",
              "    </tr>\n",
              "  </thead>\n",
              "  <tbody>\n",
              "  </tbody>\n",
              "</table>\n",
              "</div>"
            ],
            "text/plain": [
              "Empty DataFrame\n",
              "Columns: []\n",
              "Index: []"
            ]
          },
          "metadata": {
            "tags": []
          },
          "execution_count": 70
        }
      ]
    },
    {
      "cell_type": "code",
      "metadata": {
        "id": "lEIRLK5R4nJx"
      },
      "source": [
        "submission.insert(0,'PRODUCT_ID',value = test_data.PRODUCT_ID)"
      ],
      "execution_count": null,
      "outputs": []
    },
    {
      "cell_type": "code",
      "metadata": {
        "colab": {
          "base_uri": "https://localhost:8080/",
          "height": 204
        },
        "id": "wvuBUzVC4vRs",
        "outputId": "14953156-bd3d-4b0d-f163-6ff89a35b074"
      },
      "source": [
        "submission.head()"
      ],
      "execution_count": null,
      "outputs": [
        {
          "output_type": "execute_result",
          "data": {
            "text/html": [
              "<div>\n",
              "<style scoped>\n",
              "    .dataframe tbody tr th:only-of-type {\n",
              "        vertical-align: middle;\n",
              "    }\n",
              "\n",
              "    .dataframe tbody tr th {\n",
              "        vertical-align: top;\n",
              "    }\n",
              "\n",
              "    .dataframe thead th {\n",
              "        text-align: right;\n",
              "    }\n",
              "</style>\n",
              "<table border=\"1\" class=\"dataframe\">\n",
              "  <thead>\n",
              "    <tr style=\"text-align: right;\">\n",
              "      <th></th>\n",
              "      <th>PRODUCT_ID</th>\n",
              "    </tr>\n",
              "  </thead>\n",
              "  <tbody>\n",
              "    <tr>\n",
              "      <th>0</th>\n",
              "      <td>1</td>\n",
              "    </tr>\n",
              "    <tr>\n",
              "      <th>1</th>\n",
              "      <td>2</td>\n",
              "    </tr>\n",
              "    <tr>\n",
              "      <th>2</th>\n",
              "      <td>3</td>\n",
              "    </tr>\n",
              "    <tr>\n",
              "      <th>3</th>\n",
              "      <td>4</td>\n",
              "    </tr>\n",
              "    <tr>\n",
              "      <th>4</th>\n",
              "      <td>5</td>\n",
              "    </tr>\n",
              "  </tbody>\n",
              "</table>\n",
              "</div>"
            ],
            "text/plain": [
              "   PRODUCT_ID\n",
              "0           1\n",
              "1           2\n",
              "2           3\n",
              "3           4\n",
              "4           5"
            ]
          },
          "metadata": {
            "tags": []
          },
          "execution_count": 72
        }
      ]
    },
    {
      "cell_type": "code",
      "metadata": {
        "id": "NbMyDoSA1Rnf"
      },
      "source": [
        "prediction_values = np.argmax(predictions,axis =1)"
      ],
      "execution_count": null,
      "outputs": []
    },
    {
      "cell_type": "code",
      "metadata": {
        "id": "L0IIbUiB5DXA"
      },
      "source": [
        "submission.insert(1,'BROWSE_NODE_ID',prediction_values)"
      ],
      "execution_count": null,
      "outputs": []
    },
    {
      "cell_type": "code",
      "metadata": {
        "colab": {
          "base_uri": "https://localhost:8080/",
          "height": 204
        },
        "id": "ttBZRvtl1Z7P",
        "outputId": "d6708896-0104-48a5-e524-53d16d687173"
      },
      "source": [
        "submission.head()"
      ],
      "execution_count": null,
      "outputs": [
        {
          "output_type": "execute_result",
          "data": {
            "text/html": [
              "<div>\n",
              "<style scoped>\n",
              "    .dataframe tbody tr th:only-of-type {\n",
              "        vertical-align: middle;\n",
              "    }\n",
              "\n",
              "    .dataframe tbody tr th {\n",
              "        vertical-align: top;\n",
              "    }\n",
              "\n",
              "    .dataframe thead th {\n",
              "        text-align: right;\n",
              "    }\n",
              "</style>\n",
              "<table border=\"1\" class=\"dataframe\">\n",
              "  <thead>\n",
              "    <tr style=\"text-align: right;\">\n",
              "      <th></th>\n",
              "      <th>PRODUCT_ID</th>\n",
              "      <th>BROWSE_NODE_ID</th>\n",
              "    </tr>\n",
              "  </thead>\n",
              "  <tbody>\n",
              "    <tr>\n",
              "      <th>0</th>\n",
              "      <td>1</td>\n",
              "      <td>1140</td>\n",
              "    </tr>\n",
              "    <tr>\n",
              "      <th>1</th>\n",
              "      <td>2</td>\n",
              "      <td>2793</td>\n",
              "    </tr>\n",
              "    <tr>\n",
              "      <th>2</th>\n",
              "      <td>3</td>\n",
              "      <td>2637</td>\n",
              "    </tr>\n",
              "    <tr>\n",
              "      <th>3</th>\n",
              "      <td>4</td>\n",
              "      <td>604</td>\n",
              "    </tr>\n",
              "    <tr>\n",
              "      <th>4</th>\n",
              "      <td>5</td>\n",
              "      <td>7644</td>\n",
              "    </tr>\n",
              "  </tbody>\n",
              "</table>\n",
              "</div>"
            ],
            "text/plain": [
              "   PRODUCT_ID  BROWSE_NODE_ID\n",
              "0           1            1140\n",
              "1           2            2793\n",
              "2           3            2637\n",
              "3           4             604\n",
              "4           5            7644"
            ]
          },
          "metadata": {
            "tags": []
          },
          "execution_count": 75
        }
      ]
    },
    {
      "cell_type": "code",
      "metadata": {
        "id": "g4RcQt1y5GCv"
      },
      "source": [
        "submission.to_csv('/content/big_model_submission.csv',index=False)"
      ],
      "execution_count": null,
      "outputs": []
    },
    {
      "cell_type": "code",
      "metadata": {
        "colab": {
          "base_uri": "https://localhost:8080/"
        },
        "id": "gdRDRwWA75Wz",
        "outputId": "c10392f2-e704-444b-dee1-9eafe52a0b12"
      },
      "source": [
        "test_data.isna().sum()"
      ],
      "execution_count": null,
      "outputs": [
        {
          "output_type": "execute_result",
          "data": {
            "text/plain": [
              "PRODUCT_ID           0\n",
              "TITLE                7\n",
              "DESCRIPTION      10469\n",
              "BULLET_POINTS     6786\n",
              "BRAND             2430\n",
              "dtype: int64"
            ]
          },
          "metadata": {
            "tags": []
          },
          "execution_count": 77
        }
      ]
    },
    {
      "cell_type": "code",
      "metadata": {
        "id": "Cg2ZNxR09DRa"
      },
      "source": [
        "big_model = tf.keras.models.load_model('/content/drive/MyDrive/mult_model')"
      ],
      "execution_count": null,
      "outputs": []
    },
    {
      "cell_type": "code",
      "metadata": {
        "colab": {
          "base_uri": "https://localhost:8080/"
        },
        "id": "P47Y3m9i9SEZ",
        "outputId": "d41417c5-f0e3-4178-deb0-a9774e306e54"
      },
      "source": [
        "big_model.evaluate(training_dataset_1.take(2))"
      ],
      "execution_count": null,
      "outputs": [
        {
          "output_type": "stream",
          "text": [
            "2/2 [==============================] - 1s 15ms/step - loss: 1.2085 - accuracy: 0.7344\n"
          ],
          "name": "stdout"
        },
        {
          "output_type": "execute_result",
          "data": {
            "text/plain": [
              "[1.2085154056549072, 0.734375]"
            ]
          },
          "metadata": {
            "tags": []
          },
          "execution_count": 106
        }
      ]
    },
    {
      "cell_type": "code",
      "metadata": {
        "id": "usNvXaIL5ZMX"
      },
      "source": [
        "test_data = test_data.fillna('NAN')"
      ],
      "execution_count": null,
      "outputs": []
    },
    {
      "cell_type": "code",
      "metadata": {
        "id": "FXjFP6_05nbV"
      },
      "source": [
        "predictions = big_model.predict((test_data.TITLE.to_numpy().astype(np.str),test_data.BRAND.to_numpy().astype(np.str)))"
      ],
      "execution_count": null,
      "outputs": []
    },
    {
      "cell_type": "code",
      "metadata": {
        "id": "c5WeB5ta5sOc"
      },
      "source": [
        "prediction_values = np.argmax(predictions,axis =1)"
      ],
      "execution_count": null,
      "outputs": []
    },
    {
      "cell_type": "code",
      "metadata": {
        "id": "dQ0hQGJP52V4"
      },
      "source": [
        "submission = pd.DataFrame()"
      ],
      "execution_count": null,
      "outputs": []
    },
    {
      "cell_type": "code",
      "metadata": {
        "id": "9Khaozb25u3Y"
      },
      "source": [
        "submission.insert(0,'PRODUCT_ID',value = test_data.PRODUCT_ID)"
      ],
      "execution_count": null,
      "outputs": []
    },
    {
      "cell_type": "code",
      "metadata": {
        "id": "7LQjyemC5xrX"
      },
      "source": [
        "submission.insert(1,'BROWSE_NODE_ID',prediction_values)"
      ],
      "execution_count": null,
      "outputs": []
    },
    {
      "cell_type": "code",
      "metadata": {
        "colab": {
          "base_uri": "https://localhost:8080/",
          "height": 204
        },
        "id": "ZpnYWNl550bG",
        "outputId": "93e280ad-67b8-478a-cf9b-e2d4fa479417"
      },
      "source": [
        "submission.head()"
      ],
      "execution_count": null,
      "outputs": [
        {
          "output_type": "execute_result",
          "data": {
            "text/html": [
              "<div>\n",
              "<style scoped>\n",
              "    .dataframe tbody tr th:only-of-type {\n",
              "        vertical-align: middle;\n",
              "    }\n",
              "\n",
              "    .dataframe tbody tr th {\n",
              "        vertical-align: top;\n",
              "    }\n",
              "\n",
              "    .dataframe thead th {\n",
              "        text-align: right;\n",
              "    }\n",
              "</style>\n",
              "<table border=\"1\" class=\"dataframe\">\n",
              "  <thead>\n",
              "    <tr style=\"text-align: right;\">\n",
              "      <th></th>\n",
              "      <th>PRODUCT_ID</th>\n",
              "      <th>BROWSE_NODE_ID</th>\n",
              "    </tr>\n",
              "  </thead>\n",
              "  <tbody>\n",
              "    <tr>\n",
              "      <th>0</th>\n",
              "      <td>1</td>\n",
              "      <td>1140</td>\n",
              "    </tr>\n",
              "    <tr>\n",
              "      <th>1</th>\n",
              "      <td>2</td>\n",
              "      <td>2793</td>\n",
              "    </tr>\n",
              "    <tr>\n",
              "      <th>2</th>\n",
              "      <td>3</td>\n",
              "      <td>2637</td>\n",
              "    </tr>\n",
              "    <tr>\n",
              "      <th>3</th>\n",
              "      <td>4</td>\n",
              "      <td>604</td>\n",
              "    </tr>\n",
              "    <tr>\n",
              "      <th>4</th>\n",
              "      <td>5</td>\n",
              "      <td>7644</td>\n",
              "    </tr>\n",
              "  </tbody>\n",
              "</table>\n",
              "</div>"
            ],
            "text/plain": [
              "   PRODUCT_ID  BROWSE_NODE_ID\n",
              "0           1            1140\n",
              "1           2            2793\n",
              "2           3            2637\n",
              "3           4             604\n",
              "4           5            7644"
            ]
          },
          "metadata": {
            "tags": []
          },
          "execution_count": 121
        }
      ]
    },
    {
      "cell_type": "code",
      "metadata": {
        "id": "xjSjaySB57TM"
      },
      "source": [
        "submission.to_csv('./basic_submission_2.csv')"
      ],
      "execution_count": null,
      "outputs": []
    },
    {
      "cell_type": "code",
      "metadata": {
        "id": "XK908stg5-_c"
      },
      "source": [
        "def cleanhtml(raw_html):\n",
        "  cleanr = re.compile('<.*?>')\n",
        "  cleantext = re.sub(cleanr, '', raw_html)\n",
        "  return cleantext\n"
      ],
      "execution_count": null,
      "outputs": []
    },
    {
      "cell_type": "code",
      "metadata": {
        "id": "THpqxSDN7PwD"
      },
      "source": [
        "model_normalization = tf.keras.models.load_model('/content/drive/MyDrive/mult_model_normalization_correct')"
      ],
      "execution_count": null,
      "outputs": []
    },
    {
      "cell_type": "code",
      "metadata": {
        "colab": {
          "base_uri": "https://localhost:8080/",
          "height": 202
        },
        "id": "zljxpUuk3yiU",
        "outputId": "815fc34b-802d-4a12-98e6-0d90d97ffacd"
      },
      "source": [
        "test_data.head()"
      ],
      "execution_count": null,
      "outputs": [
        {
          "output_type": "execute_result",
          "data": {
            "text/html": [
              "<div>\n",
              "<style scoped>\n",
              "    .dataframe tbody tr th:only-of-type {\n",
              "        vertical-align: middle;\n",
              "    }\n",
              "\n",
              "    .dataframe tbody tr th {\n",
              "        vertical-align: top;\n",
              "    }\n",
              "\n",
              "    .dataframe thead th {\n",
              "        text-align: right;\n",
              "    }\n",
              "</style>\n",
              "<table border=\"1\" class=\"dataframe\">\n",
              "  <thead>\n",
              "    <tr style=\"text-align: right;\">\n",
              "      <th></th>\n",
              "      <th>PRODUCT_ID</th>\n",
              "      <th>TITLE</th>\n",
              "      <th>DESCRIPTION</th>\n",
              "      <th>BULLET_POINTS</th>\n",
              "      <th>BRAND</th>\n",
              "    </tr>\n",
              "  </thead>\n",
              "  <tbody>\n",
              "    <tr>\n",
              "      <th>0</th>\n",
              "      <td>1</td>\n",
              "      <td>Command 3M Small Kitchen Hooks, White, Decorat...</td>\n",
              "      <td>Sale Unit: PACK</td>\n",
              "      <td>[INCLUDES - 9 hooks and 12 small indoor strips...</td>\n",
              "      <td>Command</td>\n",
              "    </tr>\n",
              "    <tr>\n",
              "      <th>1</th>\n",
              "      <td>2</td>\n",
              "      <td>O'Neal Jump Hardware JAG Unisex-Adult Glove (B...</td>\n",
              "      <td>Synthetic leather palm with double-layer thumb...</td>\n",
              "      <td>[Silicone printing for a better grip. Long las...</td>\n",
              "      <td>O'Neal</td>\n",
              "    </tr>\n",
              "    <tr>\n",
              "      <th>2</th>\n",
              "      <td>3</td>\n",
              "      <td>NFL Detroit Lions Portable Party Fridge, 15.8 ...</td>\n",
              "      <td>Boelter Brands lets you celebrate your favorit...</td>\n",
              "      <td>[Runs on 12 Volt DC Power or 110 Volt AC Power...</td>\n",
              "      <td>Boelter Brands</td>\n",
              "    </tr>\n",
              "    <tr>\n",
              "      <th>3</th>\n",
              "      <td>4</td>\n",
              "      <td>Panasonic Single Line KX-TS880MX Corded Phone ...</td>\n",
              "      <td>Features: 50 Station Phonebook Corded Phone Al...</td>\n",
              "      <td>Panasonic Landline Phones doesn't come with a ...</td>\n",
              "      <td>Panasonic</td>\n",
              "    </tr>\n",
              "    <tr>\n",
              "      <th>4</th>\n",
              "      <td>5</td>\n",
              "      <td>Zero Baby Girl's 100% Cotton Innerwear Bloomer...</td>\n",
              "      <td>Zero Baby Girl Panties Set. 100% Cotton, Breat...</td>\n",
              "      <td>[Zero Baby Girl Panties, Pack of 6, 100% Cotto...</td>\n",
              "      <td>Zero</td>\n",
              "    </tr>\n",
              "  </tbody>\n",
              "</table>\n",
              "</div>"
            ],
            "text/plain": [
              "   PRODUCT_ID  ...           BRAND\n",
              "0           1  ...         Command\n",
              "1           2  ...          O'Neal\n",
              "2           3  ...  Boelter Brands\n",
              "3           4  ...       Panasonic\n",
              "4           5  ...            Zero\n",
              "\n",
              "[5 rows x 5 columns]"
            ]
          },
          "metadata": {
            "tags": []
          },
          "execution_count": 19
        }
      ]
    },
    {
      "cell_type": "code",
      "metadata": {
        "colab": {
          "base_uri": "https://localhost:8080/"
        },
        "id": "-Gk1Ig-e5D2S",
        "outputId": "723cdbb2-19a8-46b6-9039-d8b1be7b6932"
      },
      "source": [
        "model_normalization.evaluate(training_dataset_1.take(2))"
      ],
      "execution_count": null,
      "outputs": [
        {
          "output_type": "stream",
          "text": [
            "2/2 [==============================] - 2s 9ms/step - loss: 1.8197 - accuracy: 0.6406\n"
          ],
          "name": "stdout"
        },
        {
          "output_type": "execute_result",
          "data": {
            "text/plain": [
              "[1.8197293281555176, 0.640625]"
            ]
          },
          "metadata": {
            "tags": []
          },
          "execution_count": 30
        }
      ]
    },
    {
      "cell_type": "code",
      "metadata": {
        "id": "qJSJgAii5HnH"
      },
      "source": [
        "predictions = model_normalization.predict((test_data.TITLE.to_numpy().astype(np.str),test_data.BRAND.to_numpy().astype(np.str)))"
      ],
      "execution_count": null,
      "outputs": []
    },
    {
      "cell_type": "code",
      "metadata": {
        "id": "KOyrZ1H05uBT"
      },
      "source": [
        "prediction_values = predictions.argmax(axis= 1 )"
      ],
      "execution_count": null,
      "outputs": []
    },
    {
      "cell_type": "code",
      "metadata": {
        "id": "Pf2nqdzf5sHP"
      },
      "source": [
        "submission = pd.DataFrame()"
      ],
      "execution_count": null,
      "outputs": []
    },
    {
      "cell_type": "code",
      "metadata": {
        "id": "bQlaBkZY5sHQ"
      },
      "source": [
        "submission.insert(0,'PRODUCT_ID',value = test_data.PRODUCT_ID)"
      ],
      "execution_count": null,
      "outputs": []
    },
    {
      "cell_type": "code",
      "metadata": {
        "id": "dna5YIRi5sHQ"
      },
      "source": [
        "submission.insert(1,'BROWSE_NODE_ID',prediction_values)"
      ],
      "execution_count": null,
      "outputs": []
    },
    {
      "cell_type": "code",
      "metadata": {
        "colab": {
          "base_uri": "https://localhost:8080/",
          "height": 202
        },
        "id": "GrlafIvH5sHQ",
        "outputId": "5d37dd69-bdd2-4832-c8ff-4e2fc50e6a42"
      },
      "source": [
        "submission.head()"
      ],
      "execution_count": null,
      "outputs": [
        {
          "output_type": "execute_result",
          "data": {
            "text/html": [
              "<div>\n",
              "<style scoped>\n",
              "    .dataframe tbody tr th:only-of-type {\n",
              "        vertical-align: middle;\n",
              "    }\n",
              "\n",
              "    .dataframe tbody tr th {\n",
              "        vertical-align: top;\n",
              "    }\n",
              "\n",
              "    .dataframe thead th {\n",
              "        text-align: right;\n",
              "    }\n",
              "</style>\n",
              "<table border=\"1\" class=\"dataframe\">\n",
              "  <thead>\n",
              "    <tr style=\"text-align: right;\">\n",
              "      <th></th>\n",
              "      <th>PRODUCT_ID</th>\n",
              "      <th>BROWSE_NODE_ID</th>\n",
              "    </tr>\n",
              "  </thead>\n",
              "  <tbody>\n",
              "    <tr>\n",
              "      <th>0</th>\n",
              "      <td>1</td>\n",
              "      <td>1602</td>\n",
              "    </tr>\n",
              "    <tr>\n",
              "      <th>1</th>\n",
              "      <td>2</td>\n",
              "      <td>89</td>\n",
              "    </tr>\n",
              "    <tr>\n",
              "      <th>2</th>\n",
              "      <td>3</td>\n",
              "      <td>4</td>\n",
              "    </tr>\n",
              "    <tr>\n",
              "      <th>3</th>\n",
              "      <td>4</td>\n",
              "      <td>125</td>\n",
              "    </tr>\n",
              "    <tr>\n",
              "      <th>4</th>\n",
              "      <td>5</td>\n",
              "      <td>7644</td>\n",
              "    </tr>\n",
              "  </tbody>\n",
              "</table>\n",
              "</div>"
            ],
            "text/plain": [
              "   PRODUCT_ID  BROWSE_NODE_ID\n",
              "0           1            1602\n",
              "1           2              89\n",
              "2           3               4\n",
              "3           4             125\n",
              "4           5            7644"
            ]
          },
          "metadata": {
            "tags": []
          },
          "execution_count": 37
        }
      ]
    },
    {
      "cell_type": "code",
      "metadata": {
        "id": "Jz7iQ3t35z29"
      },
      "source": [
        "submission.to_csv('amazon_ML_submission.csv',index=False)"
      ],
      "execution_count": null,
      "outputs": []
    },
    {
      "cell_type": "code",
      "metadata": {
        "colab": {
          "base_uri": "https://localhost:8080/"
        },
        "id": "xFLEQ1wU54CL",
        "outputId": "e3079438-d530-4eca-fab0-c731d3661335"
      },
      "source": [
        "print('hello')"
      ],
      "execution_count": null,
      "outputs": [
        {
          "output_type": "stream",
          "text": [
            "hello\n"
          ],
          "name": "stdout"
        }
      ]
    },
    {
      "cell_type": "code",
      "metadata": {
        "id": "88Vhk8tL-fNo"
      },
      "source": [
        "base_layer_1 = hub.KerasLayer('https://tfhub.dev/google/universal-sentence-encoder/4',trainable = False)\n"
      ],
      "execution_count": null,
      "outputs": []
    },
    {
      "cell_type": "code",
      "metadata": {
        "id": "xZQFCiFw_iUe"
      },
      "source": [
        ""
      ],
      "execution_count": null,
      "outputs": []
    },
    {
      "cell_type": "code",
      "metadata": {
        "id": "MM2UOrLn65-V"
      },
      "source": [
        "inputs = tf.keras.layers.Input(shape = [], dtype = tf.string)\n",
        "base_model_layer = base_layer_1(inputs)\n",
        "lam_layer = tf.keras.layers.Lambda(lambda x : tf.expand_dims(x, axis =1))(base_model_layer)\n",
        "x = tf.keras.layers.LSTM(564)(lam_layer)\n",
        "x = tf.keras.layers.Dense(1080, activation= 'relu')(x)\n",
        "outputs = tf.keras.layers.Dense(9919,activation='softmax')(x)\n",
        "\n",
        "conv_model = tf.keras.Model(inputs, outputs)"
      ],
      "execution_count": null,
      "outputs": []
    },
    {
      "cell_type": "code",
      "metadata": {
        "colab": {
          "base_uri": "https://localhost:8080/",
          "height": 644
        },
        "id": "Xl5-SIv791GY",
        "outputId": "38b3f4dc-110d-4297-b4a5-61f96fb01ca2"
      },
      "source": [
        "tf.keras.utils.plot_model(conv_model,show_shapes=  True)"
      ],
      "execution_count": null,
      "outputs": [
        {
          "output_type": "execute_result",
          "data": {
            "image/png": "[encoded data removed]",
            "text/plain": [
              "<IPython.core.display.Image object>"
            ]
          },
          "metadata": {
            "tags": []
          },
          "execution_count": 37
        }
      ]
    },
    {
      "cell_type": "code",
      "metadata": {
        "id": "GWmmILPCdpLc"
      },
      "source": [
        "train_dataset = tf.data.Dataset.zip((\n",
        "    tf.data.Dataset.from_tensor_slices(modified_df.TITLE.to_numpy().astype(np.str)),\n",
        "    tf.data.Dataset.from_tensor_slices(modified_df.BROWSE_NODE_ID.to_numpy().astype(np.float32))\n",
        ")).batch(32).prefetch(tf.data.AUTOTUNE)"
      ],
      "execution_count": null,
      "outputs": []
    },
    {
      "cell_type": "code",
      "metadata": {
        "colab": {
          "base_uri": "https://localhost:8080/",
          "height": 458
        },
        "id": "d_10UqEy7z4-",
        "outputId": "f4e2d606-50a3-4327-fa55-274f5b35c8a9"
      },
      "source": [
        "conv_model.compile(\n",
        "    loss = tf.keras.losses.sparse_categorical_crossentropy,\n",
        "    optimizer = tf.keras.optimizers.Adam(),\n",
        "    metrics =['accuracy']\n",
        ")\n",
        "\n",
        "conv_model_history = conv_model.fit(train_dataset.repeat(),\n",
        "                                    batch_size = 32, \n",
        "                                    steps_per_epoch = len(train_dataset)* 0.2 ,\n",
        "                                    epochs = 15,\n",
        "                                    callbacks = [tf.keras.callbacks.ModelCheckpoint('/content/drive/MyDrive/MODEL_CHECKPOINT_LSTM',save_best_only= True, save_weights_only=True)])"
      ],
      "execution_count": null,
      "outputs": [
        {
          "output_type": "stream",
          "text": [
            "Epoch 1/15\n",
            "3442/3442 [==============================] - 51s 14ms/step - loss: 8.6453 - accuracy: 0.0131\n",
            "WARNING:tensorflow:Can save best model only with val_loss available, skipping.\n"
          ],
          "name": "stdout"
        },
        {
          "output_type": "stream",
          "text": [
            "WARNING:tensorflow:Can save best model only with val_loss available, skipping.\n"
          ],
          "name": "stderr"
        },
        {
          "output_type": "stream",
          "text": [
            "Epoch 2/15\n",
            "2268/3442 [==================>...........] - ETA: 16s - loss: 9.7063 - accuracy: 0.0000e+00"
          ],
          "name": "stdout"
        },
        {
          "output_type": "error",
          "ename": "KeyboardInterrupt",
          "evalue": "ignored",
          "traceback": [
            "\u001b[0;31m---------------------------------------------------------------------------\u001b[0m",
            "\u001b[0;31mKeyboardInterrupt\u001b[0m                         Traceback (most recent call last)",
            "\u001b[0;32m<ipython-input-39-21c4c5b6d523>\u001b[0m in \u001b[0;36m<module>\u001b[0;34m()\u001b[0m\n\u001b[1;32m      9\u001b[0m                                     \u001b[0msteps_per_epoch\u001b[0m \u001b[0;34m=\u001b[0m \u001b[0mlen\u001b[0m\u001b[0;34m(\u001b[0m\u001b[0mtrain_dataset\u001b[0m\u001b[0;34m)\u001b[0m\u001b[0;34m*\u001b[0m \u001b[0;36m0.2\u001b[0m \u001b[0;34m,\u001b[0m\u001b[0;34m\u001b[0m\u001b[0;34m\u001b[0m\u001b[0m\n\u001b[1;32m     10\u001b[0m                                     \u001b[0mepochs\u001b[0m \u001b[0;34m=\u001b[0m \u001b[0;36m15\u001b[0m\u001b[0;34m,\u001b[0m\u001b[0;34m\u001b[0m\u001b[0;34m\u001b[0m\u001b[0m\n\u001b[0;32m---> 11\u001b[0;31m                                     callbacks = [tf.keras.callbacks.ModelCheckpoint('/content/drive/MyDrive/MODEL_CHECKPOINT_LSTM',save_best_only= True, save_weights_only=True)])\n\u001b[0m",
            "\u001b[0;32m/usr/local/lib/python3.7/dist-packages/tensorflow/python/keras/engine/training.py\u001b[0m in \u001b[0;36mfit\u001b[0;34m(self, x, y, batch_size, epochs, verbose, callbacks, validation_split, validation_data, shuffle, class_weight, sample_weight, initial_epoch, steps_per_epoch, validation_steps, validation_batch_size, validation_freq, max_queue_size, workers, use_multiprocessing)\u001b[0m\n\u001b[1;32m   1186\u001b[0m               \u001b[0mlogs\u001b[0m \u001b[0;34m=\u001b[0m \u001b[0mtmp_logs\u001b[0m  \u001b[0;31m# No error, now safe to assign to logs.\u001b[0m\u001b[0;34m\u001b[0m\u001b[0;34m\u001b[0m\u001b[0m\n\u001b[1;32m   1187\u001b[0m               \u001b[0mend_step\u001b[0m \u001b[0;34m=\u001b[0m \u001b[0mstep\u001b[0m \u001b[0;34m+\u001b[0m \u001b[0mdata_handler\u001b[0m\u001b[0;34m.\u001b[0m\u001b[0mstep_increment\u001b[0m\u001b[0;34m\u001b[0m\u001b[0;34m\u001b[0m\u001b[0m\n\u001b[0;32m-> 1188\u001b[0;31m               \u001b[0mcallbacks\u001b[0m\u001b[0;34m.\u001b[0m\u001b[0mon_train_batch_end\u001b[0m\u001b[0;34m(\u001b[0m\u001b[0mend_step\u001b[0m\u001b[0;34m,\u001b[0m \u001b[0mlogs\u001b[0m\u001b[0;34m)\u001b[0m\u001b[0;34m\u001b[0m\u001b[0;34m\u001b[0m\u001b[0m\n\u001b[0m\u001b[1;32m   1189\u001b[0m               \u001b[0;32mif\u001b[0m \u001b[0mself\u001b[0m\u001b[0;34m.\u001b[0m\u001b[0mstop_training\u001b[0m\u001b[0;34m:\u001b[0m\u001b[0;34m\u001b[0m\u001b[0;34m\u001b[0m\u001b[0m\n\u001b[1;32m   1190\u001b[0m                 \u001b[0;32mbreak\u001b[0m\u001b[0;34m\u001b[0m\u001b[0;34m\u001b[0m\u001b[0m\n",
            "\u001b[0;32m/usr/local/lib/python3.7/dist-packages/tensorflow/python/keras/callbacks.py\u001b[0m in \u001b[0;36mon_train_batch_end\u001b[0;34m(self, batch, logs)\u001b[0m\n\u001b[1;32m    455\u001b[0m     \"\"\"\n\u001b[1;32m    456\u001b[0m     \u001b[0;32mif\u001b[0m \u001b[0mself\u001b[0m\u001b[0;34m.\u001b[0m\u001b[0m_should_call_train_batch_hooks\u001b[0m\u001b[0;34m:\u001b[0m\u001b[0;34m\u001b[0m\u001b[0;34m\u001b[0m\u001b[0m\n\u001b[0;32m--> 457\u001b[0;31m       \u001b[0mself\u001b[0m\u001b[0;34m.\u001b[0m\u001b[0m_call_batch_hook\u001b[0m\u001b[0;34m(\u001b[0m\u001b[0mModeKeys\u001b[0m\u001b[0;34m.\u001b[0m\u001b[0mTRAIN\u001b[0m\u001b[0;34m,\u001b[0m \u001b[0;34m'end'\u001b[0m\u001b[0;34m,\u001b[0m \u001b[0mbatch\u001b[0m\u001b[0;34m,\u001b[0m \u001b[0mlogs\u001b[0m\u001b[0;34m=\u001b[0m\u001b[0mlogs\u001b[0m\u001b[0;34m)\u001b[0m\u001b[0;34m\u001b[0m\u001b[0;34m\u001b[0m\u001b[0m\n\u001b[0m\u001b[1;32m    458\u001b[0m \u001b[0;34m\u001b[0m\u001b[0m\n\u001b[1;32m    459\u001b[0m   \u001b[0;32mdef\u001b[0m \u001b[0mon_test_batch_begin\u001b[0m\u001b[0;34m(\u001b[0m\u001b[0mself\u001b[0m\u001b[0;34m,\u001b[0m \u001b[0mbatch\u001b[0m\u001b[0;34m,\u001b[0m \u001b[0mlogs\u001b[0m\u001b[0;34m=\u001b[0m\u001b[0;32mNone\u001b[0m\u001b[0;34m)\u001b[0m\u001b[0;34m:\u001b[0m\u001b[0;34m\u001b[0m\u001b[0;34m\u001b[0m\u001b[0m\n",
            "\u001b[0;32m/usr/local/lib/python3.7/dist-packages/tensorflow/python/keras/callbacks.py\u001b[0m in \u001b[0;36m_call_batch_hook\u001b[0;34m(self, mode, hook, batch, logs)\u001b[0m\n\u001b[1;32m    315\u001b[0m       \u001b[0mself\u001b[0m\u001b[0;34m.\u001b[0m\u001b[0m_call_batch_begin_hook\u001b[0m\u001b[0;34m(\u001b[0m\u001b[0mmode\u001b[0m\u001b[0;34m,\u001b[0m \u001b[0mbatch\u001b[0m\u001b[0;34m,\u001b[0m \u001b[0mlogs\u001b[0m\u001b[0;34m)\u001b[0m\u001b[0;34m\u001b[0m\u001b[0;34m\u001b[0m\u001b[0m\n\u001b[1;32m    316\u001b[0m     \u001b[0;32melif\u001b[0m \u001b[0mhook\u001b[0m \u001b[0;34m==\u001b[0m \u001b[0;34m'end'\u001b[0m\u001b[0;34m:\u001b[0m\u001b[0;34m\u001b[0m\u001b[0;34m\u001b[0m\u001b[0m\n\u001b[0;32m--> 317\u001b[0;31m       \u001b[0mself\u001b[0m\u001b[0;34m.\u001b[0m\u001b[0m_call_batch_end_hook\u001b[0m\u001b[0;34m(\u001b[0m\u001b[0mmode\u001b[0m\u001b[0;34m,\u001b[0m \u001b[0mbatch\u001b[0m\u001b[0;34m,\u001b[0m \u001b[0mlogs\u001b[0m\u001b[0;34m)\u001b[0m\u001b[0;34m\u001b[0m\u001b[0;34m\u001b[0m\u001b[0m\n\u001b[0m\u001b[1;32m    318\u001b[0m     \u001b[0;32melse\u001b[0m\u001b[0;34m:\u001b[0m\u001b[0;34m\u001b[0m\u001b[0;34m\u001b[0m\u001b[0m\n\u001b[1;32m    319\u001b[0m       \u001b[0;32mraise\u001b[0m \u001b[0mValueError\u001b[0m\u001b[0;34m(\u001b[0m\u001b[0;34m'Unrecognized hook: {}'\u001b[0m\u001b[0;34m.\u001b[0m\u001b[0mformat\u001b[0m\u001b[0;34m(\u001b[0m\u001b[0mhook\u001b[0m\u001b[0;34m)\u001b[0m\u001b[0;34m)\u001b[0m\u001b[0;34m\u001b[0m\u001b[0;34m\u001b[0m\u001b[0m\n",
            "\u001b[0;32m/usr/local/lib/python3.7/dist-packages/tensorflow/python/keras/callbacks.py\u001b[0m in \u001b[0;36m_call_batch_end_hook\u001b[0;34m(self, mode, batch, logs)\u001b[0m\n\u001b[1;32m    335\u001b[0m       \u001b[0mself\u001b[0m\u001b[0;34m.\u001b[0m\u001b[0m_batch_times\u001b[0m\u001b[0;34m.\u001b[0m\u001b[0mappend\u001b[0m\u001b[0;34m(\u001b[0m\u001b[0mbatch_time\u001b[0m\u001b[0;34m)\u001b[0m\u001b[0;34m\u001b[0m\u001b[0;34m\u001b[0m\u001b[0m\n\u001b[1;32m    336\u001b[0m \u001b[0;34m\u001b[0m\u001b[0m\n\u001b[0;32m--> 337\u001b[0;31m     \u001b[0mself\u001b[0m\u001b[0;34m.\u001b[0m\u001b[0m_call_batch_hook_helper\u001b[0m\u001b[0;34m(\u001b[0m\u001b[0mhook_name\u001b[0m\u001b[0;34m,\u001b[0m \u001b[0mbatch\u001b[0m\u001b[0;34m,\u001b[0m \u001b[0mlogs\u001b[0m\u001b[0;34m)\u001b[0m\u001b[0;34m\u001b[0m\u001b[0;34m\u001b[0m\u001b[0m\n\u001b[0m\u001b[1;32m    338\u001b[0m \u001b[0;34m\u001b[0m\u001b[0m\n\u001b[1;32m    339\u001b[0m     \u001b[0;32mif\u001b[0m \u001b[0mlen\u001b[0m\u001b[0;34m(\u001b[0m\u001b[0mself\u001b[0m\u001b[0;34m.\u001b[0m\u001b[0m_batch_times\u001b[0m\u001b[0;34m)\u001b[0m \u001b[0;34m>=\u001b[0m \u001b[0mself\u001b[0m\u001b[0;34m.\u001b[0m\u001b[0m_num_batches_for_timing_check\u001b[0m\u001b[0;34m:\u001b[0m\u001b[0;34m\u001b[0m\u001b[0;34m\u001b[0m\u001b[0m\n",
            "\u001b[0;32m/usr/local/lib/python3.7/dist-packages/tensorflow/python/keras/callbacks.py\u001b[0m in \u001b[0;36m_call_batch_hook_helper\u001b[0;34m(self, hook_name, batch, logs)\u001b[0m\n\u001b[1;32m    373\u001b[0m     \u001b[0;32mfor\u001b[0m \u001b[0mcallback\u001b[0m \u001b[0;32min\u001b[0m \u001b[0mself\u001b[0m\u001b[0;34m.\u001b[0m\u001b[0mcallbacks\u001b[0m\u001b[0;34m:\u001b[0m\u001b[0;34m\u001b[0m\u001b[0;34m\u001b[0m\u001b[0m\n\u001b[1;32m    374\u001b[0m       \u001b[0mhook\u001b[0m \u001b[0;34m=\u001b[0m \u001b[0mgetattr\u001b[0m\u001b[0;34m(\u001b[0m\u001b[0mcallback\u001b[0m\u001b[0;34m,\u001b[0m \u001b[0mhook_name\u001b[0m\u001b[0;34m)\u001b[0m\u001b[0;34m\u001b[0m\u001b[0;34m\u001b[0m\u001b[0m\n\u001b[0;32m--> 375\u001b[0;31m       \u001b[0mhook\u001b[0m\u001b[0;34m(\u001b[0m\u001b[0mbatch\u001b[0m\u001b[0;34m,\u001b[0m \u001b[0mlogs\u001b[0m\u001b[0;34m)\u001b[0m\u001b[0;34m\u001b[0m\u001b[0;34m\u001b[0m\u001b[0m\n\u001b[0m\u001b[1;32m    376\u001b[0m \u001b[0;34m\u001b[0m\u001b[0m\n\u001b[1;32m    377\u001b[0m     \u001b[0;32mif\u001b[0m \u001b[0mself\u001b[0m\u001b[0;34m.\u001b[0m\u001b[0m_check_timing\u001b[0m\u001b[0;34m:\u001b[0m\u001b[0;34m\u001b[0m\u001b[0;34m\u001b[0m\u001b[0m\n",
            "\u001b[0;32m/usr/local/lib/python3.7/dist-packages/tensorflow/python/keras/callbacks.py\u001b[0m in \u001b[0;36mon_train_batch_end\u001b[0;34m(self, batch, logs)\u001b[0m\n\u001b[1;32m   1027\u001b[0m \u001b[0;34m\u001b[0m\u001b[0m\n\u001b[1;32m   1028\u001b[0m   \u001b[0;32mdef\u001b[0m \u001b[0mon_train_batch_end\u001b[0m\u001b[0;34m(\u001b[0m\u001b[0mself\u001b[0m\u001b[0;34m,\u001b[0m \u001b[0mbatch\u001b[0m\u001b[0;34m,\u001b[0m \u001b[0mlogs\u001b[0m\u001b[0;34m=\u001b[0m\u001b[0;32mNone\u001b[0m\u001b[0;34m)\u001b[0m\u001b[0;34m:\u001b[0m\u001b[0;34m\u001b[0m\u001b[0;34m\u001b[0m\u001b[0m\n\u001b[0;32m-> 1029\u001b[0;31m     \u001b[0mself\u001b[0m\u001b[0;34m.\u001b[0m\u001b[0m_batch_update_progbar\u001b[0m\u001b[0;34m(\u001b[0m\u001b[0mbatch\u001b[0m\u001b[0;34m,\u001b[0m \u001b[0mlogs\u001b[0m\u001b[0;34m)\u001b[0m\u001b[0;34m\u001b[0m\u001b[0;34m\u001b[0m\u001b[0m\n\u001b[0m\u001b[1;32m   1030\u001b[0m \u001b[0;34m\u001b[0m\u001b[0m\n\u001b[1;32m   1031\u001b[0m   \u001b[0;32mdef\u001b[0m \u001b[0mon_test_batch_end\u001b[0m\u001b[0;34m(\u001b[0m\u001b[0mself\u001b[0m\u001b[0;34m,\u001b[0m \u001b[0mbatch\u001b[0m\u001b[0;34m,\u001b[0m \u001b[0mlogs\u001b[0m\u001b[0;34m=\u001b[0m\u001b[0;32mNone\u001b[0m\u001b[0;34m)\u001b[0m\u001b[0;34m:\u001b[0m\u001b[0;34m\u001b[0m\u001b[0;34m\u001b[0m\u001b[0m\n",
            "\u001b[0;32m/usr/local/lib/python3.7/dist-packages/tensorflow/python/keras/callbacks.py\u001b[0m in \u001b[0;36m_batch_update_progbar\u001b[0;34m(self, batch, logs)\u001b[0m\n\u001b[1;32m   1099\u001b[0m     \u001b[0;32mif\u001b[0m \u001b[0mself\u001b[0m\u001b[0;34m.\u001b[0m\u001b[0mverbose\u001b[0m \u001b[0;34m==\u001b[0m \u001b[0;36m1\u001b[0m\u001b[0;34m:\u001b[0m\u001b[0;34m\u001b[0m\u001b[0;34m\u001b[0m\u001b[0m\n\u001b[1;32m   1100\u001b[0m       \u001b[0;31m# Only block async when verbose = 1.\u001b[0m\u001b[0;34m\u001b[0m\u001b[0;34m\u001b[0m\u001b[0;34m\u001b[0m\u001b[0m\n\u001b[0;32m-> 1101\u001b[0;31m       \u001b[0mlogs\u001b[0m \u001b[0;34m=\u001b[0m \u001b[0mtf_utils\u001b[0m\u001b[0;34m.\u001b[0m\u001b[0msync_to_numpy_or_python_type\u001b[0m\u001b[0;34m(\u001b[0m\u001b[0mlogs\u001b[0m\u001b[0;34m)\u001b[0m\u001b[0;34m\u001b[0m\u001b[0;34m\u001b[0m\u001b[0m\n\u001b[0m\u001b[1;32m   1102\u001b[0m       \u001b[0mself\u001b[0m\u001b[0;34m.\u001b[0m\u001b[0mprogbar\u001b[0m\u001b[0;34m.\u001b[0m\u001b[0mupdate\u001b[0m\u001b[0;34m(\u001b[0m\u001b[0mself\u001b[0m\u001b[0;34m.\u001b[0m\u001b[0mseen\u001b[0m\u001b[0;34m,\u001b[0m \u001b[0mlist\u001b[0m\u001b[0;34m(\u001b[0m\u001b[0mlogs\u001b[0m\u001b[0;34m.\u001b[0m\u001b[0mitems\u001b[0m\u001b[0;34m(\u001b[0m\u001b[0;34m)\u001b[0m\u001b[0;34m)\u001b[0m\u001b[0;34m,\u001b[0m \u001b[0mfinalize\u001b[0m\u001b[0;34m=\u001b[0m\u001b[0;32mFalse\u001b[0m\u001b[0;34m)\u001b[0m\u001b[0;34m\u001b[0m\u001b[0;34m\u001b[0m\u001b[0m\n\u001b[1;32m   1103\u001b[0m \u001b[0;34m\u001b[0m\u001b[0m\n",
            "\u001b[0;32m/usr/local/lib/python3.7/dist-packages/tensorflow/python/keras/utils/tf_utils.py\u001b[0m in \u001b[0;36msync_to_numpy_or_python_type\u001b[0;34m(tensors)\u001b[0m\n\u001b[1;32m    517\u001b[0m     \u001b[0;32mreturn\u001b[0m \u001b[0mt\u001b[0m  \u001b[0;31m# Don't turn ragged or sparse tensors to NumPy.\u001b[0m\u001b[0;34m\u001b[0m\u001b[0;34m\u001b[0m\u001b[0m\n\u001b[1;32m    518\u001b[0m \u001b[0;34m\u001b[0m\u001b[0m\n\u001b[0;32m--> 519\u001b[0;31m   \u001b[0;32mreturn\u001b[0m \u001b[0mnest\u001b[0m\u001b[0;34m.\u001b[0m\u001b[0mmap_structure\u001b[0m\u001b[0;34m(\u001b[0m\u001b[0m_to_single_numpy_or_python_type\u001b[0m\u001b[0;34m,\u001b[0m \u001b[0mtensors\u001b[0m\u001b[0;34m)\u001b[0m\u001b[0;34m\u001b[0m\u001b[0;34m\u001b[0m\u001b[0m\n\u001b[0m\u001b[1;32m    520\u001b[0m \u001b[0;34m\u001b[0m\u001b[0m\n\u001b[1;32m    521\u001b[0m \u001b[0;34m\u001b[0m\u001b[0m\n",
            "\u001b[0;32m/usr/local/lib/python3.7/dist-packages/tensorflow/python/util/nest.py\u001b[0m in \u001b[0;36mmap_structure\u001b[0;34m(func, *structure, **kwargs)\u001b[0m\n\u001b[1;32m    865\u001b[0m \u001b[0;34m\u001b[0m\u001b[0m\n\u001b[1;32m    866\u001b[0m   return pack_sequence_as(\n\u001b[0;32m--> 867\u001b[0;31m       \u001b[0mstructure\u001b[0m\u001b[0;34m[\u001b[0m\u001b[0;36m0\u001b[0m\u001b[0;34m]\u001b[0m\u001b[0;34m,\u001b[0m \u001b[0;34m[\u001b[0m\u001b[0mfunc\u001b[0m\u001b[0;34m(\u001b[0m\u001b[0;34m*\u001b[0m\u001b[0mx\u001b[0m\u001b[0;34m)\u001b[0m \u001b[0;32mfor\u001b[0m \u001b[0mx\u001b[0m \u001b[0;32min\u001b[0m \u001b[0mentries\u001b[0m\u001b[0;34m]\u001b[0m\u001b[0;34m,\u001b[0m\u001b[0;34m\u001b[0m\u001b[0;34m\u001b[0m\u001b[0m\n\u001b[0m\u001b[1;32m    868\u001b[0m       expand_composites=expand_composites)\n\u001b[1;32m    869\u001b[0m \u001b[0;34m\u001b[0m\u001b[0m\n",
            "\u001b[0;32m/usr/local/lib/python3.7/dist-packages/tensorflow/python/util/nest.py\u001b[0m in \u001b[0;36m<listcomp>\u001b[0;34m(.0)\u001b[0m\n\u001b[1;32m    865\u001b[0m \u001b[0;34m\u001b[0m\u001b[0m\n\u001b[1;32m    866\u001b[0m   return pack_sequence_as(\n\u001b[0;32m--> 867\u001b[0;31m       \u001b[0mstructure\u001b[0m\u001b[0;34m[\u001b[0m\u001b[0;36m0\u001b[0m\u001b[0;34m]\u001b[0m\u001b[0;34m,\u001b[0m \u001b[0;34m[\u001b[0m\u001b[0mfunc\u001b[0m\u001b[0;34m(\u001b[0m\u001b[0;34m*\u001b[0m\u001b[0mx\u001b[0m\u001b[0;34m)\u001b[0m \u001b[0;32mfor\u001b[0m \u001b[0mx\u001b[0m \u001b[0;32min\u001b[0m \u001b[0mentries\u001b[0m\u001b[0;34m]\u001b[0m\u001b[0;34m,\u001b[0m\u001b[0;34m\u001b[0m\u001b[0;34m\u001b[0m\u001b[0m\n\u001b[0m\u001b[1;32m    868\u001b[0m       expand_composites=expand_composites)\n\u001b[1;32m    869\u001b[0m \u001b[0;34m\u001b[0m\u001b[0m\n",
            "\u001b[0;32m/usr/local/lib/python3.7/dist-packages/tensorflow/python/keras/utils/tf_utils.py\u001b[0m in \u001b[0;36m_to_single_numpy_or_python_type\u001b[0;34m(t)\u001b[0m\n\u001b[1;32m    513\u001b[0m   \u001b[0;32mdef\u001b[0m \u001b[0m_to_single_numpy_or_python_type\u001b[0m\u001b[0;34m(\u001b[0m\u001b[0mt\u001b[0m\u001b[0;34m)\u001b[0m\u001b[0;34m:\u001b[0m\u001b[0;34m\u001b[0m\u001b[0;34m\u001b[0m\u001b[0m\n\u001b[1;32m    514\u001b[0m     \u001b[0;32mif\u001b[0m \u001b[0misinstance\u001b[0m\u001b[0;34m(\u001b[0m\u001b[0mt\u001b[0m\u001b[0;34m,\u001b[0m \u001b[0mops\u001b[0m\u001b[0;34m.\u001b[0m\u001b[0mTensor\u001b[0m\u001b[0;34m)\u001b[0m\u001b[0;34m:\u001b[0m\u001b[0;34m\u001b[0m\u001b[0;34m\u001b[0m\u001b[0m\n\u001b[0;32m--> 515\u001b[0;31m       \u001b[0mx\u001b[0m \u001b[0;34m=\u001b[0m \u001b[0mt\u001b[0m\u001b[0;34m.\u001b[0m\u001b[0mnumpy\u001b[0m\u001b[0;34m(\u001b[0m\u001b[0;34m)\u001b[0m\u001b[0;34m\u001b[0m\u001b[0;34m\u001b[0m\u001b[0m\n\u001b[0m\u001b[1;32m    516\u001b[0m       \u001b[0;32mreturn\u001b[0m \u001b[0mx\u001b[0m\u001b[0;34m.\u001b[0m\u001b[0mitem\u001b[0m\u001b[0;34m(\u001b[0m\u001b[0;34m)\u001b[0m \u001b[0;32mif\u001b[0m \u001b[0mnp\u001b[0m\u001b[0;34m.\u001b[0m\u001b[0mndim\u001b[0m\u001b[0;34m(\u001b[0m\u001b[0mx\u001b[0m\u001b[0;34m)\u001b[0m \u001b[0;34m==\u001b[0m \u001b[0;36m0\u001b[0m \u001b[0;32melse\u001b[0m \u001b[0mx\u001b[0m\u001b[0;34m\u001b[0m\u001b[0;34m\u001b[0m\u001b[0m\n\u001b[1;32m    517\u001b[0m     \u001b[0;32mreturn\u001b[0m \u001b[0mt\u001b[0m  \u001b[0;31m# Don't turn ragged or sparse tensors to NumPy.\u001b[0m\u001b[0;34m\u001b[0m\u001b[0;34m\u001b[0m\u001b[0m\n",
            "\u001b[0;32m/usr/local/lib/python3.7/dist-packages/tensorflow/python/framework/ops.py\u001b[0m in \u001b[0;36mnumpy\u001b[0;34m(self)\u001b[0m\n\u001b[1;32m   1092\u001b[0m     \"\"\"\n\u001b[1;32m   1093\u001b[0m     \u001b[0;31m# TODO(slebedev): Consider avoiding a copy for non-CPU or remote tensors.\u001b[0m\u001b[0;34m\u001b[0m\u001b[0;34m\u001b[0m\u001b[0;34m\u001b[0m\u001b[0m\n\u001b[0;32m-> 1094\u001b[0;31m     \u001b[0mmaybe_arr\u001b[0m \u001b[0;34m=\u001b[0m \u001b[0mself\u001b[0m\u001b[0;34m.\u001b[0m\u001b[0m_numpy\u001b[0m\u001b[0;34m(\u001b[0m\u001b[0;34m)\u001b[0m  \u001b[0;31m# pylint: disable=protected-access\u001b[0m\u001b[0;34m\u001b[0m\u001b[0;34m\u001b[0m\u001b[0m\n\u001b[0m\u001b[1;32m   1095\u001b[0m     \u001b[0;32mreturn\u001b[0m \u001b[0mmaybe_arr\u001b[0m\u001b[0;34m.\u001b[0m\u001b[0mcopy\u001b[0m\u001b[0;34m(\u001b[0m\u001b[0;34m)\u001b[0m \u001b[0;32mif\u001b[0m \u001b[0misinstance\u001b[0m\u001b[0;34m(\u001b[0m\u001b[0mmaybe_arr\u001b[0m\u001b[0;34m,\u001b[0m \u001b[0mnp\u001b[0m\u001b[0;34m.\u001b[0m\u001b[0mndarray\u001b[0m\u001b[0;34m)\u001b[0m \u001b[0;32melse\u001b[0m \u001b[0mmaybe_arr\u001b[0m\u001b[0;34m\u001b[0m\u001b[0;34m\u001b[0m\u001b[0m\n\u001b[1;32m   1096\u001b[0m \u001b[0;34m\u001b[0m\u001b[0m\n",
            "\u001b[0;32m/usr/local/lib/python3.7/dist-packages/tensorflow/python/framework/ops.py\u001b[0m in \u001b[0;36m_numpy\u001b[0;34m(self)\u001b[0m\n\u001b[1;32m   1058\u001b[0m   \u001b[0;32mdef\u001b[0m \u001b[0m_numpy\u001b[0m\u001b[0;34m(\u001b[0m\u001b[0mself\u001b[0m\u001b[0;34m)\u001b[0m\u001b[0;34m:\u001b[0m\u001b[0;34m\u001b[0m\u001b[0;34m\u001b[0m\u001b[0m\n\u001b[1;32m   1059\u001b[0m     \u001b[0;32mtry\u001b[0m\u001b[0;34m:\u001b[0m\u001b[0;34m\u001b[0m\u001b[0;34m\u001b[0m\u001b[0m\n\u001b[0;32m-> 1060\u001b[0;31m       \u001b[0;32mreturn\u001b[0m \u001b[0mself\u001b[0m\u001b[0;34m.\u001b[0m\u001b[0m_numpy_internal\u001b[0m\u001b[0;34m(\u001b[0m\u001b[0;34m)\u001b[0m\u001b[0;34m\u001b[0m\u001b[0;34m\u001b[0m\u001b[0m\n\u001b[0m\u001b[1;32m   1061\u001b[0m     \u001b[0;32mexcept\u001b[0m \u001b[0mcore\u001b[0m\u001b[0;34m.\u001b[0m\u001b[0m_NotOkStatusException\u001b[0m \u001b[0;32mas\u001b[0m \u001b[0me\u001b[0m\u001b[0;34m:\u001b[0m  \u001b[0;31m# pylint: disable=protected-access\u001b[0m\u001b[0;34m\u001b[0m\u001b[0;34m\u001b[0m\u001b[0m\n\u001b[1;32m   1062\u001b[0m       \u001b[0msix\u001b[0m\u001b[0;34m.\u001b[0m\u001b[0mraise_from\u001b[0m\u001b[0;34m(\u001b[0m\u001b[0mcore\u001b[0m\u001b[0;34m.\u001b[0m\u001b[0m_status_to_exception\u001b[0m\u001b[0;34m(\u001b[0m\u001b[0me\u001b[0m\u001b[0;34m.\u001b[0m\u001b[0mcode\u001b[0m\u001b[0;34m,\u001b[0m \u001b[0me\u001b[0m\u001b[0;34m.\u001b[0m\u001b[0mmessage\u001b[0m\u001b[0;34m)\u001b[0m\u001b[0;34m,\u001b[0m \u001b[0;32mNone\u001b[0m\u001b[0;34m)\u001b[0m  \u001b[0;31m# pylint: disable=protected-access\u001b[0m\u001b[0;34m\u001b[0m\u001b[0;34m\u001b[0m\u001b[0m\n",
            "\u001b[0;31mKeyboardInterrupt\u001b[0m: "
          ]
        }
      ]
    },
    {
      "cell_type": "code",
      "metadata": {
        "id": "IwwHPLPLHEdh"
      },
      "source": [
        "conv_model.save('/content/drive/MyDrive/LSTM.h5')"
      ],
      "execution_count": null,
      "outputs": []
    },
    {
      "cell_type": "code",
      "metadata": {
        "colab": {
          "base_uri": "https://localhost:8080/"
        },
        "id": "kClfnvbtMnin",
        "outputId": "2d541eb1-5278-4779-fea5-812dd419e910"
      },
      "source": [
        "for layer in conv_model.layers:\n",
        "  print(layer.trainable)"
      ],
      "execution_count": null,
      "outputs": [
        {
          "output_type": "stream",
          "text": [
            "True\n",
            "True\n",
            "True\n",
            "True\n",
            "True\n",
            "True\n"
          ],
          "name": "stdout"
        }
      ]
    },
    {
      "cell_type": "code",
      "metadata": {
        "id": "_mBbYJDjM_Ve"
      },
      "source": [
        ""
      ],
      "execution_count": null,
      "outputs": []
    },
    {
      "cell_type": "code",
      "metadata": {
        "id": "wE_FdIqCBlT8"
      },
      "source": [
        "base_layer_1.trainable = True\n",
        "# print(\"Number of layers in the base model: \", len(base_layer_1.layer.layers))\n"
      ],
      "execution_count": null,
      "outputs": []
    },
    {
      "cell_type": "code",
      "metadata": {
        "colab": {
          "base_uri": "https://localhost:8080/",
          "height": 167
        },
        "id": "aAdjPm-ZMKix",
        "outputId": "eeafdc61-7e06-430c-d491-0eeff46f6cf8"
      },
      "source": [
        "base_layer_1.layers"
      ],
      "execution_count": null,
      "outputs": [
        {
          "output_type": "error",
          "ename": "AttributeError",
          "evalue": "ignored",
          "traceback": [
            "\u001b[0;31m---------------------------------------------------------------------------\u001b[0m",
            "\u001b[0;31mAttributeError\u001b[0m                            Traceback (most recent call last)",
            "\u001b[0;32m<ipython-input-52-82e7cc354b33>\u001b[0m in \u001b[0;36m<module>\u001b[0;34m()\u001b[0m\n\u001b[0;32m----> 1\u001b[0;31m \u001b[0mbase_layer_1\u001b[0m\u001b[0;34m.\u001b[0m\u001b[0mlayers\u001b[0m\u001b[0;34m\u001b[0m\u001b[0;34m\u001b[0m\u001b[0m\n\u001b[0m",
            "\u001b[0;31mAttributeError\u001b[0m: 'KerasLayer' object has no attribute 'layers'"
          ]
        }
      ]
    },
    {
      "cell_type": "code",
      "metadata": {
        "colab": {
          "base_uri": "https://localhost:8080/",
          "height": 221
        },
        "id": "IsqgY7dPCO8a",
        "outputId": "d386ff51-e89a-4a84-b159-7e2b571ba9a8"
      },
      "source": [
        "\n",
        "# Fine-tune from this layer onwards\n",
        "fine_tune_at = 100\n",
        "\n",
        "# Freeze all the layers before the `fine_tune_at` layer\n",
        "for layer in base_layer_1.layers[:fine_tune_at]:\n",
        "  layer.trainable =  False\n"
      ],
      "execution_count": null,
      "outputs": [
        {
          "output_type": "error",
          "ename": "AttributeError",
          "evalue": "ignored",
          "traceback": [
            "\u001b[0;31m---------------------------------------------------------------------------\u001b[0m",
            "\u001b[0;31mAttributeError\u001b[0m                            Traceback (most recent call last)",
            "\u001b[0;32m<ipython-input-48-cf6690891b5c>\u001b[0m in \u001b[0;36m<module>\u001b[0;34m()\u001b[0m\n\u001b[1;32m      4\u001b[0m \u001b[0;34m\u001b[0m\u001b[0m\n\u001b[1;32m      5\u001b[0m \u001b[0;31m# Freeze all the layers before the `fine_tune_at` layer\u001b[0m\u001b[0;34m\u001b[0m\u001b[0;34m\u001b[0m\u001b[0;34m\u001b[0m\u001b[0m\n\u001b[0;32m----> 6\u001b[0;31m \u001b[0;32mfor\u001b[0m \u001b[0mlayer\u001b[0m \u001b[0;32min\u001b[0m \u001b[0mbase_layer_1\u001b[0m\u001b[0;34m.\u001b[0m\u001b[0mlayers\u001b[0m\u001b[0;34m[\u001b[0m\u001b[0;34m:\u001b[0m\u001b[0mfine_tune_at\u001b[0m\u001b[0;34m]\u001b[0m\u001b[0;34m:\u001b[0m\u001b[0;34m\u001b[0m\u001b[0;34m\u001b[0m\u001b[0m\n\u001b[0m\u001b[1;32m      7\u001b[0m   \u001b[0mlayer\u001b[0m\u001b[0;34m.\u001b[0m\u001b[0mtrainable\u001b[0m \u001b[0;34m=\u001b[0m  \u001b[0;32mFalse\u001b[0m\u001b[0;34m\u001b[0m\u001b[0;34m\u001b[0m\u001b[0m\n",
            "\u001b[0;31mAttributeError\u001b[0m: 'KerasLayer' object has no attribute 'layers'"
          ]
        }
      ]
    },
    {
      "cell_type": "code",
      "metadata": {
        "colab": {
          "base_uri": "https://localhost:8080/"
        },
        "id": "UJxYCR61CVBo",
        "outputId": "a735d59f-76bf-4f19-a18c-2e0c5249d377"
      },
      "source": [
        "conv_model.compile(\n",
        "    loss = tf.keras.losses.sparse_categorical_crossentropy,\n",
        "    optimizer = tf.keras.optimizers.Adam(lr =0.0001 ),\n",
        "    metrics =['accuracy']\n",
        ")"
      ],
      "execution_count": null,
      "outputs": [
        {
          "output_type": "stream",
          "text": [
            "/usr/local/lib/python3.7/dist-packages/tensorflow/python/keras/optimizer_v2/optimizer_v2.py:375: UserWarning: The `lr` argument is deprecated, use `learning_rate` instead.\n",
            "  \"The `lr` argument is deprecated, use `learning_rate` instead.\")\n"
          ],
          "name": "stderr"
        }
      ]
    },
    {
      "cell_type": "code",
      "metadata": {
        "colab": {
          "base_uri": "https://localhost:8080/"
        },
        "id": "-oHgm_7ICU9b",
        "outputId": "55b782c6-629e-4bea-fabb-54133cb340f6"
      },
      "source": [
        "conv_model.summary()\n",
        "len(conv_model.trainable_variables)"
      ],
      "execution_count": null,
      "outputs": [
        {
          "output_type": "stream",
          "text": [
            "Model: \"model\"\n",
            "_________________________________________________________________\n",
            "Layer (type)                 Output Shape              Param #   \n",
            "=================================================================\n",
            "input_1 (InputLayer)         [(None,)]                 0         \n",
            "_________________________________________________________________\n",
            "keras_layer (KerasLayer)     (None, 512)               256797824 \n",
            "_________________________________________________________________\n",
            "lambda (Lambda)              (None, 1, 512)            0         \n",
            "_________________________________________________________________\n",
            "lstm (LSTM)                  (None, 564)               2429712   \n",
            "_________________________________________________________________\n",
            "dense (Dense)                (None, 1080)              610200    \n",
            "_________________________________________________________________\n",
            "dense_1 (Dense)              (None, 9919)              10722439  \n",
            "=================================================================\n",
            "Total params: 270,560,175\n",
            "Trainable params: 270,560,175\n",
            "Non-trainable params: 0\n",
            "_________________________________________________________________\n"
          ],
          "name": "stdout"
        },
        {
          "output_type": "execute_result",
          "data": {
            "text/plain": [
              "187"
            ]
          },
          "metadata": {
            "tags": []
          },
          "execution_count": 76
        }
      ]
    },
    {
      "cell_type": "code",
      "metadata": {
        "colab": {
          "base_uri": "https://localhost:8080/"
        },
        "id": "8cAiZDYXCU53",
        "outputId": "1cd0ffa0-f5ee-46d0-a09a-35e23c162330"
      },
      "source": [
        "\n",
        "total_epochs =  25\n",
        "\n",
        "history_fine = conv_model.fit(train_dataset.repeat(),\n",
        "                         epochs=total_epochs,\n",
        "                         initial_epoch=conv_model_history.epoch[-1],\n",
        "                         steps_per_epoch =int(len(train_dataset) * 0.2) )"
      ],
      "execution_count": null,
      "outputs": [
        {
          "output_type": "stream",
          "text": [
            "Epoch 15/25\n",
            "8062/8062 [==============================] - 685s 84ms/step - loss: 0.7903 - accuracy: 0.8046\n",
            "Epoch 16/25\n",
            "8062/8062 [==============================] - 679s 84ms/step - loss: 0.7321 - accuracy: 0.8162\n",
            "Epoch 17/25\n",
            "8062/8062 [==============================] - 677s 84ms/step - loss: 0.6883 - accuracy: 0.8266\n",
            "Epoch 18/25\n",
            "8062/8062 [==============================] - 675s 84ms/step - loss: 0.6344 - accuracy: 0.8381\n",
            "Epoch 19/25\n",
            "8062/8062 [==============================] - 675s 84ms/step - loss: 0.5767 - accuracy: 0.8511\n",
            "Epoch 20/25\n",
            "8062/8062 [==============================] - 676s 84ms/step - loss: 0.5602 - accuracy: 0.8574\n",
            "Epoch 21/25\n",
            "8062/8062 [==============================] - 675s 84ms/step - loss: 0.5209 - accuracy: 0.8665\n",
            "Epoch 22/25\n",
            "8062/8062 [==============================] - 676s 84ms/step - loss: 0.4945 - accuracy: 0.8730\n",
            "Epoch 23/25\n",
            "8062/8062 [==============================] - 679s 84ms/step - loss: 0.4579 - accuracy: 0.8822\n",
            "Epoch 24/25\n",
            "8062/8062 [==============================] - 680s 84ms/step - loss: 0.4189 - accuracy: 0.8909\n",
            "Epoch 25/25\n",
            "8062/8062 [==============================] - 679s 84ms/step - loss: 0.4080 - accuracy: 0.8951\n"
          ],
          "name": "stdout"
        }
      ]
    },
    {
      "cell_type": "code",
      "metadata": {
        "id": "iY4jfmghDlEb"
      },
      "source": [
        "conv_model.save('/content/drive/MyDrive/HIGH_ACC_LSTM.h5')  "
      ],
      "execution_count": null,
      "outputs": []
    },
    {
      "cell_type": "code",
      "metadata": {
        "id": "P45GJP17DlAg"
      },
      "source": [
        ""
      ],
      "execution_count": null,
      "outputs": []
    },
    {
      "cell_type": "code",
      "metadata": {
        "id": "aHW9yxPyDk9M"
      },
      "source": [
        ""
      ],
      "execution_count": null,
      "outputs": []
    },
    {
      "cell_type": "code",
      "metadata": {
        "colab": {
          "base_uri": "https://localhost:8080/"
        },
        "id": "zVL_YYNn8MYk",
        "outputId": "137d8b58-be37-48da-df64-3f302324c99c"
      },
      "source": [
        "conv_model.fit(train_dataset, batch_size = 32 , epochs = 3)"
      ],
      "execution_count": null,
      "outputs": [
        {
          "output_type": "stream",
          "text": [
            "Epoch 1/3\n",
            "80620/80620 [==============================] - 811s 10ms/step - loss: 1.1134 - accuracy: 0.7415\n",
            "Epoch 2/3\n",
            "80620/80620 [==============================] - 803s 10ms/step - loss: 1.0019 - accuracy: 0.7629\n",
            "Epoch 3/3\n",
            "80620/80620 [==============================] - 806s 10ms/step - loss: 0.9357 - accuracy: 0.7753\n"
          ],
          "name": "stdout"
        },
        {
          "output_type": "execute_result",
          "data": {
            "text/plain": [
              "<tensorflow.python.keras.callbacks.History at 0x7fd71603e510>"
            ]
          },
          "metadata": {
            "tags": []
          },
          "execution_count": 145
        }
      ]
    },
    {
      "cell_type": "code",
      "metadata": {
        "colab": {
          "base_uri": "https://localhost:8080/"
        },
        "id": "xhbKgXNiFBfm",
        "outputId": "877761a5-d947-4b46-bd40-ea6262dd380d"
      },
      "source": [
        "conv_model.save('/content/drive/MyDrive/LSTM_MODEL_AMAZON')"
      ],
      "execution_count": null,
      "outputs": [
        {
          "output_type": "stream",
          "text": [
            "WARNING:absl:Found untraced functions such as lstm_cell_5_layer_call_fn, lstm_cell_5_layer_call_and_return_conditional_losses, lstm_cell_5_layer_call_fn, lstm_cell_5_layer_call_and_return_conditional_losses, lstm_cell_5_layer_call_and_return_conditional_losses while saving (showing 5 of 5). These functions will not be directly callable after loading.\n"
          ],
          "name": "stderr"
        },
        {
          "output_type": "stream",
          "text": [
            "INFO:tensorflow:Assets written to: /content/drive/MyDrive/LSTM_MODEL_AMAZON/assets\n"
          ],
          "name": "stdout"
        },
        {
          "output_type": "stream",
          "text": [
            "INFO:tensorflow:Assets written to: /content/drive/MyDrive/LSTM_MODEL_AMAZON/assets\n"
          ],
          "name": "stderr"
        }
      ]
    },
    {
      "cell_type": "code",
      "metadata": {
        "colab": {
          "base_uri": "https://localhost:8080/"
        },
        "id": "66EWohTgLlO9",
        "outputId": "c11c64a3-20c4-4e65-97e6-5fcec0bbab8b"
      },
      "source": [
        "test_data.isna().sum()"
      ],
      "execution_count": null,
      "outputs": [
        {
          "output_type": "execute_result",
          "data": {
            "text/plain": [
              "PRODUCT_ID       0\n",
              "TITLE            0\n",
              "DESCRIPTION      0\n",
              "BULLET_POINTS    0\n",
              "BRAND            0\n",
              "dtype: int64"
            ]
          },
          "metadata": {
            "tags": []
          },
          "execution_count": 79
        }
      ]
    },
    {
      "cell_type": "code",
      "metadata": {
        "id": "7jGupXtEqYic"
      },
      "source": [
        ""
      ],
      "execution_count": null,
      "outputs": []
    },
    {
      "cell_type": "code",
      "metadata": {
        "id": "NMnDgaSIqY1z"
      },
      "source": [
        "test_data = test_data.fillna('NAN')"
      ],
      "execution_count": null,
      "outputs": []
    },
    {
      "cell_type": "code",
      "metadata": {
        "id": "jKZmbPsRqY10"
      },
      "source": [
        "test_data.isna().sum()"
      ],
      "execution_count": null,
      "outputs": []
    },
    {
      "cell_type": "code",
      "metadata": {
        "id": "5XYdMrkMqY10"
      },
      "source": [
        "LSTM_predictions  = conv_model.predict(test_data.TITLE.to_numpy().astype(np.str))"
      ],
      "execution_count": null,
      "outputs": []
    },
    {
      "cell_type": "code",
      "metadata": {
        "id": "cDxTSI9hqY10"
      },
      "source": [
        "LSTM_prediction_values = np.argmax(LSTM_predictions,axis =1)"
      ],
      "execution_count": null,
      "outputs": []
    },
    {
      "cell_type": "code",
      "metadata": {
        "id": "AThu3QSgqY11"
      },
      "source": [
        ""
      ],
      "execution_count": null,
      "outputs": []
    },
    {
      "cell_type": "code",
      "metadata": {
        "id": "g_C4K4jgqY11"
      },
      "source": [
        "submission = pd.DataFrame()"
      ],
      "execution_count": null,
      "outputs": []
    },
    {
      "cell_type": "code",
      "metadata": {
        "id": "hF1hAdnDqY12"
      },
      "source": [
        "submission.head()"
      ],
      "execution_count": null,
      "outputs": []
    },
    {
      "cell_type": "code",
      "metadata": {
        "id": "U0vQut0VqY12"
      },
      "source": [
        "submission.insert(0,'PRODUCT_ID',value = test_data.PRODUCT_ID)"
      ],
      "execution_count": null,
      "outputs": []
    },
    {
      "cell_type": "code",
      "metadata": {
        "id": "0L55-r3iqY12"
      },
      "source": [
        "submission.head()"
      ],
      "execution_count": null,
      "outputs": []
    },
    {
      "cell_type": "code",
      "metadata": {
        "id": "0KLrMLZLqY13"
      },
      "source": [
        "submission.insert(1,'BROWSE_NODE_ID',LSTM_prediction_values)"
      ],
      "execution_count": null,
      "outputs": []
    },
    {
      "cell_type": "code",
      "metadata": {
        "id": "Z59kU65vqY13"
      },
      "source": [
        "submission.head()"
      ],
      "execution_count": null,
      "outputs": []
    },
    {
      "cell_type": "code",
      "metadata": {
        "id": "Ho67L79-qY13"
      },
      "source": [
        "submission.to_csv('./LSTM_preds_mod.csv')"
      ],
      "execution_count": null,
      "outputs": []
    },
    {
      "cell_type": "code",
      "metadata": {
        "id": "0yxgBwnpLlO-"
      },
      "source": [
        "test_data = test_data.fillna('NAN')"
      ],
      "execution_count": null,
      "outputs": []
    },
    {
      "cell_type": "code",
      "metadata": {
        "id": "_IWcfej_L8IK"
      },
      "source": [
        "test_data.isna().sum()"
      ],
      "execution_count": null,
      "outputs": []
    },
    {
      "cell_type": "code",
      "metadata": {
        "id": "SsqiICnUHThn"
      },
      "source": [
        "LSTM_predictions  = conv_model.predict(test_data.TITLE.to_numpy().astype(np.str))"
      ],
      "execution_count": null,
      "outputs": []
    },
    {
      "cell_type": "code",
      "metadata": {
        "id": "NMUI6ybaLlO_"
      },
      "source": [
        "LSTM_prediction_values = np.argmax(LSTM_predictions,axis =1)"
      ],
      "execution_count": null,
      "outputs": []
    },
    {
      "cell_type": "code",
      "metadata": {
        "id": "WvNVYOMAPDDa"
      },
      "source": [
        ""
      ],
      "execution_count": null,
      "outputs": []
    },
    {
      "cell_type": "code",
      "metadata": {
        "id": "8j0YcOu3PMLS"
      },
      "source": [
        "submission = pd.DataFrame()"
      ],
      "execution_count": null,
      "outputs": []
    },
    {
      "cell_type": "code",
      "metadata": {
        "id": "AGPyme3ePMLU"
      },
      "source": [
        "submission.head()"
      ],
      "execution_count": null,
      "outputs": []
    },
    {
      "cell_type": "code",
      "metadata": {
        "id": "YiBBs-Z-PMLV"
      },
      "source": [
        "submission.insert(0,'PRODUCT_ID',value = test_data.PRODUCT_ID)"
      ],
      "execution_count": null,
      "outputs": []
    },
    {
      "cell_type": "code",
      "metadata": {
        "id": "H6iS4dHIPMLW"
      },
      "source": [
        "submission.head()"
      ],
      "execution_count": null,
      "outputs": []
    },
    {
      "cell_type": "code",
      "metadata": {
        "id": "Dl4y7b93PMLW"
      },
      "source": [
        "submission.insert(1,'BROWSE_NODE_ID',LSTM_prediction_values)"
      ],
      "execution_count": null,
      "outputs": []
    },
    {
      "cell_type": "code",
      "metadata": {
        "id": "om20dstzPRmt"
      },
      "source": [
        "submission.head()"
      ],
      "execution_count": null,
      "outputs": []
    },
    {
      "cell_type": "code",
      "metadata": {
        "id": "luZBbcLYPSr8"
      },
      "source": [
        "submission.to_csv('./LSTM_preds_mod.csv')"
      ],
      "execution_count": null,
      "outputs": []
    },
    {
      "cell_type": "markdown",
      "metadata": {
        "id": "m5ITiQTlPWFJ"
      },
      "source": [
        "# Bidirectional LSTM with 2 lstm starting \""
      ]
    },
    {
      "cell_type": "code",
      "metadata": {
        "id": "PNI4YDNYP9zR"
      },
      "source": [
        "def preprocess_dataframe(df,shuffle = True,drop_cols = ['DESCRIPTION' , 'BULLET_POINTS'] ,fill_na = True ):\n",
        "  if shuffle: \n",
        "    df = df.sample(frac= 1 , random_state= 42)\n",
        "  df = df.drop(df[df.BROWSE_NODE_ID > 9919].index,axis = 0 )\n",
        "  if fill_na : \n",
        "    df = df.fillna(value = 'NAN')\n",
        "  \n",
        "  print(f'numrs of none values {df.isna().sum()}')\n",
        "  return df \n",
        "\n",
        "  "
      ],
      "execution_count": null,
      "outputs": []
    },
    {
      "cell_type": "code",
      "metadata": {
        "colab": {
          "base_uri": "https://localhost:8080/"
        },
        "id": "G9BnH3OCTS9K",
        "outputId": "71207677-4bed-49a9-940c-0b473ea429db"
      },
      "source": [
        "preprocessed_df = preprocess_dataframe(train_data)"
      ],
      "execution_count": null,
      "outputs": [
        {
          "output_type": "stream",
          "text": [
            "numrs of none values TITLE             0\n",
            "DESCRIPTION       0\n",
            "BULLET_POINTS     0\n",
            "BRAND             0\n",
            "BROWSE_NODE_ID    0\n",
            "dtype: int64\n"
          ],
          "name": "stdout"
        }
      ]
    },
    {
      "cell_type": "code",
      "metadata": {
        "id": "06LnN2jr8iGv"
      },
      "source": [
        "import tensorflow as tf\n",
        "import tensorflow_hub as hub"
      ],
      "execution_count": null,
      "outputs": []
    },
    {
      "cell_type": "code",
      "metadata": {
        "colab": {
          "base_uri": "https://localhost:8080/",
          "height": 872
        },
        "id": "s-sCZT3zZM01",
        "outputId": "541ee328-34cb-431a-c885-0d9c51a6c53a"
      },
      "source": [
        "preprocessed_df['brand_description'] = preprocessed_df['BRAND'].astype(str) + ' ' + preprocessed_df['DESCRIPTION'].astype(str)\n",
        "preprocessed_df.head(10)"
      ],
      "execution_count": null,
      "outputs": [
        {
          "output_type": "execute_result",
          "data": {
            "text/html": [
              "<div>\n",
              "<style scoped>\n",
              "    .dataframe tbody tr th:only-of-type {\n",
              "        vertical-align: middle;\n",
              "    }\n",
              "\n",
              "    .dataframe tbody tr th {\n",
              "        vertical-align: top;\n",
              "    }\n",
              "\n",
              "    .dataframe thead th {\n",
              "        text-align: right;\n",
              "    }\n",
              "</style>\n",
              "<table border=\"1\" class=\"dataframe\">\n",
              "  <thead>\n",
              "    <tr style=\"text-align: right;\">\n",
              "      <th></th>\n",
              "      <th>TITLE</th>\n",
              "      <th>DESCRIPTION</th>\n",
              "      <th>BULLET_POINTS</th>\n",
              "      <th>BRAND</th>\n",
              "      <th>BROWSE_NODE_ID</th>\n",
              "      <th>new_description</th>\n",
              "      <th>brand_description</th>\n",
              "    </tr>\n",
              "  </thead>\n",
              "  <tbody>\n",
              "    <tr>\n",
              "      <th>2078681</th>\n",
              "      <td>Nivea Face Sun Block Whitening Cream SPF 50 Pa...</td>\n",
              "      <td>Nivea Sun Fac Sun Block Whitening Cream Spf 50...</td>\n",
              "      <td>NIVEA face SUN Block Whitening Cream SPF 50 PA ++</td>\n",
              "      <td>Nivea</td>\n",
              "      <td>35</td>\n",
              "      <td>Nivea Sun Fac Sun Block Whitening Cream Spf 50...</td>\n",
              "      <td>Nivea Nivea Sun Fac Sun Block Whitening Cream ...</td>\n",
              "    </tr>\n",
              "    <tr>\n",
              "      <th>1125035</th>\n",
              "      <td>ROZVEH Women's Shift Brown Dress</td>\n",
              "      <td>&lt;p&gt;Super Fine Rayon,&amp;nbsp;Brown Floral Print d...</td>\n",
              "      <td>[Material: Super Fine Rayon, Brown Floral Prin...</td>\n",
              "      <td>ROZVEH</td>\n",
              "      <td>1724</td>\n",
              "      <td>&lt;p&gt;Super Fine Rayon,&amp;nbsp;Brown Floral Print d...</td>\n",
              "      <td>ROZVEH &lt;p&gt;Super Fine Rayon,&amp;nbsp;Brown Floral ...</td>\n",
              "    </tr>\n",
              "    <tr>\n",
              "      <th>1928801</th>\n",
              "      <td>Narayan Creation Pashmina Palazzo Suit Dupatta...</td>\n",
              "      <td>Narayan creatins pashmina unstitched palazzo s...</td>\n",
              "      <td>NAN</td>\n",
              "      <td>Generic</td>\n",
              "      <td>465</td>\n",
              "      <td>Narayan creatins pashmina unstitched palazzo s...</td>\n",
              "      <td>Generic Narayan creatins pashmina unstitched p...</td>\n",
              "    </tr>\n",
              "    <tr>\n",
              "      <th>864509</th>\n",
              "      <td>Q-rious Women's Silicon Strap Spagettis/Camiso...</td>\n",
              "      <td>Trendy Q-rious Spagetti with sequin detachable...</td>\n",
              "      <td>[Silicon and Elastic strap option,Detachable S...</td>\n",
              "      <td>Q-rious</td>\n",
              "      <td>2003</td>\n",
              "      <td>Trendy Q-rious Spagetti with sequin detachable...</td>\n",
              "      <td>Q-rious Trendy Q-rious Spagetti with sequin de...</td>\n",
              "    </tr>\n",
              "    <tr>\n",
              "      <th>1613202</th>\n",
              "      <td>Hanes Men's Pullover EcoSmart Fleece Hooded Sw...</td>\n",
              "      <td>NAN</td>\n",
              "      <td>[Made with a portion of recycled polyester,Pat...</td>\n",
              "      <td>Hanes</td>\n",
              "      <td>3355</td>\n",
              "      <td>NAN</td>\n",
              "      <td>Hanes NAN</td>\n",
              "    </tr>\n",
              "    <tr>\n",
              "      <th>1306751</th>\n",
              "      <td>Verca Cotton;Fabric Krishna Bal Gopal Poshak (...</td>\n",
              "      <td>Explore wide range of home décor products from...</td>\n",
              "      <td>[Quality Guaranteed,Easy Return and Exchange,L...</td>\n",
              "      <td>Verca</td>\n",
              "      <td>1287</td>\n",
              "      <td>Explore wide range of home décor products from...</td>\n",
              "      <td>Verca Explore wide range of home décor product...</td>\n",
              "    </tr>\n",
              "    <tr>\n",
              "      <th>2031708</th>\n",
              "      <td>EVERWILLOW Girl's Satin Silk Lehenga Choli (Pu...</td>\n",
              "      <td>Pure Satin Silk Lehenga Blouse Set. Featuring ...</td>\n",
              "      <td>[Wash Care : Dry Clean and Hend Wash.,In the P...</td>\n",
              "      <td>EVERWILLOW</td>\n",
              "      <td>5173</td>\n",
              "      <td>Pure Satin Silk Lehenga Blouse Set. Featuring ...</td>\n",
              "      <td>EVERWILLOW Pure Satin Silk Lehenga Blouse Set....</td>\n",
              "    </tr>\n",
              "    <tr>\n",
              "      <th>1093990</th>\n",
              "      <td>Vimes All Side Protection Sleek Rubberised Mat...</td>\n",
              "      <td>&lt;p&gt;\"&lt;/p&gt; &lt;p&gt;&lt;strong&gt;Vimes back cover case for ...</td>\n",
              "      <td>[Camera Protection Technology - Introducing Ou...</td>\n",
              "      <td>VIMES</td>\n",
              "      <td>2040</td>\n",
              "      <td>&lt;p&gt;\"&lt;/p&gt; &lt;p&gt;&lt;strong&gt;Vimes back cover case for ...</td>\n",
              "      <td>VIMES &lt;p&gt;\"&lt;/p&gt; &lt;p&gt;&lt;strong&gt;Vimes back cover cas...</td>\n",
              "    </tr>\n",
              "    <tr>\n",
              "      <th>2112975</th>\n",
              "      <td>Generic Back Cover Soft Silicon Back Cover for...</td>\n",
              "      <td>This Back Cover Is A Soft Silicon Case.It Is T...</td>\n",
              "      <td>[Perfect Fit,Light Weight,Easy To Apply,Ultrat...</td>\n",
              "      <td>Generic</td>\n",
              "      <td>1045</td>\n",
              "      <td>This Back Cover Is A Soft Silicon Case.It Is T...</td>\n",
              "      <td>Generic This Back Cover Is A Soft Silicon Case...</td>\n",
              "    </tr>\n",
              "    <tr>\n",
              "      <th>1003808</th>\n",
              "      <td>Amante Cotton Padded Underwire Push-Up Plunge ...</td>\n",
              "      <td>NAN</td>\n",
              "      <td>[Padded &amp; wired,Demi cup,Fully adjustable &amp; de...</td>\n",
              "      <td>Amante</td>\n",
              "      <td>773</td>\n",
              "      <td>NAN</td>\n",
              "      <td>Amante NAN</td>\n",
              "    </tr>\n",
              "  </tbody>\n",
              "</table>\n",
              "</div>"
            ],
            "text/plain": [
              "                                                     TITLE  ...                                  brand_description\n",
              "2078681  Nivea Face Sun Block Whitening Cream SPF 50 Pa...  ...  Nivea Nivea Sun Fac Sun Block Whitening Cream ...\n",
              "1125035                   ROZVEH Women's Shift Brown Dress  ...  ROZVEH <p>Super Fine Rayon,&nbsp;Brown Floral ...\n",
              "1928801  Narayan Creation Pashmina Palazzo Suit Dupatta...  ...  Generic Narayan creatins pashmina unstitched p...\n",
              "864509   Q-rious Women's Silicon Strap Spagettis/Camiso...  ...  Q-rious Trendy Q-rious Spagetti with sequin de...\n",
              "1613202  Hanes Men's Pullover EcoSmart Fleece Hooded Sw...  ...                                          Hanes NAN\n",
              "1306751  Verca Cotton;Fabric Krishna Bal Gopal Poshak (...  ...  Verca Explore wide range of home décor product...\n",
              "2031708  EVERWILLOW Girl's Satin Silk Lehenga Choli (Pu...  ...  EVERWILLOW Pure Satin Silk Lehenga Blouse Set....\n",
              "1093990  Vimes All Side Protection Sleek Rubberised Mat...  ...  VIMES <p>\"</p> <p><strong>Vimes back cover cas...\n",
              "2112975  Generic Back Cover Soft Silicon Back Cover for...  ...  Generic This Back Cover Is A Soft Silicon Case...\n",
              "1003808  Amante Cotton Padded Underwire Push-Up Plunge ...  ...                                         Amante NAN\n",
              "\n",
              "[10 rows x 7 columns]"
            ]
          },
          "metadata": {
            "tags": []
          },
          "execution_count": 34
        }
      ]
    },
    {
      "cell_type": "code",
      "metadata": {
        "colab": {
          "base_uri": "https://localhost:8080/"
        },
        "id": "Ex8X-nTOahV_",
        "outputId": "8afb509f-765c-44ba-d6c0-c2f0b976b60e"
      },
      "source": [
        "# Stripping off html tags \n",
        "import re \n",
        "\n",
        "def cleanhtml(raw_html):\n",
        "  cleanr = re.compile('<.*?>')\n",
        "  cleantext = re.sub(cleanr, '', raw_html)\n",
        "  return cleantext\n",
        "\n",
        "preprocessed_df['brand_description'] = preprocessed_df['brand_description'].apply(lambda x: cleanhtml(x))\n",
        "preprocessed_df['brand_description']"
      ],
      "execution_count": null,
      "outputs": [
        {
          "output_type": "execute_result",
          "data": {
            "text/plain": [
              "2078681    Nivea Nivea Sun Fac Sun Block Whitening Cream ...\n",
              "1125035    ROZVEH Super Fine Rayon,&nbsp;Brown Floral Pri...\n",
              "1928801    Generic Narayan creatins pashmina unstitched p...\n",
              "864509     Q-rious Trendy Q-rious Spagetti with sequin de...\n",
              "1613202                                            Hanes NAN\n",
              "                                 ...                        \n",
              "732180     SPORTO FITNESS SPORTO FITNESSTM Flat Bench Wor...\n",
              "110268                                            Lenovo NAN\n",
              "1692743    Zemic SOFT FOAM PLAYMAT: Extra-cushioned, soft...\n",
              "2229084                                             Soch NAN\n",
              "2768307                                 Kuber Industries NAN\n",
              "Name: brand_description, Length: 2579890, dtype: object"
            ]
          },
          "metadata": {
            "tags": []
          },
          "execution_count": 39
        }
      ]
    },
    {
      "cell_type": "code",
      "metadata": {
        "colab": {
          "base_uri": "https://localhost:8080/"
        },
        "id": "E-dyvwimZ7jh",
        "outputId": "d62047fb-5ce7-4203-d20d-1f3fdb756abc"
      },
      "source": [
        "preprocessed_df.isna().sum()"
      ],
      "execution_count": null,
      "outputs": [
        {
          "output_type": "execute_result",
          "data": {
            "text/plain": [
              "TITLE                0\n",
              "DESCRIPTION          0\n",
              "BULLET_POINTS        0\n",
              "BRAND                0\n",
              "BROWSE_NODE_ID       0\n",
              "new_description      0\n",
              "brand_description    0\n",
              "dtype: int64"
            ]
          },
          "metadata": {
            "tags": []
          },
          "execution_count": 36
        }
      ]
    },
    {
      "cell_type": "code",
      "metadata": {
        "id": "8TmHSpAwVA-5"
      },
      "source": [
        "LSTM_inputs = tf.data.Dataset.from_tensor_slices((preprocessed_df.TITLE.to_numpy().astype(np.str),preprocessed_df['brand_description'].astype(str).to_numpy()))"
      ],
      "execution_count": null,
      "outputs": []
    },
    {
      "cell_type": "code",
      "metadata": {
        "id": "w4UQiQ84VA8G"
      },
      "source": [
        "LSTM_outputs = tf.data.Dataset.from_tensor_slices(preprocessed_df.BROWSE_NODE_ID.to_numpy())"
      ],
      "execution_count": null,
      "outputs": []
    },
    {
      "cell_type": "code",
      "metadata": {
        "id": "5ufq4xouVA5p"
      },
      "source": [
        "LSTM_dataset = tf.data.Dataset.zip((LSTM_inputs, LSTM_outputs)).batch(32).prefetch(tf.data.AUTOTUNE)"
      ],
      "execution_count": null,
      "outputs": []
    },
    {
      "cell_type": "code",
      "metadata": {
        "id": "K_vFWmg3tmSp"
      },
      "source": [
        "base_layer_2 = hub.KerasLayer('https://tfhub.dev/google/nnlm-en-dim128/2', trainable = False)\n",
        "base_layer_3 = hub.KerasLayer('https://tfhub.dev/google/nnlm-en-dim128-with-normalization/2',trainable = False)\n",
        "base_layer_1 = hub.KerasLayer('https://tfhub.dev/google/universal-sentence-encoder/4',trainable = False)\n"
      ],
      "execution_count": null,
      "outputs": []
    },
    {
      "cell_type": "code",
      "metadata": {
        "id": "rm2t39FRP_vw"
      },
      "source": [
        "inputs = tf.keras.layers.Input(shape = [], dtype = tf.string)\n",
        "base_model_layer = base_layer_1(inputs)\n",
        "lam_layer = tf.keras.layers.Lambda(lambda x : tf.expand_dims(x, axis =1))(base_model_layer)\n",
        "x = tf.keras.layers.Bidirectional(tf.keras.layers.LSTM(400,return_sequences=True))(lam_layer)\n",
        "x = tf.keras.layers.Bidirectional(tf.keras.layers.LSTM(1080))(x)\n",
        "\n",
        "brand_inputs = tf.keras.layers.Input(shape = [], dtype = tf.string)\n",
        "y = base_layer_1(brand_inputs)\n",
        "y = tf.keras.layers.Lambda(lambda x : tf.expand_dims(x, axis =1))(y)\n",
        "y  = tf.keras.layers.Bidirectional(tf.keras.layers.LSTM(450))(y)\n",
        "# y = tf.keras.layers.LSTM(564)(y)\n",
        "y = tf.keras.layers.Dense(1080)(y)\n",
        "\n",
        "concat = tf.keras.layers.concatenate(((x,y)))\n",
        "\n",
        "\n",
        "z = tf.keras.layers.Dense(264, activation= 'relu')(concat)\n",
        "outputs = tf.keras.layers.Dense(9919,activation='softmax')(z)\n",
        "LSTM_MODEL_1 = tf.keras.Model((inputs, brand_inputs), outputs)"
      ],
      "execution_count": null,
      "outputs": []
    },
    {
      "cell_type": "code",
      "metadata": {
        "colab": {
          "base_uri": "https://localhost:8080/",
          "height": 953
        },
        "id": "KN6y0n1wQShd",
        "outputId": "8915dbd2-32a6-40d9-fc71-5be4e268e850"
      },
      "source": [
        "tf.keras.utils.plot_model(LSTM_MODEL_1)"
      ],
      "execution_count": null,
      "outputs": [
        {
          "output_type": "execute_result",
          "data": {
            "image/png": "[encoded data removed]",
            "text/plain": [
              "<IPython.core.display.Image object>"
            ]
          },
          "metadata": {
            "tags": []
          },
          "execution_count": 59
        }
      ]
    },
    {
      "cell_type": "code",
      "metadata": {
        "id": "uHUGw8oZUlEo"
      },
      "source": [
        "LSTM_MODEL_1.compile(loss = tf.keras.losses.sparse_categorical_crossentropy,\n",
        "                     optimizer = tf.keras.optimizers.Adam(),\n",
        "                     metrics = ['accuracy'])"
      ],
      "execution_count": null,
      "outputs": []
    },
    {
      "cell_type": "code",
      "metadata": {
        "colab": {
          "background_save": true,
          "base_uri": "https://localhost:8080/"
        },
        "id": "IFWHcQqjU-Tj",
        "outputId": "6496d985-926e-40be-caaa-dfea4efafae4"
      },
      "source": [
        "LSTM_MODEL_1.fit(LSTM_dataset,\n",
        "                 steps_per_epoch= int(len(LSTM_dataset) * 0.1),\n",
        "                 batch_size = 32,\n",
        "                 epochs = 10)"
      ],
      "execution_count": null,
      "outputs": [
        {
          "output_type": "stream",
          "text": [
            "Epoch 1/10\n",
            "8062/8062 [==============================] - 222s 27ms/step - loss: 2.7658 - accuracy: 0.4794\n",
            "Epoch 2/10\n",
            "8062/8062 [==============================] - 215s 27ms/step - loss: 1.6895 - accuracy: 0.6324\n",
            "Epoch 3/10\n",
            "8062/8062 [==============================] - 214s 27ms/step - loss: 1.4515 - accuracy: 0.6735\n",
            "Epoch 4/10\n",
            "8062/8062 [==============================] - 213s 26ms/step - loss: 1.3331 - accuracy: 0.6948\n",
            "Epoch 5/10\n",
            "8062/8062 [==============================] - 215s 27ms/step - loss: 1.2675 - accuracy: 0.7084\n",
            "Epoch 6/10\n",
            "8062/8062 [==============================] - 215s 27ms/step - loss: 1.2186 - accuracy: 0.7182\n",
            "Epoch 7/10\n",
            "8062/8062 [==============================] - 214s 27ms/step - loss: 1.1869 - accuracy: 0.7261\n",
            "Epoch 8/10\n",
            "8062/8062 [==============================] - 216s 27ms/step - loss: 1.1567 - accuracy: 0.7323\n",
            "Epoch 9/10\n",
            "8062/8062 [==============================] - 217s 27ms/step - loss: 1.1363 - accuracy: 0.7370\n",
            "Epoch 10/10\n",
            "8062/8062 [==============================] - 216s 27ms/step - loss: 1.1138 - accuracy: 0.7426\n"
          ],
          "name": "stdout"
        },
        {
          "output_type": "execute_result",
          "data": {
            "text/plain": [
              "<tensorflow.python.keras.callbacks.History at 0x7fcff1bab7d0>"
            ]
          },
          "metadata": {
            "tags": []
          },
          "execution_count": 0
        }
      ]
    },
    {
      "cell_type": "code",
      "metadata": {
        "colab": {
          "base_uri": "https://localhost:8080/"
        },
        "id": "TOK-uABvV060",
        "outputId": "8a64f24d-1517-4658-fc28-a3c105633095"
      },
      "source": [
        "LSTM_MODEL_1.fit(LSTM_dataset, \n",
        "                 batch_size = 32,  \n",
        "                 epochs = 10 \n",
        "                 )"
      ],
      "execution_count": null,
      "outputs": [
        {
          "output_type": "stream",
          "text": [
            "Epoch 1/10\n",
            "  168/80622 [..............................] - ETA: 36:28 - loss: 1.1061 - accuracy: 0.7467"
          ],
          "name": "stdout"
        }
      ]
    },
    {
      "cell_type": "markdown",
      "metadata": {
        "id": "goCXzXkzDMlt"
      },
      "source": [
        ""
      ]
    },
    {
      "cell_type": "code",
      "metadata": {
        "colab": {
          "base_uri": "https://localhost:8080/"
        },
        "id": "aUAE1OLpWf0P",
        "outputId": "dcbd291b-18c5-4743-fb00-9b36666071c5"
      },
      "source": [
        "LSTM_MODEL_1.save('/content/drive/MyDrive/amazon_ml/LSTM_MODEL_preprocessed')"
      ],
      "execution_count": null,
      "outputs": [
        {
          "output_type": "stream",
          "text": [
            "WARNING:absl:Found untraced functions such as lstm_cell_10_layer_call_fn, lstm_cell_10_layer_call_and_return_conditional_losses, lstm_cell_11_layer_call_fn, lstm_cell_11_layer_call_and_return_conditional_losses, lstm_cell_16_layer_call_fn while saving (showing 5 of 30). These functions will not be directly callable after loading.\n"
          ],
          "name": "stderr"
        },
        {
          "output_type": "stream",
          "text": [
            "INFO:tensorflow:Assets written to: /content/drive/MyDrive/amazon_ml/LSTM_MODEL_preprocessed/assets\n"
          ],
          "name": "stdout"
        },
        {
          "output_type": "stream",
          "text": [
            "INFO:tensorflow:Assets written to: /content/drive/MyDrive/amazon_ml/LSTM_MODEL_preprocessed/assets\n"
          ],
          "name": "stderr"
        }
      ]
    },
    {
      "cell_type": "code",
      "metadata": {
        "id": "VNAdzyd4wU4G"
      },
      "source": [
        "def make_predictions(model, test_data,test_dataframe):\n",
        "  predictions = model.predict(test_data)\n",
        "  prediction_values = np.argmax(predictions,axis = 1)\n",
        "  submission_dataframe = pd.DataFrame()\n",
        "  submission_dataframe.insert(0,'PRODUCT_ID',value = test_dataframe.PRODUCT_ID)\n",
        "  submission_dataframe.insert(1,'BROWSE_NODE_ID',prediction_values)\n",
        "  print(submission_dataframe.head())\n",
        "  return submission_dataframe\n"
      ],
      "execution_count": null,
      "outputs": []
    },
    {
      "cell_type": "code",
      "metadata": {
        "id": "zzfEI2vNX_J-"
      },
      "source": [
        "test_data['brand_description'] = test_data['BRAND'].astype(str) + ' ' + test_data['DESCRIPTION'].astype(str)"
      ],
      "execution_count": null,
      "outputs": []
    },
    {
      "cell_type": "code",
      "metadata": {
        "id": "qIIs-k9Y1q8N"
      },
      "source": [
        "#test_data = test_data.fillna(\"NAN\")\n",
        "\n",
        "predictoins = LSTM_MODEL_1.predict([test_data.TITLE.to_numpy().astype(np.str),\n",
        "                            test_data.brand_description.to_numpy()])\n",
        "\n"
      ],
      "execution_count": null,
      "outputs": []
    },
    {
      "cell_type": "code",
      "metadata": {
        "colab": {
          "base_uri": "https://localhost:8080/"
        },
        "id": "lQ2DUF0uX-HH",
        "outputId": "d96afef5-0b9a-4f3a-bdcd-0fa7daea5709"
      },
      "source": [
        "pred_values = np.argmax(predictoins, axis = 1)\n",
        "pred_values[:10]\n"
      ],
      "execution_count": null,
      "outputs": [
        {
          "output_type": "execute_result",
          "data": {
            "text/plain": [
              "array([2143, 2572,  922,  125, 8915,   33, 3329,    4, 1098,  186])"
            ]
          },
          "metadata": {
            "tags": []
          },
          "execution_count": 52
        }
      ]
    },
    {
      "cell_type": "code",
      "metadata": {
        "id": "mH_Uxm9dX-Rh"
      },
      "source": [
        "submission = pd.DataFrame()\n",
        "\n",
        "submission.insert(0, 'PRODUCT_ID', test_data.PRODUCT_ID)\n",
        "\n",
        "submission.insert(1,'BROWSE_NODE_ID',pred_values)\n",
        "\n",
        "submission.to_csv('submission.csv',index=False)"
      ],
      "execution_count": null,
      "outputs": []
    },
    {
      "cell_type": "markdown",
      "metadata": {
        "id": "K4zrBPvHX-Zh"
      },
      "source": [
        "# building it further \n"
      ]
    },
    {
      "cell_type": "code",
      "metadata": {
        "colab": {
          "base_uri": "https://localhost:8080/"
        },
        "id": "iAFB4KyJ-GmZ",
        "outputId": "c498094c-761b-441e-af45-a31ae9afb1b8"
      },
      "source": [
        "%tensorflow_version 2.4.x"
      ],
      "execution_count": null,
      "outputs": [
        {
          "output_type": "stream",
          "text": [
            "`%tensorflow_version` only switches the major version: 1.x or 2.x.\n",
            "You set: `2.4.x`. This will be interpreted as: `2.x`.\n",
            "\n",
            "\n",
            "TensorFlow is already loaded. Please restart the runtime to change versions.\n"
          ],
          "name": "stdout"
        }
      ]
    },
    {
      "cell_type": "code",
      "metadata": {
        "id": "ncap6hZH9q8d"
      },
      "source": [
        "import tensorflow_hub as hub \n",
        "import tensorflow as tf \n",
        "import numpy as np \n",
        "import pandas as pd "
      ],
      "execution_count": null,
      "outputs": []
    },
    {
      "cell_type": "code",
      "metadata": {
        "colab": {
          "base_uri": "https://localhost:8080/",
          "height": 316
        },
        "id": "6JKCtHwh9zwB",
        "outputId": "a7246e76-f110-4c69-9c5c-344232551b8c"
      },
      "source": [
        "lstm_model = tf.keras.models.load_model('/content/drive/MyDrive/amazon_ml/LSTM_MODEL_preprocessed')"
      ],
      "execution_count": null,
      "outputs": [
        {
          "output_type": "error",
          "ename": "OSError",
          "evalue": "ignored",
          "traceback": [
            "\u001b[0;31m---------------------------------------------------------------------------\u001b[0m",
            "\u001b[0;31mOSError\u001b[0m                                   Traceback (most recent call last)",
            "\u001b[0;32m<ipython-input-11-5d64b1bbcb76>\u001b[0m in \u001b[0;36m<module>\u001b[0;34m()\u001b[0m\n\u001b[0;32m----> 1\u001b[0;31m \u001b[0mlstm_model\u001b[0m \u001b[0;34m=\u001b[0m \u001b[0mtf\u001b[0m\u001b[0;34m.\u001b[0m\u001b[0mkeras\u001b[0m\u001b[0;34m.\u001b[0m\u001b[0mmodels\u001b[0m\u001b[0;34m.\u001b[0m\u001b[0mload_model\u001b[0m\u001b[0;34m(\u001b[0m\u001b[0;34m'/content/drive/MyDrive/amazon_ml/LSTM_MODEL_preprocessed'\u001b[0m\u001b[0;34m)\u001b[0m\u001b[0;34m\u001b[0m\u001b[0;34m\u001b[0m\u001b[0m\n\u001b[0m",
            "\u001b[0;32m/usr/local/lib/python3.7/dist-packages/tensorflow/python/keras/saving/save.py\u001b[0m in \u001b[0;36mload_model\u001b[0;34m(filepath, custom_objects, compile, options)\u001b[0m\n\u001b[1;32m    204\u001b[0m         \u001b[0mfilepath\u001b[0m \u001b[0;34m=\u001b[0m \u001b[0mpath_to_string\u001b[0m\u001b[0;34m(\u001b[0m\u001b[0mfilepath\u001b[0m\u001b[0;34m)\u001b[0m\u001b[0;34m\u001b[0m\u001b[0;34m\u001b[0m\u001b[0m\n\u001b[1;32m    205\u001b[0m         \u001b[0;32mif\u001b[0m \u001b[0misinstance\u001b[0m\u001b[0;34m(\u001b[0m\u001b[0mfilepath\u001b[0m\u001b[0;34m,\u001b[0m \u001b[0mstr\u001b[0m\u001b[0;34m)\u001b[0m\u001b[0;34m:\u001b[0m\u001b[0;34m\u001b[0m\u001b[0;34m\u001b[0m\u001b[0m\n\u001b[0;32m--> 206\u001b[0;31m           \u001b[0;32mreturn\u001b[0m \u001b[0msaved_model_load\u001b[0m\u001b[0;34m.\u001b[0m\u001b[0mload\u001b[0m\u001b[0;34m(\u001b[0m\u001b[0mfilepath\u001b[0m\u001b[0;34m,\u001b[0m \u001b[0mcompile\u001b[0m\u001b[0;34m,\u001b[0m \u001b[0moptions\u001b[0m\u001b[0;34m)\u001b[0m\u001b[0;34m\u001b[0m\u001b[0;34m\u001b[0m\u001b[0m\n\u001b[0m\u001b[1;32m    207\u001b[0m \u001b[0;34m\u001b[0m\u001b[0m\n\u001b[1;32m    208\u001b[0m   raise IOError(\n",
            "\u001b[0;32m/usr/local/lib/python3.7/dist-packages/tensorflow/python/keras/saving/saved_model/load.py\u001b[0m in \u001b[0;36mload\u001b[0;34m(path, compile, options)\u001b[0m\n\u001b[1;32m    119\u001b[0m   \u001b[0;31m# Look for metadata file or parse the SavedModel\u001b[0m\u001b[0;34m\u001b[0m\u001b[0;34m\u001b[0m\u001b[0;34m\u001b[0m\u001b[0m\n\u001b[1;32m    120\u001b[0m   \u001b[0mmetadata\u001b[0m \u001b[0;34m=\u001b[0m \u001b[0msaved_metadata_pb2\u001b[0m\u001b[0;34m.\u001b[0m\u001b[0mSavedMetadata\u001b[0m\u001b[0;34m(\u001b[0m\u001b[0;34m)\u001b[0m\u001b[0;34m\u001b[0m\u001b[0;34m\u001b[0m\u001b[0m\n\u001b[0;32m--> 121\u001b[0;31m   \u001b[0mmeta_graph_def\u001b[0m \u001b[0;34m=\u001b[0m \u001b[0mloader_impl\u001b[0m\u001b[0;34m.\u001b[0m\u001b[0mparse_saved_model\u001b[0m\u001b[0;34m(\u001b[0m\u001b[0mpath\u001b[0m\u001b[0;34m)\u001b[0m\u001b[0;34m.\u001b[0m\u001b[0mmeta_graphs\u001b[0m\u001b[0;34m[\u001b[0m\u001b[0;36m0\u001b[0m\u001b[0;34m]\u001b[0m\u001b[0;34m\u001b[0m\u001b[0;34m\u001b[0m\u001b[0m\n\u001b[0m\u001b[1;32m    122\u001b[0m   \u001b[0mobject_graph_def\u001b[0m \u001b[0;34m=\u001b[0m \u001b[0mmeta_graph_def\u001b[0m\u001b[0;34m.\u001b[0m\u001b[0mobject_graph_def\u001b[0m\u001b[0;34m\u001b[0m\u001b[0;34m\u001b[0m\u001b[0m\n\u001b[1;32m    123\u001b[0m   \u001b[0mpath_to_metadata_pb\u001b[0m \u001b[0;34m=\u001b[0m \u001b[0mos\u001b[0m\u001b[0;34m.\u001b[0m\u001b[0mpath\u001b[0m\u001b[0;34m.\u001b[0m\u001b[0mjoin\u001b[0m\u001b[0;34m(\u001b[0m\u001b[0mpath\u001b[0m\u001b[0;34m,\u001b[0m \u001b[0mconstants\u001b[0m\u001b[0;34m.\u001b[0m\u001b[0mSAVED_METADATA_PATH\u001b[0m\u001b[0;34m)\u001b[0m\u001b[0;34m\u001b[0m\u001b[0;34m\u001b[0m\u001b[0m\n",
            "\u001b[0;32m/usr/local/lib/python3.7/dist-packages/tensorflow/python/saved_model/loader_impl.py\u001b[0m in \u001b[0;36mparse_saved_model\u001b[0;34m(export_dir)\u001b[0m\n\u001b[1;32m    114\u001b[0m         \u001b[0;34m\"SavedModel file does not exist at: %s%s{%s|%s}\"\u001b[0m \u001b[0;34m%\u001b[0m\u001b[0;34m\u001b[0m\u001b[0;34m\u001b[0m\u001b[0m\n\u001b[1;32m    115\u001b[0m         (export_dir, os.path.sep, constants.SAVED_MODEL_FILENAME_PBTXT,\n\u001b[0;32m--> 116\u001b[0;31m          constants.SAVED_MODEL_FILENAME_PB))\n\u001b[0m\u001b[1;32m    117\u001b[0m \u001b[0;34m\u001b[0m\u001b[0m\n\u001b[1;32m    118\u001b[0m \u001b[0;34m\u001b[0m\u001b[0m\n",
            "\u001b[0;31mOSError\u001b[0m: SavedModel file does not exist at: /content/drive/MyDrive/amazon_ml/LSTM_MODEL_preprocessed/{saved_model.pbtxt|saved_model.pb}"
          ]
        }
      ]
    },
    {
      "cell_type": "code",
      "metadata": {
        "id": "ZAiEuDPd94k-"
      },
      "source": [
        "tf.__version__"
      ],
      "execution_count": null,
      "outputs": []
    },
    {
      "cell_type": "code",
      "metadata": {
        "id": "BfMrMSIm-Coy"
      },
      "source": [
        "import pandas as pd "
      ],
      "execution_count": null,
      "outputs": []
    },
    {
      "cell_type": "code",
      "metadata": {
        "id": "Y1_IRgu3Ibns"
      },
      "source": [
        "sub_file = pd.read_csv('/content/LSTM_preds_mod.csv')"
      ],
      "execution_count": null,
      "outputs": []
    },
    {
      "cell_type": "code",
      "metadata": {
        "id": "0SvwTDTZIfke"
      },
      "source": [
        "sub_counts = sub_file.value_counts(['BROWSE_NODE_ID'])"
      ],
      "execution_count": null,
      "outputs": []
    },
    {
      "cell_type": "code",
      "metadata": {
        "id": "g4nHTdgGORN6"
      },
      "source": [
        "train_data = train_data.drop(train_data[train_data.BROWSE_NODE_ID > 9919].index,axis = 0 )"
      ],
      "execution_count": null,
      "outputs": []
    },
    {
      "cell_type": "code",
      "metadata": {
        "id": "8CmimzSNIhae"
      },
      "source": [
        "dododod  = train_data.value_counts(['BROWSE_NODE_ID'])"
      ],
      "execution_count": null,
      "outputs": []
    },
    {
      "cell_type": "code",
      "metadata": {
        "id": "kwaHUoUkI0Qo"
      },
      "source": [
        "import matplotlib.pyplot as plt "
      ],
      "execution_count": null,
      "outputs": []
    },
    {
      "cell_type": "code",
      "metadata": {
        "colab": {
          "base_uri": "https://localhost:8080/",
          "height": 324
        },
        "id": "zy9De_JCJpM8",
        "outputId": "79898ee4-0672-4a02-951f-95cbdb08b0db"
      },
      "source": [
        "sub_counts[:10].plot(kind = 'bar')"
      ],
      "execution_count": null,
      "outputs": [
        {
          "output_type": "execute_result",
          "data": {
            "text/plain": [
              "<matplotlib.axes._subplots.AxesSubplot at 0x7fc51fde12d0>"
            ]
          },
          "metadata": {
            "tags": []
          },
          "execution_count": 7
        },
        {
          "output_type": "display_data",
          "data": {
            "image/png": "[encoded data removed]",
            "text/plain": [
              "<Figure size 432x288 with 1 Axes>"
            ]
          },
          "metadata": {
            "tags": []
          }
        }
      ]
    },
    {
      "cell_type": "code",
      "metadata": {
        "colab": {
          "base_uri": "https://localhost:8080/",
          "height": 324
        },
        "id": "OL4N4REYJQZv",
        "outputId": "23fedb37-a27c-4378-a2fe-e58d204ec546"
      },
      "source": [
        "dododod[:10].plot(kind ='bar')"
      ],
      "execution_count": null,
      "outputs": [
        {
          "output_type": "execute_result",
          "data": {
            "text/plain": [
              "<matplotlib.axes._subplots.AxesSubplot at 0x7fc4899a2310>"
            ]
          },
          "metadata": {
            "tags": []
          },
          "execution_count": 31
        },
        {
          "output_type": "display_data",
          "data": {
            "image/png": "[encoded data removed]",
            "text/plain": [
              "<Figure size 432x288 with 1 Axes>"
            ]
          },
          "metadata": {
            "tags": []
          }
        }
      ]
    },
    {
      "cell_type": "code",
      "metadata": {
        "colab": {
          "base_uri": "https://localhost:8080/"
        },
        "id": "AzDtov7iN16U",
        "outputId": "22754c42-f5c8-4d53-e227-9537586805e9"
      },
      "source": [
        "dododod.values.mean()"
      ],
      "execution_count": null,
      "outputs": [
        {
          "output_type": "execute_result",
          "data": {
            "text/plain": [
              "1119.2581344902387"
            ]
          },
          "metadata": {
            "tags": []
          },
          "execution_count": 34
        }
      ]
    },
    {
      "cell_type": "code",
      "metadata": {
        "colab": {
          "base_uri": "https://localhost:8080/"
        },
        "id": "ozl_9pArPQkf",
        "outputId": "bd9a4fdc-b257-4623-8ed2-0ee5bc9e293b"
      },
      "source": [
        "dododod.keys()[0:]"
      ],
      "execution_count": null,
      "outputs": [
        {
          "output_type": "execute_result",
          "data": {
            "text/plain": [
              "MultiIndex([(1045,),\n",
              "            (   5,),\n",
              "            (1251,),\n",
              "            (1052,),\n",
              "            (   4,),\n",
              "            (1295,),\n",
              "            (1024,),\n",
              "            ( 374,),\n",
              "            ( 773,),\n",
              "            (1194,),\n",
              "            ...\n",
              "            ( 425,),\n",
              "            ( 442,),\n",
              "            (5811,),\n",
              "            (1659,),\n",
              "            (6706,),\n",
              "            (6625,),\n",
              "            (1308,),\n",
              "            (   2,),\n",
              "            (8282,),\n",
              "            (5742,)],\n",
              "           names=['BROWSE_NODE_ID'], length=2305)"
            ]
          },
          "metadata": {
            "tags": []
          },
          "execution_count": 49
        }
      ]
    },
    {
      "cell_type": "code",
      "metadata": {
        "id": "NHNWqKQjO8Xh"
      },
      "source": [
        "mod_values = dododod[dododod.values >= 1119.2581344902387].keys()"
      ],
      "execution_count": null,
      "outputs": []
    },
    {
      "cell_type": "code",
      "metadata": {
        "colab": {
          "base_uri": "https://localhost:8080/"
        },
        "id": "g7RQ9braTbuB",
        "outputId": "0e31f1d2-83d9-4322-962f-fcca436d62dc"
      },
      "source": [
        "len(mod_values)"
      ],
      "execution_count": null,
      "outputs": [
        {
          "output_type": "execute_result",
          "data": {
            "text/plain": [
              "417"
            ]
          },
          "metadata": {
            "tags": []
          },
          "execution_count": 74
        }
      ]
    },
    {
      "cell_type": "code",
      "metadata": {
        "id": "c3YVafeXPo13"
      },
      "source": [
        "tobe_mod = []\n",
        "for values in mod_values :\n",
        "  tobe_mod.append(values)"
      ],
      "execution_count": null,
      "outputs": []
    },
    {
      "cell_type": "code",
      "metadata": {
        "id": "BLI4uKPvJgu7"
      },
      "source": [
        "train_sample = train_data.sample(frac = 1 , random_state = 42)"
      ],
      "execution_count": null,
      "outputs": []
    },
    {
      "cell_type": "code",
      "metadata": {
        "colab": {
          "base_uri": "https://localhost:8080/",
          "height": 414
        },
        "id": "JvBc6E2lLqLD",
        "outputId": "f37a1afb-88a5-4e4b-a440-8f0d0f21d41d"
      },
      "source": [
        "train_sample"
      ],
      "execution_count": null,
      "outputs": [
        {
          "output_type": "execute_result",
          "data": {
            "text/html": [
              "<div>\n",
              "<style scoped>\n",
              "    .dataframe tbody tr th:only-of-type {\n",
              "        vertical-align: middle;\n",
              "    }\n",
              "\n",
              "    .dataframe tbody tr th {\n",
              "        vertical-align: top;\n",
              "    }\n",
              "\n",
              "    .dataframe thead th {\n",
              "        text-align: right;\n",
              "    }\n",
              "</style>\n",
              "<table border=\"1\" class=\"dataframe\">\n",
              "  <thead>\n",
              "    <tr style=\"text-align: right;\">\n",
              "      <th></th>\n",
              "      <th>TITLE</th>\n",
              "      <th>DESCRIPTION</th>\n",
              "      <th>BULLET_POINTS</th>\n",
              "      <th>BRAND</th>\n",
              "      <th>BROWSE_NODE_ID</th>\n",
              "    </tr>\n",
              "  </thead>\n",
              "  <tbody>\n",
              "    <tr>\n",
              "      <th>1780524</th>\n",
              "      <td>West Code Mens Synthetic Leather Casual Sneake...</td>\n",
              "      <td>Best Deal Store Gives You The Best Products Wi...</td>\n",
              "      <td>[Sole: EVA Sole,LifeStyle: Casual Shoes and Sn...</td>\n",
              "      <td>West Code</td>\n",
              "      <td>89</td>\n",
              "    </tr>\n",
              "    <tr>\n",
              "      <th>1064801</th>\n",
              "      <td>A Mobile Battery For PANASONIC T50 KLB160P349</td>\n",
              "      <td>\"Maximum protection and safety for your mobile...</td>\n",
              "      <td>NaN</td>\n",
              "      <td>A</td>\n",
              "      <td>5858</td>\n",
              "    </tr>\n",
              "    <tr>\n",
              "      <th>1162865</th>\n",
              "      <td>BeautyRx by Dr. Schultz Soothing Moisture Crea...</td>\n",
              "      <td>NaN</td>\n",
              "      <td>NaN</td>\n",
              "      <td>Beautyrx</td>\n",
              "      <td>200</td>\n",
              "    </tr>\n",
              "    <tr>\n",
              "      <th>343506</th>\n",
              "      <td>ArtzFolio Red Cat Doing Warrior Position of Yo...</td>\n",
              "      <td>NaN</td>\n",
              "      <td>[【LUXURIOUS &amp; ELEGANT】: Magnificent piece of t...</td>\n",
              "      <td>ArtzFolio</td>\n",
              "      <td>700</td>\n",
              "    </tr>\n",
              "    <tr>\n",
              "      <th>2871584</th>\n",
              "      <td>jwf Women's Cotton Nighty (Pack of 2 Pcs) Pink...</td>\n",
              "      <td>JWF offers this delicately embellished rich lo...</td>\n",
              "      <td>[100% soft cotton fabric for ultimate comfort,...</td>\n",
              "      <td>jwf</td>\n",
              "      <td>1313</td>\n",
              "    </tr>\n",
              "    <tr>\n",
              "      <th>...</th>\n",
              "      <td>...</td>\n",
              "      <td>...</td>\n",
              "      <td>...</td>\n",
              "      <td>...</td>\n",
              "      <td>...</td>\n",
              "    </tr>\n",
              "    <tr>\n",
              "      <th>122997</th>\n",
              "      <td>Kupinda Art Kalamkari prints saree with ikkat,...</td>\n",
              "      <td>Turquoise color Traditional Saree,With Woven Z...</td>\n",
              "      <td>[Colour: Turquoise II Fabric: Chiffon II Lengt...</td>\n",
              "      <td>KUPINDA</td>\n",
              "      <td>1052</td>\n",
              "    </tr>\n",
              "    <tr>\n",
              "      <th>1904646</th>\n",
              "      <td>Atrangi Store Cotton Boy's Half Sleeve Round N...</td>\n",
              "      <td>Look smart in this Printed T-shirts from Atran...</td>\n",
              "      <td>[Material And Quality: Soft And Smooth Skin Fr...</td>\n",
              "      <td>Atrangi Store</td>\n",
              "      <td>5</td>\n",
              "    </tr>\n",
              "    <tr>\n",
              "      <th>2651470</th>\n",
              "      <td>Think Tech Designer Printed Back Case Cover fo...</td>\n",
              "      <td>This Think Tech Designer Printed Mobile Back C...</td>\n",
              "      <td>[It'S 3D Printing Technologies So Colour Will ...</td>\n",
              "      <td>Think Tech</td>\n",
              "      <td>1045</td>\n",
              "    </tr>\n",
              "    <tr>\n",
              "      <th>2508372</th>\n",
              "      <td>Blenzza Deco® Velvet Digital Print Baby Pillow...</td>\n",
              "      <td>Blenzza Deco kids pillow provides wonderful in...</td>\n",
              "      <td>[FABRIC- VELVET,SIZE- 12 x 18 INCHES,MAKE LEAR...</td>\n",
              "      <td>Blenzza Deco</td>\n",
              "      <td>1079</td>\n",
              "    </tr>\n",
              "    <tr>\n",
              "      <th>2497079</th>\n",
              "      <td>Ridgid 39562 230 Volt Line Cord with Plug</td>\n",
              "      <td>Ridgid 39562 Replacement 230V Cord Line with P...</td>\n",
              "      <td>[39562 LINECORD, W/PLUG 230V,The item is used ...</td>\n",
              "      <td>Ridgid</td>\n",
              "      <td>435</td>\n",
              "    </tr>\n",
              "  </tbody>\n",
              "</table>\n",
              "<p>2579890 rows × 5 columns</p>\n",
              "</div>"
            ],
            "text/plain": [
              "                                                     TITLE  ... BROWSE_NODE_ID\n",
              "1780524  West Code Mens Synthetic Leather Casual Sneake...  ...             89\n",
              "1064801      A Mobile Battery For PANASONIC T50 KLB160P349  ...           5858\n",
              "1162865  BeautyRx by Dr. Schultz Soothing Moisture Crea...  ...            200\n",
              "343506   ArtzFolio Red Cat Doing Warrior Position of Yo...  ...            700\n",
              "2871584  jwf Women's Cotton Nighty (Pack of 2 Pcs) Pink...  ...           1313\n",
              "...                                                    ...  ...            ...\n",
              "122997   Kupinda Art Kalamkari prints saree with ikkat,...  ...           1052\n",
              "1904646  Atrangi Store Cotton Boy's Half Sleeve Round N...  ...              5\n",
              "2651470  Think Tech Designer Printed Back Case Cover fo...  ...           1045\n",
              "2508372  Blenzza Deco® Velvet Digital Print Baby Pillow...  ...           1079\n",
              "2497079          Ridgid 39562 230 Volt Line Cord with Plug  ...            435\n",
              "\n",
              "[2579890 rows x 5 columns]"
            ]
          },
          "metadata": {
            "tags": []
          },
          "execution_count": 62
        }
      ]
    },
    {
      "cell_type": "code",
      "metadata": {
        "id": "iEyZBQpyL0_w"
      },
      "source": [
        "train_sample_sorted = train_sample.sort_values(by ='BROWSE_NODE_ID')"
      ],
      "execution_count": null,
      "outputs": []
    },
    {
      "cell_type": "code",
      "metadata": {
        "id": "mKKwF3xJOY91"
      },
      "source": [
        ""
      ],
      "execution_count": null,
      "outputs": []
    },
    {
      "cell_type": "code",
      "metadata": {
        "colab": {
          "base_uri": "https://localhost:8080/",
          "height": 202
        },
        "id": "Uzz5fEkEMXjh",
        "outputId": "2e63e337-b3b6-4495-f81b-2b7a97e9b9dc"
      },
      "source": [
        "train_sample_sorted.head()"
      ],
      "execution_count": null,
      "outputs": [
        {
          "output_type": "execute_result",
          "data": {
            "text/html": [
              "<div>\n",
              "<style scoped>\n",
              "    .dataframe tbody tr th:only-of-type {\n",
              "        vertical-align: middle;\n",
              "    }\n",
              "\n",
              "    .dataframe tbody tr th {\n",
              "        vertical-align: top;\n",
              "    }\n",
              "\n",
              "    .dataframe thead th {\n",
              "        text-align: right;\n",
              "    }\n",
              "</style>\n",
              "<table border=\"1\" class=\"dataframe\">\n",
              "  <thead>\n",
              "    <tr style=\"text-align: right;\">\n",
              "      <th></th>\n",
              "      <th>TITLE</th>\n",
              "      <th>DESCRIPTION</th>\n",
              "      <th>BULLET_POINTS</th>\n",
              "      <th>BRAND</th>\n",
              "      <th>BROWSE_NODE_ID</th>\n",
              "    </tr>\n",
              "  </thead>\n",
              "  <tbody>\n",
              "    <tr>\n",
              "      <th>663829</th>\n",
              "      <td>Ngel Girl's Fabric Big Size Baby Doll, 3-12 Ye...</td>\n",
              "      <td>Soft and Cuddly filling. loveable &amp; huggable s...</td>\n",
              "      <td>[Huggable and lovable for someone special.,Bat...</td>\n",
              "      <td>Ngel</td>\n",
              "      <td>0</td>\n",
              "    </tr>\n",
              "    <tr>\n",
              "      <th>2206627</th>\n",
              "      <td>Pink Reflections Barbie</td>\n",
              "      <td>NaN</td>\n",
              "      <td>NaN</td>\n",
              "      <td>NaN</td>\n",
              "      <td>0</td>\n",
              "    </tr>\n",
              "    <tr>\n",
              "      <th>1625598</th>\n",
              "      <td>Anne Geddes Baby Bees 8\" Plush Doll</td>\n",
              "      <td>NaN</td>\n",
              "      <td>NaN</td>\n",
              "      <td>NaN</td>\n",
              "      <td>0</td>\n",
              "    </tr>\n",
              "    <tr>\n",
              "      <th>582551</th>\n",
              "      <td>Barbie Spy Squad Junior Doll, Pink</td>\n",
              "      <td>NaN</td>\n",
              "      <td>[Toys and Games,Pretty in pink, chelsea doll i...</td>\n",
              "      <td>Barbie</td>\n",
              "      <td>0</td>\n",
              "    </tr>\n",
              "    <tr>\n",
              "      <th>175096</th>\n",
              "      <td>Bratz Catz Doll - Yasmin</td>\n",
              "      <td>NaN</td>\n",
              "      <td>NaN</td>\n",
              "      <td>NaN</td>\n",
              "      <td>0</td>\n",
              "    </tr>\n",
              "  </tbody>\n",
              "</table>\n",
              "</div>"
            ],
            "text/plain": [
              "                                                     TITLE  ... BROWSE_NODE_ID\n",
              "663829   Ngel Girl's Fabric Big Size Baby Doll, 3-12 Ye...  ...              0\n",
              "2206627                            Pink Reflections Barbie  ...              0\n",
              "1625598                Anne Geddes Baby Bees 8\" Plush Doll  ...              0\n",
              "582551                  Barbie Spy Squad Junior Doll, Pink  ...              0\n",
              "175096                            Bratz Catz Doll - Yasmin  ...              0\n",
              "\n",
              "[5 rows x 5 columns]"
            ]
          },
          "metadata": {
            "tags": []
          },
          "execution_count": 38
        }
      ]
    },
    {
      "cell_type": "code",
      "metadata": {
        "id": "rVguMy-fMZ3X"
      },
      "source": [
        "new_sample  = train_sample_sorted[train_sample_sorted['BROWSE_NODE_ID']==1045][:1119]"
      ],
      "execution_count": null,
      "outputs": []
    },
    {
      "cell_type": "code",
      "metadata": {
        "id": "V8ZQu9edNN3G"
      },
      "source": [
        "def mod_value(values,df):\n",
        "  cf = df.copy()\n",
        "  for value in values:\n",
        "    to_insert = df[df['BROWSE_NODE_ID'] == value][:1119]\n",
        "    cf = cf.drop(df[df.BROWSE_NODE_ID == value].index,axis = 0 )\n",
        "    cf.append(to_insert)\n",
        "  return cf "
      ],
      "execution_count": null,
      "outputs": []
    },
    {
      "cell_type": "code",
      "metadata": {
        "id": "D8abBbXQRP3Z"
      },
      "source": [
        "modified_df = mod_value(tobe_mod,train_sample_sorted)"
      ],
      "execution_count": null,
      "outputs": []
    },
    {
      "cell_type": "code",
      "metadata": {
        "colab": {
          "base_uri": "https://localhost:8080/",
          "height": 414
        },
        "id": "UKLiWdrfRYLh",
        "outputId": "3354c50b-6c61-405e-ea53-86d0dba092c5"
      },
      "source": [
        "modified_df.fillna('NAN')"
      ],
      "execution_count": null,
      "outputs": [
        {
          "output_type": "execute_result",
          "data": {
            "text/html": [
              "<div>\n",
              "<style scoped>\n",
              "    .dataframe tbody tr th:only-of-type {\n",
              "        vertical-align: middle;\n",
              "    }\n",
              "\n",
              "    .dataframe tbody tr th {\n",
              "        vertical-align: top;\n",
              "    }\n",
              "\n",
              "    .dataframe thead th {\n",
              "        text-align: right;\n",
              "    }\n",
              "</style>\n",
              "<table border=\"1\" class=\"dataframe\">\n",
              "  <thead>\n",
              "    <tr style=\"text-align: right;\">\n",
              "      <th></th>\n",
              "      <th>TITLE</th>\n",
              "      <th>DESCRIPTION</th>\n",
              "      <th>BULLET_POINTS</th>\n",
              "      <th>BRAND</th>\n",
              "      <th>BROWSE_NODE_ID</th>\n",
              "    </tr>\n",
              "  </thead>\n",
              "  <tbody>\n",
              "    <tr>\n",
              "      <th>2</th>\n",
              "      <td>The Ultimate Self-Sufficiency Handbook: A Comp...</td>\n",
              "      <td>NAN</td>\n",
              "      <td>Skyhorse Publishing</td>\n",
              "      <td>imusti</td>\n",
              "      <td>2</td>\n",
              "    </tr>\n",
              "    <tr>\n",
              "      <th>2293706</th>\n",
              "      <td>Address Book: Bike for Girls, Women, Contacts,...</td>\n",
              "      <td>NAN</td>\n",
              "      <td>NAN</td>\n",
              "      <td>NAN</td>\n",
              "      <td>2</td>\n",
              "    </tr>\n",
              "    <tr>\n",
              "      <th>972859</th>\n",
              "      <td>GNC Mega Teen Tab - 120 Tablets</td>\n",
              "      <td>GNC milestones Teen Multivitamin for Boys 12yr...</td>\n",
              "      <td>[Multivitamin for teens easy to swallow caplet...</td>\n",
              "      <td>GNC</td>\n",
              "      <td>3</td>\n",
              "    </tr>\n",
              "    <tr>\n",
              "      <th>394634</th>\n",
              "      <td>Natures Aid Women 50+ Multi-vitamin and Minerl...</td>\n",
              "      <td>NAN</td>\n",
              "      <td>[Natures aid women’s 50+ multi-vitamin and min...</td>\n",
              "      <td>Natures Aid</td>\n",
              "      <td>3</td>\n",
              "    </tr>\n",
              "    <tr>\n",
              "      <th>1931519</th>\n",
              "      <td>Youth Infusion Infuse Your Vitamins Stimulant ...</td>\n",
              "      <td>NAN</td>\n",
              "      <td>NAN</td>\n",
              "      <td>NAN</td>\n",
              "      <td>3</td>\n",
              "    </tr>\n",
              "    <tr>\n",
              "      <th>...</th>\n",
              "      <td>...</td>\n",
              "      <td>...</td>\n",
              "      <td>...</td>\n",
              "      <td>...</td>\n",
              "      <td>...</td>\n",
              "    </tr>\n",
              "    <tr>\n",
              "      <th>1878648</th>\n",
              "      <td>Mothercare Baby Girls' Slim Jeans (QB449-1_Blu...</td>\n",
              "      <td>NAN</td>\n",
              "      <td>[Color: Blue,65% Polyester, 34% cotton and 2% ...</td>\n",
              "      <td>Mothercare</td>\n",
              "      <td>9918</td>\n",
              "    </tr>\n",
              "    <tr>\n",
              "      <th>431730</th>\n",
              "      <td>Gini &amp; Jony Baby Girl's Slim fit Jeans (121246...</td>\n",
              "      <td>NAN</td>\n",
              "      <td>[Color Name: Ice Wash(7000),100% Cotton,Zip cl...</td>\n",
              "      <td>Gini &amp; Jony</td>\n",
              "      <td>9918</td>\n",
              "    </tr>\n",
              "    <tr>\n",
              "      <th>935342</th>\n",
              "      <td>Mothercare Baby Girls' Slim Jeans (QB758-1_Yel...</td>\n",
              "      <td>NAN</td>\n",
              "      <td>[100% Cotton,Machine wash]</td>\n",
              "      <td>Mothercare</td>\n",
              "      <td>9918</td>\n",
              "    </tr>\n",
              "    <tr>\n",
              "      <th>2456806</th>\n",
              "      <td>United Colors of Benetton Baby Girls' Jeans (1...</td>\n",
              "      <td>NAN</td>\n",
              "      <td>[98% Cotton and 2% elastane,Normal wash]</td>\n",
              "      <td>United Colors of Benetton</td>\n",
              "      <td>9918</td>\n",
              "    </tr>\n",
              "    <tr>\n",
              "      <th>1361168</th>\n",
              "      <td>Pink &amp; Blue By fbb Baby Boy's Denim Joggers (I...</td>\n",
              "      <td>Trendy and versatile, this pair of denim jogge...</td>\n",
              "      <td>[Made of 100% Cotton,Mid rise with elastic and...</td>\n",
              "      <td>Pink &amp; Blue By FBB</td>\n",
              "      <td>9918</td>\n",
              "    </tr>\n",
              "  </tbody>\n",
              "</table>\n",
              "<p>550718 rows × 5 columns</p>\n",
              "</div>"
            ],
            "text/plain": [
              "                                                     TITLE  ... BROWSE_NODE_ID\n",
              "2        The Ultimate Self-Sufficiency Handbook: A Comp...  ...              2\n",
              "2293706  Address Book: Bike for Girls, Women, Contacts,...  ...              2\n",
              "972859                     GNC Mega Teen Tab - 120 Tablets  ...              3\n",
              "394634   Natures Aid Women 50+ Multi-vitamin and Minerl...  ...              3\n",
              "1931519  Youth Infusion Infuse Your Vitamins Stimulant ...  ...              3\n",
              "...                                                    ...  ...            ...\n",
              "1878648  Mothercare Baby Girls' Slim Jeans (QB449-1_Blu...  ...           9918\n",
              "431730   Gini & Jony Baby Girl's Slim fit Jeans (121246...  ...           9918\n",
              "935342   Mothercare Baby Girls' Slim Jeans (QB758-1_Yel...  ...           9918\n",
              "2456806  United Colors of Benetton Baby Girls' Jeans (1...  ...           9918\n",
              "1361168  Pink & Blue By fbb Baby Boy's Denim Joggers (I...  ...           9918\n",
              "\n",
              "[550718 rows x 5 columns]"
            ]
          },
          "metadata": {
            "tags": []
          },
          "execution_count": 65
        }
      ]
    },
    {
      "cell_type": "code",
      "metadata": {
        "colab": {
          "base_uri": "https://localhost:8080/",
          "height": 202
        },
        "id": "Jw850uqrSaf_",
        "outputId": "a05761fc-5e75-4c22-8ded-31ec2d60a9dd"
      },
      "source": [
        "modified_df.head()\n"
      ],
      "execution_count": null,
      "outputs": [
        {
          "output_type": "execute_result",
          "data": {
            "text/html": [
              "<div>\n",
              "<style scoped>\n",
              "    .dataframe tbody tr th:only-of-type {\n",
              "        vertical-align: middle;\n",
              "    }\n",
              "\n",
              "    .dataframe tbody tr th {\n",
              "        vertical-align: top;\n",
              "    }\n",
              "\n",
              "    .dataframe thead th {\n",
              "        text-align: right;\n",
              "    }\n",
              "</style>\n",
              "<table border=\"1\" class=\"dataframe\">\n",
              "  <thead>\n",
              "    <tr style=\"text-align: right;\">\n",
              "      <th></th>\n",
              "      <th>TITLE</th>\n",
              "      <th>DESCRIPTION</th>\n",
              "      <th>BULLET_POINTS</th>\n",
              "      <th>BRAND</th>\n",
              "      <th>BROWSE_NODE_ID</th>\n",
              "    </tr>\n",
              "  </thead>\n",
              "  <tbody>\n",
              "    <tr>\n",
              "      <th>2</th>\n",
              "      <td>The Ultimate Self-Sufficiency Handbook: A Comp...</td>\n",
              "      <td>NaN</td>\n",
              "      <td>Skyhorse Publishing</td>\n",
              "      <td>imusti</td>\n",
              "      <td>2</td>\n",
              "    </tr>\n",
              "    <tr>\n",
              "      <th>2293706</th>\n",
              "      <td>Address Book: Bike for Girls, Women, Contacts,...</td>\n",
              "      <td>NaN</td>\n",
              "      <td>NaN</td>\n",
              "      <td>NaN</td>\n",
              "      <td>2</td>\n",
              "    </tr>\n",
              "    <tr>\n",
              "      <th>972859</th>\n",
              "      <td>GNC Mega Teen Tab - 120 Tablets</td>\n",
              "      <td>GNC milestones Teen Multivitamin for Boys 12yr...</td>\n",
              "      <td>[Multivitamin for teens easy to swallow caplet...</td>\n",
              "      <td>GNC</td>\n",
              "      <td>3</td>\n",
              "    </tr>\n",
              "    <tr>\n",
              "      <th>394634</th>\n",
              "      <td>Natures Aid Women 50+ Multi-vitamin and Minerl...</td>\n",
              "      <td>NaN</td>\n",
              "      <td>[Natures aid women’s 50+ multi-vitamin and min...</td>\n",
              "      <td>Natures Aid</td>\n",
              "      <td>3</td>\n",
              "    </tr>\n",
              "    <tr>\n",
              "      <th>1931519</th>\n",
              "      <td>Youth Infusion Infuse Your Vitamins Stimulant ...</td>\n",
              "      <td>NaN</td>\n",
              "      <td>NaN</td>\n",
              "      <td>NaN</td>\n",
              "      <td>3</td>\n",
              "    </tr>\n",
              "  </tbody>\n",
              "</table>\n",
              "</div>"
            ],
            "text/plain": [
              "                                                     TITLE  ... BROWSE_NODE_ID\n",
              "2        The Ultimate Self-Sufficiency Handbook: A Comp...  ...              2\n",
              "2293706  Address Book: Bike for Girls, Women, Contacts,...  ...              2\n",
              "972859                     GNC Mega Teen Tab - 120 Tablets  ...              3\n",
              "394634   Natures Aid Women 50+ Multi-vitamin and Minerl...  ...              3\n",
              "1931519  Youth Infusion Infuse Your Vitamins Stimulant ...  ...              3\n",
              "\n",
              "[5 rows x 5 columns]"
            ]
          },
          "metadata": {
            "tags": []
          },
          "execution_count": 66
        }
      ]
    },
    {
      "cell_type": "code",
      "metadata": {
        "id": "HRlxI3M-Sb5M"
      },
      "source": [
        "modified_df.to_csv('/content/drive/MyDrive/mod_df.csv')"
      ],
      "execution_count": null,
      "outputs": []
    },
    {
      "cell_type": "code",
      "metadata": {
        "id": "ERKi_0wESgcO"
      },
      "source": [
        "import tensorflow as tf"
      ],
      "execution_count": null,
      "outputs": []
    },
    {
      "cell_type": "code",
      "metadata": {
        "id": "MBcDd5C0VhgI"
      },
      "source": [
        "import pandas as pd"
      ],
      "execution_count": null,
      "outputs": []
    },
    {
      "cell_type": "code",
      "metadata": {
        "id": "GmjMBg-wS1ai"
      },
      "source": [
        "import tensorflow_hub as hub"
      ],
      "execution_count": null,
      "outputs": []
    },
    {
      "cell_type": "code",
      "metadata": {
        "id": "tDH6udYSTDdJ"
      },
      "source": [
        "# base_layer_2 = hub.KerasLayer('https://tfhub.dev/google/nnlm-en-dim128/2', trainable = False)\n",
        "# base_layer_3 = hub.KerasLayer('https://tfhub.dev/google/nnlm-en-dim128-with-normalization/2',trainable = False)\n",
        "base_layer_1 = hub.KerasLayer('https://tfhub.dev/google/universal-sentence-encoder/4',trainable = False)\n"
      ],
      "execution_count": null,
      "outputs": []
    },
    {
      "cell_type": "code",
      "metadata": {
        "id": "GumhNrUUVaRy"
      },
      "source": [
        "modified_df = pd.read_csv('/content/drive/MyDrive/mod_df.csv')"
      ],
      "execution_count": null,
      "outputs": []
    },
    {
      "cell_type": "code",
      "metadata": {
        "colab": {
          "base_uri": "https://localhost:8080/"
        },
        "id": "pMs_CZ4WTLqE",
        "outputId": "d0612052-b0be-4338-a74c-97bcc0cefac7"
      },
      "source": [
        "modified_df.value_counts('BROWSE_NODE_ID')"
      ],
      "execution_count": null,
      "outputs": [
        {
          "output_type": "execute_result",
          "data": {
            "text/plain": [
              "BROWSE_NODE_ID\n",
              "1851    1106\n",
              "2491    1105\n",
              "2298    1102\n",
              "3175    1096\n",
              "1833    1093\n",
              "        ... \n",
              "8282       2\n",
              "6625       2\n",
              "6706       2\n",
              "2          2\n",
              "5742       1\n",
              "Length: 1888, dtype: int64"
            ]
          },
          "metadata": {
            "tags": []
          },
          "execution_count": 6
        }
      ]
    },
    {
      "cell_type": "code",
      "metadata": {
        "id": "K0sg2jBtWeLL"
      },
      "source": [
        "import numpy as np "
      ],
      "execution_count": null,
      "outputs": []
    },
    {
      "cell_type": "code",
      "metadata": {
        "id": "KA6r0hslXaYQ"
      },
      "source": [
        ""
      ],
      "execution_count": null,
      "outputs": []
    },
    {
      "cell_type": "code",
      "metadata": {
        "id": "203vl82aTDdK"
      },
      "source": [
        "inputs = tf.keras.layers.Input(shape = [], dtype = tf.string)\n",
        "base_model_layer = base_layer_1(inputs)\n",
        "lam_layer = tf.keras.layers.Lambda(lambda x : tf.expand_dims(x, axis =1))(base_model_layer)\n",
        "x = tf.keras.layers.Bidirectional(tf.keras.layers.LSTM(400,return_sequences=True))(lam_layer)\n",
        "x = tf.keras.layers.Bidirectional(tf.keras.layers.LSTM(1080))(x)\n",
        "\n",
        "brand_inputs = tf.keras.layers.Input(shape = [], dtype = tf.string)\n",
        "y = base_layer_1(brand_inputs)\n",
        "y = tf.keras.layers.Lambda(lambda x : tf.expand_dims(x, axis =1))(y)\n",
        "y  = tf.keras.layers.Bidirectional(tf.keras.layers.LSTM(450))(y)\n",
        "y = tf.keras.layers.Dense(1080)(y)\n",
        "\n",
        "concat = tf.keras.layers.concatenate(((x,y)))\n",
        "\n",
        "\n",
        "z = tf.keras.layers.Dense(264, activation= 'relu')(concat)\n",
        "outputs = tf.keras.layers.Dense(9919,activation='softmax')(z)\n",
        "LSTM_MODEL_1 = tf.keras.Model((inputs, brand_inputs), outputs)"
      ],
      "execution_count": null,
      "outputs": []
    },
    {
      "cell_type": "code",
      "metadata": {
        "colab": {
          "base_uri": "https://localhost:8080/",
          "height": 757
        },
        "id": "oMNpCbDwTDdK",
        "outputId": "7c0b09ba-aa73-4fcf-9060-e546b402aaf2"
      },
      "source": [
        "tf.keras.utils.plot_model(LSTM_MODEL_1)"
      ],
      "execution_count": null,
      "outputs": [
        {
          "output_type": "execute_result",
          "data": {
            "image/png": "[encoded data removed]",
            "text/plain": [
              "<IPython.core.display.Image object>"
            ]
          },
          "metadata": {
            "tags": []
          },
          "execution_count": 9
        }
      ]
    },
    {
      "cell_type": "code",
      "metadata": {
        "id": "5vtceMMeTDdL"
      },
      "source": [
        "LSTM_MODEL_1.compile(loss = tf.keras.losses.sparse_categorical_crossentropy,\n",
        "                     optimizer = tf.keras.optimizers.Adam(),\n",
        "                     metrics = ['accuracy'])"
      ],
      "execution_count": null,
      "outputs": []
    },
    {
      "cell_type": "code",
      "metadata": {
        "id": "caX5U7YzYRfG"
      },
      "source": [
        "import numpy as np \n",
        "modified_df = modified_df.fillna('NAN')\n",
        "lstm_inputs = tf.data.Dataset.from_tensor_slices((modified_df.TITLE.to_numpy().astype(np.str),modified_df.BRAND.to_numpy().astype(np.str)))"
      ],
      "execution_count": null,
      "outputs": []
    },
    {
      "cell_type": "code",
      "metadata": {
        "id": "orXlzvMyYlAF"
      },
      "source": [
        "lstm_outputs = tf.data.Dataset.from_tensor_slices(modified_df.BROWSE_NODE_ID.to_numpy())"
      ],
      "execution_count": null,
      "outputs": []
    },
    {
      "cell_type": "code",
      "metadata": {
        "id": "szviqdW1Yr8H"
      },
      "source": [
        "LSTM_dataset = tf.data.Dataset.zip((lstm_inputs,lstm_outputs)).batch(32).prefetch(tf.data.AUTOTUNE)"
      ],
      "execution_count": null,
      "outputs": []
    },
    {
      "cell_type": "code",
      "metadata": {
        "colab": {
          "background_save": true,
          "base_uri": "https://localhost:8080/",
          "height": 458
        },
        "id": "53ROF623TDdM",
        "outputId": "8af34213-2227-41c6-f0e8-952fba954b59"
      },
      "source": [
        "LSTM_MODEL_1.fit(LSTM_dataset,\n",
        "                 steps_per_epoch= int(len(LSTM_dataset) * 0.1),\n",
        "                 batch_size = 32,\n",
        "                 epochs = 10)"
      ],
      "execution_count": null,
      "outputs": [
        {
          "output_type": "stream",
          "text": [
            "Epoch 1/10\n",
            "1721/1721 [==============================] - 345s 192ms/step - loss: 7.8836 - accuracy: 0.0574\n",
            "Epoch 2/10\n",
            "1721/1721 [==============================] - 327s 190ms/step - loss: 9.0526 - accuracy: 0.0000e+00\n",
            "Epoch 3/10\n",
            "1721/1721 [==============================] - 329s 191ms/step - loss: 9.5913 - accuracy: 0.0000e+00\n",
            "Epoch 4/10\n",
            "1721/1721 [==============================] - 329s 191ms/step - loss: 10.0937 - accuracy: 0.0000e+00\n",
            "Epoch 5/10\n",
            "1721/1721 [==============================] - 328s 190ms/step - loss: 10.5014 - accuracy: 0.0000e+00\n",
            "Epoch 6/10\n",
            "1721/1721 [==============================] - 325s 189ms/step - loss: 10.8571 - accuracy: 0.0000e+00\n",
            "Epoch 7/10\n",
            "1721/1721 [==============================] - 327s 190ms/step - loss: 11.1745 - accuracy: 0.0000e+00\n",
            "Epoch 8/10\n",
            "1721/1721 [==============================] - 328s 191ms/step - loss: 11.4793 - accuracy: 0.0000e+00\n",
            "Epoch 9/10\n",
            "1721/1721 [==============================] - 329s 191ms/step - loss: 11.7673 - accuracy: 0.0000e+00\n",
            "Epoch 10/10\n",
            "1721/1721 [==============================] - 330s 192ms/step - loss: 12.0560 - accuracy: 0.0000e+00\n"
          ],
          "name": "stdout"
        },
        {
          "output_type": "execute_result",
          "data": {
            "text/plain": [
              "<tensorflow.python.keras.callbacks.History at 0x7f55a0431a90>"
            ]
          },
          "metadata": {
            "tags": []
          },
          "execution_count": 0
        }
      ]
    },
    {
      "cell_type": "code",
      "metadata": {
        "id": "mGNzEILhaCsD"
      },
      "source": [
        ""
      ],
      "execution_count": null,
      "outputs": []
    },
    {
      "cell_type": "code",
      "metadata": {
        "id": "8pGnorEcaPXX"
      },
      "source": [
        "# train_path = '/content/drive/MyDrive/dataset/train.csv'\n",
        "test_path = '/content/drive/MyDrive/dataset/test.csv'\n",
        "sample_sub_path = '/content/drive/MyDrive/dataset/sample_submission.csv'"
      ],
      "execution_count": null,
      "outputs": []
    },
    {
      "cell_type": "code",
      "metadata": {
        "id": "WIpdhBaQaPXX"
      },
      "source": [
        "# Loading in the data \n",
        "# train_data = pd.read_csv(train_path , escapechar = \"\\\\\" , quoting = csv.QUOTE_NONE)\n",
        "\n",
        "# Loading the test dataset \n",
        "test_data = pd.read_csv(test_path , escapechar = \"\\\\\" , quoting = csv.QUOTE_NONE)\n",
        "# # Sample submission \n",
        "sample_sub = pd.read_csv(sample_sub_path , escapechar = \"\\\\\" , quoting = csv.QUOTE_NONE)\n",
        "\n"
      ],
      "execution_count": null,
      "outputs": []
    },
    {
      "cell_type": "code",
      "metadata": {
        "id": "MHU5dzJlY0dE"
      },
      "source": [
        "inputs = tf.keras.layers.Input(shape = [], dtype = tf.string)\n",
        "base_model_layer = base_layer_1(inputs)\n",
        "lam_layer = tf.keras.layers.Lambda(lambda x : tf.expand_dims(x, axis =1))(base_model_layer)\n",
        "x = tf.keras.layers.LSTM(1080,return_sequences=True)(lam_layer)\n",
        "x = tf.keras.layers.LSTM(1080)(x)\n",
        "\n",
        "brand_inputs = tf.keras.layers.Input(shape = [], dtype = tf.string)\n",
        "y = base_layer_1(brand_inputs)\n",
        "y = tf.keras.layers.Lambda(lambda x : tf.expand_dims(x, axis =1))(y)\n",
        "y  = tf.keras.layers.LSTM(1080)(y)\n",
        "# y = tf.keras.layers.LSTM(564)(y)\n",
        "y = tf.keras.layers.Dense(1080)(y)\n",
        "\n",
        "concat = tf.keras.layers.concatenate(((x,y)))\n",
        "\n",
        "\n",
        "z = tf.keras.layers.Dense(264, activation= 'relu')(concat)\n",
        "outputs = tf.keras.layers.Dense(9919,activation='softmax')(z)\n",
        "LSTM_MODEL_1 = tf.keras.Model((inputs, brand_inputs), outputs)"
      ],
      "execution_count": null,
      "outputs": []
    },
    {
      "cell_type": "code",
      "metadata": {
        "id": "f2UzR0XVagBg"
      },
      "source": [
        "LSTM_MODEL_1.compile(loss = tf.keras.losses.sparse_categorical_crossentropy,\n",
        "                     optimizer = tf.keras.optimizers.Adam(),\n",
        "                     metrics = ['accuracy'])"
      ],
      "execution_count": null,
      "outputs": []
    },
    {
      "cell_type": "code",
      "metadata": {
        "colab": {
          "base_uri": "https://localhost:8080/",
          "height": 757
        },
        "id": "tNdbVhiwajcC",
        "outputId": "34c48bec-2096-4631-ccc4-307633488460"
      },
      "source": [
        "tf.keras.utils.plot_model(LSTM_MODEL_1)"
      ],
      "execution_count": null,
      "outputs": [
        {
          "output_type": "execute_result",
          "data": {
            "image/png": "[encoded data removed]",
            "text/plain": [
              "<IPython.core.display.Image object>"
            ]
          },
          "metadata": {
            "tags": []
          },
          "execution_count": 20
        }
      ]
    },
    {
      "cell_type": "code",
      "metadata": {
        "id": "7W1ViW2Yanss"
      },
      "source": [
        "inputs = tf.keras.layers.Input(shape = [], dtype = tf.string)\n",
        "base_layer  = base_layer_1(inputs)\n",
        "x = tf.keras.layers.Dense(254,activation = 'relu')(base_layer)\n",
        "x = tf.keras.layers.Dense(233,activation= 'relu')(x)\n",
        "outputs = tf.keras.layers.Dense(9919,activation='softmax')(x)\n",
        "dense_model = tf.keras.Model(inputs,outputs)\n",
        "\n",
        "dense_model.compile(loss = tf.keras.losses.SparseCategoricalCrossentropy,\n",
        "                    optimizer = tf.keras.optimizers.Adam(),\n",
        "                    metrics = ['accuracy'])\n"
      ],
      "execution_count": null,
      "outputs": []
    },
    {
      "cell_type": "code",
      "metadata": {
        "id": "DPW2VwEWhmXG"
      },
      "source": [
        "train_dataset_inputs= tf.data.Dataset.from_tensor_slices(modified_df['TITLE'].to_numpy().astype(np.str))\n",
        "train_dataset_outputs = tf.data.Dataset.from_tensor_slices(modified_df['BROWSE_NODE_ID'].to_numpy().astype(np.uint8))\n",
        "train_dataset = tf.data.Dataset.zip((train_dataset_inputs, train_dataset_outputs)).batch(64).prefetch(tf.data.AUTOTUNE)"
      ],
      "execution_count": null,
      "outputs": []
    },
    {
      "cell_type": "code",
      "metadata": {
        "colab": {
          "base_uri": "https://localhost:8080/",
          "height": 1000
        },
        "id": "D8izivMQeXca",
        "outputId": "241487b8-ae68-4be7-d297-89766de41218"
      },
      "source": [
        "dense_hist = dense_model.fit(train_dataset, \n",
        "                             epochs = 3)"
      ],
      "execution_count": null,
      "outputs": [
        {
          "output_type": "stream",
          "text": [
            "Epoch 1/3\n"
          ],
          "name": "stdout"
        },
        {
          "output_type": "error",
          "ename": "TypeError",
          "evalue": "ignored",
          "traceback": [
            "\u001b[0;31m---------------------------------------------------------------------------\u001b[0m",
            "\u001b[0;31mTypeError\u001b[0m                                 Traceback (most recent call last)",
            "\u001b[0;32m<ipython-input-53-28a3cff99d90>\u001b[0m in \u001b[0;36m<module>\u001b[0;34m()\u001b[0m\n\u001b[1;32m      1\u001b[0m dense_hist = dense_model.fit(train_dataset, \n\u001b[1;32m      2\u001b[0m \u001b[0;34m\u001b[0m\u001b[0m\n\u001b[0;32m----> 3\u001b[0;31m                              epochs = 3)\n\u001b[0m",
            "\u001b[0;32m/usr/local/lib/python3.7/dist-packages/tensorflow/python/keras/engine/training.py\u001b[0m in \u001b[0;36mfit\u001b[0;34m(self, x, y, batch_size, epochs, verbose, callbacks, validation_split, validation_data, shuffle, class_weight, sample_weight, initial_epoch, steps_per_epoch, validation_steps, validation_batch_size, validation_freq, max_queue_size, workers, use_multiprocessing)\u001b[0m\n\u001b[1;32m   1181\u001b[0m                 _r=1):\n\u001b[1;32m   1182\u001b[0m               \u001b[0mcallbacks\u001b[0m\u001b[0;34m.\u001b[0m\u001b[0mon_train_batch_begin\u001b[0m\u001b[0;34m(\u001b[0m\u001b[0mstep\u001b[0m\u001b[0;34m)\u001b[0m\u001b[0;34m\u001b[0m\u001b[0;34m\u001b[0m\u001b[0m\n\u001b[0;32m-> 1183\u001b[0;31m               \u001b[0mtmp_logs\u001b[0m \u001b[0;34m=\u001b[0m \u001b[0mself\u001b[0m\u001b[0;34m.\u001b[0m\u001b[0mtrain_function\u001b[0m\u001b[0;34m(\u001b[0m\u001b[0miterator\u001b[0m\u001b[0;34m)\u001b[0m\u001b[0;34m\u001b[0m\u001b[0;34m\u001b[0m\u001b[0m\n\u001b[0m\u001b[1;32m   1184\u001b[0m               \u001b[0;32mif\u001b[0m \u001b[0mdata_handler\u001b[0m\u001b[0;34m.\u001b[0m\u001b[0mshould_sync\u001b[0m\u001b[0;34m:\u001b[0m\u001b[0;34m\u001b[0m\u001b[0;34m\u001b[0m\u001b[0m\n\u001b[1;32m   1185\u001b[0m                 \u001b[0mcontext\u001b[0m\u001b[0;34m.\u001b[0m\u001b[0masync_wait\u001b[0m\u001b[0;34m(\u001b[0m\u001b[0;34m)\u001b[0m\u001b[0;34m\u001b[0m\u001b[0;34m\u001b[0m\u001b[0m\n",
            "\u001b[0;32m/usr/local/lib/python3.7/dist-packages/tensorflow/python/eager/def_function.py\u001b[0m in \u001b[0;36m__call__\u001b[0;34m(self, *args, **kwds)\u001b[0m\n\u001b[1;32m    887\u001b[0m \u001b[0;34m\u001b[0m\u001b[0m\n\u001b[1;32m    888\u001b[0m       \u001b[0;32mwith\u001b[0m \u001b[0mOptionalXlaContext\u001b[0m\u001b[0;34m(\u001b[0m\u001b[0mself\u001b[0m\u001b[0;34m.\u001b[0m\u001b[0m_jit_compile\u001b[0m\u001b[0;34m)\u001b[0m\u001b[0;34m:\u001b[0m\u001b[0;34m\u001b[0m\u001b[0;34m\u001b[0m\u001b[0m\n\u001b[0;32m--> 889\u001b[0;31m         \u001b[0mresult\u001b[0m \u001b[0;34m=\u001b[0m \u001b[0mself\u001b[0m\u001b[0;34m.\u001b[0m\u001b[0m_call\u001b[0m\u001b[0;34m(\u001b[0m\u001b[0;34m*\u001b[0m\u001b[0margs\u001b[0m\u001b[0;34m,\u001b[0m \u001b[0;34m**\u001b[0m\u001b[0mkwds\u001b[0m\u001b[0;34m)\u001b[0m\u001b[0;34m\u001b[0m\u001b[0;34m\u001b[0m\u001b[0m\n\u001b[0m\u001b[1;32m    890\u001b[0m \u001b[0;34m\u001b[0m\u001b[0m\n\u001b[1;32m    891\u001b[0m       \u001b[0mnew_tracing_count\u001b[0m \u001b[0;34m=\u001b[0m \u001b[0mself\u001b[0m\u001b[0;34m.\u001b[0m\u001b[0mexperimental_get_tracing_count\u001b[0m\u001b[0;34m(\u001b[0m\u001b[0;34m)\u001b[0m\u001b[0;34m\u001b[0m\u001b[0;34m\u001b[0m\u001b[0m\n",
            "\u001b[0;32m/usr/local/lib/python3.7/dist-packages/tensorflow/python/eager/def_function.py\u001b[0m in \u001b[0;36m_call\u001b[0;34m(self, *args, **kwds)\u001b[0m\n\u001b[1;32m    922\u001b[0m       \u001b[0;31m# In this case we have not created variables on the first call. So we can\u001b[0m\u001b[0;34m\u001b[0m\u001b[0;34m\u001b[0m\u001b[0;34m\u001b[0m\u001b[0m\n\u001b[1;32m    923\u001b[0m       \u001b[0;31m# run the first trace but we should fail if variables are created.\u001b[0m\u001b[0;34m\u001b[0m\u001b[0;34m\u001b[0m\u001b[0;34m\u001b[0m\u001b[0m\n\u001b[0;32m--> 924\u001b[0;31m       \u001b[0mresults\u001b[0m \u001b[0;34m=\u001b[0m \u001b[0mself\u001b[0m\u001b[0;34m.\u001b[0m\u001b[0m_stateful_fn\u001b[0m\u001b[0;34m(\u001b[0m\u001b[0;34m*\u001b[0m\u001b[0margs\u001b[0m\u001b[0;34m,\u001b[0m \u001b[0;34m**\u001b[0m\u001b[0mkwds\u001b[0m\u001b[0;34m)\u001b[0m\u001b[0;34m\u001b[0m\u001b[0;34m\u001b[0m\u001b[0m\n\u001b[0m\u001b[1;32m    925\u001b[0m       \u001b[0;32mif\u001b[0m \u001b[0mself\u001b[0m\u001b[0;34m.\u001b[0m\u001b[0m_created_variables\u001b[0m\u001b[0;34m:\u001b[0m\u001b[0;34m\u001b[0m\u001b[0;34m\u001b[0m\u001b[0m\n\u001b[1;32m    926\u001b[0m         raise ValueError(\"Creating variables on a non-first call to a function\"\n",
            "\u001b[0;32m/usr/local/lib/python3.7/dist-packages/tensorflow/python/eager/function.py\u001b[0m in \u001b[0;36m__call__\u001b[0;34m(self, *args, **kwargs)\u001b[0m\n\u001b[1;32m   3020\u001b[0m     \u001b[0;32mwith\u001b[0m \u001b[0mself\u001b[0m\u001b[0;34m.\u001b[0m\u001b[0m_lock\u001b[0m\u001b[0;34m:\u001b[0m\u001b[0;34m\u001b[0m\u001b[0;34m\u001b[0m\u001b[0m\n\u001b[1;32m   3021\u001b[0m       (graph_function,\n\u001b[0;32m-> 3022\u001b[0;31m        filtered_flat_args) = self._maybe_define_function(args, kwargs)\n\u001b[0m\u001b[1;32m   3023\u001b[0m     return graph_function._call_flat(\n\u001b[1;32m   3024\u001b[0m         filtered_flat_args, captured_inputs=graph_function.captured_inputs)  # pylint: disable=protected-access\n",
            "\u001b[0;32m/usr/local/lib/python3.7/dist-packages/tensorflow/python/eager/function.py\u001b[0m in \u001b[0;36m_maybe_define_function\u001b[0;34m(self, args, kwargs)\u001b[0m\n\u001b[1;32m   3439\u001b[0m               call_context_key in self._function_cache.missed):\n\u001b[1;32m   3440\u001b[0m             return self._define_function_with_shape_relaxation(\n\u001b[0;32m-> 3441\u001b[0;31m                 args, kwargs, flat_args, filtered_flat_args, cache_key_context)\n\u001b[0m\u001b[1;32m   3442\u001b[0m \u001b[0;34m\u001b[0m\u001b[0m\n\u001b[1;32m   3443\u001b[0m           \u001b[0mself\u001b[0m\u001b[0;34m.\u001b[0m\u001b[0m_function_cache\u001b[0m\u001b[0;34m.\u001b[0m\u001b[0mmissed\u001b[0m\u001b[0;34m.\u001b[0m\u001b[0madd\u001b[0m\u001b[0;34m(\u001b[0m\u001b[0mcall_context_key\u001b[0m\u001b[0;34m)\u001b[0m\u001b[0;34m\u001b[0m\u001b[0;34m\u001b[0m\u001b[0m\n",
            "\u001b[0;32m/usr/local/lib/python3.7/dist-packages/tensorflow/python/eager/function.py\u001b[0m in \u001b[0;36m_define_function_with_shape_relaxation\u001b[0;34m(self, args, kwargs, flat_args, filtered_flat_args, cache_key_context)\u001b[0m\n\u001b[1;32m   3361\u001b[0m \u001b[0;34m\u001b[0m\u001b[0m\n\u001b[1;32m   3362\u001b[0m     graph_function = self._create_graph_function(\n\u001b[0;32m-> 3363\u001b[0;31m         args, kwargs, override_flat_arg_shapes=relaxed_arg_shapes)\n\u001b[0m\u001b[1;32m   3364\u001b[0m     \u001b[0mself\u001b[0m\u001b[0;34m.\u001b[0m\u001b[0m_function_cache\u001b[0m\u001b[0;34m.\u001b[0m\u001b[0marg_relaxed\u001b[0m\u001b[0;34m[\u001b[0m\u001b[0mrank_only_cache_key\u001b[0m\u001b[0;34m]\u001b[0m \u001b[0;34m=\u001b[0m \u001b[0mgraph_function\u001b[0m\u001b[0;34m\u001b[0m\u001b[0;34m\u001b[0m\u001b[0m\n\u001b[1;32m   3365\u001b[0m \u001b[0;34m\u001b[0m\u001b[0m\n",
            "\u001b[0;32m/usr/local/lib/python3.7/dist-packages/tensorflow/python/eager/function.py\u001b[0m in \u001b[0;36m_create_graph_function\u001b[0;34m(self, args, kwargs, override_flat_arg_shapes)\u001b[0m\n\u001b[1;32m   3287\u001b[0m             \u001b[0marg_names\u001b[0m\u001b[0;34m=\u001b[0m\u001b[0marg_names\u001b[0m\u001b[0;34m,\u001b[0m\u001b[0;34m\u001b[0m\u001b[0;34m\u001b[0m\u001b[0m\n\u001b[1;32m   3288\u001b[0m             \u001b[0moverride_flat_arg_shapes\u001b[0m\u001b[0;34m=\u001b[0m\u001b[0moverride_flat_arg_shapes\u001b[0m\u001b[0;34m,\u001b[0m\u001b[0;34m\u001b[0m\u001b[0;34m\u001b[0m\u001b[0m\n\u001b[0;32m-> 3289\u001b[0;31m             capture_by_value=self._capture_by_value),\n\u001b[0m\u001b[1;32m   3290\u001b[0m         \u001b[0mself\u001b[0m\u001b[0;34m.\u001b[0m\u001b[0m_function_attributes\u001b[0m\u001b[0;34m,\u001b[0m\u001b[0;34m\u001b[0m\u001b[0;34m\u001b[0m\u001b[0m\n\u001b[1;32m   3291\u001b[0m         \u001b[0mfunction_spec\u001b[0m\u001b[0;34m=\u001b[0m\u001b[0mself\u001b[0m\u001b[0;34m.\u001b[0m\u001b[0mfunction_spec\u001b[0m\u001b[0;34m,\u001b[0m\u001b[0;34m\u001b[0m\u001b[0;34m\u001b[0m\u001b[0m\n",
            "\u001b[0;32m/usr/local/lib/python3.7/dist-packages/tensorflow/python/framework/func_graph.py\u001b[0m in \u001b[0;36mfunc_graph_from_py_func\u001b[0;34m(name, python_func, args, kwargs, signature, func_graph, autograph, autograph_options, add_control_dependencies, arg_names, op_return_value, collections, capture_by_value, override_flat_arg_shapes)\u001b[0m\n\u001b[1;32m    997\u001b[0m         \u001b[0m_\u001b[0m\u001b[0;34m,\u001b[0m \u001b[0moriginal_func\u001b[0m \u001b[0;34m=\u001b[0m \u001b[0mtf_decorator\u001b[0m\u001b[0;34m.\u001b[0m\u001b[0munwrap\u001b[0m\u001b[0;34m(\u001b[0m\u001b[0mpython_func\u001b[0m\u001b[0;34m)\u001b[0m\u001b[0;34m\u001b[0m\u001b[0;34m\u001b[0m\u001b[0m\n\u001b[1;32m    998\u001b[0m \u001b[0;34m\u001b[0m\u001b[0m\n\u001b[0;32m--> 999\u001b[0;31m       \u001b[0mfunc_outputs\u001b[0m \u001b[0;34m=\u001b[0m \u001b[0mpython_func\u001b[0m\u001b[0;34m(\u001b[0m\u001b[0;34m*\u001b[0m\u001b[0mfunc_args\u001b[0m\u001b[0;34m,\u001b[0m \u001b[0;34m**\u001b[0m\u001b[0mfunc_kwargs\u001b[0m\u001b[0;34m)\u001b[0m\u001b[0;34m\u001b[0m\u001b[0;34m\u001b[0m\u001b[0m\n\u001b[0m\u001b[1;32m   1000\u001b[0m \u001b[0;34m\u001b[0m\u001b[0m\n\u001b[1;32m   1001\u001b[0m       \u001b[0;31m# invariant: `func_outputs` contains only Tensors, CompositeTensors,\u001b[0m\u001b[0;34m\u001b[0m\u001b[0;34m\u001b[0m\u001b[0;34m\u001b[0m\u001b[0m\n",
            "\u001b[0;32m/usr/local/lib/python3.7/dist-packages/tensorflow/python/eager/def_function.py\u001b[0m in \u001b[0;36mwrapped_fn\u001b[0;34m(*args, **kwds)\u001b[0m\n\u001b[1;32m    670\u001b[0m         \u001b[0;31m# the function a weak reference to itself to avoid a reference cycle.\u001b[0m\u001b[0;34m\u001b[0m\u001b[0;34m\u001b[0m\u001b[0;34m\u001b[0m\u001b[0m\n\u001b[1;32m    671\u001b[0m         \u001b[0;32mwith\u001b[0m \u001b[0mOptionalXlaContext\u001b[0m\u001b[0;34m(\u001b[0m\u001b[0mcompile_with_xla\u001b[0m\u001b[0;34m)\u001b[0m\u001b[0;34m:\u001b[0m\u001b[0;34m\u001b[0m\u001b[0;34m\u001b[0m\u001b[0m\n\u001b[0;32m--> 672\u001b[0;31m           \u001b[0mout\u001b[0m \u001b[0;34m=\u001b[0m \u001b[0mweak_wrapped_fn\u001b[0m\u001b[0;34m(\u001b[0m\u001b[0;34m)\u001b[0m\u001b[0;34m.\u001b[0m\u001b[0m__wrapped__\u001b[0m\u001b[0;34m(\u001b[0m\u001b[0;34m*\u001b[0m\u001b[0margs\u001b[0m\u001b[0;34m,\u001b[0m \u001b[0;34m**\u001b[0m\u001b[0mkwds\u001b[0m\u001b[0;34m)\u001b[0m\u001b[0;34m\u001b[0m\u001b[0;34m\u001b[0m\u001b[0m\n\u001b[0m\u001b[1;32m    673\u001b[0m         \u001b[0;32mreturn\u001b[0m \u001b[0mout\u001b[0m\u001b[0;34m\u001b[0m\u001b[0;34m\u001b[0m\u001b[0m\n\u001b[1;32m    674\u001b[0m \u001b[0;34m\u001b[0m\u001b[0m\n",
            "\u001b[0;32m/usr/local/lib/python3.7/dist-packages/tensorflow/python/framework/func_graph.py\u001b[0m in \u001b[0;36mwrapper\u001b[0;34m(*args, **kwargs)\u001b[0m\n\u001b[1;32m    984\u001b[0m           \u001b[0;32mexcept\u001b[0m \u001b[0mException\u001b[0m \u001b[0;32mas\u001b[0m \u001b[0me\u001b[0m\u001b[0;34m:\u001b[0m  \u001b[0;31m# pylint:disable=broad-except\u001b[0m\u001b[0;34m\u001b[0m\u001b[0;34m\u001b[0m\u001b[0m\n\u001b[1;32m    985\u001b[0m             \u001b[0;32mif\u001b[0m \u001b[0mhasattr\u001b[0m\u001b[0;34m(\u001b[0m\u001b[0me\u001b[0m\u001b[0;34m,\u001b[0m \u001b[0;34m\"ag_error_metadata\"\u001b[0m\u001b[0;34m)\u001b[0m\u001b[0;34m:\u001b[0m\u001b[0;34m\u001b[0m\u001b[0;34m\u001b[0m\u001b[0m\n\u001b[0;32m--> 986\u001b[0;31m               \u001b[0;32mraise\u001b[0m \u001b[0me\u001b[0m\u001b[0;34m.\u001b[0m\u001b[0mag_error_metadata\u001b[0m\u001b[0;34m.\u001b[0m\u001b[0mto_exception\u001b[0m\u001b[0;34m(\u001b[0m\u001b[0me\u001b[0m\u001b[0;34m)\u001b[0m\u001b[0;34m\u001b[0m\u001b[0;34m\u001b[0m\u001b[0m\n\u001b[0m\u001b[1;32m    987\u001b[0m             \u001b[0;32melse\u001b[0m\u001b[0;34m:\u001b[0m\u001b[0;34m\u001b[0m\u001b[0;34m\u001b[0m\u001b[0m\n\u001b[1;32m    988\u001b[0m               \u001b[0;32mraise\u001b[0m\u001b[0;34m\u001b[0m\u001b[0;34m\u001b[0m\u001b[0m\n",
            "\u001b[0;31mTypeError\u001b[0m: in user code:\n\n    /usr/local/lib/python3.7/dist-packages/tensorflow/python/keras/engine/training.py:855 train_function  *\n        return step_function(self, iterator)\n    /usr/local/lib/python3.7/dist-packages/tensorflow/python/keras/engine/training.py:845 step_function  **\n        outputs = model.distribute_strategy.run(run_step, args=(data,))\n    /usr/local/lib/python3.7/dist-packages/tensorflow/python/distribute/distribute_lib.py:1285 run\n        return self._extended.call_for_each_replica(fn, args=args, kwargs=kwargs)\n    /usr/local/lib/python3.7/dist-packages/tensorflow/python/distribute/distribute_lib.py:2833 call_for_each_replica\n        return self._call_for_each_replica(fn, args, kwargs)\n    /usr/local/lib/python3.7/dist-packages/tensorflow/python/distribute/distribute_lib.py:3608 _call_for_each_replica\n        return fn(*args, **kwargs)\n    /usr/local/lib/python3.7/dist-packages/tensorflow/python/keras/engine/training.py:838 run_step  **\n        outputs = model.train_step(data)\n    /usr/local/lib/python3.7/dist-packages/tensorflow/python/keras/engine/training.py:797 train_step\n        y, y_pred, sample_weight, regularization_losses=self.losses)\n    /usr/local/lib/python3.7/dist-packages/tensorflow/python/keras/engine/compile_utils.py:204 __call__\n        loss_value = loss_obj(y_t, y_p, sample_weight=sw)\n    /usr/local/lib/python3.7/dist-packages/tensorflow/python/keras/losses.py:155 __call__\n        losses = call_fn(y_true, y_pred)\n    /usr/local/lib/python3.7/dist-packages/tensorflow/python/keras/losses.py:259 call  **\n        return ag_fn(y_true, y_pred, **self._fn_kwargs)\n    /usr/local/lib/python3.7/dist-packages/tensorflow/python/keras/losses.py:759 __init__  **\n        from_logits=from_logits)\n    /usr/local/lib/python3.7/dist-packages/tensorflow/python/keras/losses.py:241 __init__\n        super(LossFunctionWrapper, self).__init__(reduction=reduction, name=name)\n    /usr/local/lib/python3.7/dist-packages/tensorflow/python/keras/losses.py:102 __init__\n        losses_utils.ReductionV2.validate(reduction)\n    /usr/local/lib/python3.7/dist-packages/tensorflow/python/keras/utils/losses_utils.py:76 validate\n        if key not in cls.all():\n    /usr/local/lib/python3.7/dist-packages/tensorflow/python/util/dispatch.py:206 wrapper\n        return target(*args, **kwargs)\n    /usr/local/lib/python3.7/dist-packages/tensorflow/python/ops/math_ops.py:1800 tensor_equals\n        self, other = maybe_promote_tensors(self, other)\n    /usr/local/lib/python3.7/dist-packages/tensorflow/python/ops/math_ops.py:1202 maybe_promote_tensors\n        ops.convert_to_tensor(tensor, dtype, name=\"x\"))\n    /usr/local/lib/python3.7/dist-packages/tensorflow/python/profiler/trace.py:163 wrapped\n        return func(*args, **kwargs)\n    /usr/local/lib/python3.7/dist-packages/tensorflow/python/framework/ops.py:1566 convert_to_tensor\n        ret = conversion_func(value, dtype=dtype, name=name, as_ref=as_ref)\n    /usr/local/lib/python3.7/dist-packages/tensorflow/python/framework/constant_op.py:339 _constant_tensor_conversion_function\n        return constant(v, dtype=dtype, name=name)\n    /usr/local/lib/python3.7/dist-packages/tensorflow/python/framework/constant_op.py:265 constant\n        allow_broadcast=True)\n    /usr/local/lib/python3.7/dist-packages/tensorflow/python/framework/constant_op.py:283 _constant_impl\n        allow_broadcast=allow_broadcast))\n    /usr/local/lib/python3.7/dist-packages/tensorflow/python/framework/tensor_util.py:457 make_tensor_proto\n        _AssertCompatible(values, dtype)\n    /usr/local/lib/python3.7/dist-packages/tensorflow/python/framework/tensor_util.py:337 _AssertCompatible\n        (dtype.name, repr(mismatch), type(mismatch).__name__))\n\n    TypeError: Expected float32, got 'auto' of type 'str' instead.\n"
          ]
        }
      ]
    },
    {
      "cell_type": "code",
      "metadata": {
        "id": "oIEmrrxmfluu"
      },
      "source": [
        "import tensorflow as tf \n",
        "import pandas as pd \n",
        "import numpy as np \n",
        "import matplotlib.pyplot as plt "
      ],
      "execution_count": null,
      "outputs": []
    },
    {
      "cell_type": "code",
      "metadata": {
        "id": "XZxsKe0JrFm5"
      },
      "source": [
        "import tensorflow_hub as hub\n"
      ],
      "execution_count": null,
      "outputs": []
    },
    {
      "cell_type": "code",
      "metadata": {
        "colab": {
          "base_uri": "https://localhost:8080/"
        },
        "id": "rN3D6yRFrNE8",
        "outputId": "60568dea-841d-43c7-84bc-52c42ee8ce86"
      },
      "source": [
        "from google.colab import drive\n",
        "drive.mount('/content/drive/')"
      ],
      "execution_count": null,
      "outputs": [
        {
          "output_type": "stream",
          "text": [
            "Drive already mounted at /content/drive/; to attempt to forcibly remount, call drive.mount(\"/content/drive/\", force_remount=True).\n"
          ],
          "name": "stdout"
        }
      ]
    },
    {
      "cell_type": "code",
      "metadata": {
        "id": "GbByPYsMrNE9"
      },
      "source": [
        "train_path = '/content/drive/MyDrive/dataset/train.csv'\n",
        "test_path = '/content/drive/MyDrive/dataset/test.csv'\n",
        "sample_sub_path = '/content/drive/MyDrive/dataset/sample_submission.csv'"
      ],
      "execution_count": null,
      "outputs": []
    },
    {
      "cell_type": "code",
      "metadata": {
        "id": "5x-BB1u5rNE-"
      },
      "source": [
        "import pandas as pd \n",
        "import numpy as np \n",
        "import matplotlib.pyplot as plt\n",
        "import csv"
      ],
      "execution_count": null,
      "outputs": []
    },
    {
      "cell_type": "code",
      "metadata": {
        "id": "2oNy516crNE-"
      },
      "source": [
        "# Loading in the data \n",
        "train_data = pd.read_csv(train_path , escapechar = \"\\\\\" , quoting = csv.QUOTE_NONE)\n",
        "\n",
        "# Loading the test dataset \n",
        "test_data = pd.read_csv(test_path , escapechar = \"\\\\\" , quoting = csv.QUOTE_NONE)\n",
        "# # Sample submission \n",
        "sample_sub = pd.read_csv(sample_sub_path , escapechar = \"\\\\\" , quoting = csv.QUOTE_NONE)\n",
        "\n"
      ],
      "execution_count": null,
      "outputs": []
    },
    {
      "cell_type": "code",
      "metadata": {
        "id": "FnO6zXIgrOVH"
      },
      "source": [
        "def preprocess_dataframe(df,shuffle = True,drop_cols = ['DESCRIPTION' , 'BULLET_POINTS'] ,fill_na = True ):\n",
        "  if shuffle: \n",
        "    df = df.sample(frac= 1 , random_state= 42)\n",
        "  df = df.drop(df[df.BROWSE_NODE_ID > 9919].index,axis = 0 )\n",
        "  if fill_na : \n",
        "    df = df.fillna(value = 'NAN')\n",
        "  \n",
        "  print(f'numrs of none values {df.isna().sum()}')\n",
        "  return df \n",
        "\n",
        "  "
      ],
      "execution_count": null,
      "outputs": []
    },
    {
      "cell_type": "code",
      "metadata": {
        "colab": {
          "base_uri": "https://localhost:8080/"
        },
        "id": "MSfQ1M17rShm",
        "outputId": "ad170f56-ced8-440d-eab7-74bac1c5a5ea"
      },
      "source": [
        "train_df = preprocess_dataframe(train_data)"
      ],
      "execution_count": null,
      "outputs": [
        {
          "output_type": "stream",
          "text": [
            "numrs of none values TITLE             0\n",
            "DESCRIPTION       0\n",
            "BULLET_POINTS     0\n",
            "BRAND             0\n",
            "BROWSE_NODE_ID    0\n",
            "dtype: int64\n"
          ],
          "name": "stdout"
        }
      ]
    },
    {
      "cell_type": "code",
      "metadata": {
        "id": "wQQ_zWAgryY1"
      },
      "source": [
        "base_layer_1 = hub.KerasLayer('https://tfhub.dev/google/universal-sentence-encoder/4',trainable = False)\n"
      ],
      "execution_count": null,
      "outputs": []
    },
    {
      "cell_type": "code",
      "metadata": {
        "id": "t2Xgxr3-ra7q"
      },
      "source": [
        "model = tf.keras.models.load_model('/content/drive/MyDrive/HIGH_ACC_LSTM.h5',custom_objects = {\"KerasLayer\":base_layer_1})"
      ],
      "execution_count": null,
      "outputs": []
    },
    {
      "cell_type": "code",
      "metadata": {
        "colab": {
          "base_uri": "https://localhost:8080/"
        },
        "id": "o4tNBj2hrrBA",
        "outputId": "a2dfd0da-9e59-41bc-9088-abd60d5150c8"
      },
      "source": [
        "\n",
        "\n",
        "import pandas as pd\n",
        "import numpy as np\n",
        "import csv\n",
        "import nltk\n",
        "from nltk.corpus import stopwords\n",
        "from nltk.stem import WordNetLemmatizer\n",
        "from sklearn.feature_extraction.text import TfidfVectorizer\n",
        "from sklearn.model_selection import train_test_split\n",
        "from sklearn.feature_selection import chi2\n",
        "import re\n",
        "from sklearn.model_selection import train_test_split\n",
        "from sklearn.linear_model import LogisticRegression\n",
        "from sklearn.naive_bayes import MultinomialNB\n",
        "from sklearn.metrics import classification_report, f1_score, accuracy_score, confusion_matrix\n",
        "from sklearn.metrics import accuracy_score\n",
        "df = train_df.copy()\n",
        "#Cleaning TITLE\n",
        "print(\"Cleaning TITLE column:\")\n",
        "punctuation_signs = list(\"?:!.,;\")\n",
        "\n",
        "nltk.download('punkt')\n",
        "nltk.download('wordnet')\n",
        "wordnet_lemmatizer = WordNetLemmatizer()\n",
        "nltk.download('stopwords')\n",
        "stop_words = list(stopwords.words('english'))\n",
        "print(\"Removing escape sequence characters...\")\n",
        "df['Title'] = df['TITLE'].str.replace(\"\\r\", \" \")\n",
        "df['Title'] = df['Title'].str.replace(\"\\n\", \" \")\n",
        "df['Title'] = df['Title'].str.replace(\"    \", \" \")\n",
        "df['Title'] = df['Title'].str.replace('\"', '')\n",
        "df['Title'] = df['Title'].str.lower()\n",
        "for punct_sign in punctuation_signs:\n",
        "  df['Title'] = df['Title'].str.replace(punct_sign, '')\n",
        "df['Title'] = df['Title'].str.replace(\"'s\", \"\")\n",
        "\n",
        "print(\"Lemmatizing Data...\")\n",
        "nrows = len(df)\n",
        "lemmatized_text_list = []\n",
        "for row in range(0, nrows):\n",
        "    lemmatized_list = []\n",
        "    text = df.iloc[row, 5]\n",
        "    text_words = text.split(\" \")\n",
        "    for word in text_words:\n",
        "        lemmatized_list.append(wordnet_lemmatizer.lemmatize(word, pos=\"v\"))\n",
        "    lemmatized_text = \" \".join(lemmatized_list)\n",
        "    lemmatized_text_list.append(lemmatized_text)\n",
        "df['Title'] = lemmatized_text_list\n",
        "\n",
        "print(\"hehe\")\n",
        "\n",
        "print(\"Dropping unnecessary columns...\")\n",
        "final_cols = [\"Title\", \"BROWSE_NODE_ID\"]\n",
        "df = df[final_cols]\n",
        "df = df.iloc[:15000, :]\n",
        "print(\"New Dataframe head:\")"
      ],
      "execution_count": null,
      "outputs": [
        {
          "output_type": "stream",
          "text": [
            "Cleaning TITLE column:\n",
            "[nltk_data] Downloading package punkt to /root/nltk_data...\n",
            "[nltk_data]   Package punkt is already up-to-date!\n",
            "[nltk_data] Downloading package wordnet to /root/nltk_data...\n",
            "[nltk_data]   Package wordnet is already up-to-date!\n",
            "[nltk_data] Downloading package stopwords to /root/nltk_data...\n",
            "[nltk_data]   Package stopwords is already up-to-date!\n",
            "Removing escape sequence characters...\n",
            "Lemmatizing Data...\n",
            "hehe\n",
            "Dropping unnecessary columns...\n",
            "New Dataframe head:\n"
          ],
          "name": "stdout"
        }
      ]
    },
    {
      "cell_type": "code",
      "metadata": {
        "id": "BKzvESvG7giD"
      },
      "source": [
        "inputs = tf.keras.layers.Input(shape = [], dtype = tf.string)\n",
        "base_model_layer = base_layer_1(inputs)\n",
        "lam_layer = tf.keras.layers.Lambda(lambda x : tf.expand_dims(x, axis =1))(base_model_layer)\n",
        "x = tf.keras.layers.LSTM(564)(lam_layer)\n",
        "x = tf.keras.layers.Dense(1080, activation= 'relu')(x)\n",
        "outputs = tf.keras.layers.Dense(9919,activation='softmax')(x)\n",
        "\n",
        "conv_model = tf.keras.Model(inputs, outputs)"
      ],
      "execution_count": null,
      "outputs": []
    },
    {
      "cell_type": "code",
      "metadata": {
        "colab": {
          "base_uri": "https://localhost:8080/",
          "height": 564
        },
        "id": "EP0ZAcVFs3T7",
        "outputId": "06516d9b-d368-40fa-aad9-d7d7b31471ea"
      },
      "source": [
        "tf.keras.utils.plot_model(conv_model)"
      ],
      "execution_count": null,
      "outputs": [
        {
          "output_type": "execute_result",
          "data": {
            "image/png": "[encoded data removed]",
            "text/plain": [
              "<IPython.core.display.Image object>"
            ]
          },
          "metadata": {
            "tags": []
          },
          "execution_count": 32
        }
      ]
    },
    {
      "cell_type": "code",
      "metadata": {
        "id": "Te4LPYomtH97"
      },
      "source": [
        " conv_model.compile(loss = tf.keras.losses.sparse_categorical_crossentropy,\n",
        "               optimizer = tf.keras.optimizers.Adam(),\n",
        "               metrics = ['accuracy'])"
      ],
      "execution_count": null,
      "outputs": []
    },
    {
      "cell_type": "code",
      "metadata": {
        "id": "EaVaQ-BYwqvF"
      },
      "source": [
        "in_data = tf.data.Dataset.from_tensor_slices(df.Title.to_numpy().astype(np.str))\n",
        "out_data = tf.data.Dataset.from_tensor_slices(df.BROWSE_NODE_ID.to_numpy())\n",
        "dataset = tf.data.Dataset.zip((in_data,out_data)).batch(32).prefetch(tf.data.AUTOTUNE)"
      ],
      "execution_count": null,
      "outputs": []
    },
    {
      "cell_type": "code",
      "metadata": {
        "colab": {
          "base_uri": "https://localhost:8080/"
        },
        "id": "fzDELhtowonH",
        "outputId": "6021eda3-9ad1-4c42-d638-a90e76ffb55e"
      },
      "source": [
        "hist = conv_model.fit(dataset,\n",
        "                 epochs = 10)"
      ],
      "execution_count": null,
      "outputs": [
        {
          "output_type": "stream",
          "text": [
            "Epoch 1/10\n",
            "469/469 [==============================] - 7s 15ms/step - loss: 0.7154 - accuracy: 0.8061\n",
            "Epoch 2/10\n",
            "469/469 [==============================] - 7s 14ms/step - loss: 0.4603 - accuracy: 0.8779\n",
            "Epoch 3/10\n",
            "469/469 [==============================] - 7s 14ms/step - loss: 0.2897 - accuracy: 0.9270\n",
            "Epoch 4/10\n",
            "469/469 [==============================] - 7s 14ms/step - loss: 0.1816 - accuracy: 0.9569\n",
            "Epoch 5/10\n",
            "469/469 [==============================] - 6s 13ms/step - loss: 0.1189 - accuracy: 0.9740\n",
            "Epoch 6/10\n",
            "469/469 [==============================] - 6s 14ms/step - loss: 0.0935 - accuracy: 0.9779\n",
            "Epoch 7/10\n",
            "469/469 [==============================] - 6s 14ms/step - loss: 0.0879 - accuracy: 0.9784\n",
            "Epoch 8/10\n",
            "469/469 [==============================] - 6s 14ms/step - loss: 0.0835 - accuracy: 0.9781\n",
            "Epoch 9/10\n",
            "469/469 [==============================] - 7s 15ms/step - loss: 0.0835 - accuracy: 0.9766\n",
            "Epoch 10/10\n",
            "469/469 [==============================] - 7s 14ms/step - loss: 0.0724 - accuracy: 0.9787\n"
          ],
          "name": "stdout"
        }
      ]
    },
    {
      "cell_type": "code",
      "metadata": {
        "id": "FcpIQen-yv5c"
      },
      "source": [
        "model.save('/content/drive/MyDrive/overfitting_model.h5')"
      ],
      "execution_count": null,
      "outputs": []
    },
    {
      "cell_type": "code",
      "metadata": {
        "colab": {
          "base_uri": "https://localhost:8080/"
        },
        "id": "nWq5qUx6xZvh",
        "outputId": "4d7cda06-13fe-4434-d32a-2108b36b3fc3"
      },
      "source": [
        "\n",
        "\n",
        "import pandas as pd\n",
        "import numpy as np\n",
        "import csv\n",
        "import nltk\n",
        "from nltk.corpus import stopwords\n",
        "from nltk.stem import WordNetLemmatizer\n",
        "from sklearn.feature_extraction.text import TfidfVectorizer\n",
        "from sklearn.model_selection import train_test_split\n",
        "from sklearn.feature_selection import chi2\n",
        "import re\n",
        "from sklearn.model_selection import train_test_split\n",
        "from sklearn.linear_model import LogisticRegression\n",
        "from sklearn.naive_bayes import MultinomialNB\n",
        "from sklearn.metrics import classification_report, f1_score, accuracy_score, confusion_matrix\n",
        "from sklearn.metrics import accuracy_score\n",
        "df = test_data.copy()\n",
        "#Cleaning TITLE\n",
        "print(\"Cleaning TITLE column:\")\n",
        "punctuation_signs = list(\"?:!.,;\")\n",
        "\n",
        "nltk.download('punkt')\n",
        "nltk.download('wordnet')\n",
        "wordnet_lemmatizer = WordNetLemmatizer()\n",
        "nltk.download('stopwords')\n",
        "stop_words = list(stopwords.words('english'))\n",
        "print(\"Removing escape sequence characters...\")\n",
        "df['Title'] = df['TITLE'].str.replace(\"\\r\", \" \")\n",
        "df['Title'] = df['Title'].str.replace(\"\\n\", \" \")\n",
        "df['Title'] = df['Title'].str.replace(\"    \", \" \")\n",
        "df['Title'] = df['Title'].str.replace('\"', '')\n",
        "df['Title'] = df['Title'].str.lower()\n",
        "for punct_sign in punctuation_signs:\n",
        "  df['Title'] = df['Title'].str.replace(punct_sign, '')\n",
        "df['Title'] = df['Title'].str.replace(\"'s\", \"\")\n",
        "\n",
        "print(\"Lemmatizing Data...\")\n",
        "nrows = len(df)\n",
        "lemmatized_text_list = []\n",
        "for row in range(0, nrows):\n",
        "    lemmatized_list = []\n",
        "    text = str(df.iloc[row, 5])\n",
        "    text_words = text.split(\" \")\n",
        "    for word in text_words:\n",
        "        lemmatized_list.append(wordnet_lemmatizer.lemmatize(word, pos=\"v\"))\n",
        "    lemmatized_text = \" \".join(lemmatized_list)\n",
        "    lemmatized_text_list.append(lemmatized_text)\n",
        "df['Title'] = lemmatized_text_list\n",
        "\n",
        "print(\"hehe\")\n",
        "\n",
        "# print(\"Dropping unnecessary columns...\")\n",
        "# final_cols = [\"Title\", \"BROWSE_NODE_ID\"]\n",
        "# df = df[final_cols]\n",
        "# df = df.iloc[:15000, :]\n",
        "# print(\"New Dataframe head:\")"
      ],
      "execution_count": null,
      "outputs": [
        {
          "output_type": "stream",
          "text": [
            "Cleaning TITLE column:\n",
            "[nltk_data] Downloading package punkt to /root/nltk_data...\n",
            "[nltk_data]   Package punkt is already up-to-date!\n",
            "[nltk_data] Downloading package wordnet to /root/nltk_data...\n",
            "[nltk_data]   Package wordnet is already up-to-date!\n",
            "[nltk_data] Downloading package stopwords to /root/nltk_data...\n",
            "[nltk_data]   Package stopwords is already up-to-date!\n",
            "Removing escape sequence characters...\n",
            "Lemmatizing Data...\n",
            "hehe\n"
          ],
          "name": "stdout"
        }
      ]
    },
    {
      "cell_type": "code",
      "metadata": {
        "colab": {
          "base_uri": "https://localhost:8080/"
        },
        "id": "ca4xcO_B-qmt",
        "outputId": "10aef018-55db-46f7-f4a7-7313ee54253d"
      },
      "source": [
        "len(df.Title)"
      ],
      "execution_count": null,
      "outputs": [
        {
          "output_type": "execute_result",
          "data": {
            "text/plain": [
              "110775"
            ]
          },
          "metadata": {
            "tags": []
          },
          "execution_count": 9
        }
      ]
    },
    {
      "cell_type": "code",
      "metadata": {
        "id": "hrZLuZy_A2Of"
      },
      "source": [
        ""
      ],
      "execution_count": null,
      "outputs": []
    },
    {
      "cell_type": "code",
      "metadata": {
        "id": "dKlYbV9PyHFd"
      },
      "source": [
        "predictions = []\n",
        "count = 0 \n",
        "titles = []\n",
        "for title in df.Title.to_numpy():\n",
        "  count+=1\n",
        "  titles.append(title)\n",
        "  if count == 10000:\n",
        "    pred = model.predict(titles)\n",
        "    predictions.append(pred)\n",
        "    count = 0 \n",
        "    titles.clear()\n",
        "  "
      ],
      "execution_count": null,
      "outputs": []
    },
    {
      "cell_type": "code",
      "metadata": {
        "id": "4IWv87zJ4ZbR"
      },
      "source": [
        "predictions = tf.constant(predictions)"
      ],
      "execution_count": null,
      "outputs": []
    },
    {
      "cell_type": "code",
      "metadata": {
        "id": "r1fJaHwWxk8r"
      },
      "source": [
        "# predictions = model.predict(df.Title.to_numpy())"
      ],
      "execution_count": null,
      "outputs": []
    },
    {
      "cell_type": "code",
      "metadata": {
        "id": "qzI-89zh_UOs"
      },
      "source": [
        "flat_list"
      ],
      "execution_count": null,
      "outputs": []
    },
    {
      "cell_type": "code",
      "metadata": {
        "id": "Jf5L0sASyUbQ"
      },
      "source": [
        ""
      ],
      "execution_count": null,
      "outputs": []
    },
    {
      "cell_type": "code",
      "metadata": {
        "id": "18ID93hMxk8s"
      },
      "source": [
        "submission = pd.DataFrame()"
      ],
      "execution_count": null,
      "outputs": []
    },
    {
      "cell_type": "code",
      "metadata": {
        "id": "JMyEtFuIxk8s"
      },
      "source": [
        "submission.head()"
      ],
      "execution_count": null,
      "outputs": []
    },
    {
      "cell_type": "code",
      "metadata": {
        "id": "kBeju-fDxk8t"
      },
      "source": [
        "submission.insert(0,'PRODUCT_ID',value = test_data.PRODUCT_ID)"
      ],
      "execution_count": null,
      "outputs": []
    },
    {
      "cell_type": "code",
      "metadata": {
        "id": "tMYmAZEkxk8t"
      },
      "source": [
        "submission.head()"
      ],
      "execution_count": null,
      "outputs": []
    },
    {
      "cell_type": "code",
      "metadata": {
        "id": "zAH7on-Txk8u"
      },
      "source": [
        "prediction_values = np.argmax(predictions,axis =1)"
      ],
      "execution_count": null,
      "outputs": []
    },
    {
      "cell_type": "code",
      "metadata": {
        "id": "OSiY5R5exk8u"
      },
      "source": [
        "submission.insert(1,'BROWSE_NODE_ID',prediction_values)"
      ],
      "execution_count": null,
      "outputs": []
    },
    {
      "cell_type": "code",
      "metadata": {
        "id": "mOhsZi48xk8u"
      },
      "source": [
        "submission.head()"
      ],
      "execution_count": null,
      "outputs": []
    },
    {
      "cell_type": "code",
      "metadata": {
        "id": "Y8M5ZB0fxk8v"
      },
      "source": [
        "submission.to_csv('/content/preprocessed_fuk.csv',index=False)"
      ],
      "execution_count": null,
      "outputs": []
    },
    {
      "cell_type": "code",
      "metadata": {
        "id": "c_uclAjtxJkA"
      },
      "source": [
        "another_model = tf.keras.models.load_model('/content/drive/MyDrive/amazon_ml/LSTM_MODEL_preprocessed',custom_objects={\"KerasLayer\":base_layer_1})"
      ],
      "execution_count": null,
      "outputs": []
    },
    {
      "cell_type": "code",
      "metadata": {
        "id": "8cK_bVJyBCNF"
      },
      "source": [
        "another_model.fit()"
      ],
      "execution_count": null,
      "outputs": []
    },
    {
      "cell_type": "code",
      "metadata": {
        "colab": {
          "base_uri": "https://localhost:8080/"
        },
        "id": "54E3hZBUBfOs",
        "outputId": "87d57cef-ccc8-4e41-8ced-39a42be0e312"
      },
      "source": [
        "\n",
        "import pandas as pd\n",
        "import numpy as np\n",
        "import csv\n",
        "import nltk\n",
        "from nltk.corpus import stopwords\n",
        "from nltk.stem import WordNetLemmatizer\n",
        "from sklearn.feature_extraction.text import TfidfVectorizer\n",
        "from sklearn.model_selection import train_test_split\n",
        "from sklearn.feature_selection import chi2\n",
        "import re\n",
        "from sklearn.model_selection import train_test_split\n",
        "from sklearn.linear_model import LogisticRegression\n",
        "from sklearn.naive_bayes import MultinomialNB\n",
        "from sklearn.metrics import classification_report, f1_score, accuracy_score, confusion_matrix\n",
        "from sklearn.metrics import accuracy_score\n",
        "\n",
        "# #test file\n",
        "# df_test = pd.read_csv('test.csv', escapechar = \"\\\\\", quoting = csv.QUOTE_NONE)\n",
        "# print(\"Test Head\")\n",
        "# #print(df_test.head())\n",
        "\n",
        "# '''#test columns\n",
        "# for col in df_test.columns:\n",
        "#   print(col)'''\n",
        "\n",
        "# #train file\n",
        "# df_train = pd.read_csv('train.csv', escapechar = \"\\\\\", quoting = csv.QUOTE_NONE)\n",
        "# print(\"Train Head\")\n",
        "# #print(df_train.head())\n",
        "df_test = test_data.copy()\n",
        "\n",
        "'''#train columns\n",
        "for col in df_train.columns:\n",
        "  print(col)'''\n",
        "\n",
        "print(\"Train.isna().sum():\")\n",
        "#print(df_train.isna().sum())\n",
        "\n",
        "print(\"Train Shape:\")\n",
        "#print(df_train.shape)\n",
        "\n",
        "'''print(df_train['TITLE'].is_unique)\n",
        "print(df_train['DESCRIPTION'].is_unique)\n",
        "print(df_train['BULLET_POINTS'].is_unique)\n",
        "print(df_train['BRAND'].is_unique)\n",
        "print(df_train['BROWSE_NODE_ID'].is_unique)'''\n",
        "\n",
        "df = train_data.dropna()\n",
        "print(\"New Train.isna().sum():\")\n",
        "#print(df.isna().sum())\n",
        "\n",
        "punctuation_signs = list(\"?:!.,;\")\n",
        "nltk.download('punkt')\n",
        "nltk.download('wordnet')\n",
        "wordnet_lemmatizer = WordNetLemmatizer()\n",
        "nltk.download('stopwords')\n",
        "stop_words = list(stopwords.words('english'))\n",
        "\n",
        "#Cleaning TITLE\n",
        "print(\"Cleaning TITLE column:\")\n",
        "\n",
        "print(\"Removing escape sequence characters...\")\n",
        "df['Title'] = df['TITLE'].str.replace(\"\\r\", \" \")\n",
        "df['Title'] = df['Title'].str.replace(\"\\n\", \" \")\n",
        "df['Title'] = df['Title'].str.replace(\"    \", \" \")\n",
        "df['Title'] = df['Title'].str.replace('\"', '')\n",
        "df['Title'] = df['Title'].str.lower()\n",
        "for punct_sign in punctuation_signs:\n",
        "  df['Title'] = df['Title'].str.replace(punct_sign, '')\n",
        "df['Title'] = df['Title'].str.replace(\"'s\", \"\")\n",
        "\n",
        "print(\"Lemmatizing Data...\")\n",
        "nrows = len(df)\n",
        "lemmatized_text_list = []\n",
        "for row in range(0, nrows):\n",
        "    lemmatized_list = []\n",
        "    text = df.iloc[row, 5]\n",
        "    text_words = text.split(\" \")\n",
        "    for word in text_words:\n",
        "        lemmatized_list.append(wordnet_lemmatizer.lemmatize(word, pos=\"v\"))\n",
        "    lemmatized_text = \" \".join(lemmatized_list)\n",
        "    lemmatized_text_list.append(lemmatized_text)\n",
        "df['Title'] = lemmatized_text_list\n",
        "\n",
        "print(\"hehe\")\n",
        "\n",
        "print(\"Dropping unnecessary columns...\")\n",
        "final_cols = [\"Title\", \"BROWSE_NODE_ID\"]\n",
        "df = df[final_cols]\n",
        "df = df.iloc[:15000, :]\n",
        "print(\"New Dataframe head:\")\n",
        "#print(df.head())\n",
        "\n",
        "print(\"Performing Train-Test-Split...\")\n",
        "X_train, X_test, y_train, y_test = train_test_split(df[\"Title\"],\n",
        "                                                    df[\"BROWSE_NODE_ID\"],\n",
        "                                                    test_size=0.15, \n",
        "                                                    random_state=8)\n",
        "\n",
        "'''ngram_range = (1,2)\n",
        "min_df = 10\n",
        "max_df = 1.\n",
        "max_features = 300'''\n",
        "\n",
        "print(\"Vectorizing...\")\n",
        "tfidf = TfidfVectorizer(stop_words='english', ngram_range=(1,2), min_df=5)\n",
        "print('1')\n",
        "X_train_vectors_tfidf = tfidf.fit_transform(X_train).toarray()\n",
        "#labels_train = y_train\n",
        "print(X_train_vectors_tfidf.shape)\n",
        "print('1')\n",
        "X_test_vectors_tfidf = tfidf.transform(X_test).toarray()\n",
        "#labels_test = y_test\n",
        "print(X_test_vectors_tfidf.shape)\n",
        "\n",
        "print('LogReg...')\n",
        "lr_tfidf=LogisticRegression(solver = 'liblinear', C=10, penalty = 'l2')\n",
        "lr_tfidf.fit(X_train_vectors_tfidf, y_train)\n",
        "\n",
        "print(\"Prediction...\")\n",
        "y_predict = lr_tfidf.predict(X_test_vectors_tfidf)\n",
        "y_prob = lr_tfidf.predict_proba(X_test_vectors_tfidf)[:,1]\n",
        "#print(classification_report(y_test,y_predict))\n",
        "print('Confusion Matrix:',confusion_matrix(y_test, y_predict))\n",
        "\n",
        "print(accuracy_score(y_test, y_predict))"
      ],
      "execution_count": null,
      "outputs": [
        {
          "output_type": "stream",
          "text": [
            "Train.isna().sum():\n",
            "Train Shape:\n",
            "New Train.isna().sum():\n",
            "[nltk_data] Downloading package punkt to /root/nltk_data...\n",
            "[nltk_data]   Package punkt is already up-to-date!\n",
            "[nltk_data] Downloading package wordnet to /root/nltk_data...\n",
            "[nltk_data]   Package wordnet is already up-to-date!\n",
            "[nltk_data] Downloading package stopwords to /root/nltk_data...\n",
            "[nltk_data]   Package stopwords is already up-to-date!\n",
            "Cleaning TITLE column:\n",
            "Removing escape sequence characters...\n"
          ],
          "name": "stdout"
        },
        {
          "output_type": "stream",
          "text": [
            "/usr/local/lib/python3.7/dist-packages/ipykernel_launcher.py:64: SettingWithCopyWarning: \n",
            "A value is trying to be set on a copy of a slice from a DataFrame.\n",
            "Try using .loc[row_indexer,col_indexer] = value instead\n",
            "\n",
            "See the caveats in the documentation: https://pandas.pydata.org/pandas-docs/stable/user_guide/indexing.html#returning-a-view-versus-a-copy\n",
            "/usr/local/lib/python3.7/dist-packages/ipykernel_launcher.py:65: SettingWithCopyWarning: \n",
            "A value is trying to be set on a copy of a slice from a DataFrame.\n",
            "Try using .loc[row_indexer,col_indexer] = value instead\n",
            "\n",
            "See the caveats in the documentation: https://pandas.pydata.org/pandas-docs/stable/user_guide/indexing.html#returning-a-view-versus-a-copy\n",
            "/usr/local/lib/python3.7/dist-packages/ipykernel_launcher.py:66: SettingWithCopyWarning: \n",
            "A value is trying to be set on a copy of a slice from a DataFrame.\n",
            "Try using .loc[row_indexer,col_indexer] = value instead\n",
            "\n",
            "See the caveats in the documentation: https://pandas.pydata.org/pandas-docs/stable/user_guide/indexing.html#returning-a-view-versus-a-copy\n",
            "/usr/local/lib/python3.7/dist-packages/ipykernel_launcher.py:67: SettingWithCopyWarning: \n",
            "A value is trying to be set on a copy of a slice from a DataFrame.\n",
            "Try using .loc[row_indexer,col_indexer] = value instead\n",
            "\n",
            "See the caveats in the documentation: https://pandas.pydata.org/pandas-docs/stable/user_guide/indexing.html#returning-a-view-versus-a-copy\n",
            "/usr/local/lib/python3.7/dist-packages/ipykernel_launcher.py:68: SettingWithCopyWarning: \n",
            "A value is trying to be set on a copy of a slice from a DataFrame.\n",
            "Try using .loc[row_indexer,col_indexer] = value instead\n",
            "\n",
            "See the caveats in the documentation: https://pandas.pydata.org/pandas-docs/stable/user_guide/indexing.html#returning-a-view-versus-a-copy\n",
            "/usr/local/lib/python3.7/dist-packages/ipykernel_launcher.py:70: SettingWithCopyWarning: \n",
            "A value is trying to be set on a copy of a slice from a DataFrame.\n",
            "Try using .loc[row_indexer,col_indexer] = value instead\n",
            "\n",
            "See the caveats in the documentation: https://pandas.pydata.org/pandas-docs/stable/user_guide/indexing.html#returning-a-view-versus-a-copy\n",
            "/usr/local/lib/python3.7/dist-packages/ipykernel_launcher.py:71: SettingWithCopyWarning: \n",
            "A value is trying to be set on a copy of a slice from a DataFrame.\n",
            "Try using .loc[row_indexer,col_indexer] = value instead\n",
            "\n",
            "See the caveats in the documentation: https://pandas.pydata.org/pandas-docs/stable/user_guide/indexing.html#returning-a-view-versus-a-copy\n"
          ],
          "name": "stderr"
        },
        {
          "output_type": "stream",
          "text": [
            "Lemmatizing Data...\n"
          ],
          "name": "stdout"
        },
        {
          "output_type": "stream",
          "text": [
            "/usr/local/lib/python3.7/dist-packages/ipykernel_launcher.py:84: SettingWithCopyWarning: \n",
            "A value is trying to be set on a copy of a slice from a DataFrame.\n",
            "Try using .loc[row_indexer,col_indexer] = value instead\n",
            "\n",
            "See the caveats in the documentation: https://pandas.pydata.org/pandas-docs/stable/user_guide/indexing.html#returning-a-view-versus-a-copy\n"
          ],
          "name": "stderr"
        },
        {
          "output_type": "stream",
          "text": [
            "hehe\n",
            "Dropping unnecessary columns...\n",
            "New Dataframe head:\n",
            "Performing Train-Test-Split...\n",
            "Vectorizing...\n",
            "1\n",
            "(12750, 6336)\n",
            "1\n",
            "(2250, 6336)\n",
            "LogReg...\n",
            "Prediction...\n",
            "Confusion Matrix: [[2 0 0 ... 0 0 0]\n",
            " [0 1 0 ... 0 0 0]\n",
            " [0 0 1 ... 0 0 0]\n",
            " ...\n",
            " [0 0 0 ... 0 0 0]\n",
            " [0 0 0 ... 0 0 0]\n",
            " [0 0 0 ... 0 0 0]]\n",
            "0.5164444444444445\n"
          ],
          "name": "stdout"
        }
      ]
    },
    {
      "cell_type": "code",
      "metadata": {
        "id": "aedv2BdQBva_"
      },
      "source": [
        "X_train_vectors_tfidf = tfidf.transform(df.Title.to_numpy()).toarray()\n",
        "predss = lr_tfidf.predict(X_train_vectors_tfidf)"
      ],
      "execution_count": null,
      "outputs": []
    },
    {
      "cell_type": "code",
      "metadata": {
        "colab": {
          "base_uri": "https://localhost:8080/"
        },
        "id": "CXH51FPfELo4",
        "outputId": "315c0a62-f732-4612-840b-c7d4eea19094"
      },
      "source": [
        "predss"
      ],
      "execution_count": null,
      "outputs": [
        {
          "output_type": "execute_result",
          "data": {
            "text/plain": [
              "array([   0,    1,    5, ..., 1145, 1296, 1045])"
            ]
          },
          "metadata": {
            "tags": []
          },
          "execution_count": 12
        }
      ]
    },
    {
      "cell_type": "code",
      "metadata": {
        "id": "nQEj66CvGCq3"
      },
      "source": [
        "submission = pd.DataFrame()"
      ],
      "execution_count": null,
      "outputs": []
    },
    {
      "cell_type": "code",
      "metadata": {
        "colab": {
          "base_uri": "https://localhost:8080/",
          "height": 32
        },
        "id": "H0PQ0XtOGCrC",
        "outputId": "98146b51-a461-42c7-9565-28cdf55fb3e6"
      },
      "source": [
        "submission.head()"
      ],
      "execution_count": null,
      "outputs": [
        {
          "output_type": "execute_result",
          "data": {
            "text/html": [
              "<div>\n",
              "<style scoped>\n",
              "    .dataframe tbody tr th:only-of-type {\n",
              "        vertical-align: middle;\n",
              "    }\n",
              "\n",
              "    .dataframe tbody tr th {\n",
              "        vertical-align: top;\n",
              "    }\n",
              "\n",
              "    .dataframe thead th {\n",
              "        text-align: right;\n",
              "    }\n",
              "</style>\n",
              "<table border=\"1\" class=\"dataframe\">\n",
              "  <thead>\n",
              "    <tr style=\"text-align: right;\">\n",
              "      <th></th>\n",
              "    </tr>\n",
              "  </thead>\n",
              "  <tbody>\n",
              "  </tbody>\n",
              "</table>\n",
              "</div>"
            ],
            "text/plain": [
              "Empty DataFrame\n",
              "Columns: []\n",
              "Index: []"
            ]
          },
          "metadata": {
            "tags": []
          },
          "execution_count": 29
        }
      ]
    },
    {
      "cell_type": "code",
      "metadata": {
        "id": "LtY5eeYiGCrE"
      },
      "source": [
        "submission.insert(0,'PRODUCT_ID',value = test_data.PRODUCT_ID[:15000])"
      ],
      "execution_count": null,
      "outputs": []
    },
    {
      "cell_type": "code",
      "metadata": {
        "colab": {
          "base_uri": "https://localhost:8080/",
          "height": 204
        },
        "id": "SEsXmILwGCrE",
        "outputId": "7f171d56-7de7-4fae-aad8-d0a0170560a2"
      },
      "source": [
        "submission.head()"
      ],
      "execution_count": null,
      "outputs": [
        {
          "output_type": "execute_result",
          "data": {
            "text/html": [
              "<div>\n",
              "<style scoped>\n",
              "    .dataframe tbody tr th:only-of-type {\n",
              "        vertical-align: middle;\n",
              "    }\n",
              "\n",
              "    .dataframe tbody tr th {\n",
              "        vertical-align: top;\n",
              "    }\n",
              "\n",
              "    .dataframe thead th {\n",
              "        text-align: right;\n",
              "    }\n",
              "</style>\n",
              "<table border=\"1\" class=\"dataframe\">\n",
              "  <thead>\n",
              "    <tr style=\"text-align: right;\">\n",
              "      <th></th>\n",
              "      <th>PRODUCT_ID</th>\n",
              "    </tr>\n",
              "  </thead>\n",
              "  <tbody>\n",
              "    <tr>\n",
              "      <th>0</th>\n",
              "      <td>1</td>\n",
              "    </tr>\n",
              "    <tr>\n",
              "      <th>1</th>\n",
              "      <td>2</td>\n",
              "    </tr>\n",
              "    <tr>\n",
              "      <th>2</th>\n",
              "      <td>3</td>\n",
              "    </tr>\n",
              "    <tr>\n",
              "      <th>3</th>\n",
              "      <td>4</td>\n",
              "    </tr>\n",
              "    <tr>\n",
              "      <th>4</th>\n",
              "      <td>5</td>\n",
              "    </tr>\n",
              "  </tbody>\n",
              "</table>\n",
              "</div>"
            ],
            "text/plain": [
              "   PRODUCT_ID\n",
              "0           1\n",
              "1           2\n",
              "2           3\n",
              "3           4\n",
              "4           5"
            ]
          },
          "metadata": {
            "tags": []
          },
          "execution_count": 31
        }
      ]
    },
    {
      "cell_type": "code",
      "metadata": {
        "id": "m5OKZgPFGCrE",
        "colab": {
          "base_uri": "https://localhost:8080/",
          "height": 340
        },
        "outputId": "44b44117-1ec2-4e38-d263-5521f672f7e6"
      },
      "source": [
        "prediction_values = np.argmax(predss,axis =1)"
      ],
      "execution_count": null,
      "outputs": [
        {
          "output_type": "error",
          "ename": "AxisError",
          "evalue": "ignored",
          "traceback": [
            "\u001b[0;31m---------------------------------------------------------------------------\u001b[0m",
            "\u001b[0;31mAxisError\u001b[0m                                 Traceback (most recent call last)",
            "\u001b[0;32m<ipython-input-32-d72b943a7b10>\u001b[0m in \u001b[0;36m<module>\u001b[0;34m()\u001b[0m\n\u001b[0;32m----> 1\u001b[0;31m \u001b[0mprediction_values\u001b[0m \u001b[0;34m=\u001b[0m \u001b[0mnp\u001b[0m\u001b[0;34m.\u001b[0m\u001b[0margmax\u001b[0m\u001b[0;34m(\u001b[0m\u001b[0mpredss\u001b[0m\u001b[0;34m,\u001b[0m\u001b[0maxis\u001b[0m \u001b[0;34m=\u001b[0m\u001b[0;36m1\u001b[0m\u001b[0;34m)\u001b[0m\u001b[0;34m\u001b[0m\u001b[0;34m\u001b[0m\u001b[0m\n\u001b[0m",
            "\u001b[0;32m<__array_function__ internals>\u001b[0m in \u001b[0;36margmax\u001b[0;34m(*args, **kwargs)\u001b[0m\n",
            "\u001b[0;32m/usr/local/lib/python3.7/dist-packages/numpy/core/fromnumeric.py\u001b[0m in \u001b[0;36margmax\u001b[0;34m(a, axis, out)\u001b[0m\n\u001b[1;32m   1186\u001b[0m \u001b[0;34m\u001b[0m\u001b[0m\n\u001b[1;32m   1187\u001b[0m     \"\"\"\n\u001b[0;32m-> 1188\u001b[0;31m     \u001b[0;32mreturn\u001b[0m \u001b[0m_wrapfunc\u001b[0m\u001b[0;34m(\u001b[0m\u001b[0ma\u001b[0m\u001b[0;34m,\u001b[0m \u001b[0;34m'argmax'\u001b[0m\u001b[0;34m,\u001b[0m \u001b[0maxis\u001b[0m\u001b[0;34m=\u001b[0m\u001b[0maxis\u001b[0m\u001b[0;34m,\u001b[0m \u001b[0mout\u001b[0m\u001b[0;34m=\u001b[0m\u001b[0mout\u001b[0m\u001b[0;34m)\u001b[0m\u001b[0;34m\u001b[0m\u001b[0;34m\u001b[0m\u001b[0m\n\u001b[0m\u001b[1;32m   1189\u001b[0m \u001b[0;34m\u001b[0m\u001b[0m\n\u001b[1;32m   1190\u001b[0m \u001b[0;34m\u001b[0m\u001b[0m\n",
            "\u001b[0;32m/usr/local/lib/python3.7/dist-packages/numpy/core/fromnumeric.py\u001b[0m in \u001b[0;36m_wrapfunc\u001b[0;34m(obj, method, *args, **kwds)\u001b[0m\n\u001b[1;32m     56\u001b[0m \u001b[0;34m\u001b[0m\u001b[0m\n\u001b[1;32m     57\u001b[0m     \u001b[0;32mtry\u001b[0m\u001b[0;34m:\u001b[0m\u001b[0;34m\u001b[0m\u001b[0;34m\u001b[0m\u001b[0m\n\u001b[0;32m---> 58\u001b[0;31m         \u001b[0;32mreturn\u001b[0m \u001b[0mbound\u001b[0m\u001b[0;34m(\u001b[0m\u001b[0;34m*\u001b[0m\u001b[0margs\u001b[0m\u001b[0;34m,\u001b[0m \u001b[0;34m**\u001b[0m\u001b[0mkwds\u001b[0m\u001b[0;34m)\u001b[0m\u001b[0;34m\u001b[0m\u001b[0;34m\u001b[0m\u001b[0m\n\u001b[0m\u001b[1;32m     59\u001b[0m     \u001b[0;32mexcept\u001b[0m \u001b[0mTypeError\u001b[0m\u001b[0;34m:\u001b[0m\u001b[0;34m\u001b[0m\u001b[0;34m\u001b[0m\u001b[0m\n\u001b[1;32m     60\u001b[0m         \u001b[0;31m# A TypeError occurs if the object does have such a method in its\u001b[0m\u001b[0;34m\u001b[0m\u001b[0;34m\u001b[0m\u001b[0;34m\u001b[0m\u001b[0m\n",
            "\u001b[0;31mAxisError\u001b[0m: axis 1 is out of bounds for array of dimension 1"
          ]
        }
      ]
    },
    {
      "cell_type": "code",
      "metadata": {
        "id": "lyjTa1J8GCrF"
      },
      "source": [
        "submission.insert(1,'BROWSE_NODE_ID',predss)"
      ],
      "execution_count": null,
      "outputs": []
    },
    {
      "cell_type": "code",
      "metadata": {
        "colab": {
          "base_uri": "https://localhost:8080/",
          "height": 204
        },
        "id": "5olIdrv-GCrF",
        "outputId": "e310ef46-29ac-4c71-bf7c-4019c1621b83"
      },
      "source": [
        "submission.tail()"
      ],
      "execution_count": null,
      "outputs": [
        {
          "output_type": "execute_result",
          "data": {
            "text/html": [
              "<div>\n",
              "<style scoped>\n",
              "    .dataframe tbody tr th:only-of-type {\n",
              "        vertical-align: middle;\n",
              "    }\n",
              "\n",
              "    .dataframe tbody tr th {\n",
              "        vertical-align: top;\n",
              "    }\n",
              "\n",
              "    .dataframe thead th {\n",
              "        text-align: right;\n",
              "    }\n",
              "</style>\n",
              "<table border=\"1\" class=\"dataframe\">\n",
              "  <thead>\n",
              "    <tr style=\"text-align: right;\">\n",
              "      <th></th>\n",
              "      <th>PRODUCT_ID</th>\n",
              "      <th>BROWSE_NODE_ID</th>\n",
              "    </tr>\n",
              "  </thead>\n",
              "  <tbody>\n",
              "    <tr>\n",
              "      <th>14995</th>\n",
              "      <td>14996</td>\n",
              "      <td>1163</td>\n",
              "    </tr>\n",
              "    <tr>\n",
              "      <th>14996</th>\n",
              "      <td>14997</td>\n",
              "      <td>773</td>\n",
              "    </tr>\n",
              "    <tr>\n",
              "      <th>14997</th>\n",
              "      <td>14998</td>\n",
              "      <td>1145</td>\n",
              "    </tr>\n",
              "    <tr>\n",
              "      <th>14998</th>\n",
              "      <td>14999</td>\n",
              "      <td>1296</td>\n",
              "    </tr>\n",
              "    <tr>\n",
              "      <th>14999</th>\n",
              "      <td>15000</td>\n",
              "      <td>1045</td>\n",
              "    </tr>\n",
              "  </tbody>\n",
              "</table>\n",
              "</div>"
            ],
            "text/plain": [
              "       PRODUCT_ID  BROWSE_NODE_ID\n",
              "14995       14996            1163\n",
              "14996       14997             773\n",
              "14997       14998            1145\n",
              "14998       14999            1296\n",
              "14999       15000            1045"
            ]
          },
          "metadata": {
            "tags": []
          },
          "execution_count": 34
        }
      ]
    },
    {
      "cell_type": "code",
      "metadata": {
        "id": "miWZ4y1GGCrF"
      },
      "source": [
        "submission.to_csv('/content/ducked_preds.csv',index=False)"
      ],
      "execution_count": null,
      "outputs": []
    },
    {
      "cell_type": "code",
      "metadata": {
        "colab": {
          "base_uri": "https://localhost:8080/",
          "height": 17
        },
        "id": "S9sKxRoWHfpi",
        "outputId": "ab792127-3175-495d-c2f6-1ce0673ae541"
      },
      "source": [
        "from google.colab import files \n",
        "files.download('/content/ducked_preds.csv')"
      ],
      "execution_count": null,
      "outputs": [
        {
          "output_type": "display_data",
          "data": {
            "application/javascript": [
              "\n",
              "    async function download(id, filename, size) {\n",
              "      if (!google.colab.kernel.accessAllowed) {\n",
              "        return;\n",
              "      }\n",
              "      const div = document.createElement('div');\n",
              "      const label = document.createElement('label');\n",
              "      label.textContent = `Downloading \"${filename}\": `;\n",
              "      div.appendChild(label);\n",
              "      const progress = document.createElement('progress');\n",
              "      progress.max = size;\n",
              "      div.appendChild(progress);\n",
              "      document.body.appendChild(div);\n",
              "\n",
              "      const buffers = [];\n",
              "      let downloaded = 0;\n",
              "\n",
              "      const channel = await google.colab.kernel.comms.open(id);\n",
              "      // Send a message to notify the kernel that we're ready.\n",
              "      channel.send({})\n",
              "\n",
              "      for await (const message of channel.messages) {\n",
              "        // Send a message to notify the kernel that we're ready.\n",
              "        channel.send({})\n",
              "        if (message.buffers) {\n",
              "          for (const buffer of message.buffers) {\n",
              "            buffers.push(buffer);\n",
              "            downloaded += buffer.byteLength;\n",
              "            progress.value = downloaded;\n",
              "          }\n",
              "        }\n",
              "      }\n",
              "      const blob = new Blob(buffers, {type: 'application/binary'});\n",
              "      const a = document.createElement('a');\n",
              "      a.href = window.URL.createObjectURL(blob);\n",
              "      a.download = filename;\n",
              "      div.appendChild(a);\n",
              "      a.click();\n",
              "      div.remove();\n",
              "    }\n",
              "  "
            ],
            "text/plain": [
              "<IPython.core.display.Javascript object>"
            ]
          },
          "metadata": {
            "tags": []
          }
        },
        {
          "output_type": "display_data",
          "data": {
            "application/javascript": [
              "download(\"download_73e4fb71-189f-4caf-a906-ced4708dde06\", \"ducked_preds.csv\", 146820)"
            ],
            "text/plain": [
              "<IPython.core.display.Javascript object>"
            ]
          },
          "metadata": {
            "tags": []
          }
        }
      ]
    },
    {
      "cell_type": "code",
      "metadata": {
        "id": "yqDayEFmHkdt"
      },
      "source": [
        ""
      ],
      "execution_count": null,
      "outputs": []
    }
  ]
}